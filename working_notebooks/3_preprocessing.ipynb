{
 "cells": [
  {
   "cell_type": "markdown",
   "metadata": {},
   "source": [
    "# Imports"
   ]
  },
  {
   "cell_type": "code",
   "execution_count": 2,
   "metadata": {
    "ExecuteTime": {
     "end_time": "2021-07-05T11:38:00.742320Z",
     "start_time": "2021-07-05T11:37:58.262433Z"
    }
   },
   "outputs": [],
   "source": [
    "import pandas as pd\n",
    "import numpy as np\n",
    "import matplotlib as plt\n",
    "%matplotlib inline"
   ]
  },
  {
   "cell_type": "markdown",
   "metadata": {},
   "source": [
    "# Data"
   ]
  },
  {
   "cell_type": "code",
   "execution_count": 3,
   "metadata": {
    "ExecuteTime": {
     "end_time": "2021-07-05T11:38:03.162001Z",
     "start_time": "2021-07-05T11:38:00.757559Z"
    }
   },
   "outputs": [],
   "source": [
    "parse_dates = ['asset_contract.created_date', 'collection.created_date']\n",
    "df = pd.read_csv('2_data_condensed.csv', low_memory=False, parse_dates=parse_dates)"
   ]
  },
  {
   "cell_type": "code",
   "execution_count": 4,
   "metadata": {
    "ExecuteTime": {
     "end_time": "2021-07-05T11:38:03.266470Z",
     "start_time": "2021-07-05T11:38:03.169293Z"
    }
   },
   "outputs": [
    {
     "data": {
      "text/html": [
       "<div>\n",
       "<style scoped>\n",
       "    .dataframe tbody tr th:only-of-type {\n",
       "        vertical-align: middle;\n",
       "    }\n",
       "\n",
       "    .dataframe tbody tr th {\n",
       "        vertical-align: top;\n",
       "    }\n",
       "\n",
       "    .dataframe thead th {\n",
       "        text-align: right;\n",
       "    }\n",
       "</style>\n",
       "<table border=\"1\" class=\"dataframe\">\n",
       "  <thead>\n",
       "    <tr style=\"text-align: right;\">\n",
       "      <th></th>\n",
       "      <th>num_sales</th>\n",
       "      <th>sell_orders</th>\n",
       "      <th>last_sale.event_type</th>\n",
       "      <th>id</th>\n",
       "      <th>token_id</th>\n",
       "      <th>name</th>\n",
       "      <th>traits</th>\n",
       "      <th>description</th>\n",
       "      <th>is_presale</th>\n",
       "      <th>image_url</th>\n",
       "      <th>...</th>\n",
       "      <th>collection.medium_username</th>\n",
       "      <th>collection.chat_url</th>\n",
       "      <th>creator.user.username</th>\n",
       "      <th>creator.config</th>\n",
       "      <th>creator.profile_img_url</th>\n",
       "      <th>creator.discord_id</th>\n",
       "      <th>owner.address</th>\n",
       "      <th>owner.config</th>\n",
       "      <th>owner.profile_img_url</th>\n",
       "      <th>owner.discord_id</th>\n",
       "    </tr>\n",
       "  </thead>\n",
       "  <tbody>\n",
       "    <tr>\n",
       "      <th>0</th>\n",
       "      <td>0</td>\n",
       "      <td>NaN</td>\n",
       "      <td>NaN</td>\n",
       "      <td>30033345</td>\n",
       "      <td>9132198125583360689797322472203169750011716430...</td>\n",
       "      <td>Chad Olozumin</td>\n",
       "      <td>[]</td>\n",
       "      <td>NaN</td>\n",
       "      <td>True</td>\n",
       "      <td>https://storage.opensea.io/files/b09d044f17573...</td>\n",
       "      <td>...</td>\n",
       "      <td>NaN</td>\n",
       "      <td>NaN</td>\n",
       "      <td>CryptoHamstersOfficial</td>\n",
       "      <td>NaN</td>\n",
       "      <td>https://storage.googleapis.com/opensea-static/...</td>\n",
       "      <td>NaN</td>\n",
       "      <td>0x0000000000000000000000000000000000000000</td>\n",
       "      <td>NaN</td>\n",
       "      <td>https://storage.googleapis.com/opensea-static/...</td>\n",
       "      <td>NaN</td>\n",
       "    </tr>\n",
       "    <tr>\n",
       "      <th>1</th>\n",
       "      <td>0</td>\n",
       "      <td>NaN</td>\n",
       "      <td>NaN</td>\n",
       "      <td>30033344</td>\n",
       "      <td>3268304683559065074852929730958675774624902165...</td>\n",
       "      <td>IconPunk #149 Elton John</td>\n",
       "      <td>[{'trait_type': 'id', 'value': '0149', 'displa...</td>\n",
       "      <td>24x24 pixels and pushing the limit to the max!...</td>\n",
       "      <td>True</td>\n",
       "      <td>https://lh3.googleusercontent.com/P7NXQatzHWTt...</td>\n",
       "      <td>...</td>\n",
       "      <td>NaN</td>\n",
       "      <td>NaN</td>\n",
       "      <td>iconpunks</td>\n",
       "      <td>NaN</td>\n",
       "      <td>https://storage.googleapis.com/opensea-static/...</td>\n",
       "      <td>NaN</td>\n",
       "      <td>0x0000000000000000000000000000000000000000</td>\n",
       "      <td>NaN</td>\n",
       "      <td>https://storage.googleapis.com/opensea-static/...</td>\n",
       "      <td>NaN</td>\n",
       "    </tr>\n",
       "    <tr>\n",
       "      <th>2</th>\n",
       "      <td>0</td>\n",
       "      <td>NaN</td>\n",
       "      <td>NaN</td>\n",
       "      <td>30033343</td>\n",
       "      <td>7779220728716121010175700030620486582973273824...</td>\n",
       "      <td>PlagueDoctor #234</td>\n",
       "      <td>[{'trait_type': 'id', 'value': '234', 'display...</td>\n",
       "      <td>Where are the sick - There I Am. Healing since...</td>\n",
       "      <td>True</td>\n",
       "      <td>https://lh3.googleusercontent.com/qCzcK3sEGp2R...</td>\n",
       "      <td>...</td>\n",
       "      <td>NaN</td>\n",
       "      <td>NaN</td>\n",
       "      <td>PlagueDr</td>\n",
       "      <td>NaN</td>\n",
       "      <td>https://storage.googleapis.com/opensea-static/...</td>\n",
       "      <td>NaN</td>\n",
       "      <td>0x0000000000000000000000000000000000000000</td>\n",
       "      <td>NaN</td>\n",
       "      <td>https://storage.googleapis.com/opensea-static/...</td>\n",
       "      <td>NaN</td>\n",
       "    </tr>\n",
       "    <tr>\n",
       "      <th>3</th>\n",
       "      <td>0</td>\n",
       "      <td>NaN</td>\n",
       "      <td>NaN</td>\n",
       "      <td>30033342</td>\n",
       "      <td>9510190511962339173712504282354773321324120343...</td>\n",
       "      <td>Crypto Graphic #47/999</td>\n",
       "      <td>[]</td>\n",
       "      <td>#crypto #abstract #art #collectible #rarible #...</td>\n",
       "      <td>True</td>\n",
       "      <td>https://lh3.googleusercontent.com/iDHrRY_ko62L...</td>\n",
       "      <td>...</td>\n",
       "      <td>NaN</td>\n",
       "      <td>NaN</td>\n",
       "      <td>Vezzen_Dragon</td>\n",
       "      <td>NaN</td>\n",
       "      <td>https://storage.googleapis.com/opensea-static/...</td>\n",
       "      <td>NaN</td>\n",
       "      <td>0x0000000000000000000000000000000000000000</td>\n",
       "      <td>NaN</td>\n",
       "      <td>https://storage.googleapis.com/opensea-static/...</td>\n",
       "      <td>NaN</td>\n",
       "    </tr>\n",
       "    <tr>\n",
       "      <th>4</th>\n",
       "      <td>0</td>\n",
       "      <td>NaN</td>\n",
       "      <td>NaN</td>\n",
       "      <td>30033341</td>\n",
       "      <td>1029511648543007736247727748847500291464805430...</td>\n",
       "      <td>380</td>\n",
       "      <td>[{'trait_type': 'Clothes', 'value': 'Tanktop',...</td>\n",
       "      <td>NaN</td>\n",
       "      <td>True</td>\n",
       "      <td>https://lh3.googleusercontent.com/LrBXq8LND7W-...</td>\n",
       "      <td>...</td>\n",
       "      <td>NaN</td>\n",
       "      <td>NaN</td>\n",
       "      <td>BoredAlien</td>\n",
       "      <td>NaN</td>\n",
       "      <td>https://storage.googleapis.com/opensea-static/...</td>\n",
       "      <td>NaN</td>\n",
       "      <td>0x0000000000000000000000000000000000000000</td>\n",
       "      <td>NaN</td>\n",
       "      <td>https://storage.googleapis.com/opensea-static/...</td>\n",
       "      <td>NaN</td>\n",
       "    </tr>\n",
       "  </tbody>\n",
       "</table>\n",
       "<p>5 rows × 53 columns</p>\n",
       "</div>"
      ],
      "text/plain": [
       "   num_sales sell_orders last_sale.event_type        id  \\\n",
       "0          0         NaN                  NaN  30033345   \n",
       "1          0         NaN                  NaN  30033344   \n",
       "2          0         NaN                  NaN  30033343   \n",
       "3          0         NaN                  NaN  30033342   \n",
       "4          0         NaN                  NaN  30033341   \n",
       "\n",
       "                                            token_id  \\\n",
       "0  9132198125583360689797322472203169750011716430...   \n",
       "1  3268304683559065074852929730958675774624902165...   \n",
       "2  7779220728716121010175700030620486582973273824...   \n",
       "3  9510190511962339173712504282354773321324120343...   \n",
       "4  1029511648543007736247727748847500291464805430...   \n",
       "\n",
       "                       name  \\\n",
       "0             Chad Olozumin   \n",
       "1  IconPunk #149 Elton John   \n",
       "2         PlagueDoctor #234   \n",
       "3    Crypto Graphic #47/999   \n",
       "4                       380   \n",
       "\n",
       "                                              traits  \\\n",
       "0                                                 []   \n",
       "1  [{'trait_type': 'id', 'value': '0149', 'displa...   \n",
       "2  [{'trait_type': 'id', 'value': '234', 'display...   \n",
       "3                                                 []   \n",
       "4  [{'trait_type': 'Clothes', 'value': 'Tanktop',...   \n",
       "\n",
       "                                         description  is_presale  \\\n",
       "0                                                NaN        True   \n",
       "1  24x24 pixels and pushing the limit to the max!...        True   \n",
       "2  Where are the sick - There I Am. Healing since...        True   \n",
       "3  #crypto #abstract #art #collectible #rarible #...        True   \n",
       "4                                                NaN        True   \n",
       "\n",
       "                                           image_url  ...  \\\n",
       "0  https://storage.opensea.io/files/b09d044f17573...  ...   \n",
       "1  https://lh3.googleusercontent.com/P7NXQatzHWTt...  ...   \n",
       "2  https://lh3.googleusercontent.com/qCzcK3sEGp2R...  ...   \n",
       "3  https://lh3.googleusercontent.com/iDHrRY_ko62L...  ...   \n",
       "4  https://lh3.googleusercontent.com/LrBXq8LND7W-...  ...   \n",
       "\n",
       "  collection.medium_username collection.chat_url   creator.user.username  \\\n",
       "0                        NaN                 NaN  CryptoHamstersOfficial   \n",
       "1                        NaN                 NaN               iconpunks   \n",
       "2                        NaN                 NaN                PlagueDr   \n",
       "3                        NaN                 NaN           Vezzen_Dragon   \n",
       "4                        NaN                 NaN              BoredAlien   \n",
       "\n",
       "  creator.config                            creator.profile_img_url  \\\n",
       "0            NaN  https://storage.googleapis.com/opensea-static/...   \n",
       "1            NaN  https://storage.googleapis.com/opensea-static/...   \n",
       "2            NaN  https://storage.googleapis.com/opensea-static/...   \n",
       "3            NaN  https://storage.googleapis.com/opensea-static/...   \n",
       "4            NaN  https://storage.googleapis.com/opensea-static/...   \n",
       "\n",
       "  creator.discord_id                               owner.address owner.config  \\\n",
       "0                NaN  0x0000000000000000000000000000000000000000          NaN   \n",
       "1                NaN  0x0000000000000000000000000000000000000000          NaN   \n",
       "2                NaN  0x0000000000000000000000000000000000000000          NaN   \n",
       "3                NaN  0x0000000000000000000000000000000000000000          NaN   \n",
       "4                NaN  0x0000000000000000000000000000000000000000          NaN   \n",
       "\n",
       "                               owner.profile_img_url owner.discord_id  \n",
       "0  https://storage.googleapis.com/opensea-static/...              NaN  \n",
       "1  https://storage.googleapis.com/opensea-static/...              NaN  \n",
       "2  https://storage.googleapis.com/opensea-static/...              NaN  \n",
       "3  https://storage.googleapis.com/opensea-static/...              NaN  \n",
       "4  https://storage.googleapis.com/opensea-static/...              NaN  \n",
       "\n",
       "[5 rows x 53 columns]"
      ]
     },
     "execution_count": 4,
     "metadata": {},
     "output_type": "execute_result"
    }
   ],
   "source": [
    "df.head()"
   ]
  },
  {
   "cell_type": "markdown",
   "metadata": {
    "ExecuteTime": {
     "end_time": "2021-07-03T15:33:34.071848Z",
     "start_time": "2021-07-03T15:33:34.061435Z"
    }
   },
   "source": [
    "# Engineer Target"
   ]
  },
  {
   "cell_type": "code",
   "execution_count": 5,
   "metadata": {
    "ExecuteTime": {
     "end_time": "2021-07-05T11:38:03.347874Z",
     "start_time": "2021-07-05T11:38:03.291036Z"
    }
   },
   "outputs": [
    {
     "data": {
      "text/plain": [
       "False    0.546255\n",
       "True     0.453745\n",
       "Name: num_sales, dtype: float64"
      ]
     },
     "execution_count": 5,
     "metadata": {},
     "output_type": "execute_result"
    }
   ],
   "source": [
    "(df['num_sales'] > 0).value_counts(normalize=True)"
   ]
  },
  {
   "cell_type": "code",
   "execution_count": 6,
   "metadata": {
    "ExecuteTime": {
     "end_time": "2021-07-05T11:38:03.382535Z",
     "start_time": "2021-07-05T11:38:03.353051Z"
    }
   },
   "outputs": [
    {
     "data": {
      "text/plain": [
       "0.35111279942795853"
      ]
     },
     "execution_count": 6,
     "metadata": {},
     "output_type": "execute_result"
    }
   ],
   "source": [
    "df['last_sale.event_type'].notna().sum()/len(df)"
   ]
  },
  {
   "cell_type": "code",
   "execution_count": 7,
   "metadata": {
    "ExecuteTime": {
     "end_time": "2021-07-05T11:38:03.415398Z",
     "start_time": "2021-07-05T11:38:03.386663Z"
    }
   },
   "outputs": [
    {
     "data": {
      "text/plain": [
       "0.22461565963532357"
      ]
     },
     "execution_count": 7,
     "metadata": {},
     "output_type": "execute_result"
    }
   ],
   "source": [
    "df['sell_orders'].notna().sum()/len(df)"
   ]
  },
  {
   "cell_type": "code",
   "execution_count": 8,
   "metadata": {
    "ExecuteTime": {
     "end_time": "2021-07-05T11:38:07.016287Z",
     "start_time": "2021-07-05T11:38:06.962229Z"
    }
   },
   "outputs": [
    {
     "data": {
      "text/plain": [
       "0.6027663568108688"
      ]
     },
     "execution_count": 8,
     "metadata": {},
     "output_type": "execute_result"
    }
   ],
   "source": [
    "len(df[(df['num_sales'] > 0) | \n",
    "       (df['sell_orders'].notna()) | \n",
    "       (df['last_sale.event_type'].notna())])/len(df)"
   ]
  },
  {
   "cell_type": "code",
   "execution_count": 9,
   "metadata": {
    "ExecuteTime": {
     "end_time": "2021-07-05T11:38:07.267290Z",
     "start_time": "2021-07-05T11:38:07.232074Z"
    }
   },
   "outputs": [],
   "source": [
    "df['target'] = np.where((df['num_sales'] > 0) | \n",
    "                        (df['sell_orders'].notna()) | \n",
    "                        (df['last_sale.event_type'].notna()), 1, 0)"
   ]
  },
  {
   "cell_type": "code",
   "execution_count": 10,
   "metadata": {
    "ExecuteTime": {
     "end_time": "2021-07-05T11:38:07.519091Z",
     "start_time": "2021-07-05T11:38:07.463132Z"
    }
   },
   "outputs": [
    {
     "data": {
      "text/plain": [
       "1    0.602766\n",
       "0    0.397234\n",
       "Name: target, dtype: float64"
      ]
     },
     "execution_count": 10,
     "metadata": {},
     "output_type": "execute_result"
    }
   ],
   "source": [
    "df['target'].value_counts(normalize=True)"
   ]
  },
  {
   "cell_type": "code",
   "execution_count": 11,
   "metadata": {
    "ExecuteTime": {
     "end_time": "2021-07-05T11:38:09.810977Z",
     "start_time": "2021-07-05T11:38:09.544990Z"
    },
    "scrolled": false
   },
   "outputs": [
    {
     "data": {
      "text/html": [
       "<div>\n",
       "<style scoped>\n",
       "    .dataframe tbody tr th:only-of-type {\n",
       "        vertical-align: middle;\n",
       "    }\n",
       "\n",
       "    .dataframe tbody tr th {\n",
       "        vertical-align: top;\n",
       "    }\n",
       "\n",
       "    .dataframe thead th {\n",
       "        text-align: right;\n",
       "    }\n",
       "</style>\n",
       "<table border=\"1\" class=\"dataframe\">\n",
       "  <thead>\n",
       "    <tr style=\"text-align: right;\">\n",
       "      <th></th>\n",
       "      <th>id</th>\n",
       "      <th>token_id</th>\n",
       "      <th>name</th>\n",
       "      <th>traits</th>\n",
       "      <th>description</th>\n",
       "      <th>is_presale</th>\n",
       "      <th>image_url</th>\n",
       "      <th>background_color</th>\n",
       "      <th>external_link</th>\n",
       "      <th>token_metadata</th>\n",
       "      <th>...</th>\n",
       "      <th>collection.chat_url</th>\n",
       "      <th>creator.user.username</th>\n",
       "      <th>creator.config</th>\n",
       "      <th>creator.profile_img_url</th>\n",
       "      <th>creator.discord_id</th>\n",
       "      <th>owner.address</th>\n",
       "      <th>owner.config</th>\n",
       "      <th>owner.profile_img_url</th>\n",
       "      <th>owner.discord_id</th>\n",
       "      <th>target</th>\n",
       "    </tr>\n",
       "  </thead>\n",
       "  <tbody>\n",
       "    <tr>\n",
       "      <th>0</th>\n",
       "      <td>30033345</td>\n",
       "      <td>9132198125583360689797322472203169750011716430...</td>\n",
       "      <td>Chad Olozumin</td>\n",
       "      <td>[]</td>\n",
       "      <td>NaN</td>\n",
       "      <td>True</td>\n",
       "      <td>https://storage.opensea.io/files/b09d044f17573...</td>\n",
       "      <td>NaN</td>\n",
       "      <td>https://cryptohamsters.co/hamsters/16250054780...</td>\n",
       "      <td>NaN</td>\n",
       "      <td>...</td>\n",
       "      <td>NaN</td>\n",
       "      <td>CryptoHamstersOfficial</td>\n",
       "      <td>NaN</td>\n",
       "      <td>https://storage.googleapis.com/opensea-static/...</td>\n",
       "      <td>NaN</td>\n",
       "      <td>0x0000000000000000000000000000000000000000</td>\n",
       "      <td>NaN</td>\n",
       "      <td>https://storage.googleapis.com/opensea-static/...</td>\n",
       "      <td>NaN</td>\n",
       "      <td>0</td>\n",
       "    </tr>\n",
       "    <tr>\n",
       "      <th>1</th>\n",
       "      <td>30033344</td>\n",
       "      <td>3268304683559065074852929730958675774624902165...</td>\n",
       "      <td>IconPunk #149 Elton John</td>\n",
       "      <td>[{'trait_type': 'id', 'value': '0149', 'displa...</td>\n",
       "      <td>24x24 pixels and pushing the limit to the max!...</td>\n",
       "      <td>True</td>\n",
       "      <td>https://lh3.googleusercontent.com/P7NXQatzHWTt...</td>\n",
       "      <td>NaN</td>\n",
       "      <td>NaN</td>\n",
       "      <td>NaN</td>\n",
       "      <td>...</td>\n",
       "      <td>NaN</td>\n",
       "      <td>iconpunks</td>\n",
       "      <td>NaN</td>\n",
       "      <td>https://storage.googleapis.com/opensea-static/...</td>\n",
       "      <td>NaN</td>\n",
       "      <td>0x0000000000000000000000000000000000000000</td>\n",
       "      <td>NaN</td>\n",
       "      <td>https://storage.googleapis.com/opensea-static/...</td>\n",
       "      <td>NaN</td>\n",
       "      <td>0</td>\n",
       "    </tr>\n",
       "    <tr>\n",
       "      <th>2</th>\n",
       "      <td>30033343</td>\n",
       "      <td>7779220728716121010175700030620486582973273824...</td>\n",
       "      <td>PlagueDoctor #234</td>\n",
       "      <td>[{'trait_type': 'id', 'value': '234', 'display...</td>\n",
       "      <td>Where are the sick - There I Am. Healing since...</td>\n",
       "      <td>True</td>\n",
       "      <td>https://lh3.googleusercontent.com/qCzcK3sEGp2R...</td>\n",
       "      <td>NaN</td>\n",
       "      <td>NaN</td>\n",
       "      <td>NaN</td>\n",
       "      <td>...</td>\n",
       "      <td>NaN</td>\n",
       "      <td>PlagueDr</td>\n",
       "      <td>NaN</td>\n",
       "      <td>https://storage.googleapis.com/opensea-static/...</td>\n",
       "      <td>NaN</td>\n",
       "      <td>0x0000000000000000000000000000000000000000</td>\n",
       "      <td>NaN</td>\n",
       "      <td>https://storage.googleapis.com/opensea-static/...</td>\n",
       "      <td>NaN</td>\n",
       "      <td>0</td>\n",
       "    </tr>\n",
       "    <tr>\n",
       "      <th>3</th>\n",
       "      <td>30033342</td>\n",
       "      <td>9510190511962339173712504282354773321324120343...</td>\n",
       "      <td>Crypto Graphic #47/999</td>\n",
       "      <td>[]</td>\n",
       "      <td>#crypto #abstract #art #collectible #rarible #...</td>\n",
       "      <td>True</td>\n",
       "      <td>https://lh3.googleusercontent.com/iDHrRY_ko62L...</td>\n",
       "      <td>NaN</td>\n",
       "      <td>NaN</td>\n",
       "      <td>NaN</td>\n",
       "      <td>...</td>\n",
       "      <td>NaN</td>\n",
       "      <td>Vezzen_Dragon</td>\n",
       "      <td>NaN</td>\n",
       "      <td>https://storage.googleapis.com/opensea-static/...</td>\n",
       "      <td>NaN</td>\n",
       "      <td>0x0000000000000000000000000000000000000000</td>\n",
       "      <td>NaN</td>\n",
       "      <td>https://storage.googleapis.com/opensea-static/...</td>\n",
       "      <td>NaN</td>\n",
       "      <td>0</td>\n",
       "    </tr>\n",
       "    <tr>\n",
       "      <th>4</th>\n",
       "      <td>30033341</td>\n",
       "      <td>1029511648543007736247727748847500291464805430...</td>\n",
       "      <td>380</td>\n",
       "      <td>[{'trait_type': 'Clothes', 'value': 'Tanktop',...</td>\n",
       "      <td>NaN</td>\n",
       "      <td>True</td>\n",
       "      <td>https://lh3.googleusercontent.com/LrBXq8LND7W-...</td>\n",
       "      <td>NaN</td>\n",
       "      <td>NaN</td>\n",
       "      <td>NaN</td>\n",
       "      <td>...</td>\n",
       "      <td>NaN</td>\n",
       "      <td>BoredAlien</td>\n",
       "      <td>NaN</td>\n",
       "      <td>https://storage.googleapis.com/opensea-static/...</td>\n",
       "      <td>NaN</td>\n",
       "      <td>0x0000000000000000000000000000000000000000</td>\n",
       "      <td>NaN</td>\n",
       "      <td>https://storage.googleapis.com/opensea-static/...</td>\n",
       "      <td>NaN</td>\n",
       "      <td>0</td>\n",
       "    </tr>\n",
       "  </tbody>\n",
       "</table>\n",
       "<p>5 rows × 51 columns</p>\n",
       "</div>"
      ],
      "text/plain": [
       "         id                                           token_id  \\\n",
       "0  30033345  9132198125583360689797322472203169750011716430...   \n",
       "1  30033344  3268304683559065074852929730958675774624902165...   \n",
       "2  30033343  7779220728716121010175700030620486582973273824...   \n",
       "3  30033342  9510190511962339173712504282354773321324120343...   \n",
       "4  30033341  1029511648543007736247727748847500291464805430...   \n",
       "\n",
       "                       name  \\\n",
       "0             Chad Olozumin   \n",
       "1  IconPunk #149 Elton John   \n",
       "2         PlagueDoctor #234   \n",
       "3    Crypto Graphic #47/999   \n",
       "4                       380   \n",
       "\n",
       "                                              traits  \\\n",
       "0                                                 []   \n",
       "1  [{'trait_type': 'id', 'value': '0149', 'displa...   \n",
       "2  [{'trait_type': 'id', 'value': '234', 'display...   \n",
       "3                                                 []   \n",
       "4  [{'trait_type': 'Clothes', 'value': 'Tanktop',...   \n",
       "\n",
       "                                         description  is_presale  \\\n",
       "0                                                NaN        True   \n",
       "1  24x24 pixels and pushing the limit to the max!...        True   \n",
       "2  Where are the sick - There I Am. Healing since...        True   \n",
       "3  #crypto #abstract #art #collectible #rarible #...        True   \n",
       "4                                                NaN        True   \n",
       "\n",
       "                                           image_url background_color  \\\n",
       "0  https://storage.opensea.io/files/b09d044f17573...              NaN   \n",
       "1  https://lh3.googleusercontent.com/P7NXQatzHWTt...              NaN   \n",
       "2  https://lh3.googleusercontent.com/qCzcK3sEGp2R...              NaN   \n",
       "3  https://lh3.googleusercontent.com/iDHrRY_ko62L...              NaN   \n",
       "4  https://lh3.googleusercontent.com/LrBXq8LND7W-...              NaN   \n",
       "\n",
       "                                       external_link token_metadata  ...  \\\n",
       "0  https://cryptohamsters.co/hamsters/16250054780...            NaN  ...   \n",
       "1                                                NaN            NaN  ...   \n",
       "2                                                NaN            NaN  ...   \n",
       "3                                                NaN            NaN  ...   \n",
       "4                                                NaN            NaN  ...   \n",
       "\n",
       "  collection.chat_url   creator.user.username creator.config  \\\n",
       "0                 NaN  CryptoHamstersOfficial            NaN   \n",
       "1                 NaN               iconpunks            NaN   \n",
       "2                 NaN                PlagueDr            NaN   \n",
       "3                 NaN           Vezzen_Dragon            NaN   \n",
       "4                 NaN              BoredAlien            NaN   \n",
       "\n",
       "                             creator.profile_img_url creator.discord_id  \\\n",
       "0  https://storage.googleapis.com/opensea-static/...                NaN   \n",
       "1  https://storage.googleapis.com/opensea-static/...                NaN   \n",
       "2  https://storage.googleapis.com/opensea-static/...                NaN   \n",
       "3  https://storage.googleapis.com/opensea-static/...                NaN   \n",
       "4  https://storage.googleapis.com/opensea-static/...                NaN   \n",
       "\n",
       "                                owner.address owner.config  \\\n",
       "0  0x0000000000000000000000000000000000000000          NaN   \n",
       "1  0x0000000000000000000000000000000000000000          NaN   \n",
       "2  0x0000000000000000000000000000000000000000          NaN   \n",
       "3  0x0000000000000000000000000000000000000000          NaN   \n",
       "4  0x0000000000000000000000000000000000000000          NaN   \n",
       "\n",
       "                               owner.profile_img_url owner.discord_id  target  \n",
       "0  https://storage.googleapis.com/opensea-static/...              NaN       0  \n",
       "1  https://storage.googleapis.com/opensea-static/...              NaN       0  \n",
       "2  https://storage.googleapis.com/opensea-static/...              NaN       0  \n",
       "3  https://storage.googleapis.com/opensea-static/...              NaN       0  \n",
       "4  https://storage.googleapis.com/opensea-static/...              NaN       0  \n",
       "\n",
       "[5 rows x 51 columns]"
      ]
     },
     "execution_count": 11,
     "metadata": {},
     "output_type": "execute_result"
    }
   ],
   "source": [
    "df = df.drop(labels = ['num_sales', 'sell_orders', 'last_sale.event_type'], axis=1)\n",
    "df.head()"
   ]
  },
  {
   "cell_type": "markdown",
   "metadata": {},
   "source": [
    "# Engineer Binary Features"
   ]
  },
  {
   "cell_type": "markdown",
   "metadata": {},
   "source": [
    "## Explore"
   ]
  },
  {
   "cell_type": "code",
   "execution_count": 87,
   "metadata": {
    "ExecuteTime": {
     "end_time": "2021-07-06T03:25:23.479694Z",
     "start_time": "2021-07-06T03:25:22.467470Z"
    },
    "scrolled": true
   },
   "outputs": [
    {
     "data": {
      "text/html": [
       "<div>\n",
       "<style scoped>\n",
       "    .dataframe tbody tr th:only-of-type {\n",
       "        vertical-align: middle;\n",
       "    }\n",
       "\n",
       "    .dataframe tbody tr th {\n",
       "        vertical-align: top;\n",
       "    }\n",
       "\n",
       "    .dataframe thead th {\n",
       "        text-align: right;\n",
       "    }\n",
       "</style>\n",
       "<table border=\"1\" class=\"dataframe\">\n",
       "  <thead>\n",
       "    <tr style=\"text-align: right;\">\n",
       "      <th></th>\n",
       "      <th>Type</th>\n",
       "      <th>Null</th>\n",
       "      <th>Count</th>\n",
       "      <th>Unique</th>\n",
       "    </tr>\n",
       "  </thead>\n",
       "  <tbody>\n",
       "    <tr>\n",
       "      <th>is_presale</th>\n",
       "      <td>bool</td>\n",
       "      <td>0.00%</td>\n",
       "      <td>44752</td>\n",
       "      <td>2</td>\n",
       "    </tr>\n",
       "    <tr>\n",
       "      <th>collection.featured</th>\n",
       "      <td>bool</td>\n",
       "      <td>0.00%</td>\n",
       "      <td>44752</td>\n",
       "      <td>2</td>\n",
       "    </tr>\n",
       "    <tr>\n",
       "      <th>asset_contract.opensea_seller_fee_basis_points</th>\n",
       "      <td>int64</td>\n",
       "      <td>0.00%</td>\n",
       "      <td>44752</td>\n",
       "      <td>2</td>\n",
       "    </tr>\n",
       "    <tr>\n",
       "      <th>collection.opensea_seller_fee_basis_points</th>\n",
       "      <td>int64</td>\n",
       "      <td>0.00%</td>\n",
       "      <td>44752</td>\n",
       "      <td>2</td>\n",
       "    </tr>\n",
       "    <tr>\n",
       "      <th>target</th>\n",
       "      <td>int64</td>\n",
       "      <td>0.00%</td>\n",
       "      <td>44752</td>\n",
       "      <td>2</td>\n",
       "    </tr>\n",
       "    <tr>\n",
       "      <th>asset_contract.seller_fee_basis_points</th>\n",
       "      <td>int64</td>\n",
       "      <td>0.00%</td>\n",
       "      <td>44752</td>\n",
       "      <td>14</td>\n",
       "    </tr>\n",
       "    <tr>\n",
       "      <th>asset_contract.dev_seller_fee_basis_points</th>\n",
       "      <td>int64</td>\n",
       "      <td>0.00%</td>\n",
       "      <td>44752</td>\n",
       "      <td>14</td>\n",
       "    </tr>\n",
       "    <tr>\n",
       "      <th>collection.dev_seller_fee_basis_points</th>\n",
       "      <td>int64</td>\n",
       "      <td>0.00%</td>\n",
       "      <td>44752</td>\n",
       "      <td>50</td>\n",
       "    </tr>\n",
       "    <tr>\n",
       "      <th>id</th>\n",
       "      <td>int64</td>\n",
       "      <td>0.00%</td>\n",
       "      <td>44752</td>\n",
       "      <td>44752</td>\n",
       "    </tr>\n",
       "    <tr>\n",
       "      <th>asset_contract.created_date</th>\n",
       "      <td>datetime64[ns]</td>\n",
       "      <td>0.00%</td>\n",
       "      <td>44752</td>\n",
       "      <td>292</td>\n",
       "    </tr>\n",
       "    <tr>\n",
       "      <th>collection.created_date</th>\n",
       "      <td>datetime64[ns]</td>\n",
       "      <td>0.00%</td>\n",
       "      <td>44752</td>\n",
       "      <td>2785</td>\n",
       "    </tr>\n",
       "    <tr>\n",
       "      <th>asset_contract.asset_contract_type</th>\n",
       "      <td>object</td>\n",
       "      <td>0.00%</td>\n",
       "      <td>44752</td>\n",
       "      <td>2</td>\n",
       "    </tr>\n",
       "    <tr>\n",
       "      <th>asset_contract.schema_name</th>\n",
       "      <td>object</td>\n",
       "      <td>0.00%</td>\n",
       "      <td>44752</td>\n",
       "      <td>3</td>\n",
       "    </tr>\n",
       "    <tr>\n",
       "      <th>collection.safelist_request_status</th>\n",
       "      <td>object</td>\n",
       "      <td>0.00%</td>\n",
       "      <td>44752</td>\n",
       "      <td>4</td>\n",
       "    </tr>\n",
       "    <tr>\n",
       "      <th>owner.profile_img_url</th>\n",
       "      <td>object</td>\n",
       "      <td>0.00%</td>\n",
       "      <td>44752</td>\n",
       "      <td>33</td>\n",
       "    </tr>\n",
       "    <tr>\n",
       "      <th>asset_contract.name</th>\n",
       "      <td>object</td>\n",
       "      <td>0.00%</td>\n",
       "      <td>44752</td>\n",
       "      <td>268</td>\n",
       "    </tr>\n",
       "    <tr>\n",
       "      <th>collection.slug</th>\n",
       "      <td>object</td>\n",
       "      <td>0.00%</td>\n",
       "      <td>44752</td>\n",
       "      <td>2791</td>\n",
       "    </tr>\n",
       "    <tr>\n",
       "      <th>owner.address</th>\n",
       "      <td>object</td>\n",
       "      <td>0.00%</td>\n",
       "      <td>44752</td>\n",
       "      <td>11452</td>\n",
       "    </tr>\n",
       "    <tr>\n",
       "      <th>traits</th>\n",
       "      <td>object</td>\n",
       "      <td>0.00%</td>\n",
       "      <td>44752</td>\n",
       "      <td>19849</td>\n",
       "    </tr>\n",
       "    <tr>\n",
       "      <th>token_id</th>\n",
       "      <td>object</td>\n",
       "      <td>0.00%</td>\n",
       "      <td>44752</td>\n",
       "      <td>44752</td>\n",
       "    </tr>\n",
       "    <tr>\n",
       "      <th>creator.profile_img_url</th>\n",
       "      <td>object</td>\n",
       "      <td>0.79%</td>\n",
       "      <td>44398</td>\n",
       "      <td>33</td>\n",
       "    </tr>\n",
       "    <tr>\n",
       "      <th>image_url</th>\n",
       "      <td>object</td>\n",
       "      <td>10.55%</td>\n",
       "      <td>40031</td>\n",
       "      <td>28813</td>\n",
       "    </tr>\n",
       "    <tr>\n",
       "      <th>collection.display_data.card_display_style</th>\n",
       "      <td>object</td>\n",
       "      <td>10.73%</td>\n",
       "      <td>39951</td>\n",
       "      <td>3</td>\n",
       "    </tr>\n",
       "    <tr>\n",
       "      <th>collection.image_url</th>\n",
       "      <td>object</td>\n",
       "      <td>10.77%</td>\n",
       "      <td>39934</td>\n",
       "      <td>2735</td>\n",
       "    </tr>\n",
       "    <tr>\n",
       "      <th>collection.description</th>\n",
       "      <td>object</td>\n",
       "      <td>12.19%</td>\n",
       "      <td>39295</td>\n",
       "      <td>2494</td>\n",
       "    </tr>\n",
       "    <tr>\n",
       "      <th>name</th>\n",
       "      <td>object</td>\n",
       "      <td>19.40%</td>\n",
       "      <td>36072</td>\n",
       "      <td>33675</td>\n",
       "    </tr>\n",
       "    <tr>\n",
       "      <th>description</th>\n",
       "      <td>object</td>\n",
       "      <td>24.60%</td>\n",
       "      <td>33741</td>\n",
       "      <td>18946</td>\n",
       "    </tr>\n",
       "    <tr>\n",
       "      <th>collection.large_image_url</th>\n",
       "      <td>object</td>\n",
       "      <td>24.65%</td>\n",
       "      <td>33722</td>\n",
       "      <td>1404</td>\n",
       "    </tr>\n",
       "    <tr>\n",
       "      <th>collection.twitter_username</th>\n",
       "      <td>object</td>\n",
       "      <td>25.47%</td>\n",
       "      <td>33352</td>\n",
       "      <td>1199</td>\n",
       "    </tr>\n",
       "    <tr>\n",
       "      <th>asset_contract.symbol</th>\n",
       "      <td>object</td>\n",
       "      <td>26.89%</td>\n",
       "      <td>32716</td>\n",
       "      <td>231</td>\n",
       "    </tr>\n",
       "    <tr>\n",
       "      <th>collection.external_url</th>\n",
       "      <td>object</td>\n",
       "      <td>27.51%</td>\n",
       "      <td>32440</td>\n",
       "      <td>1064</td>\n",
       "    </tr>\n",
       "    <tr>\n",
       "      <th>asset_contract.nft_version</th>\n",
       "      <td>object</td>\n",
       "      <td>32.93%</td>\n",
       "      <td>30017</td>\n",
       "      <td>3</td>\n",
       "    </tr>\n",
       "    <tr>\n",
       "      <th>asset_contract.image_url</th>\n",
       "      <td>object</td>\n",
       "      <td>39.29%</td>\n",
       "      <td>27170</td>\n",
       "      <td>223</td>\n",
       "    </tr>\n",
       "    <tr>\n",
       "      <th>asset_contract.external_link</th>\n",
       "      <td>object</td>\n",
       "      <td>39.50%</td>\n",
       "      <td>27073</td>\n",
       "      <td>215</td>\n",
       "    </tr>\n",
       "    <tr>\n",
       "      <th>asset_contract.description</th>\n",
       "      <td>object</td>\n",
       "      <td>39.89%</td>\n",
       "      <td>26900</td>\n",
       "      <td>221</td>\n",
       "    </tr>\n",
       "    <tr>\n",
       "      <th>collection.discord_url</th>\n",
       "      <td>object</td>\n",
       "      <td>39.94%</td>\n",
       "      <td>26876</td>\n",
       "      <td>357</td>\n",
       "    </tr>\n",
       "    <tr>\n",
       "      <th>background_color</th>\n",
       "      <td>object</td>\n",
       "      <td>52.59%</td>\n",
       "      <td>21219</td>\n",
       "      <td>48</td>\n",
       "    </tr>\n",
       "    <tr>\n",
       "      <th>creator.user.username</th>\n",
       "      <td>object</td>\n",
       "      <td>54.31%</td>\n",
       "      <td>20449</td>\n",
       "      <td>4266</td>\n",
       "    </tr>\n",
       "    <tr>\n",
       "      <th>external_link</th>\n",
       "      <td>object</td>\n",
       "      <td>59.36%</td>\n",
       "      <td>18185</td>\n",
       "      <td>15485</td>\n",
       "    </tr>\n",
       "    <tr>\n",
       "      <th>asset_contract.total_supply</th>\n",
       "      <td>object</td>\n",
       "      <td>70.45%</td>\n",
       "      <td>13225</td>\n",
       "      <td>21</td>\n",
       "    </tr>\n",
       "    <tr>\n",
       "      <th>asset_contract.opensea_version</th>\n",
       "      <td>object</td>\n",
       "      <td>71.42%</td>\n",
       "      <td>12791</td>\n",
       "      <td>3</td>\n",
       "    </tr>\n",
       "    <tr>\n",
       "      <th>token_metadata</th>\n",
       "      <td>object</td>\n",
       "      <td>84.70%</td>\n",
       "      <td>6847</td>\n",
       "      <td>6791</td>\n",
       "    </tr>\n",
       "    <tr>\n",
       "      <th>collection.display_data.images</th>\n",
       "      <td>object</td>\n",
       "      <td>85.52%</td>\n",
       "      <td>6482</td>\n",
       "      <td>26</td>\n",
       "    </tr>\n",
       "    <tr>\n",
       "      <th>collection.instagram_username</th>\n",
       "      <td>object</td>\n",
       "      <td>88.47%</td>\n",
       "      <td>5158</td>\n",
       "      <td>567</td>\n",
       "    </tr>\n",
       "    <tr>\n",
       "      <th>collection.telegram_url</th>\n",
       "      <td>object</td>\n",
       "      <td>89.06%</td>\n",
       "      <td>4896</td>\n",
       "      <td>198</td>\n",
       "    </tr>\n",
       "    <tr>\n",
       "      <th>owner.config</th>\n",
       "      <td>object</td>\n",
       "      <td>89.35%</td>\n",
       "      <td>4768</td>\n",
       "      <td>4</td>\n",
       "    </tr>\n",
       "    <tr>\n",
       "      <th>collection.medium_username</th>\n",
       "      <td>object</td>\n",
       "      <td>92.07%</td>\n",
       "      <td>3551</td>\n",
       "      <td>143</td>\n",
       "    </tr>\n",
       "    <tr>\n",
       "      <th>creator.config</th>\n",
       "      <td>object</td>\n",
       "      <td>96.27%</td>\n",
       "      <td>1669</td>\n",
       "      <td>4</td>\n",
       "    </tr>\n",
       "    <tr>\n",
       "      <th>collection.chat_url</th>\n",
       "      <td>object</td>\n",
       "      <td>97.89%</td>\n",
       "      <td>946</td>\n",
       "      <td>1</td>\n",
       "    </tr>\n",
       "    <tr>\n",
       "      <th>creator.discord_id</th>\n",
       "      <td>object</td>\n",
       "      <td>99.49%</td>\n",
       "      <td>229</td>\n",
       "      <td>45</td>\n",
       "    </tr>\n",
       "    <tr>\n",
       "      <th>owner.discord_id</th>\n",
       "      <td>object</td>\n",
       "      <td>99.89%</td>\n",
       "      <td>51</td>\n",
       "      <td>8</td>\n",
       "    </tr>\n",
       "  </tbody>\n",
       "</table>\n",
       "</div>"
      ],
      "text/plain": [
       "                                                          Type    Null  Count  \\\n",
       "is_presale                                                bool   0.00%  44752   \n",
       "collection.featured                                       bool   0.00%  44752   \n",
       "asset_contract.opensea_seller_fee_basis_points           int64   0.00%  44752   \n",
       "collection.opensea_seller_fee_basis_points               int64   0.00%  44752   \n",
       "target                                                   int64   0.00%  44752   \n",
       "asset_contract.seller_fee_basis_points                   int64   0.00%  44752   \n",
       "asset_contract.dev_seller_fee_basis_points               int64   0.00%  44752   \n",
       "collection.dev_seller_fee_basis_points                   int64   0.00%  44752   \n",
       "id                                                       int64   0.00%  44752   \n",
       "asset_contract.created_date                     datetime64[ns]   0.00%  44752   \n",
       "collection.created_date                         datetime64[ns]   0.00%  44752   \n",
       "asset_contract.asset_contract_type                      object   0.00%  44752   \n",
       "asset_contract.schema_name                              object   0.00%  44752   \n",
       "collection.safelist_request_status                      object   0.00%  44752   \n",
       "owner.profile_img_url                                   object   0.00%  44752   \n",
       "asset_contract.name                                     object   0.00%  44752   \n",
       "collection.slug                                         object   0.00%  44752   \n",
       "owner.address                                           object   0.00%  44752   \n",
       "traits                                                  object   0.00%  44752   \n",
       "token_id                                                object   0.00%  44752   \n",
       "creator.profile_img_url                                 object   0.79%  44398   \n",
       "image_url                                               object  10.55%  40031   \n",
       "collection.display_data.card_display_style              object  10.73%  39951   \n",
       "collection.image_url                                    object  10.77%  39934   \n",
       "collection.description                                  object  12.19%  39295   \n",
       "name                                                    object  19.40%  36072   \n",
       "description                                             object  24.60%  33741   \n",
       "collection.large_image_url                              object  24.65%  33722   \n",
       "collection.twitter_username                             object  25.47%  33352   \n",
       "asset_contract.symbol                                   object  26.89%  32716   \n",
       "collection.external_url                                 object  27.51%  32440   \n",
       "asset_contract.nft_version                              object  32.93%  30017   \n",
       "asset_contract.image_url                                object  39.29%  27170   \n",
       "asset_contract.external_link                            object  39.50%  27073   \n",
       "asset_contract.description                              object  39.89%  26900   \n",
       "collection.discord_url                                  object  39.94%  26876   \n",
       "background_color                                        object  52.59%  21219   \n",
       "creator.user.username                                   object  54.31%  20449   \n",
       "external_link                                           object  59.36%  18185   \n",
       "asset_contract.total_supply                             object  70.45%  13225   \n",
       "asset_contract.opensea_version                          object  71.42%  12791   \n",
       "token_metadata                                          object  84.70%   6847   \n",
       "collection.display_data.images                          object  85.52%   6482   \n",
       "collection.instagram_username                           object  88.47%   5158   \n",
       "collection.telegram_url                                 object  89.06%   4896   \n",
       "owner.config                                            object  89.35%   4768   \n",
       "collection.medium_username                              object  92.07%   3551   \n",
       "creator.config                                          object  96.27%   1669   \n",
       "collection.chat_url                                     object  97.89%    946   \n",
       "creator.discord_id                                      object  99.49%    229   \n",
       "owner.discord_id                                        object  99.89%     51   \n",
       "\n",
       "                                               Unique  \n",
       "is_presale                                          2  \n",
       "collection.featured                                 2  \n",
       "asset_contract.opensea_seller_fee_basis_points      2  \n",
       "collection.opensea_seller_fee_basis_points          2  \n",
       "target                                              2  \n",
       "asset_contract.seller_fee_basis_points             14  \n",
       "asset_contract.dev_seller_fee_basis_points         14  \n",
       "collection.dev_seller_fee_basis_points             50  \n",
       "id                                              44752  \n",
       "asset_contract.created_date                       292  \n",
       "collection.created_date                          2785  \n",
       "asset_contract.asset_contract_type                  2  \n",
       "asset_contract.schema_name                          3  \n",
       "collection.safelist_request_status                  4  \n",
       "owner.profile_img_url                              33  \n",
       "asset_contract.name                               268  \n",
       "collection.slug                                  2791  \n",
       "owner.address                                   11452  \n",
       "traits                                          19849  \n",
       "token_id                                        44752  \n",
       "creator.profile_img_url                            33  \n",
       "image_url                                       28813  \n",
       "collection.display_data.card_display_style          3  \n",
       "collection.image_url                             2735  \n",
       "collection.description                           2494  \n",
       "name                                            33675  \n",
       "description                                     18946  \n",
       "collection.large_image_url                       1404  \n",
       "collection.twitter_username                      1199  \n",
       "asset_contract.symbol                             231  \n",
       "collection.external_url                          1064  \n",
       "asset_contract.nft_version                          3  \n",
       "asset_contract.image_url                          223  \n",
       "asset_contract.external_link                      215  \n",
       "asset_contract.description                        221  \n",
       "collection.discord_url                            357  \n",
       "background_color                                   48  \n",
       "creator.user.username                            4266  \n",
       "external_link                                   15485  \n",
       "asset_contract.total_supply                        21  \n",
       "asset_contract.opensea_version                      3  \n",
       "token_metadata                                   6791  \n",
       "collection.display_data.images                     26  \n",
       "collection.instagram_username                     567  \n",
       "collection.telegram_url                           198  \n",
       "owner.config                                        4  \n",
       "collection.medium_username                        143  \n",
       "creator.config                                      4  \n",
       "collection.chat_url                                 1  \n",
       "creator.discord_id                                 45  \n",
       "owner.discord_id                                    8  "
      ]
     },
     "metadata": {},
     "output_type": "display_data"
    }
   ],
   "source": [
    "# find out a bit more about the dtype, uniques, counts and how many null in each column\n",
    "\n",
    "df_isna = pd.DataFrame()\n",
    "\n",
    "for column in df.columns:\n",
    "    df_isna.loc['Type', column] = df.dtypes[column]\n",
    "    df_isna.loc['Null', column] = f\"{df[column].isna().sum()/len(df):.2%}\"\n",
    "    df_isna.loc['Count', column] = df[column].count()\n",
    "    df_isna.loc['Unique', column] = df[column].nunique()\n",
    "\n",
    "with pd.option_context('display.max_rows', 150):\n",
    "    display(df_isna.T.sort_values(by=['Type','Null','Count','Unique']))"
   ]
  },
  {
   "cell_type": "code",
   "execution_count": 13,
   "metadata": {
    "ExecuteTime": {
     "end_time": "2021-07-05T11:38:13.354626Z",
     "start_time": "2021-07-05T11:38:13.253983Z"
    },
    "scrolled": false
   },
   "outputs": [
    {
     "data": {
      "text/html": [
       "<div>\n",
       "<style scoped>\n",
       "    .dataframe tbody tr th:only-of-type {\n",
       "        vertical-align: middle;\n",
       "    }\n",
       "\n",
       "    .dataframe tbody tr th {\n",
       "        vertical-align: top;\n",
       "    }\n",
       "\n",
       "    .dataframe thead th {\n",
       "        text-align: right;\n",
       "    }\n",
       "</style>\n",
       "<table border=\"1\" class=\"dataframe\">\n",
       "  <thead>\n",
       "    <tr style=\"text-align: right;\">\n",
       "      <th></th>\n",
       "      <th>id</th>\n",
       "      <th>asset_contract.seller_fee_basis_points</th>\n",
       "      <th>asset_contract.dev_seller_fee_basis_points</th>\n",
       "      <th>asset_contract.opensea_seller_fee_basis_points</th>\n",
       "      <th>collection.dev_seller_fee_basis_points</th>\n",
       "      <th>collection.opensea_seller_fee_basis_points</th>\n",
       "      <th>target</th>\n",
       "    </tr>\n",
       "  </thead>\n",
       "  <tbody>\n",
       "    <tr>\n",
       "      <th>count</th>\n",
       "      <td>4.475200e+04</td>\n",
       "      <td>44752.000000</td>\n",
       "      <td>44752.000000</td>\n",
       "      <td>44752.000000</td>\n",
       "      <td>44752.000000</td>\n",
       "      <td>44752.000000</td>\n",
       "      <td>44752.000000</td>\n",
       "    </tr>\n",
       "    <tr>\n",
       "      <th>mean</th>\n",
       "      <td>1.428496e+07</td>\n",
       "      <td>283.733129</td>\n",
       "      <td>34.381145</td>\n",
       "      <td>249.351984</td>\n",
       "      <td>192.355805</td>\n",
       "      <td>249.346398</td>\n",
       "      <td>0.602766</td>\n",
       "    </tr>\n",
       "    <tr>\n",
       "      <th>std</th>\n",
       "      <td>1.173829e+07</td>\n",
       "      <td>148.614771</td>\n",
       "      <td>149.010796</td>\n",
       "      <td>12.711712</td>\n",
       "      <td>357.190486</td>\n",
       "      <td>12.766243</td>\n",
       "      <td>0.489331</td>\n",
       "    </tr>\n",
       "    <tr>\n",
       "      <th>min</th>\n",
       "      <td>8.700000e+01</td>\n",
       "      <td>250.000000</td>\n",
       "      <td>0.000000</td>\n",
       "      <td>0.000000</td>\n",
       "      <td>0.000000</td>\n",
       "      <td>0.000000</td>\n",
       "      <td>0.000000</td>\n",
       "    </tr>\n",
       "    <tr>\n",
       "      <th>25%</th>\n",
       "      <td>1.695327e+06</td>\n",
       "      <td>250.000000</td>\n",
       "      <td>0.000000</td>\n",
       "      <td>250.000000</td>\n",
       "      <td>0.000000</td>\n",
       "      <td>250.000000</td>\n",
       "      <td>0.000000</td>\n",
       "    </tr>\n",
       "    <tr>\n",
       "      <th>50%</th>\n",
       "      <td>1.122085e+07</td>\n",
       "      <td>250.000000</td>\n",
       "      <td>0.000000</td>\n",
       "      <td>250.000000</td>\n",
       "      <td>0.000000</td>\n",
       "      <td>250.000000</td>\n",
       "      <td>1.000000</td>\n",
       "    </tr>\n",
       "    <tr>\n",
       "      <th>75%</th>\n",
       "      <td>3.001685e+07</td>\n",
       "      <td>250.000000</td>\n",
       "      <td>0.000000</td>\n",
       "      <td>250.000000</td>\n",
       "      <td>250.000000</td>\n",
       "      <td>250.000000</td>\n",
       "      <td>1.000000</td>\n",
       "    </tr>\n",
       "    <tr>\n",
       "      <th>max</th>\n",
       "      <td>3.003492e+07</td>\n",
       "      <td>1500.000000</td>\n",
       "      <td>1250.000000</td>\n",
       "      <td>250.000000</td>\n",
       "      <td>1500.000000</td>\n",
       "      <td>250.000000</td>\n",
       "      <td>1.000000</td>\n",
       "    </tr>\n",
       "  </tbody>\n",
       "</table>\n",
       "</div>"
      ],
      "text/plain": [
       "                 id  asset_contract.seller_fee_basis_points  \\\n",
       "count  4.475200e+04                            44752.000000   \n",
       "mean   1.428496e+07                              283.733129   \n",
       "std    1.173829e+07                              148.614771   \n",
       "min    8.700000e+01                              250.000000   \n",
       "25%    1.695327e+06                              250.000000   \n",
       "50%    1.122085e+07                              250.000000   \n",
       "75%    3.001685e+07                              250.000000   \n",
       "max    3.003492e+07                             1500.000000   \n",
       "\n",
       "       asset_contract.dev_seller_fee_basis_points  \\\n",
       "count                                44752.000000   \n",
       "mean                                    34.381145   \n",
       "std                                    149.010796   \n",
       "min                                      0.000000   \n",
       "25%                                      0.000000   \n",
       "50%                                      0.000000   \n",
       "75%                                      0.000000   \n",
       "max                                   1250.000000   \n",
       "\n",
       "       asset_contract.opensea_seller_fee_basis_points  \\\n",
       "count                                    44752.000000   \n",
       "mean                                       249.351984   \n",
       "std                                         12.711712   \n",
       "min                                          0.000000   \n",
       "25%                                        250.000000   \n",
       "50%                                        250.000000   \n",
       "75%                                        250.000000   \n",
       "max                                        250.000000   \n",
       "\n",
       "       collection.dev_seller_fee_basis_points  \\\n",
       "count                            44752.000000   \n",
       "mean                               192.355805   \n",
       "std                                357.190486   \n",
       "min                                  0.000000   \n",
       "25%                                  0.000000   \n",
       "50%                                  0.000000   \n",
       "75%                                250.000000   \n",
       "max                               1500.000000   \n",
       "\n",
       "       collection.opensea_seller_fee_basis_points        target  \n",
       "count                                44752.000000  44752.000000  \n",
       "mean                                   249.346398      0.602766  \n",
       "std                                     12.766243      0.489331  \n",
       "min                                      0.000000      0.000000  \n",
       "25%                                    250.000000      0.000000  \n",
       "50%                                    250.000000      1.000000  \n",
       "75%                                    250.000000      1.000000  \n",
       "max                                    250.000000      1.000000  "
      ]
     },
     "execution_count": 13,
     "metadata": {},
     "output_type": "execute_result"
    }
   ],
   "source": [
    "df.describe()"
   ]
  },
  {
   "cell_type": "markdown",
   "metadata": {},
   "source": [
    "## Split columns by type"
   ]
  },
  {
   "cell_type": "code",
   "execution_count": 56,
   "metadata": {
    "ExecuteTime": {
     "end_time": "2021-07-05T16:23:04.818655Z",
     "start_time": "2021-07-05T16:23:04.746380Z"
    },
    "scrolled": true
   },
   "outputs": [
    {
     "name": "stdout",
     "output_type": "stream",
     "text": [
      "Boolean = ['is_presale', 'collection.featured'] \n",
      "\n",
      "Integer = ['id', 'asset_contract.seller_fee_basis_points', 'asset_contract.dev_seller_fee_basis_points', 'asset_contract.opensea_seller_fee_basis_points', 'collection.dev_seller_fee_basis_points', 'collection.opensea_seller_fee_basis_points', 'target'] \n",
      "\n",
      "Time = ['asset_contract.created_date', 'collection.created_date'] \n",
      "\n",
      "Object = ['token_id', 'name', 'traits', 'description', 'image_url', 'background_color', 'external_link', 'token_metadata', 'asset_contract.name', 'asset_contract.description', 'asset_contract.total_supply', 'asset_contract.symbol', 'asset_contract.schema_name', 'asset_contract.asset_contract_type', 'asset_contract.nft_version', 'asset_contract.opensea_version', 'asset_contract.external_link', 'asset_contract.image_url', 'collection.slug', 'collection.safelist_request_status', 'collection.description', 'collection.display_data.card_display_style', 'collection.external_url', 'collection.image_url', 'collection.large_image_url', 'collection.display_data.images', 'collection.twitter_username', 'collection.instagram_username', 'collection.discord_url', 'collection.telegram_url', 'collection.medium_username', 'collection.chat_url', 'creator.user.username', 'creator.config', 'creator.profile_img_url', 'creator.discord_id', 'owner.address', 'owner.config', 'owner.profile_img_url', 'owner.discord_id'] \n",
      "\n"
     ]
    }
   ],
   "source": [
    "bool_col = []\n",
    "int_col = []\n",
    "time_col = []\n",
    "obj_col = []\n",
    "\n",
    "for column in df.columns:\n",
    "    if df.dtypes[column] == 'bool':\n",
    "        bool_col.append(column)\n",
    "    elif df.dtypes[column] == 'int64':\n",
    "        int_col.append(column)\n",
    "    elif df.dtypes[column] == '<M8[ns]':\n",
    "        time_col.append(column)\n",
    "    elif df.dtypes[column] == 'object':\n",
    "        obj_col.append(column)\n",
    "        \n",
    "print(f\"Boolean = {bool_col} \\n\")\n",
    "print(f\"Integer = {int_col} \\n\")\n",
    "print(f\"Time = {time_col} \\n\")\n",
    "pd.DataFrame()print(f\"Object = {obj_col} \\n\")"
   ]
  },
  {
   "cell_type": "markdown",
   "metadata": {},
   "source": [
    "### Boolean"
   ]
  },
  {
   "cell_type": "code",
   "execution_count": 57,
   "metadata": {
    "ExecuteTime": {
     "end_time": "2021-07-06T01:46:46.671859Z",
     "start_time": "2021-07-06T01:46:46.088957Z"
    }
   },
   "outputs": [],
   "source": [
    "df_binary = pd.DataFrame()\n",
    "\n",
    "for column in bool_col:\n",
    "    df_binary[column] = np.where(df[column] == True, 1, 0)"
   ]
  },
  {
   "cell_type": "code",
   "execution_count": 59,
   "metadata": {
    "ExecuteTime": {
     "end_time": "2021-07-06T01:49:01.629565Z",
     "start_time": "2021-07-06T01:49:01.528713Z"
    }
   },
   "outputs": [
    {
     "data": {
      "text/html": [
       "<div>\n",
       "<style scoped>\n",
       "    .dataframe tbody tr th:only-of-type {\n",
       "        vertical-align: middle;\n",
       "    }\n",
       "\n",
       "    .dataframe tbody tr th {\n",
       "        vertical-align: top;\n",
       "    }\n",
       "\n",
       "    .dataframe thead th {\n",
       "        text-align: right;\n",
       "    }\n",
       "</style>\n",
       "<table border=\"1\" class=\"dataframe\">\n",
       "  <thead>\n",
       "    <tr style=\"text-align: right;\">\n",
       "      <th></th>\n",
       "      <th>is_presale</th>\n",
       "      <th>collection.featured</th>\n",
       "    </tr>\n",
       "  </thead>\n",
       "  <tbody>\n",
       "    <tr>\n",
       "      <th>count</th>\n",
       "      <td>44752.000000</td>\n",
       "      <td>44752.000000</td>\n",
       "    </tr>\n",
       "    <tr>\n",
       "      <th>mean</th>\n",
       "      <td>0.286043</td>\n",
       "      <td>0.022033</td>\n",
       "    </tr>\n",
       "    <tr>\n",
       "      <th>std</th>\n",
       "      <td>0.451915</td>\n",
       "      <td>0.146791</td>\n",
       "    </tr>\n",
       "    <tr>\n",
       "      <th>min</th>\n",
       "      <td>0.000000</td>\n",
       "      <td>0.000000</td>\n",
       "    </tr>\n",
       "    <tr>\n",
       "      <th>25%</th>\n",
       "      <td>0.000000</td>\n",
       "      <td>0.000000</td>\n",
       "    </tr>\n",
       "    <tr>\n",
       "      <th>50%</th>\n",
       "      <td>0.000000</td>\n",
       "      <td>0.000000</td>\n",
       "    </tr>\n",
       "    <tr>\n",
       "      <th>75%</th>\n",
       "      <td>1.000000</td>\n",
       "      <td>0.000000</td>\n",
       "    </tr>\n",
       "    <tr>\n",
       "      <th>max</th>\n",
       "      <td>1.000000</td>\n",
       "      <td>1.000000</td>\n",
       "    </tr>\n",
       "  </tbody>\n",
       "</table>\n",
       "</div>"
      ],
      "text/plain": [
       "         is_presale  collection.featured\n",
       "count  44752.000000         44752.000000\n",
       "mean       0.286043             0.022033\n",
       "std        0.451915             0.146791\n",
       "min        0.000000             0.000000\n",
       "25%        0.000000             0.000000\n",
       "50%        0.000000             0.000000\n",
       "75%        1.000000             0.000000\n",
       "max        1.000000             1.000000"
      ]
     },
     "execution_count": 59,
     "metadata": {},
     "output_type": "execute_result"
    }
   ],
   "source": [
    "df_binary.describe()"
   ]
  },
  {
   "cell_type": "markdown",
   "metadata": {},
   "source": [
    "### Integers"
   ]
  },
  {
   "cell_type": "code",
   "execution_count": 65,
   "metadata": {
    "ExecuteTime": {
     "end_time": "2021-07-06T02:31:25.119920Z",
     "start_time": "2021-07-06T02:31:25.054514Z"
    },
    "scrolled": true
   },
   "outputs": [
    {
     "data": {
      "text/plain": [
       "30017535    1\n",
       "179613      1\n",
       "1450        1\n",
       "30023081    1\n",
       "30021032    1\n",
       "           ..\n",
       "6838        1\n",
       "693         1\n",
       "30018228    1\n",
       "30028467    1\n",
       "11206656    1\n",
       "Name: id, Length: 44752, dtype: int64"
      ]
     },
     "metadata": {},
     "output_type": "display_data"
    },
    {
     "data": {
      "text/plain": [
       "250     41746\n",
       "500      1342\n",
       "1250      660\n",
       "750       495\n",
       "1000      247\n",
       "550       187\n",
       "450        24\n",
       "350        20\n",
       "600        18\n",
       "1500        5\n",
       "850         4\n",
       "1350        2\n",
       "950         1\n",
       "875         1\n",
       "Name: asset_contract.seller_fee_basis_points, dtype: int64"
      ]
     },
     "metadata": {},
     "output_type": "display_data"
    },
    {
     "data": {
      "text/plain": [
       "0       41630\n",
       "250      1458\n",
       "1000      660\n",
       "500       495\n",
       "750       247\n",
       "300       187\n",
       "200        24\n",
       "100        20\n",
       "350        18\n",
       "1250        5\n",
       "600         4\n",
       "1100        2\n",
       "700         1\n",
       "625         1\n",
       "Name: asset_contract.dev_seller_fee_basis_points, dtype: int64"
      ]
     },
     "metadata": {},
     "output_type": "display_data"
    },
    {
     "data": {
      "text/plain": [
       "250    44636\n",
       "0        116\n",
       "Name: asset_contract.opensea_seller_fee_basis_points, dtype: int64"
      ]
     },
     "metadata": {},
     "output_type": "display_data"
    },
    {
     "data": {
      "text/plain": [
       "0       32026\n",
       "1000     6309\n",
       "250      1839\n",
       "500      1498\n",
       "300       837\n",
       "200       772\n",
       "530       432\n",
       "100       290\n",
       "750       287\n",
       "1          55\n",
       "999        37\n",
       "700        34\n",
       "400        32\n",
       "10         31\n",
       "112        28\n",
       "600        27\n",
       "350        26\n",
       "800        21\n",
       "50         21\n",
       "900        17\n",
       "150        17\n",
       "5          15\n",
       "1250       13\n",
       "690        10\n",
       "1500       10\n",
       "950         8\n",
       "369         8\n",
       "969         8\n",
       "222         7\n",
       "850         5\n",
       "20          4\n",
       "69          3\n",
       "325         3\n",
       "269         2\n",
       "1100        2\n",
       "777         2\n",
       "2           2\n",
       "15          2\n",
       "450         1\n",
       "960         1\n",
       "3           1\n",
       "650         1\n",
       "35          1\n",
       "707         1\n",
       "710         1\n",
       "249         1\n",
       "299         1\n",
       "625         1\n",
       "247         1\n",
       "927         1\n",
       "Name: collection.dev_seller_fee_basis_points, dtype: int64"
      ]
     },
     "metadata": {},
     "output_type": "display_data"
    },
    {
     "data": {
      "text/plain": [
       "250    44635\n",
       "0        117\n",
       "Name: collection.opensea_seller_fee_basis_points, dtype: int64"
      ]
     },
     "metadata": {},
     "output_type": "display_data"
    },
    {
     "data": {
      "text/plain": [
       "1    26975\n",
       "0    17777\n",
       "Name: target, dtype: int64"
      ]
     },
     "metadata": {},
     "output_type": "display_data"
    }
   ],
   "source": [
    "for col in int_col:\n",
    "    display(df[col].value_counts())"
   ]
  },
  {
   "cell_type": "code",
   "execution_count": 88,
   "metadata": {
    "ExecuteTime": {
     "end_time": "2021-07-06T03:34:35.515141Z",
     "start_time": "2021-07-06T03:34:35.353591Z"
    }
   },
   "outputs": [],
   "source": [
    "# will set binary for int columns based on the dominant integer value which are either '0' or '250'\n",
    "\n",
    "int_col_250 = ['asset_contract.seller_fee_basis_points',\n",
    "               'asset_contract.opensea_seller_fee_basis_points',\n",
    "               'collection.opensea_seller_fee_basis_points']\n",
    "\n",
    "int_col_0 = ['asset_contract.dev_seller_fee_basis_points',\n",
    "             'collection.dev_seller_fee_basis_points']\n",
    "\n",
    "for column in int_col_0:\n",
    "    df_binary[f\"{column}_0\"] = np.where(df[column] == 0, 1, 0)\n",
    "\n",
    "for column in int_col_250:\n",
    "    df_binary[f\"{column}_250\"] = np.where(df[column] == 250, 1, 0)"
   ]
  },
  {
   "cell_type": "code",
   "execution_count": 90,
   "metadata": {
    "ExecuteTime": {
     "end_time": "2021-07-06T03:40:59.699911Z",
     "start_time": "2021-07-06T03:40:59.574966Z"
    },
    "scrolled": false
   },
   "outputs": [
    {
     "data": {
      "text/html": [
       "<div>\n",
       "<style scoped>\n",
       "    .dataframe tbody tr th:only-of-type {\n",
       "        vertical-align: middle;\n",
       "    }\n",
       "\n",
       "    .dataframe tbody tr th {\n",
       "        vertical-align: top;\n",
       "    }\n",
       "\n",
       "    .dataframe thead th {\n",
       "        text-align: right;\n",
       "    }\n",
       "</style>\n",
       "<table border=\"1\" class=\"dataframe\">\n",
       "  <thead>\n",
       "    <tr style=\"text-align: right;\">\n",
       "      <th></th>\n",
       "      <th>is_presale</th>\n",
       "      <th>collection.featured</th>\n",
       "      <th>asset_contract.dev_seller_fee_basis_points_0</th>\n",
       "      <th>collection.dev_seller_fee_basis_points_0</th>\n",
       "      <th>asset_contract.seller_fee_basis_points_250</th>\n",
       "      <th>asset_contract.opensea_seller_fee_basis_points_250</th>\n",
       "      <th>collection.opensea_seller_fee_basis_points_250</th>\n",
       "    </tr>\n",
       "  </thead>\n",
       "  <tbody>\n",
       "    <tr>\n",
       "      <th>count</th>\n",
       "      <td>44752.000000</td>\n",
       "      <td>44752.000000</td>\n",
       "      <td>44752.000000</td>\n",
       "      <td>44752.000000</td>\n",
       "      <td>44752.000000</td>\n",
       "      <td>44752.000000</td>\n",
       "      <td>44752.000000</td>\n",
       "    </tr>\n",
       "    <tr>\n",
       "      <th>mean</th>\n",
       "      <td>0.286043</td>\n",
       "      <td>0.022033</td>\n",
       "      <td>0.930238</td>\n",
       "      <td>0.715633</td>\n",
       "      <td>0.932830</td>\n",
       "      <td>0.997408</td>\n",
       "      <td>0.997386</td>\n",
       "    </tr>\n",
       "    <tr>\n",
       "      <th>std</th>\n",
       "      <td>0.451915</td>\n",
       "      <td>0.146791</td>\n",
       "      <td>0.254749</td>\n",
       "      <td>0.451118</td>\n",
       "      <td>0.250319</td>\n",
       "      <td>0.050847</td>\n",
       "      <td>0.051065</td>\n",
       "    </tr>\n",
       "    <tr>\n",
       "      <th>min</th>\n",
       "      <td>0.000000</td>\n",
       "      <td>0.000000</td>\n",
       "      <td>0.000000</td>\n",
       "      <td>0.000000</td>\n",
       "      <td>0.000000</td>\n",
       "      <td>0.000000</td>\n",
       "      <td>0.000000</td>\n",
       "    </tr>\n",
       "    <tr>\n",
       "      <th>25%</th>\n",
       "      <td>0.000000</td>\n",
       "      <td>0.000000</td>\n",
       "      <td>1.000000</td>\n",
       "      <td>0.000000</td>\n",
       "      <td>1.000000</td>\n",
       "      <td>1.000000</td>\n",
       "      <td>1.000000</td>\n",
       "    </tr>\n",
       "    <tr>\n",
       "      <th>50%</th>\n",
       "      <td>0.000000</td>\n",
       "      <td>0.000000</td>\n",
       "      <td>1.000000</td>\n",
       "      <td>1.000000</td>\n",
       "      <td>1.000000</td>\n",
       "      <td>1.000000</td>\n",
       "      <td>1.000000</td>\n",
       "    </tr>\n",
       "    <tr>\n",
       "      <th>75%</th>\n",
       "      <td>1.000000</td>\n",
       "      <td>0.000000</td>\n",
       "      <td>1.000000</td>\n",
       "      <td>1.000000</td>\n",
       "      <td>1.000000</td>\n",
       "      <td>1.000000</td>\n",
       "      <td>1.000000</td>\n",
       "    </tr>\n",
       "    <tr>\n",
       "      <th>max</th>\n",
       "      <td>1.000000</td>\n",
       "      <td>1.000000</td>\n",
       "      <td>1.000000</td>\n",
       "      <td>1.000000</td>\n",
       "      <td>1.000000</td>\n",
       "      <td>1.000000</td>\n",
       "      <td>1.000000</td>\n",
       "    </tr>\n",
       "  </tbody>\n",
       "</table>\n",
       "</div>"
      ],
      "text/plain": [
       "         is_presale  collection.featured  \\\n",
       "count  44752.000000         44752.000000   \n",
       "mean       0.286043             0.022033   \n",
       "std        0.451915             0.146791   \n",
       "min        0.000000             0.000000   \n",
       "25%        0.000000             0.000000   \n",
       "50%        0.000000             0.000000   \n",
       "75%        1.000000             0.000000   \n",
       "max        1.000000             1.000000   \n",
       "\n",
       "       asset_contract.dev_seller_fee_basis_points_0  \\\n",
       "count                                  44752.000000   \n",
       "mean                                       0.930238   \n",
       "std                                        0.254749   \n",
       "min                                        0.000000   \n",
       "25%                                        1.000000   \n",
       "50%                                        1.000000   \n",
       "75%                                        1.000000   \n",
       "max                                        1.000000   \n",
       "\n",
       "       collection.dev_seller_fee_basis_points_0  \\\n",
       "count                              44752.000000   \n",
       "mean                                   0.715633   \n",
       "std                                    0.451118   \n",
       "min                                    0.000000   \n",
       "25%                                    0.000000   \n",
       "50%                                    1.000000   \n",
       "75%                                    1.000000   \n",
       "max                                    1.000000   \n",
       "\n",
       "       asset_contract.seller_fee_basis_points_250  \\\n",
       "count                                44752.000000   \n",
       "mean                                     0.932830   \n",
       "std                                      0.250319   \n",
       "min                                      0.000000   \n",
       "25%                                      1.000000   \n",
       "50%                                      1.000000   \n",
       "75%                                      1.000000   \n",
       "max                                      1.000000   \n",
       "\n",
       "       asset_contract.opensea_seller_fee_basis_points_250  \\\n",
       "count                                       44752.000000    \n",
       "mean                                            0.997408    \n",
       "std                                             0.050847    \n",
       "min                                             0.000000    \n",
       "25%                                             1.000000    \n",
       "50%                                             1.000000    \n",
       "75%                                             1.000000    \n",
       "max                                             1.000000    \n",
       "\n",
       "       collection.opensea_seller_fee_basis_points_250  \n",
       "count                                    44752.000000  \n",
       "mean                                         0.997386  \n",
       "std                                          0.051065  \n",
       "min                                          0.000000  \n",
       "25%                                          1.000000  \n",
       "50%                                          1.000000  \n",
       "75%                                          1.000000  \n",
       "max                                          1.000000  "
      ]
     },
     "execution_count": 90,
     "metadata": {},
     "output_type": "execute_result"
    }
   ],
   "source": [
    "df_binary.describe()"
   ]
  },
  {
   "cell_type": "markdown",
   "metadata": {},
   "source": [
    "### Objects"
   ]
  },
  {
   "cell_type": "markdown",
   "metadata": {},
   "source": [
    "#### No Null Values"
   ]
  },
  {
   "cell_type": "code",
   "execution_count": 101,
   "metadata": {
    "ExecuteTime": {
     "end_time": "2021-07-07T00:42:48.551400Z",
     "start_time": "2021-07-07T00:42:47.685854Z"
    },
    "scrolled": true
   },
   "outputs": [
    {
     "name": "stdout",
     "output_type": "stream",
     "text": [
      "*********** token_id ***********\n"
     ]
    },
    {
     "data": {
      "text/plain": [
       "590                                                                               1\n",
       "4773                                                                              1\n",
       "49628562                                                                          1\n",
       "37156                                                                             1\n",
       "114140567692882127997742704400860118156507390746385800350963456459232514452546    1\n",
       "                                                                                 ..\n",
       "105227954358508556400726543892593280633486599217815009542877566410695104266290    1\n",
       "29020503227247008650885355780559374833664620184621695681865493635801158778881     1\n",
       "452738                                                                            1\n",
       "62039891116429728767859023818714610472804605447511169661721305909164226117633     1\n",
       "353101                                                                            1\n",
       "Name: token_id, Length: 44752, dtype: int64"
      ]
     },
     "metadata": {},
     "output_type": "display_data"
    },
    {
     "name": "stdout",
     "output_type": "stream",
     "text": [
      "\n",
      "\n",
      "\n",
      "*********** name ***********\n"
     ]
    },
    {
     "data": {
      "text/plain": [
       "Acid Drop                             866\n",
       "Ledger Legend Card                    193\n",
       "Polkastarter Babydragon                37\n",
       "Bitcoin Unidragon                      34\n",
       "Moonrock x Morningstar Babydragon      28\n",
       "                                     ... \n",
       "Gorgeous Guy                            1\n",
       "Tomcat                                  1\n",
       "Pocket Channeler ID #49893655           1\n",
       "Elon Musk#2                             1\n",
       "Joan Mazzaco 2020-21 • Rare 32/100      1\n",
       "Name: name, Length: 33675, dtype: int64"
      ]
     },
     "metadata": {},
     "output_type": "display_data"
    },
    {
     "name": "stdout",
     "output_type": "stream",
     "text": [
      "\n",
      "\n",
      "\n",
      "*********** traits ***********\n"
     ]
    },
    {
     "data": {
      "text/plain": [
       "[]                                                                                                                                                                                                                                                                                                                                                                                                                                                                                                                                                                                                                                                                                                                                                                                                                                                                                                                                                                                                                                                                                                                                                                                                                                                                                                                                                                                                                                                                                                                                                                                                                                                                                                                                               14408\n",
       "[{'trait_type': 'Hidden', 'value': 'Hidden', 'display_type': None, 'max_value': None, 'trait_count': 2227, 'order': None}]                                                                                                                                                                                                                                                                                                                                                                                                                                                                                                                                                                                                                                                                                                                                                                                                                                                                                                                                                                                                                                                                                                                                                                                                                                                                                                                                                                                                                                                                                                                                                                                                                         104\n",
       "[{'trait_type': 'Type', 'value': 'Asset', 'display_type': None, 'max_value': None, 'trait_count': 425, 'order': None}]                                                                                                                                                                                                                                                                                                                                                                                                                                                                                                                                                                                                                                                                                                                                                                                                                                                                                                                                                                                                                                                                                                                                                                                                                                                                                                                                                                                                                                                                                                                                                                                                                              77\n",
       "[{'trait_type': 'Personality', 'value': 'Unknown', 'display_type': None, 'max_value': None, 'trait_count': 134, 'order': None}]                                                                                                                                                                                                                                                                                                                                                                                                                                                                                                                                                                                                                                                                                                                                                                                                                                                                                                                                                                                                                                                                                                                                                                                                                                                                                                                                                                                                                                                                                                                                                                                                                     73\n",
       "[{'trait_type': 'name', 'value': 'Black Rhino', 'display_type': None, 'max_value': None, 'trait_count': 35564, 'order': None}, {'trait_type': 'tribe', 'value': 'wild', 'display_type': None, 'max_value': None, 'trait_count': 345971, 'order': None}, {'trait_type': 'keyword', 'value': 'Confused', 'display_type': None, 'max_value': None, 'trait_count': 154446, 'order': None}, {'trait_type': 'quality', 'value': 'meteorite', 'display_type': None, 'max_value': None, 'trait_count': 6529701, 'order': None}, {'trait_type': 'type', 'value': 'creature', 'display_type': None, 'max_value': None, 'trait_count': 4738459, 'order': None}, {'trait_type': 'set', 'value': 'genesis', 'display_type': None, 'max_value': None, 'trait_count': 6858885, 'order': None}, {'trait_type': 'mana', 'value': 6, 'display_type': None, 'max_value': None, 'trait_count': 0, 'order': None}, {'trait_type': 'attack', 'value': 5, 'display_type': None, 'max_value': None, 'trait_count': 0, 'order': None}, {'trait_type': 'rarity', 'value': 'common', 'display_type': None, 'max_value': None, 'trait_count': 5027791, 'order': None}, {'trait_type': 'keyword', 'value': 'Roar', 'display_type': None, 'max_value': None, 'trait_count': 2559119, 'order': None}, {'trait_type': 'health', 'value': 5, 'display_type': None, 'max_value': None, 'trait_count': 0, 'order': None}, {'trait_type': 'god', 'value': 'nature', 'display_type': None, 'max_value': None, 'trait_count': 784777, 'order': None}]                                                                                                                                                                                                                                     67\n",
       "                                                                                                                                                                                                                                                                                                                                                                                                                                                                                                                                                                                                                                                                                                                                                                                                                                                                                                                                                                                                                                                                                                                                                                                                                                                                                                                                                                                                                                                                                                                                                                                                                                                                                                                                                 ...  \n",
       "[{'trait_type': 'pattern', 'value': 'totesbasic', 'display_type': None, 'max_value': None, 'trait_count': 406716, 'order': None}, {'trait_type': 'mouth', 'value': 'pouty', 'display_type': None, 'max_value': None, 'trait_count': 286249, 'order': None}, {'trait_type': 'generation', 'value': 6, 'display_type': 'number', 'max_value': None, 'trait_count': 127645, 'order': None}, {'trait_type': 'fur', 'value': 'himalayan', 'display_type': None, 'max_value': None, 'trait_count': 104060, 'order': None}, {'trait_type': 'eye_shape', 'value': 'thicccbrowz', 'display_type': None, 'max_value': None, 'trait_count': 248082, 'order': None}, {'trait_type': 'highlight_colour', 'value': 'lemonade', 'display_type': None, 'max_value': None, 'trait_count': 184581, 'order': None}, {'trait_type': 'accent_colour', 'value': 'emeraldgreen', 'display_type': None, 'max_value': None, 'trait_count': 84918, 'order': None}, {'trait_type': 'eye_colour', 'value': 'sizzurp', 'display_type': None, 'max_value': None, 'trait_count': 135974, 'order': None}, {'trait_type': 'cooldown_timer', 'value': 'Brisk (2 hr)', 'display_type': None, 'max_value': None, 'trait_count': 125615, 'order': None}, {'trait_type': 'base_colour', 'value': 'mauveover', 'display_type': None, 'max_value': None, 'trait_count': 144940, 'order': None}, {'trait_type': 'virginity', 'value': 'non-virgin', 'display_type': None, 'max_value': None, 'trait_count': 973925, 'order': None}, {'trait_type': 'secret', 'value': 'se4', 'display_type': None, 'max_value': None, 'trait_count': 10278, 'order': None}, {'trait_type': 'purrstige', 'value': 'pu9', 'display_type': None, 'max_value': None, 'trait_count': 12290, 'order': None}]        1\n",
       "[{'trait_type': 'pattern', 'value': 'totesbasic', 'display_type': None, 'max_value': None, 'trait_count': 406716, 'order': None}, {'trait_type': 'mouth', 'value': 'happygokitty', 'display_type': None, 'max_value': None, 'trait_count': 261994, 'order': None}, {'trait_type': 'generation', 'value': 21, 'display_type': 'number', 'max_value': None, 'trait_count': 9275, 'order': None}, {'trait_type': 'eye_shape', 'value': 'thicccbrowz', 'display_type': None, 'max_value': None, 'trait_count': 248082, 'order': None}, {'trait_type': 'cooldown_timer', 'value': 'Sluggish (2 days)', 'display_type': None, 'max_value': None, 'trait_count': 54930, 'order': None}, {'trait_type': 'fur', 'value': 'ragamuffin', 'display_type': None, 'max_value': None, 'trait_count': 96909, 'order': None}, {'trait_type': 'base_colour', 'value': 'greymatter', 'display_type': None, 'max_value': None, 'trait_count': 187622, 'order': None}, {'trait_type': 'highlight_colour', 'value': 'lemonade', 'display_type': None, 'max_value': None, 'trait_count': 184581, 'order': None}, {'trait_type': 'eye_colour', 'value': 'chestnut', 'display_type': None, 'max_value': None, 'trait_count': 94253, 'order': None}, {'trait_type': 'accent_colour', 'value': 'emeraldgreen', 'display_type': None, 'max_value': None, 'trait_count': 84918, 'order': None}, {'trait_type': 'virginity', 'value': 'non-virgin', 'display_type': None, 'max_value': None, 'trait_count': 973925, 'order': None}]                                                                                                                                                                                                                                                1\n",
       "[{'trait_type': 'pattern', 'value': 'spock', 'display_type': None, 'max_value': None, 'trait_count': 136911, 'order': None}, {'trait_type': 'mouth', 'value': 'pouty', 'display_type': None, 'max_value': None, 'trait_count': 286249, 'order': None}, {'trait_type': 'generation', 'value': 8, 'display_type': 'number', 'max_value': None, 'trait_count': 102464, 'order': None}, {'trait_type': 'highlight_colour', 'value': 'swampgreen', 'display_type': None, 'max_value': None, 'trait_count': 192154, 'order': None}, {'trait_type': 'accent_colour', 'value': 'bloodred', 'display_type': None, 'max_value': None, 'trait_count': 42608, 'order': None}, {'trait_type': 'fur', 'value': 'ragamuffin', 'display_type': None, 'max_value': None, 'trait_count': 96909, 'order': None}, {'trait_type': 'eye_colour', 'value': 'chestnut', 'display_type': None, 'max_value': None, 'trait_count': 94253, 'order': None}, {'trait_type': 'cooldown_timer', 'value': 'Brisk (2 hr)', 'display_type': None, 'max_value': None, 'trait_count': 125615, 'order': None}, {'trait_type': 'base_colour', 'value': 'salmon', 'display_type': None, 'max_value': None, 'trait_count': 93997, 'order': None}, {'trait_type': 'eye_shape', 'value': 'alien', 'display_type': None, 'max_value': None, 'trait_count': 11980, 'order': None}, {'trait_type': 'virginity', 'value': 'non-virgin', 'display_type': None, 'max_value': None, 'trait_count': 973925, 'order': None}]                                                                                                                                                                                                                                                                             1\n",
       "[{'trait_type': 'id', 'value': '092', 'display_type': None, 'max_value': None, 'trait_count': 338, 'order': None}]                                                                                                                                                                                                                                                                                                                                                                                                                                                                                                                                                                                                                                                                                                                                                                                                                                                                                                                                                                                                                                                                                                                                                                                                                                                                                                                                                                                                                                                                                                                                                                                                                                   1\n",
       "[{'trait_type': 'pattern', 'value': 'luckystripe', 'display_type': None, 'max_value': None, 'trait_count': 186952, 'order': None}, {'trait_type': 'mouth', 'value': 'beard', 'display_type': None, 'max_value': None, 'trait_count': 78405, 'order': None}, {'trait_type': 'generation', 'value': 15, 'display_type': 'number', 'max_value': None, 'trait_count': 31854, 'order': None}, {'trait_type': 'fur', 'value': 'himalayan', 'display_type': None, 'max_value': None, 'trait_count': 104060, 'order': None}, {'trait_type': 'highlight_colour', 'value': 'swampgreen', 'display_type': None, 'max_value': None, 'trait_count': 192154, 'order': None}, {'trait_type': 'base_colour', 'value': 'shadowgrey', 'display_type': None, 'max_value': None, 'trait_count': 133584, 'order': None}, {'trait_type': 'cooldown_timer', 'value': 'Plodding (8 hr)', 'display_type': None, 'max_value': None, 'trait_count': 99483, 'order': None}, {'trait_type': 'eye_colour', 'value': 'strawberry', 'display_type': None, 'max_value': None, 'trait_count': 154837, 'order': None}, {'trait_type': 'accent_colour', 'value': 'peach', 'display_type': None, 'max_value': None, 'trait_count': 37337, 'order': None}, {'trait_type': 'eye_shape', 'value': 'raisedbrow', 'display_type': None, 'max_value': None, 'trait_count': 94058, 'order': None}, {'trait_type': 'virginity', 'value': 'non-virgin', 'display_type': None, 'max_value': None, 'trait_count': 973925, 'order': None}]                                                                                                                                                                                                                                                            1\n",
       "Name: traits, Length: 19849, dtype: int64"
      ]
     },
     "metadata": {},
     "output_type": "display_data"
    },
    {
     "name": "stdout",
     "output_type": "stream",
     "text": [
      "\n",
      "\n",
      "\n",
      "*********** description ***********\n"
     ]
    },
    {
     "data": {
      "text/plain": [
       "Rare Player Cards are only issued at 100 editions per season.                                                                                                                                                                                                                                                                                                                                                                                                                                                                                                                                                                                                                                                                                                                                                                                                                                                                                                                                                                                                                                                                                                                                                                                                                                                                                                                                                                                                                                                                                                                                                                                                                                                                                                                                                                                                                                                                                                                                                                                                                                                                                                                                                                                                                                                                                                                                                                                                                                                                                                                                                                                                                                                                        871\n",
       "Where are the sick - There I Am. Healing since 1619.\\n                                                                                                                                                                                                                                                                                                                                                                                                                                                                                                                                                                                                                                                                                                                                                                                                                                                                                                                                                                                                                                                                                                                                                                                                                                                                                                                                                                                                                                                                                                                                                                                                                                                                                                                                                                                                                                                                                                                                                                                                                                                                                                                                                                                                                                                                                                                                                                                                                                                                                                                                                                                                                                                                               495\n",
       "100,000+ anime characters of different races, genders and ages! Here you will find knights, wizards, elves, fairies, beastmen, demons and many others! Collect your own exceptional and extraordinary squads of diverse warriors and creatures that you have always wanted!                                                                                                                                                                                                                                                                                                                                                                                                                                                                                                                                                                                                                                                                                                                                                                                                                                                                                                                                                                                                                                                                                                                                                                                                                                                                                                                                                                                                                                                                                                                                                                                                                                                                                                                                                                                                                                                                                                                                                                                                                                                                                                                                                                                                                                                                                                                                                                                                                                                          432\n",
       "CryptoHorsemen is a collection of 10,000 unique CryptoHorsemen NFTs— unique digital collectibles living on the Ethereum blockchain.\\nOwning a CryptoHorsemen makes you a member of the CryptoHorsemen Club and will allows you to gain the right to travel in parallel universes.                                                                                                                                                                                                                                                                                                                                                                                                                                                                                                                                                                                                                                                                                                                                                                                                                                                                                                                                                                                                                                                                                                                                                                                                                                                                                                                                                                                                                                                                                                                                                                                                                                                                                                                                                                                                                                                                                                                                                                                                                                                                                                                                                                                                                                                                                                                                                                                                                                                    389\n",
       "3001 Rat Pak NFT's on the Ethereum network in a Fight for Their Survival Against the Gutter Cat Gang\\n\\nEach rat has a name, bio and background story that will be revealed over time as we tell our story of the Gutter Cat Gang's arrival and our fight for survival now - with the story as another first in NFT collectibles.                                                                                                                                                                                                                                                                                                                                                                                                                                                                                                                                                                                                                                                                                                                                                                                                                                                                                                                                                                                                                                                                                                                                                                                                                                                                                                                                                                                                                                                                                                                                                                                                                                                                                                                                                                                                                                                                                                                                                                                                                                                                                                                                                                                                                                                                                                                                                                                                    321\n",
       "                                                                                                                                                                                                                                                                                                                                                                                                                                                                                                                                                                                                                                                                                                                                                                                                                                                                                                                                                                                                                                                                                                                                                                                                                                                                                                                                                                                                                                                                                                                                                                                                                                                                                                                                                                                                                                                                                                                                                                                                                                                                                                                                                                                                                                                                                                                                                                                                                                                                                                                                                                                                                                                                                                                                    ... \n",
       "*waves*! My name's Gemstone. I once peed on Martin Luther King Jr.'s cat. They had it coming. I once made a rabbit trot. Maybe you and I can be partners in crime.                                                                                                                                                                                                                                                                                                                                                                                                                                                                                                                                                                                                                                                                                                                                                                                                                                                                                                                                                                                                                                                                                                                                                                                                                                                                                                                                                                                                                                                                                                                                                                                                                                                                                                                                                                                                                                                                                                                                                                                                                                                                                                                                                                                                                                                                                                                                                                                                                                                                                                                                                                     1\n",
       "SOUND ON\\n\\nThe Exploding Heads present the world’s first NFT audio sitcom. \\n\\nYou are bidding on the first episode of **Gophers** by The Exploding Heads. This has not yet been released or heard by anyone outside of the cast and crew. Upon successfully purchasing this item you will unlock the full, professional recording, duration 31 minutes. To be clear, although you are initially purchasing the trailer listed, the winning bidder will unlock the full 31 minute audio file, which will also be an NFT. We will manually gift this full version to the same address. Effectively you are getting **two** NFTs for the price of one! \\n\\nYou will be the sole owner of this particular recording and this storyline will not be recorded in any other format or owned (or even heard) by anyone else on the entire planet. \\n\\nThe Exploding Heads are a comedy duo from the UK known for their offbeat comedy sketches for ESPN. This is their first full-length sitcom. \\n\\n**Gophers: A Pizza For Emma Bunton** is written by and starring The Exploding Heads, with script input and production assistance from David Schneider [BRASSEYE, DEATH OF STALIN, THE ARMANDO IANNUCCI SHOWS, AVENUE 5, THE DAY TODAY] at That Lot Studios in London. \\n\\n### About The Sitcom\\n\\nAnthony and Mark are the Celebrity Gophers, doing odd jobs that the rich and famous are too important to do themselves. In Episode 1, join Anthony, Mark and their Drunk Brother Ben as they frantically try to make a pepperoni pizza and deliver it to Emma Bunton of The Spice Girls, who’s filming a nature documentary in some nearby woods. Will they get that meat feast to Baby Spice on time? Or will a beatboxing Judi Dench stand in their way? \\n\\n### Cast & Crew \\n\\nAnthony - Anthony Richardson\\nMark - Mark Davison\\nDrunk Brother Ben - Ben Tonge \\nDame Judi Dench - Lucy Roslyn \\nRachel Double-Barrelled Surname - Lizzie Stables \\n\\nWritten by Anthony Richardson and Mark Davison\\nSound Editor - Stuart Duffy\\n\\nExecutive Creative Director at That Lot - David Schneider\\n\\nRecorded at That Lot Studio One. \\n\\nThumbnail designed by Chris Vincze\\n\\nThanks to Ben Forder and the crew at That Lot. \\n\\nThis purchase does not buy you ownership over any aspect of Gophers other than the recording of episode 1 \"Gophers: A Pizza For Emma Bunton,\" nor will you own any subsequent episodes or recordings. For the avoidance of doubt, The Exploding Heads (Mark Davison and Anthony Richardson) retain full ownership and copyright of Gophers as an intellectual property and all characters associated with it in any and all subsequent development deals, production or episode recordings.      1\n",
       "Good day! I'm Lavvy. I'm often referred to as the Frodo Baggins of the group. I like to listen to Justin Bieber while grooming. Don't judge me. Our friendship will be fabulous, brilliant, and full of cereal.                                                                                                                                                                                                                                                                                                                                                                                                                                                                                                                                                                                                                                                                                                                                                                                                                                                                                                                                                                                                                                                                                                                                                                                                                                                                                                                                                                                                                                                                                                                                                                                                                                                                                                                                                                                                                                                                                                                                                                                                                                                                                                                                                                                                                                                                                                                                                                                                                                                                                                                        1\n",
       "⚠️ **ATTENTION**: Hashmask names can change at any time. Immediately before purchasing a Hashmask, enter the Hashmask's token ID into the `tokenNameByIndex` function on a site like [Etherscan](https://etherscan.io/address/0xc2c747e0f7004f9e8817db2ca4997657a7746928#readContract) to verify that the blockchain indicates that the Hashmask you're purchasing has the name you expect.\\n\\nHashmask #15036                                                                                                                                                                                                                                                                                                                                                                                                                                                                                                                                                                                                                                                                                                                                                                                                                                                                                                                                                                                                                                                                                                                                                                                                                                                                                                                                                                                                                                                                                                                                                                                                                                                                                                                                                                                                                                                                                                                                                                                                                                                                                                                                                                                                                                                                                                                         1\n",
       "Yo! I'm CATastrophe. I'm a professional Ventriloquist and I love chocolate. When I'm not practicing witchcraft, I'm summoning ghosts! I think you'll love me beclaws I have cattitude.                                                                                                                                                                                                                                                                                                                                                                                                                                                                                                                                                                                                                                                                                                                                                                                                                                                                                                                                                                                                                                                                                                                                                                                                                                                                                                                                                                                                                                                                                                                                                                                                                                                                                                                                                                                                                                                                                                                                                                                                                                                                                                                                                                                                                                                                                                                                                                                                                                                                                                                                                 1\n",
       "Name: description, Length: 18946, dtype: int64"
      ]
     },
     "metadata": {},
     "output_type": "display_data"
    },
    {
     "name": "stdout",
     "output_type": "stream",
     "text": [
      "\n",
      "\n",
      "\n",
      "*********** image_url ***********\n"
     ]
    },
    {
     "data": {
      "text/plain": [
       "https://lh3.googleusercontent.com/ZzJ1gv3qSh_ftmq_vfG6C3NsDnfTqVWzQcKad_u34sndISIFwinFgfA6cqnQxXnPQjmKB6TF0h4Oa5iPwsmi76l_If7mTfp5FW1scw     104\n",
       "https://lh3.googleusercontent.com/q7YPwkm8U15AJfhA_YU_4rRcW1VuY0YnR_rMPvx9Ll4nv0h5pkSRRUsTXRIbKaVZ4HoGYPNmjVt1AJj8OdpXjOqeyZdP1EdieeJsXeY     73\n",
       "https://lh3.googleusercontent.com/8oP0Kd8AWAGDn-M5XMa2E7uAwB0ZDu8MyhvYbuUfkhZcdctEYHERaDOqonN94ZAsQcu98eVjbMDoZY4BuRHpqiU                     67\n",
       "https://lh3.googleusercontent.com/w2r87824INiVaa-_Yt4JVcfSoa-CzMerBedzAXXOjCm2kCJ4Vy5B-mz3Dwfslr5I226SBNII5RhA4gdU6ct9sQ4-                    62\n",
       "https://lh3.googleusercontent.com/CtQ5sUHxODakndMuZtQZXjQCXXEV-j8mi7hvxGDT2NZ7FKMt4QxjgDO6rlS0tPlmrxNsmvCFhLsLIZq7hcWPH6mn                    60\n",
       "                                                                                                                                            ... \n",
       "https://storage.opensea.io/files/854e74ba14a9ef1e304565b4dc949286.svg                                                                          1\n",
       "https://lh3.googleusercontent.com/GziLrqeOfR1Nr84L-WhduQ448IHviR0KYT11qTFV6MYVRUEx0RwHiNsVJcw0Gg9K188kqpc-aVVJPJ595ZEaqZJ8cUKIDCsfOnmQ         1\n",
       "https://lh3.googleusercontent.com/ghn4gxK8gNxGTo4wv9QUS75ii76lwI0lUc6rsVWp8yrBJcHRWg4PEG2-WR-xiAFnG9qnTJuMG2EloMjTWldmBn7sIJ0aWq_r1TQaZhE      1\n",
       "https://lh3.googleusercontent.com/nVZ9SC50gXPqlRZwkqip3W_blKdTCGDfrEAHreDHtd39caX3tqIyySzPcyQ7dxMUV5IScJbSkRPQMruZa7HSVUFex4xo434Oxyp8         1\n",
       "https://storage.opensea.io/0x06012c8cf97bead5deae237070f9587f8e7a266d/438133-1555614005.png                                                    1\n",
       "Name: image_url, Length: 28813, dtype: int64"
      ]
     },
     "metadata": {},
     "output_type": "display_data"
    },
    {
     "name": "stdout",
     "output_type": "stream",
     "text": [
      "\n",
      "\n",
      "\n",
      "*********** background_color ***********\n"
     ]
    },
    {
     "data": {
      "text/plain": [
       "000000    9711\n",
       "fcdede    1779\n",
       "dfdffa    1635\n",
       "cdf5d4    1621\n",
       "faf4cf    1491\n",
       "d1eeeb    1421\n",
       "f3f2f3     946\n",
       "efe1da     715\n",
       "d9f5cb     496\n",
       "eee9e8     281\n",
       "FFFFFF     272\n",
       "fadff4     230\n",
       "4C47F7     192\n",
       "ffffff     158\n",
       "fae1ca      93\n",
       "f3f3f3      38\n",
       "eff1e0      27\n",
       "040726      19\n",
       "fbfbfb      14\n",
       "e0e5fc       9\n",
       "97DBD9       7\n",
       "c5eefa       7\n",
       "faeefa       5\n",
       "0b0c22       5\n",
       "f5fffa       5\n",
       "a2c2eb       4\n",
       "e8f2da       4\n",
       "e5f3e2       3\n",
       "e1eee8       3\n",
       "dcebfc       3\n",
       "fde9e4       2\n",
       "ffe8ee       2\n",
       "FEE7C9       2\n",
       "232323       2\n",
       "FBFBFB       2\n",
       "F1F7D2       2\n",
       "829e90       2\n",
       "2c0056       1\n",
       "eeeeee       1\n",
       "EF3500       1\n",
       "d4eec7       1\n",
       "e4dffc       1\n",
       "D1F4F9       1\n",
       "072083       1\n",
       "e5e7ef       1\n",
       "ADDFFF       1\n",
       "C0C0FF       1\n",
       "3E45D1       1\n",
       "Name: background_color, dtype: int64"
      ]
     },
     "metadata": {},
     "output_type": "display_data"
    },
    {
     "name": "stdout",
     "output_type": "stream",
     "text": [
      "\n",
      "\n",
      "\n",
      "*********** external_link ***********\n"
     ]
    },
    {
     "data": {
      "text/plain": [
       "https://8aliens.io                                   724\n",
       "https://opensea.io/CryptoRR                          432\n",
       "https://totallyturtletokens.madzy.design/             86\n",
       "https://www.beeple-collect.com/                       85\n",
       "https://chubbies.io                                   81\n",
       "                                                    ... \n",
       "https://www.cryptokitties.co/kitty/431460              1\n",
       "https://www.cryptokitties.co/kitty/449951              1\n",
       "https://cryptohamsters.co/hamsters/16250048485835      1\n",
       "https://www.cryptokitties.co/kitty/254555              1\n",
       "https://skullsoneth.com                                1\n",
       "Name: external_link, Length: 15485, dtype: int64"
      ]
     },
     "metadata": {},
     "output_type": "display_data"
    },
    {
     "name": "stdout",
     "output_type": "stream",
     "text": [
      "\n",
      "\n",
      "\n",
      "*********** token_metadata ***********\n"
     ]
    },
    {
     "data": {
      "text/plain": [
       "https://ipfs.io/ipfs/QmWTjGKDwa7zMeM67P6K1yzpmHxSbnzkudehjspyCDtsTu                        19\n",
       "https://ipfs.io/ipfs/WMasterChef                                                           11\n",
       "https://ipfs-2.gitcoin.co:443/api/v0/cat/QmevCbVm34yDH9Y1Pm2vvK6u74DVkayM7VLYpxbhBDmn3a    10\n",
       "https://ipfsgateway.makersplace.com/ipfs/QmemZjidihcUCeXeM5FL9VraKvPW5E9yn2vdht5Y1oheXR     4\n",
       "0x0001020000010000000000000000000000000000000000000000000000000000                          4\n",
       "                                                                                           ..\n",
       "https://ipfs.io/ipfs//Qmea7DDtfHQY5jaQWz3rTNvpBBua9S8J8RQx8LnXNMKXoB                        1\n",
       "https://ipfs.io/ipfs/QmVVnKGPi426h2UUUFEJetFP24LibDpZNugTiLa3KWJ4Mb                         1\n",
       "https://meebits.larvalabs.com/meebit/12643                                                  1\n",
       "https://ipfs.io/ipfs/QmfETbiQLvpJguKUcXQXXZcND8ms7FwrtnRU8EVf9fk1Kx                         1\n",
       "https://voxies-meta-final.s3.us-east-2.amazonaws.com/3977                                   1\n",
       "Name: token_metadata, Length: 6791, dtype: int64"
      ]
     },
     "metadata": {},
     "output_type": "display_data"
    },
    {
     "name": "stdout",
     "output_type": "stream",
     "text": [
      "\n",
      "\n",
      "\n",
      "*********** asset_contract.name ***********\n"
     ]
    },
    {
     "data": {
      "text/plain": [
       "OpenSea Collection                              12760\n",
       "CryptoKitties                                    9836\n",
       "Gods Unchained Cards                             9595\n",
       "Dodgers MLB Crypto                               4038\n",
       "Rarible 1155                                     1418\n",
       "                                                ...  \n",
       "Lushsux's Lambo Fund Open Edition by Lushsux        1\n",
       "🎨 Nifty.Ink                                         1\n",
       "XYO World 3.0                                       1\n",
       "Fabrica Land                                        1\n",
       "FISHΞRMAN Packs by Steven Baltay                    1\n",
       "Name: asset_contract.name, Length: 268, dtype: int64"
      ]
     },
     "metadata": {},
     "output_type": "display_data"
    },
    {
     "name": "stdout",
     "output_type": "stream",
     "text": [
      "\n",
      "\n",
      "\n",
      "*********** asset_contract.description ***********\n"
     ]
    },
    {
     "data": {
      "text/plain": [
       "CryptoKitties is a game centered around breedable, collectible, and oh-so-adorable creatures we call CryptoKitties! Each cat is one-of-a-kind and 100% owned by you; it cannot be replicated, taken away, or destroyed.                                                                                                                                                                                                                                                9836\n",
       "Gods Unchained is a free-to-play, turn-based competitive trading card game in which cards can be bought and sold on the OpenSea marketplace. Players use their collection to build decks of cards, and select a God to play with at the start of each match. The goal of the game is to reduce your opponent's life to zero. Each deck contains exactly 30 cards. On OpenSea, cards can be sold for a fixed price, auctioned, or sold in bundles.                      9595\n",
       "Create and sell digital collectibles secured with blockchain technology. Rarible is home to thousands of artists and collectors, creating and exchanging immutable art without using code. Trade with RARI token on OpenSea.                                                                                                                                                                                                                                           1620\n",
       "Sorare is a fantasy football game where managers can trade official digital collectibles. The platform is growing fast, with a global audience collecting, buying, and selling their favorite players in the form of blockchain-backed NFTs. The Sorare team has secured the rights to European giants like Atletico Madrid, Juventus, and Bayern Munich, as well as the MLS, Korean League, and Japanese League.                                                       946\n",
       "The Bored Ape Yacht Club is a collection of 10,000 unique Bored Ape NFTs— unique digital collectibles living on the Ethereum blockchain. Your Bored Ape doubles as your Yacht Club membership card, and grants access to members-only benefits, the first of which is access to THE BATHROOM, a collaborative graffiti board. Future areas and perks can be unlocked by the community through roadmap activation. Visit www.BoredApeYachtClub.com for more details.     712\n",
       "                                                                                                                                                                                                                                                                                                                                                                                                                                                                       ... \n",
       "Can gain control                                                                                                                                                                                                                                                                                                                                                                                                                                                          1\n",
       "A Player Token is a unique digital collectible. It’s creation and history of ownership are memorialized in the Ethereum blockchain. Each token is unique and offers a glimpse into the future of sports memorabilia and fandom.                                                                                                                                                                                                                                           1\n",
       "Create and collect unique atoms!                                                                                                                                                                                                                                                                                                                                                                                                                                          1\n",
       "Mine for profit and fight for glory! The first cryptocurrency game with Proof Of Stake mining!                                                                                                                                                                                                                                                                                                                                                                            1\n",
       "Dissolution is a living, breathing sci-fi universe powered by its players. Create a corporation, collect resources, trade and control territory, all the while earning loot backed by the Ethereum blockchain. Currently in early access.                                                                                                                                                                                                                                 1\n",
       "Name: asset_contract.description, Length: 221, dtype: int64"
      ]
     },
     "metadata": {},
     "output_type": "display_data"
    },
    {
     "name": "stdout",
     "output_type": "stream",
     "text": [
      "\n",
      "\n",
      "\n",
      "*********** asset_contract.total_supply ***********\n"
     ]
    },
    {
     "data": {
      "text/plain": [
       "1                                                                                 10818\n",
       "0                                                                                  2148\n",
       "40                                                                                  114\n",
       "34                                                                                   41\n",
       "5                                                                                    19\n",
       "3                                                                                    18\n",
       "50                                                                                   14\n",
       "115792089237316195423570985008687907853269984665640564039457584007913129639935       13\n",
       "28                                                                                   10\n",
       "12012                                                                                 9\n",
       "2                                                                                     8\n",
       "16                                                                                    3\n",
       "8                                                                                     2\n",
       "70                                                                                    1\n",
       "6                                                                                     1\n",
       "5000                                                                                  1\n",
       "2623                                                                                  1\n",
       "13                                                                                    1\n",
       "11                                                                                    1\n",
       "4                                                                                     1\n",
       "9                                                                                     1\n",
       "Name: asset_contract.total_supply, dtype: int64"
      ]
     },
     "metadata": {},
     "output_type": "display_data"
    },
    {
     "name": "stdout",
     "output_type": "stream",
     "text": [
      "\n",
      "\n",
      "\n",
      "*********** asset_contract.symbol ***********\n"
     ]
    },
    {
     "data": {
      "text/plain": [
       "OPENSTORE    12764\n",
       "CKITTY        9836\n",
       "DNFTCB        4038\n",
       "SOR            946\n",
       "BAYC           712\n",
       "             ...  \n",
       "COCKA            1\n",
       "Ɖ                1\n",
       "DPC              1\n",
       "RARI             1\n",
       "PROTON           1\n",
       "Name: asset_contract.symbol, Length: 231, dtype: int64"
      ]
     },
     "metadata": {},
     "output_type": "display_data"
    },
    {
     "name": "stdout",
     "output_type": "stream",
     "text": [
      "\n",
      "\n",
      "\n",
      "*********** asset_contract.schema_name ***********\n"
     ]
    },
    {
     "data": {
      "text/plain": [
       "ERC721         29877\n",
       "ERC1155        14750\n",
       "CRYPTOPUNKS      125\n",
       "Name: asset_contract.schema_name, dtype: int64"
      ]
     },
     "metadata": {},
     "output_type": "display_data"
    },
    {
     "name": "stdout",
     "output_type": "stream",
     "text": [
      "\n",
      "\n",
      "\n",
      "*********** asset_contract.asset_contract_type ***********\n"
     ]
    },
    {
     "data": {
      "text/plain": [
       "non-fungible     30002\n",
       "semi-fungible    14750\n",
       "Name: asset_contract.asset_contract_type, dtype: int64"
      ]
     },
     "metadata": {},
     "output_type": "display_data"
    },
    {
     "name": "stdout",
     "output_type": "stream",
     "text": [
      "\n",
      "\n",
      "\n",
      "*********** asset_contract.nft_version ***********\n"
     ]
    },
    {
     "data": {
      "text/plain": [
       "3.0            19512\n",
       "1.0            10040\n",
       "unsupported      465\n",
       "Name: asset_contract.nft_version, dtype: int64"
      ]
     },
     "metadata": {},
     "output_type": "display_data"
    },
    {
     "name": "stdout",
     "output_type": "stream",
     "text": [
      "\n",
      "\n",
      "\n",
      "*********** asset_contract.opensea_version ***********\n"
     ]
    },
    {
     "data": {
      "text/plain": [
       "2.0.0    12764\n",
       "2.0.2       24\n",
       "1.2.0        3\n",
       "Name: asset_contract.opensea_version, dtype: int64"
      ]
     },
     "metadata": {},
     "output_type": "display_data"
    },
    {
     "name": "stdout",
     "output_type": "stream",
     "text": [
      "\n",
      "\n",
      "\n",
      "*********** asset_contract.external_link ***********\n"
     ]
    },
    {
     "data": {
      "text/plain": [
       "https://www.cryptokitties.co/                                                    9836\n",
       "https://godsunchained.com/?refcode=0x5b3256965e7C3cF26E11FCAf296DfC8807C01073    9595\n",
       "https://rarible.com/                                                             1620\n",
       "https://sorare.com                                                                946\n",
       "http://www.boredapeyachtclub.com/                                                 712\n",
       "                                                                                 ... \n",
       "https://www.ebay.com/usr/e9art                                                      1\n",
       "http://www.nft.kred                                                                 1\n",
       "http://charged.fi                                                                   1\n",
       "https://rarepizzas.com                                                              1\n",
       "https://skullsoneth.com                                                             1\n",
       "Name: asset_contract.external_link, Length: 215, dtype: int64"
      ]
     },
     "metadata": {},
     "output_type": "display_data"
    },
    {
     "name": "stdout",
     "output_type": "stream",
     "text": [
      "\n",
      "\n",
      "\n",
      "*********** asset_contract.image_url ***********\n"
     ]
    },
    {
     "data": {
      "text/plain": [
       "https://lh3.googleusercontent.com/C272ZRW1RGGef9vKMePFSCeKc1Lw6U40wl9ofNVxzUxFdj84hH9xJRQNf-7wgs7W8qw8RWe-1ybKp-VKuU5D-tg=s60                    9836\n",
       "https://lh3.googleusercontent.com/yArciVdcDv3O2R-O8XCxx3YEYZdzpiCMdossjUgv0kpLIluUQ1bYN_dyEk5xcvBEOgeq0zNIoWOh7TL9DvUEv--OLQ=s60                 9595\n",
       "https://lh3.googleusercontent.com/FG0QJ00fN3c_FWuPeUr9-T__iQl63j9hn5d6svW8UqOmia5zp3lKHPkJuHcvhZ0f_Pd6P2COo9tt9zVUvdPxG_9BBw=s60                 1620\n",
       "https://lh3.googleusercontent.com/gj47nmAR3valkmpVbwamiuTJfWEWSCyVeORdjM6DRWrZ1o8WaqBxFXmpBrzZnGoWaPwq1Y0jiXRrBLbnLcawAp92=s120                   946\n",
       "https://lh3.googleusercontent.com/Ju9CkWtV-1Okvf45wo8UctR-M9He2PjILP0oOvxE89AyiPPGtrR3gysu1Zgy0hjd2xKIgjJJtWIc0ybj4Vd7wv8t3pxDGHoJBzDB=s120       712\n",
       "                                                                                                                                                 ... \n",
       "https://lh3.googleusercontent.com/VmTpniIICJGOO4KVYrgT3Pt4u_rCkE2mqO-BtSWrywANdmnwiWSWJVYmfkwR1LopL_6eJLR2BjdqhTO_YM4TgZViWJvKusDbuVgTOw=s120       1\n",
       "https://lh3.googleusercontent.com/hjyrtasog6mj7MjSN13T9JA-uTQp-vzuPAJ5OnPs1WFsLOWeN61RmJuOQJXdT5ydGZT-N8uFYZh9oLuu8Pst9C0jwiZjCd2Qv2tKTA=s120       1\n",
       "https://lh3.googleusercontent.com/c9fa-MKAkBbkmnoYGR_7dUCXcJcSHNwu3CZGaNCTH0-fcEKzQ6SxwNdrq8hroRD2eMg7eDG2T1096FUjYwuvMgCT0km5zuz2Bfs3eQ=s120       1\n",
       "https://lh3.googleusercontent.com/Uf8HsYZ8DS8vYO19FhRbNxai0GSjewaDHdoZ8pi6b1YPuYNt8BIVjBbod0vabrDyYmpX3ETg9TUMhkRipIw4Y2u_6ueBUvP5_nYFuw=s120       1\n",
       "https://storage.opensea.io/0xbdaed67214641b7eda3bf8d7431c3ae5fc46f466-featured-1556588855.png                                                       1\n",
       "Name: asset_contract.image_url, Length: 223, dtype: int64"
      ]
     },
     "metadata": {},
     "output_type": "display_data"
    },
    {
     "name": "stdout",
     "output_type": "stream",
     "text": [
      "\n",
      "\n",
      "\n",
      "*********** collection.slug ***********\n"
     ]
    },
    {
     "data": {
      "text/plain": [
       "cryptokitties                 9836\n",
       "gods-unchained                9595\n",
       "dodgers-mlb-crypto            4038\n",
       "rarible                       1605\n",
       "sorare                         946\n",
       "                              ... \n",
       "our-first-nft                    1\n",
       "foxy-bulma-dragon-ball-art       1\n",
       "the-bootlegged-series            1\n",
       "girls-4lkhcdyedk                 1\n",
       "man-in-hats                      1\n",
       "Name: collection.slug, Length: 2791, dtype: int64"
      ]
     },
     "metadata": {},
     "output_type": "display_data"
    },
    {
     "name": "stdout",
     "output_type": "stream",
     "text": [
      "\n",
      "\n",
      "\n",
      "*********** collection.safelist_request_status ***********\n"
     ]
    },
    {
     "data": {
      "text/plain": [
       "verified         27387\n",
       "not_requested    14253\n",
       "approved          2928\n",
       "requested          184\n",
       "Name: collection.safelist_request_status, dtype: int64"
      ]
     },
     "metadata": {},
     "output_type": "display_data"
    },
    {
     "name": "stdout",
     "output_type": "stream",
     "text": [
      "\n",
      "\n",
      "\n",
      "*********** collection.description ***********\n"
     ]
    },
    {
     "data": {
      "text/plain": [
       "CryptoKitties is a game centered around breedable, collectible, and oh-so-adorable creatures we call CryptoKitties! Each cat is one-of-a-kind and 100% owned by you; it cannot be replicated, taken away, or destroyed.                                                                                                                                                                                                                                                                                                                                                                                                                                                                                                                                                                                                                                                                                                                                                                                                                                 9836\n",
       "Gods Unchained is a free-to-play, turn-based competitive trading card game in which cards can be bought and sold on the OpenSea marketplace. Players use their collection to build decks of cards, and select a God to play with at the start of each match. The goal of the game is to reduce your opponent's life to zero. Each deck contains exactly 30 cards. On OpenSea, cards can be sold for a fixed price, auctioned, or sold in bundles.                                                                                                                                                                                                                                                                                                                                                                                                                                                                                                                                                                                                       9595\n",
       "Create and sell digital collectibles secured with blockchain technology. Rarible is home to thousands of artists and collectors, creating and exchanging immutable art without using code. Trade with RARI token on OpenSea.                                                                                                                                                                                                                                                                                                                                                                                                                                                                                                                                                                                                                                                                                                                                                                                                                            1605\n",
       "Sorare is a fantasy football game where managers can trade official digital collectibles. The platform is growing fast, with a global audience collecting, buying, and selling their favorite players in the form of blockchain-backed NFTs. The Sorare team has secured the rights to European giants like Atletico Madrid, Juventus, and Bayern Munich, as well as the MLS, Korean League, and Japanese League.                                                                                                                                                                                                                                                                                                                                                                                                                                                                                                                                                                                                                                        946\n",
       "50,000 items will be minted, take your acid drop is a ticket to the moon, future coming soon.                                                                                                                                                                                                                                                                                                                                                                                                                                                                                                                                                                                                                                                                                                                                                                                                                                                                                                                                                            866\n",
       "                                                                                                                                                                                                                                                                                                                                                                                                                                                                                                                                                                                                                                                                                                                                                                                                                                                                                                                                                                                                                                                        ... \n",
       "Collection of humans art                                                                                                                                                                                                                                                                                                                                                                                                                                                                                                                                                                                                                                                                                                                                                                                                                                                                                                                                                                                                                                   1\n",
       "A collection of Sovryn based NFTs. Please note we just love Sovryn and are not a team member of Sovryn.                                                                                                                                                                                                                                                                                                                                                                                                                                                                                                                                                                                                                                                                                                                                                                                                                                                                                                                                                    1\n",
       "This is contemporary artist Takashi Murakami.\\r\\nI have propounded, and am researching and practicing, the art movement called Superflat. One can accomplish art solely by simultaneously delving into and spreading one's own philosophical lideas. In the short decades before an artist's death, they have to create works that manage to remain relevant for hundreds of years thereafter. In that line of thinking, I am starting this experiment because it amounts to digging down into the nature of art within the realm of VR that are recognizable as such, and further diffusing it. Is this merely a slight fluctuation of interest? Or is this the first step towards future values that we don’t yet begin to understand?\\r\\nThe series of works I am going to release consists of Murakami’s signature flowers in 24 x 24 pixel art evoking nostalgia for Famicom (NES), prepared in 108 variations, the number that signifies earthly desires in Buddhism.\\r\\n\\r\\n©2021 Takashi Murakami/Kaikai Kiki Co., Ltd. All Rights Reserved.       1\n",
       "Faces.\\n\\n---\\n\\nAll 1/1s only. Made by [cielmot](https://twitter.com/cielmot) with Photoshop.  \\n  \\n__View my other collections here 👇__\\n\\n[CHAOS](https://opensea.io/collection/chaos) | [Wild Colors](https://opensea.io/collection/wild-colors) | [April Dreams](https://opensea.io/collection/april-dreams)                                                                                                                                                                                                                                                                                                                                                                                                                                                                                                                                                                                                                                                                                                                                         1\n",
       "All FEG token holders who aspire to help the inner development team of FEG token succeed or just like our products should buy NFTs here.                                                                                                                                                                                                                                                                                                                                                                                                                                                                                                                                                                                                                                                                                                                                                                                                                                                                                                                   1\n",
       "Name: collection.description, Length: 2494, dtype: int64"
      ]
     },
     "metadata": {},
     "output_type": "display_data"
    },
    {
     "name": "stdout",
     "output_type": "stream",
     "text": [
      "\n",
      "\n",
      "\n",
      "*********** collection.display_data.card_display_style ***********\n"
     ]
    },
    {
     "data": {
      "text/plain": [
       "contain    24252\n",
       "padded     11505\n",
       "cover       4194\n",
       "Name: collection.display_data.card_display_style, dtype: int64"
      ]
     },
     "metadata": {},
     "output_type": "display_data"
    },
    {
     "name": "stdout",
     "output_type": "stream",
     "text": [
      "\n",
      "\n",
      "\n",
      "*********** collection.external_url ***********\n"
     ]
    },
    {
     "data": {
      "text/plain": [
       "https://www.cryptokitties.co/                                                    9836\n",
       "https://godsunchained.com/?refcode=0x5b3256965e7C3cF26E11FCAf296DfC8807C01073    9595\n",
       "https://rarible.com/                                                             1605\n",
       "https://sorare.com                                                                946\n",
       "https://8aliens.io/                                                               724\n",
       "                                                                                 ... \n",
       "https://www.rabidartwork.com                                                        1\n",
       "http://sigma-game.com/games/bulumonster/                                            1\n",
       "https://digitaltradingcards.com                                                     1\n",
       "https://mocochouchou.net                                                            1\n",
       "https://skullsoneth.com                                                             1\n",
       "Name: collection.external_url, Length: 1064, dtype: int64"
      ]
     },
     "metadata": {},
     "output_type": "display_data"
    },
    {
     "name": "stdout",
     "output_type": "stream",
     "text": [
      "\n",
      "\n",
      "\n",
      "*********** collection.image_url ***********\n"
     ]
    },
    {
     "data": {
      "text/plain": [
       "https://lh3.googleusercontent.com/C272ZRW1RGGef9vKMePFSCeKc1Lw6U40wl9ofNVxzUxFdj84hH9xJRQNf-7wgs7W8qw8RWe-1ybKp-VKuU5D-tg=s60                     9836\n",
       "https://lh3.googleusercontent.com/yArciVdcDv3O2R-O8XCxx3YEYZdzpiCMdossjUgv0kpLIluUQ1bYN_dyEk5xcvBEOgeq0zNIoWOh7TL9DvUEv--OLQ=s60                  9595\n",
       "https://lh3.googleusercontent.com/FG0QJ00fN3c_FWuPeUr9-T__iQl63j9hn5d6svW8UqOmia5zp3lKHPkJuHcvhZ0f_Pd6P2COo9tt9zVUvdPxG_9BBw=s60                  1605\n",
       "https://lh3.googleusercontent.com/gj47nmAR3valkmpVbwamiuTJfWEWSCyVeORdjM6DRWrZ1o8WaqBxFXmpBrzZnGoWaPwq1Y0jiXRrBLbnLcawAp92=s120                    946\n",
       "https://lh3.googleusercontent.com/WQXdqF_-CVV1dgwOfQw2-hcg_2zU-vanX5i7k-q_JdxT10qFV7M36nUUxPz7URBT9jd6vNLPmuXDETm7OZ1-n9J-ksvxNLfYgE636V4=s120     866\n",
       "                                                                                                                                                  ... \n",
       "https://lh3.googleusercontent.com/PXw-gTPhTjjeiB8b7ICWIiXb3BwBMwSAT2xmpT1LaV-3e0z8RWtSGaD3Y8rQq3novJ6jo27alpd8dITjK0X4_aHyEjpNnZF6SdUC=s120          1\n",
       "https://lh3.googleusercontent.com/Fkefab0S_E5GWjG1b6j_x0EXwbOAFWbJlIjpmuDiQ5pyGsu8r8zr74QYeVgyj8phjsw-6NmpyPiO-dWI-vEUmtvr-WjPjHIhcMrY=s120          1\n",
       "https://lh3.googleusercontent.com/z_ulQMLZAHlu6Du4j-AelVYGYsMrbY-rjHqsLn326nprMhz5u4b9kOnQS7S1K49jaVUHQZk2dem3oy6Xyt_pWhf1xrJM3ow1sPnn=s120          1\n",
       "https://lh3.googleusercontent.com/-1mIn3phUs2lQyWl0QMvH070PeffuCO0nQNcjqGXvdQJLSX1JsAWQkWoOrEdPjUm0AKHIFztERgGZ6gczOPfkwhR=s60                       1\n",
       "https://lh3.googleusercontent.com/LdvXjE7w-ciXiLKAJMPxZ-D9rako3DtOLL8a29kSBOtmdrQKqcDleDiEUlxd9TQaMHsLGXTM1U57EJsXEUBgW4Pu0x60HOFMdq0JhNM=s120       1\n",
       "Name: collection.image_url, Length: 2735, dtype: int64"
      ]
     },
     "metadata": {},
     "output_type": "display_data"
    },
    {
     "name": "stdout",
     "output_type": "stream",
     "text": [
      "\n",
      "\n",
      "\n",
      "*********** collection.large_image_url ***********\n"
     ]
    },
    {
     "data": {
      "text/plain": [
       "https://lh3.googleusercontent.com/C272ZRW1RGGef9vKMePFSCeKc1Lw6U40wl9ofNVxzUxFdj84hH9xJRQNf-7wgs7W8qw8RWe-1ybKp-VKuU5D-tg                         9836\n",
       "https://lh3.googleusercontent.com/yArciVdcDv3O2R-O8XCxx3YEYZdzpiCMdossjUgv0kpLIluUQ1bYN_dyEk5xcvBEOgeq0zNIoWOh7TL9DvUEv--OLQ                      9595\n",
       "https://lh3.googleusercontent.com/FG0QJ00fN3c_FWuPeUr9-T__iQl63j9hn5d6svW8UqOmia5zp3lKHPkJuHcvhZ0f_Pd6P2COo9tt9zVUvdPxG_9BBw                      1605\n",
       "https://lh3.googleusercontent.com/nXNnPXj42KX4PACc4LP9ijCvWLY7xIgHihKk17ON3t9MEZIWBULQRp6kuo4ATsXOIQJGc37HVnrk4dRLzw3x1403aQv2luEM7QPr=s300        946\n",
       "https://lh3.googleusercontent.com/pWPnZ4B9ECYX0IqhLSEUir5lJXmjdyAwbaWJg4JVDI-7DWNDwX4DZObF8KVbw8_uXYVwYV7ORRy6AMT_gPfryN-1G9dE1V5myM5nkQ=s300      724\n",
       "                                                                                                                                                  ... \n",
       "https://lh3.googleusercontent.com/mVZvPPrvqMIylzHHYiGbELe_A9DF4YFoQHx34-T92S4qZAu2Kyo81hZ7hQB5esDXpiaLAhE2V87mXURgYzJuXu7wLDEQOItUNcW8rPY=s300       1\n",
       "https://lh3.googleusercontent.com/r1U-yjKTqzWbv-qINV0qTxn0yZ2rA9VAd8xGUDJmvXbQI7syEOhWDrhT8IPc7iJJijUm2zyT7ElsMY2vbwhK8TVVQ_D9mtjtDbh2Cg=s300        1\n",
       "https://lh3.googleusercontent.com/0vWunuOBbaH65NVhlTJC4q8S57ahYHAhAqxOdq5V_hO21UXAMdRvz5Qkr5rDBo0IjZ8HdiAS0ZbJJmH0B9tM_I22E3GWu7-F6myF=s300          1\n",
       "https://lh3.googleusercontent.com/SRAaWn28GO4b5-pW0XB6UpicwE2OY2I-_D9upmCUjohcFgyOwvYqaBFrrK2AMY5wYiC6PQ9I8Q9lwevljbDUqrLLjCeVgJIWCbZV=s300          1\n",
       "https://lh3.googleusercontent.com/IeaVF_1JI79Cw1k4wN6Ol4DNKnrwjo1_CNdf6p94bnbZCFe2nykUbiyTmK3N8UELWFRrYDGcsz-AxSH7D8z54UxMPJRKwX3lYc8w4jo=s300       1\n",
       "Name: collection.large_image_url, Length: 1404, dtype: int64"
      ]
     },
     "metadata": {},
     "output_type": "display_data"
    },
    {
     "name": "stdout",
     "output_type": "stream",
     "text": [
      "\n",
      "\n",
      "\n",
      "*********** collection.display_data.images ***********\n"
     ]
    },
    {
     "data": {
      "text/plain": [
       "[]                                                                                                                                                                                                                                                                                                                                                                                                                                                                                                                                                                                                                                                                                                                                                                                                                                                                                                                                                                                                                                            6209\n",
       "['https://ledgerlegends.com/img/monster.png', 'https://ledgerlegends.com/img/monster.png', 'https://ledgerlegends.com/img/monster.png', 'https://ledgerlegends.com/img/monster.png', 'https://ledgerlegends.com/img/monster.png', 'https://ledgerlegends.com/img/monster.png']                                                                                                                                                                                                                                                                                                                                                                                                                                                                                                                                                                                                                                                                                                                                                                 193\n",
       "['https://storage.opensea.io/0x8562c38485b1e8ccd82e44f89823da76c98eb0ab/11081664790290029703914123501093412959851005990698421485335279882236843786250-1550517150.png', 'https://storage.opensea.io/0x8562c38485b1e8ccd82e44f89823da76c98eb0ab/11081664790290028134638689654423222000903650188781817459746418766228215563559-1552773943.png', 'https://storage.opensea.io/0x8562c38485b1e8ccd82e44f89823da76c98eb0ab/50885195465617471177731255234521635734804147820253726770435014604985116655636-1551524003.jpg', 'https://storage.opensea.io/0x8562c38485b1e8ccd82e44f89823da76c98eb0ab/11081664790290028178578401802129987347754176151235482372462906877476457152527-1552773783.png', 'https://storage.opensea.io/0x8562c38485b1e8ccd82e44f89823da76c98eb0ab/7237005577332265873523498293477879557094607771672055840139323123026691620864-1551250671.jpg', 'https://storage.opensea.io/0x8562c38485b1e8ccd82e44f89823da76c98eb0ab/10855508365998398882471917397163648119753490024396247545386072295876434329600-1552747248.jpg']             16\n",
       "['https://storage.opensea.io/0x2aea4add166ebf38b63d09a75de1a7b94aa24163/1978-1552743515.svg', 'https://storage.opensea.io/0x2aea4add166ebf38b63d09a75de1a7b94aa24163/1819-1551610280.svg', 'https://storage.opensea.io/0x2aea4add166ebf38b63d09a75de1a7b94aa24163/2.svg', 'https://storage.opensea.io/0x2aea4add166ebf38b63d09a75de1a7b94aa24163/1977-1552730712.svg', 'https://storage.opensea.io/0x2aea4add166ebf38b63d09a75de1a7b94aa24163/1976-1552728445.svg', 'https://storage.opensea.io/0x2aea4add166ebf38b63d09a75de1a7b94aa24163/5-1551384373.svg']                                                                                                                                                                                                                                                                                                                                                                                                                                                                                   14\n",
       "['https://cryptobots.me/img/6349', 'https://cryptobots.me/img/6361', 'https://cryptobots.me/img/6338', 'https://cryptobots.me/img/6339', 'https://cryptobots.me/img/6331', 'https://cryptobots.me/img/6328']                                                                                                                                                                                                                                                                                                                                                                                                                                                                                                                                                                                                                                                                                                                                                                                                                                     9\n",
       "['https://storage.opensea.io/0x15820072729d045ec5232ba3bd060ec5df38e09a/1806.png', 'https://storage.opensea.io/0x15820072729d045ec5232ba3bd060ec5df38e09a/1807-1549675103.png', 'https://storage.opensea.io/0x15820072729d045ec5232ba3bd060ec5df38e09a/101-1549897787.png', 'https://storage.opensea.io/0x15820072729d045ec5232ba3bd060ec5df38e09a/1799-1549907447.png', 'https://storage.opensea.io/0x15820072729d045ec5232ba3bd060ec5df38e09a/98-1550005653.png', 'https://storage.opensea.io/0x15820072729d045ec5232ba3bd060ec5df38e09a/3001-1550008955.png']                                                                                                                                                                                                                                                                                                                                                                                                                                                                                 8\n",
       "['https://storage.opensea.io/0xfaafdc07907ff5120a76b34b731b278c38d6043c/54277541829991970145084277980910407609605540001142873075224213181424744792064-1564876783.jpg', 'https://storage.opensea.io/0xfaafdc07907ff5120a76b34b731b278c38d6043c/54277541829991970138807176245523726845769750577935206659121857736960710279168-1564871970.jpg', 'https://storage.opensea.io/0xfaafdc07907ff5120a76b34b731b278c38d6043c/54277541829991971764576525710674044679239211188720808429631917853145649119232-1564856907.jpg', 'https://storage.opensea.io/0xfaafdc07907ff5120a76b34b731b278c38d6043c/54277541829991970170192684922457130664948697693973538739633634959280882843648-1564858155.jpg', 'https://storage.opensea.io/0xfaafdc07907ff5120a76b34b731b278c38d6043c/54277541829991970132530074510137046081933961154727540243019502292496675766272-1564868622.jpg', 'https://storage.opensea.io/0xfaafdc07907ff5120a76b34b731b278c38d6043c/54277541829991970452662263014857765037559221738318527464239629960162435923968-1564863062.jpg']             6\n",
       "['https://storage.opensea.io/0x8853b05833029e3cf8d3cbb592f9784fa43d2a79/1178-1551947758.gif', 'https://storage.opensea.io/0x8853b05833029e3cf8d3cbb592f9784fa43d2a79/811-1549677961.gif', 'https://storage.opensea.io/0x8853b05833029e3cf8d3cbb592f9784fa43d2a79/1208-1552429987.gif', 'https://storage.opensea.io/0x8853b05833029e3cf8d3cbb592f9784fa43d2a79/1221-1552769441.jpg', 'https://storage.opensea.io/0x8853b05833029e3cf8d3cbb592f9784fa43d2a79/728-1551540084.jpg', 'https://storage.opensea.io/0x8853b05833029e3cf8d3cbb592f9784fa43d2a79/1215-1552657749.jpg']                                                                                                                                                                                                                                                                                                                                                                                                                                                                     6\n",
       "['https://storage.opensea.io/0xfaafdc07907ff5120a76b34b731b278c38d6043c/50885195465617473544198609475300283700896760369543965641023017167926128017414-1564976317.png', 'https://storage.opensea.io/0xfaafdc07907ff5120a76b34b731b278c38d6043c/50659039041325842321021892306622949975308721317951141070523061135867509735424-1564858178.jpg', 'https://storage.opensea.io/0xfaafdc07907ff5120a76b34b731b278c38d6043c/50885195465617473550475711210686964464732549792751632057125372612390162530312-1564940797.png', 'https://storage.opensea.io/0xfaafdc07907ff5120a76b34b731b278c38d6043c/50885195465617473581861219887620368283911496908789964137637149834710335094789-1564939305.png', 'https://storage.opensea.io/0xfaafdc07907ff5120a76b34b731b278c38d6043c/50885195465617473563029914681460325992404128639166964889330083501318231556097-1564922428.png', 'https://storage.opensea.io/0xfaafdc07907ff5120a76b34b731b278c38d6043c/50885195465617473544198609475300283700896760369543965641023017167926128017418-1564904039.png']             2\n",
       "['https://storage.opensea.io/0x1a94fce7ef36bc90959e206ba569a12afbc91ca1/9097None-1550128081.', 'https://storage.opensea.io/0x1a94fce7ef36bc90959e206ba569a12afbc91ca1/48022None-1552754932.', 'https://storage.opensea.io/0x1a94fce7ef36bc90959e206ba569a12afbc91ca1/29518None-1550040276.', 'https://storage.opensea.io/0x1a94fce7ef36bc90959e206ba569a12afbc91ca1/6445None-1550122917.', 'https://storage.opensea.io/0x1a94fce7ef36bc90959e206ba569a12afbc91ca1/44638None-1549992322.', 'https://storage.opensea.io/0x1a94fce7ef36bc90959e206ba569a12afbc91ca1/45354None-1550316509.']                                                                                                                                                                                                                                                                                                                                                                                                                                                         2\n",
       "['https://storage.opensea.io/0x2fb5d7dda4f1f20f974a0fdd547c38674e8d940c/1-1571915237.svg', 'https://storage.opensea.io/0x2fb5d7dda4f1f20f974a0fdd547c38674e8d940c/2-1571982585.svg', 'https://storage.opensea.io/0x2fb5d7dda4f1f20f974a0fdd547c38674e8d940c/6-1571984918.svg', 'https://storage.opensea.io/0x2fb5d7dda4f1f20f974a0fdd547c38674e8d940c/5-1571984898.svg', 'https://storage.opensea.io/0x2fb5d7dda4f1f20f974a0fdd547c38674e8d940c/4-1571984887.svg', 'https://storage.opensea.io/0x2fb5d7dda4f1f20f974a0fdd547c38674e8d940c/3-1571984879.svg']                                                                                                                                                                                                                                                                                                                                                                                                                                                                                     2\n",
       "['https://storage.googleapis.com/opensea-prod.appspot.com/0x9d9c250311b65803c895cc77f878b8092019dedc/1.svg', 'https://storage.googleapis.com/opensea-prod.appspot.com/0x9d9c250311b65803c895cc77f878b8092019dedc/2.svg', 'https://storage.googleapis.com/opensea-prod.appspot.com/0x9d9c250311b65803c895cc77f878b8092019dedc/3.svg', 'https://storage.googleapis.com/opensea-prod.appspot.com/0x9d9c250311b65803c895cc77f878b8092019dedc/4.svg', 'https://storage.googleapis.com/opensea-prod.appspot.com/0x9d9c250311b65803c895cc77f878b8092019dedc/5.svg', 'https://storage.googleapis.com/opensea-prod.appspot.com/0x9d9c250311b65803c895cc77f878b8092019dedc/6.svg']                                                                                                                                                                                                                                                                                                                                                                         1\n",
       "['https://storage.googleapis.com/opensea-prod.appspot.com/0xf766b3e7073f5a6483e27de20ea6f59b30b28f87/19.svg', 'https://storage.googleapis.com/opensea-prod.appspot.com/0xf766b3e7073f5a6483e27de20ea6f59b30b28f87/13.svg', 'https://storage.googleapis.com/opensea-prod.appspot.com/0xf766b3e7073f5a6483e27de20ea6f59b30b28f87/10.svg', 'https://storage.googleapis.com/opensea-prod.appspot.com/0xf766b3e7073f5a6483e27de20ea6f59b30b28f87/5.svg', 'https://storage.googleapis.com/opensea-prod.appspot.com/0xf766b3e7073f5a6483e27de20ea6f59b30b28f87/195.svg', 'https://storage.googleapis.com/opensea-prod.appspot.com/0xf766b3e7073f5a6483e27de20ea6f59b30b28f87/232.svg']                                                                                                                                                                                                                                                                                                                                                                  1\n",
       "['https://storage.googleapis.com/opensea-prod.appspot.com/0xbdaed67214641b7eda3bf8d7431c3ae5fc46f466/260.png', 'https://storage.googleapis.com/opensea-prod.appspot.com/0xbdaed67214641b7eda3bf8d7431c3ae5fc46f466/259.png', 'https://storage.googleapis.com/opensea-prod.appspot.com/0xbdaed67214641b7eda3bf8d7431c3ae5fc46f466/258.png', 'https://storage.googleapis.com/opensea-prod.appspot.com/0xbdaed67214641b7eda3bf8d7431c3ae5fc46f466/257.png', 'https://storage.googleapis.com/opensea-prod.appspot.com/0xbdaed67214641b7eda3bf8d7431c3ae5fc46f466/256.png', 'https://storage.googleapis.com/opensea-prod.appspot.com/0xbdaed67214641b7eda3bf8d7431c3ae5fc46f466/255.png']                                                                                                                                                                                                                                                                                                                                                             1\n",
       "['https://lh3.googleusercontent.com/mO_PQZc_Z0-42Fr7mZNCrtWwnVMvfX2xbrqFflj7iF9fYcebzKdviPyUf1hr7ywmpc6Knr3eQzkD1kZTh4XRa5gp', 'https://lh3.googleusercontent.com/qcTsNCj5TWHqc5muE6wNZ3_a2AO4ccbzMsuEDkg_J9Jmpjk0L-M1wmEMDFoP5niC6BmCfX0CSKLmcr4BE-CvWpo', 'https://lh3.googleusercontent.com/uSSkeYu001A-px-oLfCHxwjtAK5Rf5CRsLzklxqo2RYAN5hbiTGpLd8qGrIfIQumtQIK98rcomKr5xC3owronyIHew', 'https://lh3.googleusercontent.com/LVrCoivrVSam8XBOBap9SQk8DFuMpcP3CYpzdjU5Z_ijYE1GmxbPuTLOtpy-WJaOpQKvOzf8t_kZJg7oPheZPn9cgA', 'https://lh3.googleusercontent.com/r04WnhnhvGnCj2GFCKh7bfGh5BxSWiE0crfrnISDACg881za3ZTqr83w71ZPCaVZvZMZg7ingj1MaJrbGt48ARrQZg', 'https://lh3.googleusercontent.com/ETQt9Jp9nHM4rm3iBGDolKUCgqg6X7FDKFfcs6j8S4-fGR9oP8NRn4zOSKV5Zvqqug7Tk5M5JT8Eer9NJIsBtiOX']                                                                                                                                                                                                                                                        1\n",
       "['https://storage.opensea.io/0x157ad40f43e26e72909f16bb07f2ca97466df849/103734-1568559343.png', 'https://storage.opensea.io/0x157ad40f43e26e72909f16bb07f2ca97466df849/77141-1568072196.png', 'https://storage.opensea.io/0x157ad40f43e26e72909f16bb07f2ca97466df849/103722-1568559209.png', 'https://storage.opensea.io/0x157ad40f43e26e72909f16bb07f2ca97466df849/64851-1568525095.png', 'https://storage.opensea.io/0x157ad40f43e26e72909f16bb07f2ca97466df849/103729-1568559189.png', 'https://storage.opensea.io/0x157ad40f43e26e72909f16bb07f2ca97466df849/59194-1568560326.png']                                                                                                                                                                                                                                                                                                                                                                                                                                                          1\n",
       "['https://storage.opensea.io/0x6f9b9f2c75125079c029f6aecde745e09cf06f5a/405678898387156995.gif', 'https://storage.googleapis.com/opensea-prod.appspot.com/0x6f9b9f2c75125079c029f6aecde745e09cf06f5a/355020662882172931None', 'https://storage.googleapis.com/opensea-prod.appspot.com/0x6f9b9f2c75125079c029f6aecde745e09cf06f5a/355020485560664065None', 'https://storage.googleapis.com/opensea-prod.appspot.com/0x6f9b9f2c75125079c029f6aecde745e09cf06f5a/355020307237076995None', 'https://storage.googleapis.com/opensea-prod.appspot.com/0x6f9b9f2c75125079c029f6aecde745e09cf06f5a/378824876837896194None', 'https://storage.googleapis.com/opensea-prod.appspot.com/0x6f9b9f2c75125079c029f6aecde745e09cf06f5a/355021148638380033None']                                                                                                                                                                                                                                                                                                1\n",
       "['https://i.imgur.com/okDFdyw.jpg', 'https://i.imgur.com/nWGmIzB.png', 'https://i.imgur.com/E9M0KY4.png', 'https://i.imgur.com/wDom5bw.png', 'https://i.imgur.com/PWmOKbu.png', 'https://i.imgur.com/0j4YlcF.png']                                                                                                                                                                                                                                                                                                                                                                                                                                                                                                                                                                                                                                                                                                                                                                                                                               1\n",
       "['https://storage.opensea.io/0x14a4123da9ad21b2215dc0ab6984ec1e89842c6d/18998906514627227274320642736617172985370189003558443992493832354010134223107-1552772413.png', 'https://storage.opensea.io/0x14a4123da9ad21b2215dc0ab6984ec1e89842c6d/18998906514627227268043541001230492221534399580350777576391476909546099705584-1551162279.png', 'https://storage.opensea.io/0x14a4123da9ad21b2215dc0ab6984ec1e89842c6d/18998906514627227274320642736617172985370189003558443992493832354010134222786-1552246841.png', 'https://storage.opensea.io/0x14a4123da9ad21b2215dc0ab6984ec1e89842c6d/18998906514627228890674339598687469759857969044371854322010884198599916634180-1552773220.png', 'https://storage.opensea.io/0x14a4123da9ad21b2215dc0ab6984ec1e89842c6d/18998906514627227274320642736617172985370189003558443992493832354010134219374-1551157054.png', 'https://storage.opensea.io/0x14a4123da9ad21b2215dc0ab6984ec1e89842c6d/18998906514627227274320642736617172985370189003558443992493832354010134222006-1551595979.png']             1\n",
       "['https://lh3.googleusercontent.com/ig3CMQUUn8z6AtAWvWlU4PgwJo6lY9o1Nji9tTg8HIkbPTOjcEBNg-GBcThKIWmU3sxMNLyzF_UUT0XNAOfthJp1SA', 'https://lh3.googleusercontent.com/cIaLuSmqfTiF9aog1kp76lJJCyo76uEoxMTogYxKat4ci4YwuyIicXRMaHZ6A_I2wCuGrGB5Q2rmkmi-wuXsfq2B']                                                                                                                                                                                                                                                                                                                                                                                                                                                                                                                                                                                                                                                                                                                                                                                   1\n",
       "['https://storage.opensea.io/0xfaafdc07907ff5120a76b34b731b278c38d6043c/43648189888285213772017997977676106592189471955723666252373186063940982931523-1565029009.jpg', 'https://storage.opensea.io/0xfaafdc07907ff5120a76b34b731b278c38d6043c/43648189888285213715524082359195979717667367146854668507451987063764672315428-1565019526.jpg', 'https://storage.opensea.io/0xfaafdc07907ff5120a76b34b731b278c38d6043c/43422033463993588750617795371039367536361383033305260791000409162348463390720-1565022971.jpg', 'https://storage.opensea.io/0xfaafdc07907ff5120a76b34b731b278c38d6043c/43648189888285213746909591036129383536846314262893000587963764286084844879878-1566599843.jpg', 'https://storage.opensea.io/0xfaafdc07907ff5120a76b34b731b278c38d6043c/43648189888285213790849303183836148883696840225346665500680252397333086470166-1567033927.jpg']                                                                                                                                                                                   1\n",
       "['https://storage.opensea.io/0x3903525e5c6cec55d4d38060c3edf05068a7a8d1/315450205-1549865572.jpg', 'https://storage.opensea.io/0x3903525e5c6cec55d4d38060c3edf05068a7a8d1/695695453-1549865865.jpg']                                                                                                                                                                                                                                                                                                                                                                                                                                                                                                                                                                                                                                                                                                                                                                                                                                             1\n",
       "['https://storage.opensea.io/0x34d77a17038491a2a9eaa6e690b7c7cd39fc8392/15-1550024421.png', 'https://storage.opensea.io/0x34d77a17038491a2a9eaa6e690b7c7cd39fc8392/0-1550024816.png', 'https://storage.opensea.io/0x34d77a17038491a2a9eaa6e690b7c7cd39fc8392/53-1550077098.png', 'https://storage.opensea.io/0x34d77a17038491a2a9eaa6e690b7c7cd39fc8392/98-1551917129.png', 'https://storage.opensea.io/0x34d77a17038491a2a9eaa6e690b7c7cd39fc8392/41-1550038954.png', 'https://storage.opensea.io/0x34d77a17038491a2a9eaa6e690b7c7cd39fc8392/68-1550088521.png']                                                                                                                                                                                                                                                                                                                                                                                                                                                                                1\n",
       "['https://storage.opensea.io/0x7c99dedb1dd8b9c9b12a8043c569988c3f881550/115792089237316195423570985008687907808352712232076686862292135826919725727861-1571104076.png', 'https://storage.opensea.io/0x7c99dedb1dd8b9c9b12a8043c569988c3f881550/115792089237316195423570985008687907808012429865155748398828761219487957516405-1571104067.png', 'https://storage.opensea.io/0x7c99dedb1dd8b9c9b12a8043c569988c3f881550/115792089237316195423570985008687907808012429865155748398828761219487957516397-1571105553.png', 'https://storage.opensea.io/0x7c99dedb1dd8b9c9b12a8043c569988c3f881550/115792089237316195423570985008687907808012429865155748398828761219487957516406-1571103501.png', 'https://storage.opensea.io/0x7c99dedb1dd8b9c9b12a8043c569988c3f881550/115792089237316195423570985008687907808352712232076686862292135826919725727862-1571103533.png', 'https://storage.opensea.io/0x7c99dedb1dd8b9c9b12a8043c569988c3f881550/115792089237316195423570985008687907810394406433602317643072383471510334996598-1571100023.png']       1\n",
       "['https://storage.opensea.io/0xfaafdc07907ff5120a76b34b731b278c38d6043c/7237005577332269652338742996259699386239840542687238333757300690375468384256-1564883125.png', 'https://storage.opensea.io/0xfaafdc07907ff5120a76b34b731b278c38d6043c/7237005577332268892809433014471326962109320334559601985372291910227292323840-1564794598.png', 'https://storage.opensea.io/0xfaafdc07907ff5120a76b34b731b278c38d6043c/7237005577332272382877997889465831654808239638022129338281919032230481494016-1564890793.png', 'https://storage.opensea.io/0xfaafdc07907ff5120a76b34b731b278c38d6043c/7237005577332271039578226516716148193949303071581516292377853916927095734272-1564890742.png', 'https://storage.opensea.io/0xfaafdc07907ff5120a76b34b731b278c38d6043c/7237005577332269658615844731646380150075629965894904749859656134839502897152-1564890540.png', 'https://storage.opensea.io/0xfaafdc07907ff5120a76b34b731b278c38d6043c/7237005577332272395432201360239193182479818484437462170486629921158550519808-1564889269.png']                   1\n",
       "['https://storage.opensea.io/0xd3551ab3018edb9e1c1111e966cceffdf625a730/302696-1559938476.jpg', 'https://storage.opensea.io/0xd3551ab3018edb9e1c1111e966cceffdf625a730/5145-1563770500.jpg', 'https://storage.opensea.io/0xd3551ab3018edb9e1c1111e966cceffdf625a730/250504-1558083460.jpg', 'https://storage.opensea.io/0xd3551ab3018edb9e1c1111e966cceffdf625a730/21302-1563770614.jpg', 'https://storage.opensea.io/0xd3551ab3018edb9e1c1111e966cceffdf625a730/21308-1564465810.jpg', 'https://storage.opensea.io/0xd3551ab3018edb9e1c1111e966cceffdf625a730/21314-1564467989.jpg']                                                                                                                                                                                                                                                                                                                                                                                                                                                            1\n",
       "Name: collection.display_data.images, dtype: int64"
      ]
     },
     "metadata": {},
     "output_type": "display_data"
    },
    {
     "name": "stdout",
     "output_type": "stream",
     "text": [
      "\n",
      "\n",
      "\n",
      "*********** collection.twitter_username ***********\n"
     ]
    },
    {
     "data": {
      "text/plain": [
       "CryptoKitties                        9836\n",
       "GodsUnchained                        9595\n",
       "rariblecom                           1605\n",
       "SorareHQ                              946\n",
       "https://twitter.com/nftcybermafia     866\n",
       "                                     ... \n",
       "arconametaverse                         1\n",
       "unstablekido                            1\n",
       "cryptopom1                              1\n",
       "Crypto_Frogz                            1\n",
       "PantyNectar                             1\n",
       "Name: collection.twitter_username, Length: 1199, dtype: int64"
      ]
     },
     "metadata": {},
     "output_type": "display_data"
    },
    {
     "name": "stdout",
     "output_type": "stream",
     "text": [
      "\n",
      "\n",
      "\n",
      "*********** collection.instagram_username ***********\n"
     ]
    },
    {
     "data": {
      "text/plain": [
       "cybermafia.nft       866\n",
       "boredapeyachtclub    712\n",
       "cryptohamsters       492\n",
       "cryptorr78           432\n",
       "zwmalachite          169\n",
       "                    ... \n",
       "tobiasrahim            1\n",
       "artofhealingcc         1\n",
       "nftyskateboards        1\n",
       "devilgoat00            1\n",
       "evanmobley4            1\n",
       "Name: collection.instagram_username, Length: 567, dtype: int64"
      ]
     },
     "metadata": {},
     "output_type": "display_data"
    },
    {
     "name": "stdout",
     "output_type": "stream",
     "text": [
      "\n",
      "\n",
      "\n",
      "*********** collection.discord_url ***********\n"
     ]
    },
    {
     "data": {
      "text/plain": [
       "https://discord.gg/cryptokitties       9836\n",
       "https://discord.gg/godsunchained       9595\n",
       "https://discord.gg/tsjtham              946\n",
       "https://discord.gg/j9d9c6M8Tr           724\n",
       "https://discord.gg/3P5K3dzgdB           712\n",
       "                                       ... \n",
       "https://discord.gg/awWShJCR6a             1\n",
       "https://discord.gg/Yj4APdtNDt             1\n",
       "https://discord.gg/pQMk3988Ek             1\n",
       "https://discord.gg/t8sUDVGvrq             1\n",
       "https://discord.gg/MorpheusOfSteeze       1\n",
       "Name: collection.discord_url, Length: 357, dtype: int64"
      ]
     },
     "metadata": {},
     "output_type": "display_data"
    },
    {
     "name": "stdout",
     "output_type": "stream",
     "text": [
      "\n",
      "\n",
      "\n",
      "*********** collection.telegram_url ***********\n"
     ]
    },
    {
     "data": {
      "text/plain": [
       "https://t.me/rarible                      1605\n",
       "https://t.me/sorarefc                      946\n",
       "https://t.me/Daniel78Raymond               432\n",
       "https://t.me//                             270\n",
       "https://t.me/polychainmonsters             254\n",
       "                                          ... \n",
       "https://t.me/aaronleupp                      1\n",
       "https://t.me/navajjoo                        1\n",
       "https://t.me/Poodl                           1\n",
       "https://t.me/joinchat/SpBfO0Ff-uqAv_Mb       1\n",
       "https://t.me/Mgame32                         1\n",
       "Name: collection.telegram_url, Length: 198, dtype: int64"
      ]
     },
     "metadata": {},
     "output_type": "display_data"
    },
    {
     "name": "stdout",
     "output_type": "stream",
     "text": [
      "\n",
      "\n",
      "\n",
      "*********** collection.medium_username ***********\n"
     ]
    },
    {
     "data": {
      "text/plain": [
       "rarible                      1605\n",
       "the-ethereum-name-service     358\n",
       "polychainmonsters             254\n",
       "sandbox-game                  185\n",
       "pixelfigures                  126\n",
       "                             ... \n",
       "peckfreedom                     1\n",
       "kaprika                         1\n",
       "nugbase                         1\n",
       "shantell_martin                 1\n",
       "mrbitcrunchy                    1\n",
       "Name: collection.medium_username, Length: 143, dtype: int64"
      ]
     },
     "metadata": {},
     "output_type": "display_data"
    },
    {
     "name": "stdout",
     "output_type": "stream",
     "text": [
      "\n",
      "\n",
      "\n",
      "*********** collection.chat_url ***********\n"
     ]
    },
    {
     "data": {
      "text/plain": [
       "https://discord.gg/FpN2ws6    946\n",
       "Name: collection.chat_url, dtype: int64"
      ]
     },
     "metadata": {},
     "output_type": "display_data"
    },
    {
     "name": "stdout",
     "output_type": "stream",
     "text": [
      "\n",
      "\n",
      "\n",
      "*********** creator.user.username ***********\n"
     ]
    },
    {
     "data": {
      "text/plain": [
       "0x3ee5c5f600a019a68a43c61e5966e0b3e8c6ce71    4048\n",
       "cybermafia                                     866\n",
       "Heptalabs                                      724\n",
       "HAVE_IDEA                                      505\n",
       "PlagueDr                                       495\n",
       "                                              ... \n",
       "AlexCocoPro                                      1\n",
       "Crypsterio                                       1\n",
       "Djankov                                          1\n",
       "maxotg                                           1\n",
       "StrongHands                                      1\n",
       "Name: creator.user.username, Length: 4266, dtype: int64"
      ]
     },
     "metadata": {},
     "output_type": "display_data"
    },
    {
     "name": "stdout",
     "output_type": "stream",
     "text": [
      "\n",
      "\n",
      "\n",
      "*********** creator.config ***********\n"
     ]
    },
    {
     "data": {
      "text/plain": [
       "verified             1329\n",
       "affiliate             325\n",
       "moderator              12\n",
       "affiliate_partner       3\n",
       "Name: creator.config, dtype: int64"
      ]
     },
     "metadata": {},
     "output_type": "display_data"
    },
    {
     "name": "stdout",
     "output_type": "stream",
     "text": [
      "\n",
      "\n",
      "\n",
      "*********** creator.profile_img_url ***********\n"
     ]
    },
    {
     "data": {
      "text/plain": [
       "https://storage.googleapis.com/opensea-static/opensea-profile/3.png     19767\n",
       "https://storage.googleapis.com/opensea-static/opensea-profile/30.png     5248\n",
       "https://storage.googleapis.com/opensea-static/opensea-profile/7.png      1619\n",
       "https://storage.googleapis.com/opensea-static/opensea-profile/14.png     1280\n",
       "https://storage.googleapis.com/opensea-static/opensea-profile/23.png     1239\n",
       "https://storage.googleapis.com/opensea-static/opensea-profile/16.png     1225\n",
       "https://storage.googleapis.com/opensea-static/opensea-profile/27.png      960\n",
       "https://storage.googleapis.com/opensea-static/opensea-profile/12.png      905\n",
       "https://storage.googleapis.com/opensea-static/opensea-profile/22.png      855\n",
       "https://storage.googleapis.com/opensea-static/opensea-profile/24.png      841\n",
       "https://storage.googleapis.com/opensea-static/opensea-profile/28.png      831\n",
       "https://storage.googleapis.com/opensea-static/opensea-profile/4.png       711\n",
       "https://storage.googleapis.com/opensea-static/opensea-profile/26.png      700\n",
       "https://storage.googleapis.com/opensea-static/opensea-profile/10.png      666\n",
       "https://storage.googleapis.com/opensea-static/opensea-profile/33.png      646\n",
       "https://storage.googleapis.com/opensea-static/opensea-profile/13.png      637\n",
       "https://storage.googleapis.com/opensea-static/opensea-profile/2.png       513\n",
       "https://storage.googleapis.com/opensea-static/opensea-profile/19.png      493\n",
       "https://storage.googleapis.com/opensea-static/opensea-profile/20.png      467\n",
       "https://storage.googleapis.com/opensea-static/opensea-profile/18.png      435\n",
       "https://storage.googleapis.com/opensea-static/opensea-profile/1.png       376\n",
       "https://storage.googleapis.com/opensea-static/opensea-profile/15.png      376\n",
       "https://storage.googleapis.com/opensea-static/opensea-profile/32.png      370\n",
       "https://storage.googleapis.com/opensea-static/opensea-profile/8.png       361\n",
       "https://storage.googleapis.com/opensea-static/opensea-profile/21.png      360\n",
       "https://storage.googleapis.com/opensea-static/opensea-profile/9.png       351\n",
       "https://storage.googleapis.com/opensea-static/opensea-profile/5.png       345\n",
       "https://storage.googleapis.com/opensea-static/opensea-profile/11.png      333\n",
       "https://storage.googleapis.com/opensea-static/opensea-profile/25.png      316\n",
       "https://storage.googleapis.com/opensea-static/opensea-profile/31.png      313\n",
       "https://storage.googleapis.com/opensea-static/opensea-profile/17.png      294\n",
       "https://storage.googleapis.com/opensea-static/opensea-profile/6.png       284\n",
       "https://storage.googleapis.com/opensea-static/opensea-profile/29.png      281\n",
       "Name: creator.profile_img_url, dtype: int64"
      ]
     },
     "metadata": {},
     "output_type": "display_data"
    },
    {
     "name": "stdout",
     "output_type": "stream",
     "text": [
      "\n",
      "\n",
      "\n",
      "*********** creator.discord_id ***********\n"
     ]
    },
    {
     "data": {
      "text/plain": [
       "@RobGronkowski          45\n",
       "Instagram fiedler.jp    27\n",
       "@kevinabosch            24\n",
       "@DrakeBell              16\n",
       "@sabet                  15\n",
       "@vhils1                 10\n",
       "@CbHoyo                  8\n",
       "@adamlucasNYC            8\n",
       "@justinkan               6\n",
       "@Cryptopathic            5\n",
       "Instagram thatsval V     4\n",
       "@wizardofsoho            4\n",
       "@Crypto_Kobe_            4\n",
       "395737001225355275       4\n",
       "Katttykattt#2416         4\n",
       "@msp4rro                 3\n",
       "@WebbEmotional           3\n",
       "@bobbibillard            3\n",
       "650843151266742292       2\n",
       "@godfreymeyer            2\n",
       "419625211588116481       2\n",
       "@wivteam                 2\n",
       "Diana Art #4099          2\n",
       "PaartiLive               2\n",
       "101723492973559808       2\n",
       "@DBlockEurope            2\n",
       "@ExtendedVictory         2\n",
       "@SatoshiLite             1\n",
       "@TheMCFaceman            1\n",
       "davidfirth66             1\n",
       "@MarcTaraz               1\n",
       "@casperdefi              1\n",
       "@outisRatwell            1\n",
       "cloudwhite☁|OpenSea      1\n",
       "@PuffyPuffPuff1          1\n",
       "Instagram meowyoface     1\n",
       "146613143592894464       1\n",
       "edd#1977                 1\n",
       "@iSpaceCrypto            1\n",
       "@zachwinterton           1\n",
       "Instagram maderis        1\n",
       "@seanbonner              1\n",
       "@TeddyKillerz            1\n",
       "@andrealtrez             1\n",
       "Rarebits #0901           1\n",
       "Name: creator.discord_id, dtype: int64"
      ]
     },
     "metadata": {},
     "output_type": "display_data"
    },
    {
     "name": "stdout",
     "output_type": "stream",
     "text": [
      "\n",
      "\n",
      "\n",
      "*********** owner.address ***********\n"
     ]
    },
    {
     "data": {
      "text/plain": [
       "0x0000000000000000000000000000000000000000    14827\n",
       "0xb1690c08e213a35ed9bab7b318de14420fb57d8c     2454\n",
       "0x327305a797d92a39cee1a225d7e2a1cc42b1a8fa      915\n",
       "0xc7af99fe5513eb6710e6d5f44f9989da40f27f26      466\n",
       "0x555e86f9ada1caaaf8ef084d6e8d9306daffdabe      222\n",
       "                                              ...  \n",
       "0x43532c0a45ffd7048f69892a13efab473f341f33        1\n",
       "0xbdca35dce5e69cdca4c6c504f4277a527e25e3d6        1\n",
       "0x08e0d01d04349fc9ac899f31b3cbd364ccbe4984        1\n",
       "0xb75d5707fea9d05a997ea1ff010e1ef9bc4a4cd1        1\n",
       "0x6843bc73448cd6739b334353ede14d46157bc680        1\n",
       "Name: owner.address, Length: 11452, dtype: int64"
      ]
     },
     "metadata": {},
     "output_type": "display_data"
    },
    {
     "name": "stdout",
     "output_type": "stream",
     "text": [
      "\n",
      "\n",
      "\n",
      "*********** owner.config ***********\n"
     ]
    },
    {
     "data": {
      "text/plain": [
       "verified             3219\n",
       "affiliate            1537\n",
       "moderator              10\n",
       "affiliate_partner       2\n",
       "Name: owner.config, dtype: int64"
      ]
     },
     "metadata": {},
     "output_type": "display_data"
    },
    {
     "name": "stdout",
     "output_type": "stream",
     "text": [
      "\n",
      "\n",
      "\n",
      "*********** owner.profile_img_url ***********\n"
     ]
    },
    {
     "data": {
      "text/plain": [
       "https://storage.googleapis.com/opensea-static/opensea-profile/1.png     15706\n",
       "https://storage.googleapis.com/opensea-static/opensea-profile/26.png     3168\n",
       "https://storage.googleapis.com/opensea-static/opensea-profile/7.png      2018\n",
       "https://storage.googleapis.com/opensea-static/opensea-profile/12.png     1119\n",
       "https://storage.googleapis.com/opensea-static/opensea-profile/33.png     1016\n",
       "https://storage.googleapis.com/opensea-static/opensea-profile/15.png      997\n",
       "https://storage.googleapis.com/opensea-static/opensea-profile/25.png      986\n",
       "https://storage.googleapis.com/opensea-static/opensea-profile/22.png      952\n",
       "https://storage.googleapis.com/opensea-static/opensea-profile/24.png      943\n",
       "https://storage.googleapis.com/opensea-static/opensea-profile/17.png      929\n",
       "https://storage.googleapis.com/opensea-static/opensea-profile/18.png      873\n",
       "https://storage.googleapis.com/opensea-static/opensea-profile/20.png      847\n",
       "https://storage.googleapis.com/opensea-static/opensea-profile/3.png       833\n",
       "https://storage.googleapis.com/opensea-static/opensea-profile/32.png      830\n",
       "https://storage.googleapis.com/opensea-static/opensea-profile/2.png       825\n",
       "https://storage.googleapis.com/opensea-static/opensea-profile/16.png      801\n",
       "https://storage.googleapis.com/opensea-static/opensea-profile/5.png       788\n",
       "https://storage.googleapis.com/opensea-static/opensea-profile/27.png      786\n",
       "https://storage.googleapis.com/opensea-static/opensea-profile/23.png      767\n",
       "https://storage.googleapis.com/opensea-static/opensea-profile/30.png      761\n",
       "https://storage.googleapis.com/opensea-static/opensea-profile/6.png       756\n",
       "https://storage.googleapis.com/opensea-static/opensea-profile/14.png      743\n",
       "https://storage.googleapis.com/opensea-static/opensea-profile/31.png      735\n",
       "https://storage.googleapis.com/opensea-static/opensea-profile/9.png       729\n",
       "https://storage.googleapis.com/opensea-static/opensea-profile/21.png      725\n",
       "https://storage.googleapis.com/opensea-static/opensea-profile/19.png      705\n",
       "https://storage.googleapis.com/opensea-static/opensea-profile/29.png      697\n",
       "https://storage.googleapis.com/opensea-static/opensea-profile/11.png      678\n",
       "https://storage.googleapis.com/opensea-static/opensea-profile/28.png      656\n",
       "https://storage.googleapis.com/opensea-static/opensea-profile/4.png       622\n",
       "https://storage.googleapis.com/opensea-static/opensea-profile/13.png      616\n",
       "https://storage.googleapis.com/opensea-static/opensea-profile/10.png      593\n",
       "https://storage.googleapis.com/opensea-static/opensea-profile/8.png       552\n",
       "Name: owner.profile_img_url, dtype: int64"
      ]
     },
     "metadata": {},
     "output_type": "display_data"
    },
    {
     "name": "stdout",
     "output_type": "stream",
     "text": [
      "\n",
      "\n",
      "\n",
      "*********** owner.discord_id ***********\n"
     ]
    },
    {
     "data": {
      "text/plain": [
       "@kevinabosch           24\n",
       "cloudwhite☁|OpenSea    15\n",
       "419625211588116481      5\n",
       "499194181533564949      3\n",
       "387325865077243924      1\n",
       "@mera_takeru            1\n",
       "391063760317448204      1\n",
       "@sabet                  1\n",
       "Name: owner.discord_id, dtype: int64"
      ]
     },
     "metadata": {},
     "output_type": "display_data"
    },
    {
     "name": "stdout",
     "output_type": "stream",
     "text": [
      "\n",
      "\n",
      "\n"
     ]
    }
   ],
   "source": [
    "for col in obj_col:\n",
    "    print(f\"*********** {col} ***********\")\n",
    "    display(df[col].value_counts())\n",
    "    print(\"\\n\\n\")"
   ]
  },
  {
   "cell_type": "code",
   "execution_count": 117,
   "metadata": {
    "ExecuteTime": {
     "end_time": "2021-07-07T01:08:05.106124Z",
     "start_time": "2021-07-07T01:08:04.263083Z"
    },
    "scrolled": true
   },
   "outputs": [
    {
     "name": "stdout",
     "output_type": "stream",
     "text": [
      "*********** asset_contract.asset_contract_type ***********\n"
     ]
    },
    {
     "data": {
      "text/plain": [
       "non-fungible     30002\n",
       "semi-fungible    14750\n",
       "Name: asset_contract.asset_contract_type, dtype: int64"
      ]
     },
     "metadata": {},
     "output_type": "display_data"
    },
    {
     "name": "stdout",
     "output_type": "stream",
     "text": [
      "\n",
      "\n",
      "\n",
      "*********** asset_contract.schema_name ***********\n"
     ]
    },
    {
     "data": {
      "text/plain": [
       "ERC721         29877\n",
       "ERC1155        14750\n",
       "CRYPTOPUNKS      125\n",
       "Name: asset_contract.schema_name, dtype: int64"
      ]
     },
     "metadata": {},
     "output_type": "display_data"
    },
    {
     "name": "stdout",
     "output_type": "stream",
     "text": [
      "\n",
      "\n",
      "\n",
      "*********** collection.safelist_request_status ***********\n"
     ]
    },
    {
     "data": {
      "text/plain": [
       "verified         27387\n",
       "not_requested    14253\n",
       "approved          2928\n",
       "requested          184\n",
       "Name: collection.safelist_request_status, dtype: int64"
      ]
     },
     "metadata": {},
     "output_type": "display_data"
    },
    {
     "name": "stdout",
     "output_type": "stream",
     "text": [
      "\n",
      "\n",
      "\n",
      "*********** owner.profile_img_url ***********\n"
     ]
    },
    {
     "data": {
      "text/plain": [
       "https://storage.googleapis.com/opensea-static/opensea-profile/1.png     15706\n",
       "https://storage.googleapis.com/opensea-static/opensea-profile/26.png     3168\n",
       "https://storage.googleapis.com/opensea-static/opensea-profile/7.png      2018\n",
       "https://storage.googleapis.com/opensea-static/opensea-profile/12.png     1119\n",
       "https://storage.googleapis.com/opensea-static/opensea-profile/33.png     1016\n",
       "https://storage.googleapis.com/opensea-static/opensea-profile/15.png      997\n",
       "https://storage.googleapis.com/opensea-static/opensea-profile/25.png      986\n",
       "https://storage.googleapis.com/opensea-static/opensea-profile/22.png      952\n",
       "https://storage.googleapis.com/opensea-static/opensea-profile/24.png      943\n",
       "https://storage.googleapis.com/opensea-static/opensea-profile/17.png      929\n",
       "https://storage.googleapis.com/opensea-static/opensea-profile/18.png      873\n",
       "https://storage.googleapis.com/opensea-static/opensea-profile/20.png      847\n",
       "https://storage.googleapis.com/opensea-static/opensea-profile/3.png       833\n",
       "https://storage.googleapis.com/opensea-static/opensea-profile/32.png      830\n",
       "https://storage.googleapis.com/opensea-static/opensea-profile/2.png       825\n",
       "https://storage.googleapis.com/opensea-static/opensea-profile/16.png      801\n",
       "https://storage.googleapis.com/opensea-static/opensea-profile/5.png       788\n",
       "https://storage.googleapis.com/opensea-static/opensea-profile/27.png      786\n",
       "https://storage.googleapis.com/opensea-static/opensea-profile/23.png      767\n",
       "https://storage.googleapis.com/opensea-static/opensea-profile/30.png      761\n",
       "https://storage.googleapis.com/opensea-static/opensea-profile/6.png       756\n",
       "https://storage.googleapis.com/opensea-static/opensea-profile/14.png      743\n",
       "https://storage.googleapis.com/opensea-static/opensea-profile/31.png      735\n",
       "https://storage.googleapis.com/opensea-static/opensea-profile/9.png       729\n",
       "https://storage.googleapis.com/opensea-static/opensea-profile/21.png      725\n",
       "https://storage.googleapis.com/opensea-static/opensea-profile/19.png      705\n",
       "https://storage.googleapis.com/opensea-static/opensea-profile/29.png      697\n",
       "https://storage.googleapis.com/opensea-static/opensea-profile/11.png      678\n",
       "https://storage.googleapis.com/opensea-static/opensea-profile/28.png      656\n",
       "https://storage.googleapis.com/opensea-static/opensea-profile/4.png       622\n",
       "https://storage.googleapis.com/opensea-static/opensea-profile/13.png      616\n",
       "https://storage.googleapis.com/opensea-static/opensea-profile/10.png      593\n",
       "https://storage.googleapis.com/opensea-static/opensea-profile/8.png       552\n",
       "Name: owner.profile_img_url, dtype: int64"
      ]
     },
     "metadata": {},
     "output_type": "display_data"
    },
    {
     "name": "stdout",
     "output_type": "stream",
     "text": [
      "\n",
      "\n",
      "\n",
      "*********** asset_contract.name ***********\n"
     ]
    },
    {
     "data": {
      "text/plain": [
       "OpenSea Collection                              12760\n",
       "CryptoKitties                                    9836\n",
       "Gods Unchained Cards                             9595\n",
       "Dodgers MLB Crypto                               4038\n",
       "Rarible 1155                                     1418\n",
       "                                                ...  \n",
       "Lushsux's Lambo Fund Open Edition by Lushsux        1\n",
       "🎨 Nifty.Ink                                         1\n",
       "XYO World 3.0                                       1\n",
       "Fabrica Land                                        1\n",
       "FISHΞRMAN Packs by Steven Baltay                    1\n",
       "Name: asset_contract.name, Length: 268, dtype: int64"
      ]
     },
     "metadata": {},
     "output_type": "display_data"
    },
    {
     "name": "stdout",
     "output_type": "stream",
     "text": [
      "\n",
      "\n",
      "\n",
      "*********** collection.slug ***********\n"
     ]
    },
    {
     "data": {
      "text/plain": [
       "cryptokitties                 9836\n",
       "gods-unchained                9595\n",
       "dodgers-mlb-crypto            4038\n",
       "rarible                       1605\n",
       "sorare                         946\n",
       "                              ... \n",
       "our-first-nft                    1\n",
       "foxy-bulma-dragon-ball-art       1\n",
       "the-bootlegged-series            1\n",
       "girls-4lkhcdyedk                 1\n",
       "man-in-hats                      1\n",
       "Name: collection.slug, Length: 2791, dtype: int64"
      ]
     },
     "metadata": {},
     "output_type": "display_data"
    },
    {
     "name": "stdout",
     "output_type": "stream",
     "text": [
      "\n",
      "\n",
      "\n",
      "*********** owner.address ***********\n"
     ]
    },
    {
     "data": {
      "text/plain": [
       "0x0000000000000000000000000000000000000000    14827\n",
       "0xb1690c08e213a35ed9bab7b318de14420fb57d8c     2454\n",
       "0x327305a797d92a39cee1a225d7e2a1cc42b1a8fa      915\n",
       "0xc7af99fe5513eb6710e6d5f44f9989da40f27f26      466\n",
       "0x555e86f9ada1caaaf8ef084d6e8d9306daffdabe      222\n",
       "                                              ...  \n",
       "0x43532c0a45ffd7048f69892a13efab473f341f33        1\n",
       "0xbdca35dce5e69cdca4c6c504f4277a527e25e3d6        1\n",
       "0x08e0d01d04349fc9ac899f31b3cbd364ccbe4984        1\n",
       "0xb75d5707fea9d05a997ea1ff010e1ef9bc4a4cd1        1\n",
       "0x6843bc73448cd6739b334353ede14d46157bc680        1\n",
       "Name: owner.address, Length: 11452, dtype: int64"
      ]
     },
     "metadata": {},
     "output_type": "display_data"
    },
    {
     "name": "stdout",
     "output_type": "stream",
     "text": [
      "\n",
      "\n",
      "\n",
      "*********** traits ***********\n"
     ]
    },
    {
     "data": {
      "text/plain": [
       "[]                                                                                                                                                                                                                                                                                                                                                                                                                                                                                                                                                                                                                                                                                                                                                                                                                                                                                                                                                                                                                                                                                                                                                                                                                                                                                                                                                                                                                                                                                                                                                                                                                                                                                                                                               14408\n",
       "[{'trait_type': 'Hidden', 'value': 'Hidden', 'display_type': None, 'max_value': None, 'trait_count': 2227, 'order': None}]                                                                                                                                                                                                                                                                                                                                                                                                                                                                                                                                                                                                                                                                                                                                                                                                                                                                                                                                                                                                                                                                                                                                                                                                                                                                                                                                                                                                                                                                                                                                                                                                                         104\n",
       "[{'trait_type': 'Type', 'value': 'Asset', 'display_type': None, 'max_value': None, 'trait_count': 425, 'order': None}]                                                                                                                                                                                                                                                                                                                                                                                                                                                                                                                                                                                                                                                                                                                                                                                                                                                                                                                                                                                                                                                                                                                                                                                                                                                                                                                                                                                                                                                                                                                                                                                                                              77\n",
       "[{'trait_type': 'Personality', 'value': 'Unknown', 'display_type': None, 'max_value': None, 'trait_count': 134, 'order': None}]                                                                                                                                                                                                                                                                                                                                                                                                                                                                                                                                                                                                                                                                                                                                                                                                                                                                                                                                                                                                                                                                                                                                                                                                                                                                                                                                                                                                                                                                                                                                                                                                                     73\n",
       "[{'trait_type': 'name', 'value': 'Black Rhino', 'display_type': None, 'max_value': None, 'trait_count': 35564, 'order': None}, {'trait_type': 'tribe', 'value': 'wild', 'display_type': None, 'max_value': None, 'trait_count': 345971, 'order': None}, {'trait_type': 'keyword', 'value': 'Confused', 'display_type': None, 'max_value': None, 'trait_count': 154446, 'order': None}, {'trait_type': 'quality', 'value': 'meteorite', 'display_type': None, 'max_value': None, 'trait_count': 6529701, 'order': None}, {'trait_type': 'type', 'value': 'creature', 'display_type': None, 'max_value': None, 'trait_count': 4738459, 'order': None}, {'trait_type': 'set', 'value': 'genesis', 'display_type': None, 'max_value': None, 'trait_count': 6858885, 'order': None}, {'trait_type': 'mana', 'value': 6, 'display_type': None, 'max_value': None, 'trait_count': 0, 'order': None}, {'trait_type': 'attack', 'value': 5, 'display_type': None, 'max_value': None, 'trait_count': 0, 'order': None}, {'trait_type': 'rarity', 'value': 'common', 'display_type': None, 'max_value': None, 'trait_count': 5027791, 'order': None}, {'trait_type': 'keyword', 'value': 'Roar', 'display_type': None, 'max_value': None, 'trait_count': 2559119, 'order': None}, {'trait_type': 'health', 'value': 5, 'display_type': None, 'max_value': None, 'trait_count': 0, 'order': None}, {'trait_type': 'god', 'value': 'nature', 'display_type': None, 'max_value': None, 'trait_count': 784777, 'order': None}]                                                                                                                                                                                                                                     67\n",
       "                                                                                                                                                                                                                                                                                                                                                                                                                                                                                                                                                                                                                                                                                                                                                                                                                                                                                                                                                                                                                                                                                                                                                                                                                                                                                                                                                                                                                                                                                                                                                                                                                                                                                                                                                 ...  \n",
       "[{'trait_type': 'pattern', 'value': 'totesbasic', 'display_type': None, 'max_value': None, 'trait_count': 406716, 'order': None}, {'trait_type': 'mouth', 'value': 'pouty', 'display_type': None, 'max_value': None, 'trait_count': 286249, 'order': None}, {'trait_type': 'generation', 'value': 6, 'display_type': 'number', 'max_value': None, 'trait_count': 127645, 'order': None}, {'trait_type': 'fur', 'value': 'himalayan', 'display_type': None, 'max_value': None, 'trait_count': 104060, 'order': None}, {'trait_type': 'eye_shape', 'value': 'thicccbrowz', 'display_type': None, 'max_value': None, 'trait_count': 248082, 'order': None}, {'trait_type': 'highlight_colour', 'value': 'lemonade', 'display_type': None, 'max_value': None, 'trait_count': 184581, 'order': None}, {'trait_type': 'accent_colour', 'value': 'emeraldgreen', 'display_type': None, 'max_value': None, 'trait_count': 84918, 'order': None}, {'trait_type': 'eye_colour', 'value': 'sizzurp', 'display_type': None, 'max_value': None, 'trait_count': 135974, 'order': None}, {'trait_type': 'cooldown_timer', 'value': 'Brisk (2 hr)', 'display_type': None, 'max_value': None, 'trait_count': 125615, 'order': None}, {'trait_type': 'base_colour', 'value': 'mauveover', 'display_type': None, 'max_value': None, 'trait_count': 144940, 'order': None}, {'trait_type': 'virginity', 'value': 'non-virgin', 'display_type': None, 'max_value': None, 'trait_count': 973925, 'order': None}, {'trait_type': 'secret', 'value': 'se4', 'display_type': None, 'max_value': None, 'trait_count': 10278, 'order': None}, {'trait_type': 'purrstige', 'value': 'pu9', 'display_type': None, 'max_value': None, 'trait_count': 12290, 'order': None}]        1\n",
       "[{'trait_type': 'pattern', 'value': 'totesbasic', 'display_type': None, 'max_value': None, 'trait_count': 406716, 'order': None}, {'trait_type': 'mouth', 'value': 'happygokitty', 'display_type': None, 'max_value': None, 'trait_count': 261994, 'order': None}, {'trait_type': 'generation', 'value': 21, 'display_type': 'number', 'max_value': None, 'trait_count': 9275, 'order': None}, {'trait_type': 'eye_shape', 'value': 'thicccbrowz', 'display_type': None, 'max_value': None, 'trait_count': 248082, 'order': None}, {'trait_type': 'cooldown_timer', 'value': 'Sluggish (2 days)', 'display_type': None, 'max_value': None, 'trait_count': 54930, 'order': None}, {'trait_type': 'fur', 'value': 'ragamuffin', 'display_type': None, 'max_value': None, 'trait_count': 96909, 'order': None}, {'trait_type': 'base_colour', 'value': 'greymatter', 'display_type': None, 'max_value': None, 'trait_count': 187622, 'order': None}, {'trait_type': 'highlight_colour', 'value': 'lemonade', 'display_type': None, 'max_value': None, 'trait_count': 184581, 'order': None}, {'trait_type': 'eye_colour', 'value': 'chestnut', 'display_type': None, 'max_value': None, 'trait_count': 94253, 'order': None}, {'trait_type': 'accent_colour', 'value': 'emeraldgreen', 'display_type': None, 'max_value': None, 'trait_count': 84918, 'order': None}, {'trait_type': 'virginity', 'value': 'non-virgin', 'display_type': None, 'max_value': None, 'trait_count': 973925, 'order': None}]                                                                                                                                                                                                                                                1\n",
       "[{'trait_type': 'pattern', 'value': 'spock', 'display_type': None, 'max_value': None, 'trait_count': 136911, 'order': None}, {'trait_type': 'mouth', 'value': 'pouty', 'display_type': None, 'max_value': None, 'trait_count': 286249, 'order': None}, {'trait_type': 'generation', 'value': 8, 'display_type': 'number', 'max_value': None, 'trait_count': 102464, 'order': None}, {'trait_type': 'highlight_colour', 'value': 'swampgreen', 'display_type': None, 'max_value': None, 'trait_count': 192154, 'order': None}, {'trait_type': 'accent_colour', 'value': 'bloodred', 'display_type': None, 'max_value': None, 'trait_count': 42608, 'order': None}, {'trait_type': 'fur', 'value': 'ragamuffin', 'display_type': None, 'max_value': None, 'trait_count': 96909, 'order': None}, {'trait_type': 'eye_colour', 'value': 'chestnut', 'display_type': None, 'max_value': None, 'trait_count': 94253, 'order': None}, {'trait_type': 'cooldown_timer', 'value': 'Brisk (2 hr)', 'display_type': None, 'max_value': None, 'trait_count': 125615, 'order': None}, {'trait_type': 'base_colour', 'value': 'salmon', 'display_type': None, 'max_value': None, 'trait_count': 93997, 'order': None}, {'trait_type': 'eye_shape', 'value': 'alien', 'display_type': None, 'max_value': None, 'trait_count': 11980, 'order': None}, {'trait_type': 'virginity', 'value': 'non-virgin', 'display_type': None, 'max_value': None, 'trait_count': 973925, 'order': None}]                                                                                                                                                                                                                                                                             1\n",
       "[{'trait_type': 'id', 'value': '092', 'display_type': None, 'max_value': None, 'trait_count': 338, 'order': None}]                                                                                                                                                                                                                                                                                                                                                                                                                                                                                                                                                                                                                                                                                                                                                                                                                                                                                                                                                                                                                                                                                                                                                                                                                                                                                                                                                                                                                                                                                                                                                                                                                                   1\n",
       "[{'trait_type': 'pattern', 'value': 'luckystripe', 'display_type': None, 'max_value': None, 'trait_count': 186952, 'order': None}, {'trait_type': 'mouth', 'value': 'beard', 'display_type': None, 'max_value': None, 'trait_count': 78405, 'order': None}, {'trait_type': 'generation', 'value': 15, 'display_type': 'number', 'max_value': None, 'trait_count': 31854, 'order': None}, {'trait_type': 'fur', 'value': 'himalayan', 'display_type': None, 'max_value': None, 'trait_count': 104060, 'order': None}, {'trait_type': 'highlight_colour', 'value': 'swampgreen', 'display_type': None, 'max_value': None, 'trait_count': 192154, 'order': None}, {'trait_type': 'base_colour', 'value': 'shadowgrey', 'display_type': None, 'max_value': None, 'trait_count': 133584, 'order': None}, {'trait_type': 'cooldown_timer', 'value': 'Plodding (8 hr)', 'display_type': None, 'max_value': None, 'trait_count': 99483, 'order': None}, {'trait_type': 'eye_colour', 'value': 'strawberry', 'display_type': None, 'max_value': None, 'trait_count': 154837, 'order': None}, {'trait_type': 'accent_colour', 'value': 'peach', 'display_type': None, 'max_value': None, 'trait_count': 37337, 'order': None}, {'trait_type': 'eye_shape', 'value': 'raisedbrow', 'display_type': None, 'max_value': None, 'trait_count': 94058, 'order': None}, {'trait_type': 'virginity', 'value': 'non-virgin', 'display_type': None, 'max_value': None, 'trait_count': 973925, 'order': None}]                                                                                                                                                                                                                                                            1\n",
       "Name: traits, Length: 19849, dtype: int64"
      ]
     },
     "metadata": {},
     "output_type": "display_data"
    },
    {
     "name": "stdout",
     "output_type": "stream",
     "text": [
      "\n",
      "\n",
      "\n",
      "*********** token_id ***********\n"
     ]
    },
    {
     "data": {
      "text/plain": [
       "590                                                                               1\n",
       "4773                                                                              1\n",
       "49628562                                                                          1\n",
       "37156                                                                             1\n",
       "114140567692882127997742704400860118156507390746385800350963456459232514452546    1\n",
       "                                                                                 ..\n",
       "105227954358508556400726543892593280633486599217815009542877566410695104266290    1\n",
       "29020503227247008650885355780559374833664620184621695681865493635801158778881     1\n",
       "452738                                                                            1\n",
       "62039891116429728767859023818714610472804605447511169661721305909164226117633     1\n",
       "353101                                                                            1\n",
       "Name: token_id, Length: 44752, dtype: int64"
      ]
     },
     "metadata": {},
     "output_type": "display_data"
    },
    {
     "name": "stdout",
     "output_type": "stream",
     "text": [
      "\n",
      "\n",
      "\n",
      "*********** creator.profile_img_url ***********\n"
     ]
    },
    {
     "data": {
      "text/plain": [
       "https://storage.googleapis.com/opensea-static/opensea-profile/3.png     19767\n",
       "https://storage.googleapis.com/opensea-static/opensea-profile/30.png     5248\n",
       "https://storage.googleapis.com/opensea-static/opensea-profile/7.png      1619\n",
       "https://storage.googleapis.com/opensea-static/opensea-profile/14.png     1280\n",
       "https://storage.googleapis.com/opensea-static/opensea-profile/23.png     1239\n",
       "https://storage.googleapis.com/opensea-static/opensea-profile/16.png     1225\n",
       "https://storage.googleapis.com/opensea-static/opensea-profile/27.png      960\n",
       "https://storage.googleapis.com/opensea-static/opensea-profile/12.png      905\n",
       "https://storage.googleapis.com/opensea-static/opensea-profile/22.png      855\n",
       "https://storage.googleapis.com/opensea-static/opensea-profile/24.png      841\n",
       "https://storage.googleapis.com/opensea-static/opensea-profile/28.png      831\n",
       "https://storage.googleapis.com/opensea-static/opensea-profile/4.png       711\n",
       "https://storage.googleapis.com/opensea-static/opensea-profile/26.png      700\n",
       "https://storage.googleapis.com/opensea-static/opensea-profile/10.png      666\n",
       "https://storage.googleapis.com/opensea-static/opensea-profile/33.png      646\n",
       "https://storage.googleapis.com/opensea-static/opensea-profile/13.png      637\n",
       "https://storage.googleapis.com/opensea-static/opensea-profile/2.png       513\n",
       "https://storage.googleapis.com/opensea-static/opensea-profile/19.png      493\n",
       "https://storage.googleapis.com/opensea-static/opensea-profile/20.png      467\n",
       "https://storage.googleapis.com/opensea-static/opensea-profile/18.png      435\n",
       "https://storage.googleapis.com/opensea-static/opensea-profile/1.png       376\n",
       "https://storage.googleapis.com/opensea-static/opensea-profile/15.png      376\n",
       "https://storage.googleapis.com/opensea-static/opensea-profile/32.png      370\n",
       "https://storage.googleapis.com/opensea-static/opensea-profile/8.png       361\n",
       "https://storage.googleapis.com/opensea-static/opensea-profile/21.png      360\n",
       "https://storage.googleapis.com/opensea-static/opensea-profile/9.png       351\n",
       "https://storage.googleapis.com/opensea-static/opensea-profile/5.png       345\n",
       "https://storage.googleapis.com/opensea-static/opensea-profile/11.png      333\n",
       "https://storage.googleapis.com/opensea-static/opensea-profile/25.png      316\n",
       "https://storage.googleapis.com/opensea-static/opensea-profile/31.png      313\n",
       "https://storage.googleapis.com/opensea-static/opensea-profile/17.png      294\n",
       "https://storage.googleapis.com/opensea-static/opensea-profile/6.png       284\n",
       "https://storage.googleapis.com/opensea-static/opensea-profile/29.png      281\n",
       "Name: creator.profile_img_url, dtype: int64"
      ]
     },
     "metadata": {},
     "output_type": "display_data"
    },
    {
     "name": "stdout",
     "output_type": "stream",
     "text": [
      "\n",
      "\n",
      "\n"
     ]
    }
   ],
   "source": [
    "# dilineate objects that have no null values and custom determine best way to create binary encoding\n",
    "\n",
    "obj_col_nonull = ['asset_contract.asset_contract_type', # 0 = 'semi-fungible', 1 = 'non-fungible'\n",
    "                  'asset_contract.schema_name', # 0 = ERC1155\n",
    "                  'collection.safelist_request_status', # 0 = 'verified' | 'approved'\n",
    "                  'owner.profile_img_url', # 1 = 'https://storage.googleapis.com/opensea-static/opensea-profile/1.png'\n",
    "                  'asset_contract.name', # 1 = 'OpenSea Collection'\n",
    "                  'collection.slug', # 1 = 'cryptokitties' | 'gods-unchained' \n",
    "                  'owner.address', # 1 = '0x0000000000000000000000000000000000000000'\n",
    "                  'traits', # 0 = '[]'\n",
    "                  'token_id', # NOT USING\n",
    "                  'creator.profile_img_url'] # 1 = 'https://storage.googleapis.com/opensea-static/opensea-profile/3.png'\n",
    "\n",
    "for col in obj_col_nonull:\n",
    "    print(f\"*********** {col} ***********\")\n",
    "    display(df[col].value_counts())\n",
    "    print(\"\\n\\n\")"
   ]
  },
  {
   "cell_type": "code",
   "execution_count": 128,
   "metadata": {
    "ExecuteTime": {
     "end_time": "2021-07-07T02:21:45.555034Z",
     "start_time": "2021-07-07T02:21:45.372560Z"
    }
   },
   "outputs": [
    {
     "data": {
      "text/plain": [
       "OpenSea Collection                              0.285127\n",
       "CryptoKitties                                   0.219789\n",
       "Gods Unchained Cards                            0.214404\n",
       "Dodgers MLB Crypto                              0.090231\n",
       "Rarible 1155                                    0.031686\n",
       "                                                  ...   \n",
       "Lushsux's Lambo Fund Open Edition by Lushsux    0.000022\n",
       "🎨 Nifty.Ink                                     0.000022\n",
       "XYO World 3.0                                   0.000022\n",
       "Fabrica Land                                    0.000022\n",
       "FISHΞRMAN Packs by Steven Baltay                0.000022\n",
       "Name: asset_contract.name, Length: 268, dtype: float64"
      ]
     },
     "execution_count": 128,
     "metadata": {},
     "output_type": "execute_result"
    }
   ],
   "source": [
    "df['asset_contract.name'].value_counts(normalize = True)"
   ]
  },
  {
   "cell_type": "code",
   "execution_count": 130,
   "metadata": {
    "ExecuteTime": {
     "end_time": "2021-07-07T02:54:10.775900Z",
     "start_time": "2021-07-07T02:54:10.709617Z"
    }
   },
   "outputs": [
    {
     "data": {
      "text/plain": [
       "cryptokitties                 0.219789\n",
       "gods-unchained                0.214404\n",
       "dodgers-mlb-crypto            0.090231\n",
       "rarible                       0.035864\n",
       "sorare                        0.021139\n",
       "                                ...   \n",
       "our-first-nft                 0.000022\n",
       "foxy-bulma-dragon-ball-art    0.000022\n",
       "the-bootlegged-series         0.000022\n",
       "girls-4lkhcdyedk              0.000022\n",
       "man-in-hats                   0.000022\n",
       "Name: collection.slug, Length: 2791, dtype: float64"
      ]
     },
     "execution_count": 130,
     "metadata": {},
     "output_type": "execute_result"
    }
   ],
   "source": [
    "df['collection.slug'].value_counts(normalize = True)"
   ]
  },
  {
   "cell_type": "code",
   "execution_count": 179,
   "metadata": {
    "ExecuteTime": {
     "end_time": "2021-07-07T05:02:25.641158Z",
     "start_time": "2021-07-07T05:02:25.623739Z"
    },
    "scrolled": true
   },
   "outputs": [],
   "source": [
    "# This will be the initial binary values for the object columns containing no null values\n",
    "\n",
    "obj_nonull = [['asset_contract.asset_contract_type', ['semi-fungible'], 0, 1],\n",
    "              ['asset_contract.schema_name', ['ERC1155'], 0, 1],\n",
    "              ['asset_contract.name', ['OpenSea Collection'], 1, 0],\n",
    "              ['collection.safelist_request_status', ['verified','approved'], 0, 1],\n",
    "              ['collection.slug', ['cryptokitties', 'gods-unchained'], 1, 0],\n",
    "              ['creator.profile_img_url', ['https://storage.googleapis.com/opensea-static/opensea-profile/3.png'], 1, 0],\n",
    "              ['owner.address', ['0x0000000000000000000000000000000000000000'], 1, 0],\n",
    "              ['owner.profile_img_url', ['https://storage.googleapis.com/opensea-static/opensea-profile/1.png'], 1, 0],\n",
    "              ['traits', ['[]'], 0, 1]]"
   ]
  },
  {
   "cell_type": "code",
   "execution_count": 180,
   "metadata": {
    "ExecuteTime": {
     "end_time": "2021-07-07T05:02:36.942948Z",
     "start_time": "2021-07-07T05:02:35.927295Z"
    }
   },
   "outputs": [],
   "source": [
    "for list in obj_nonull:\n",
    "    df_binary[list[0]] = np.where(df[list[0]].isin(list[1]), list[2], list[3])"
   ]
  },
  {
   "cell_type": "code",
   "execution_count": 182,
   "metadata": {
    "ExecuteTime": {
     "end_time": "2021-07-07T05:03:09.052939Z",
     "start_time": "2021-07-07T05:03:08.966828Z"
    },
    "scrolled": true
   },
   "outputs": [
    {
     "name": "stdout",
     "output_type": "stream",
     "text": [
      "<class 'pandas.core.frame.DataFrame'>\n",
      "RangeIndex: 44752 entries, 0 to 44751\n",
      "Data columns (total 16 columns):\n",
      "is_presale                                            44752 non-null int64\n",
      "collection.featured                                   44752 non-null int64\n",
      "asset_contract.dev_seller_fee_basis_points_0          44752 non-null int64\n",
      "collection.dev_seller_fee_basis_points_0              44752 non-null int64\n",
      "asset_contract.seller_fee_basis_points_250            44752 non-null int64\n",
      "asset_contract.opensea_seller_fee_basis_points_250    44752 non-null int64\n",
      "collection.opensea_seller_fee_basis_points_250        44752 non-null int64\n",
      "asset_contract.asset_contract_type                    44752 non-null int64\n",
      "asset_contract.schema_name                            44752 non-null int64\n",
      "asset_contract.name                                   44752 non-null int64\n",
      "creator.profile_img_url                               44752 non-null int64\n",
      "owner.address                                         44752 non-null int64\n",
      "owner.profile_img_url                                 44752 non-null int64\n",
      "traits                                                44752 non-null int64\n",
      "collection.safelist_request_status                    44752 non-null int64\n",
      "collection.slug                                       44752 non-null int64\n",
      "dtypes: int64(16)\n",
      "memory usage: 5.5 MB\n"
     ]
    }
   ],
   "source": [
    "df_binary.info()"
   ]
  },
  {
   "cell_type": "markdown",
   "metadata": {},
   "source": [
    "#### With Nulls"
   ]
  },
  {
   "cell_type": "code",
   "execution_count": 201,
   "metadata": {
    "ExecuteTime": {
     "end_time": "2021-07-07T05:20:33.587958Z",
     "start_time": "2021-07-07T05:20:33.561590Z"
    }
   },
   "outputs": [],
   "source": [
    "obj_col_withnull = np.setdiff1d(obj_col, obj_col_nonull).tolist()"
   ]
  },
  {
   "cell_type": "code",
   "execution_count": 190,
   "metadata": {
    "ExecuteTime": {
     "end_time": "2021-07-07T05:13:28.011726Z",
     "start_time": "2021-07-07T05:13:27.197963Z"
    }
   },
   "outputs": [
    {
     "name": "stdout",
     "output_type": "stream",
     "text": [
      "*********** asset_contract.description ***********\n"
     ]
    },
    {
     "data": {
      "text/plain": [
       "CryptoKitties is a game centered around breedable, collectible, and oh-so-adorable creatures we call CryptoKitties! Each cat is one-of-a-kind and 100% owned by you; it cannot be replicated, taken away, or destroyed.                                                                                                                                                                                                                                                9836\n",
       "Gods Unchained is a free-to-play, turn-based competitive trading card game in which cards can be bought and sold on the OpenSea marketplace. Players use their collection to build decks of cards, and select a God to play with at the start of each match. The goal of the game is to reduce your opponent's life to zero. Each deck contains exactly 30 cards. On OpenSea, cards can be sold for a fixed price, auctioned, or sold in bundles.                      9595\n",
       "Create and sell digital collectibles secured with blockchain technology. Rarible is home to thousands of artists and collectors, creating and exchanging immutable art without using code. Trade with RARI token on OpenSea.                                                                                                                                                                                                                                           1620\n",
       "Sorare is a fantasy football game where managers can trade official digital collectibles. The platform is growing fast, with a global audience collecting, buying, and selling their favorite players in the form of blockchain-backed NFTs. The Sorare team has secured the rights to European giants like Atletico Madrid, Juventus, and Bayern Munich, as well as the MLS, Korean League, and Japanese League.                                                       946\n",
       "The Bored Ape Yacht Club is a collection of 10,000 unique Bored Ape NFTs— unique digital collectibles living on the Ethereum blockchain. Your Bored Ape doubles as your Yacht Club membership card, and grants access to members-only benefits, the first of which is access to THE BATHROOM, a collaborative graffiti board. Future areas and perks can be unlocked by the community through roadmap activation. Visit www.BoredApeYachtClub.com for more details.     712\n",
       "                                                                                                                                                                                                                                                                                                                                                                                                                                                                       ... \n",
       "Can gain control                                                                                                                                                                                                                                                                                                                                                                                                                                                          1\n",
       "A Player Token is a unique digital collectible. It’s creation and history of ownership are memorialized in the Ethereum blockchain. Each token is unique and offers a glimpse into the future of sports memorabilia and fandom.                                                                                                                                                                                                                                           1\n",
       "Create and collect unique atoms!                                                                                                                                                                                                                                                                                                                                                                                                                                          1\n",
       "Mine for profit and fight for glory! The first cryptocurrency game with Proof Of Stake mining!                                                                                                                                                                                                                                                                                                                                                                            1\n",
       "Dissolution is a living, breathing sci-fi universe powered by its players. Create a corporation, collect resources, trade and control territory, all the while earning loot backed by the Ethereum blockchain. Currently in early access.                                                                                                                                                                                                                                 1\n",
       "Name: asset_contract.description, Length: 221, dtype: int64"
      ]
     },
     "metadata": {},
     "output_type": "display_data"
    },
    {
     "name": "stdout",
     "output_type": "stream",
     "text": [
      "\n",
      "\n",
      "\n",
      "*********** asset_contract.external_link ***********\n"
     ]
    },
    {
     "data": {
      "text/plain": [
       "https://www.cryptokitties.co/                                                    9836\n",
       "https://godsunchained.com/?refcode=0x5b3256965e7C3cF26E11FCAf296DfC8807C01073    9595\n",
       "https://rarible.com/                                                             1620\n",
       "https://sorare.com                                                                946\n",
       "http://www.boredapeyachtclub.com/                                                 712\n",
       "                                                                                 ... \n",
       "https://www.ebay.com/usr/e9art                                                      1\n",
       "http://www.nft.kred                                                                 1\n",
       "http://charged.fi                                                                   1\n",
       "https://rarepizzas.com                                                              1\n",
       "https://skullsoneth.com                                                             1\n",
       "Name: asset_contract.external_link, Length: 215, dtype: int64"
      ]
     },
     "metadata": {},
     "output_type": "display_data"
    },
    {
     "name": "stdout",
     "output_type": "stream",
     "text": [
      "\n",
      "\n",
      "\n",
      "*********** asset_contract.image_url ***********\n"
     ]
    },
    {
     "data": {
      "text/plain": [
       "https://lh3.googleusercontent.com/C272ZRW1RGGef9vKMePFSCeKc1Lw6U40wl9ofNVxzUxFdj84hH9xJRQNf-7wgs7W8qw8RWe-1ybKp-VKuU5D-tg=s60                    9836\n",
       "https://lh3.googleusercontent.com/yArciVdcDv3O2R-O8XCxx3YEYZdzpiCMdossjUgv0kpLIluUQ1bYN_dyEk5xcvBEOgeq0zNIoWOh7TL9DvUEv--OLQ=s60                 9595\n",
       "https://lh3.googleusercontent.com/FG0QJ00fN3c_FWuPeUr9-T__iQl63j9hn5d6svW8UqOmia5zp3lKHPkJuHcvhZ0f_Pd6P2COo9tt9zVUvdPxG_9BBw=s60                 1620\n",
       "https://lh3.googleusercontent.com/gj47nmAR3valkmpVbwamiuTJfWEWSCyVeORdjM6DRWrZ1o8WaqBxFXmpBrzZnGoWaPwq1Y0jiXRrBLbnLcawAp92=s120                   946\n",
       "https://lh3.googleusercontent.com/Ju9CkWtV-1Okvf45wo8UctR-M9He2PjILP0oOvxE89AyiPPGtrR3gysu1Zgy0hjd2xKIgjJJtWIc0ybj4Vd7wv8t3pxDGHoJBzDB=s120       712\n",
       "                                                                                                                                                 ... \n",
       "https://lh3.googleusercontent.com/VmTpniIICJGOO4KVYrgT3Pt4u_rCkE2mqO-BtSWrywANdmnwiWSWJVYmfkwR1LopL_6eJLR2BjdqhTO_YM4TgZViWJvKusDbuVgTOw=s120       1\n",
       "https://lh3.googleusercontent.com/hjyrtasog6mj7MjSN13T9JA-uTQp-vzuPAJ5OnPs1WFsLOWeN61RmJuOQJXdT5ydGZT-N8uFYZh9oLuu8Pst9C0jwiZjCd2Qv2tKTA=s120       1\n",
       "https://lh3.googleusercontent.com/c9fa-MKAkBbkmnoYGR_7dUCXcJcSHNwu3CZGaNCTH0-fcEKzQ6SxwNdrq8hroRD2eMg7eDG2T1096FUjYwuvMgCT0km5zuz2Bfs3eQ=s120       1\n",
       "https://lh3.googleusercontent.com/Uf8HsYZ8DS8vYO19FhRbNxai0GSjewaDHdoZ8pi6b1YPuYNt8BIVjBbod0vabrDyYmpX3ETg9TUMhkRipIw4Y2u_6ueBUvP5_nYFuw=s120       1\n",
       "https://storage.opensea.io/0xbdaed67214641b7eda3bf8d7431c3ae5fc46f466-featured-1556588855.png                                                       1\n",
       "Name: asset_contract.image_url, Length: 223, dtype: int64"
      ]
     },
     "metadata": {},
     "output_type": "display_data"
    },
    {
     "name": "stdout",
     "output_type": "stream",
     "text": [
      "\n",
      "\n",
      "\n",
      "*********** asset_contract.nft_version ***********\n"
     ]
    },
    {
     "data": {
      "text/plain": [
       "3.0            19512\n",
       "1.0            10040\n",
       "unsupported      465\n",
       "Name: asset_contract.nft_version, dtype: int64"
      ]
     },
     "metadata": {},
     "output_type": "display_data"
    },
    {
     "name": "stdout",
     "output_type": "stream",
     "text": [
      "\n",
      "\n",
      "\n",
      "*********** asset_contract.opensea_version ***********\n"
     ]
    },
    {
     "data": {
      "text/plain": [
       "2.0.0    12764\n",
       "2.0.2       24\n",
       "1.2.0        3\n",
       "Name: asset_contract.opensea_version, dtype: int64"
      ]
     },
     "metadata": {},
     "output_type": "display_data"
    },
    {
     "name": "stdout",
     "output_type": "stream",
     "text": [
      "\n",
      "\n",
      "\n",
      "*********** asset_contract.symbol ***********\n"
     ]
    },
    {
     "data": {
      "text/plain": [
       "OPENSTORE    12764\n",
       "CKITTY        9836\n",
       "DNFTCB        4038\n",
       "SOR            946\n",
       "BAYC           712\n",
       "             ...  \n",
       "COCKA            1\n",
       "Ɖ                1\n",
       "DPC              1\n",
       "RARI             1\n",
       "PROTON           1\n",
       "Name: asset_contract.symbol, Length: 231, dtype: int64"
      ]
     },
     "metadata": {},
     "output_type": "display_data"
    },
    {
     "name": "stdout",
     "output_type": "stream",
     "text": [
      "\n",
      "\n",
      "\n",
      "*********** asset_contract.total_supply ***********\n"
     ]
    },
    {
     "data": {
      "text/plain": [
       "1                                                                                 10818\n",
       "0                                                                                  2148\n",
       "40                                                                                  114\n",
       "34                                                                                   41\n",
       "5                                                                                    19\n",
       "3                                                                                    18\n",
       "50                                                                                   14\n",
       "115792089237316195423570985008687907853269984665640564039457584007913129639935       13\n",
       "28                                                                                   10\n",
       "12012                                                                                 9\n",
       "2                                                                                     8\n",
       "16                                                                                    3\n",
       "8                                                                                     2\n",
       "70                                                                                    1\n",
       "6                                                                                     1\n",
       "5000                                                                                  1\n",
       "2623                                                                                  1\n",
       "13                                                                                    1\n",
       "11                                                                                    1\n",
       "4                                                                                     1\n",
       "9                                                                                     1\n",
       "Name: asset_contract.total_supply, dtype: int64"
      ]
     },
     "metadata": {},
     "output_type": "display_data"
    },
    {
     "name": "stdout",
     "output_type": "stream",
     "text": [
      "\n",
      "\n",
      "\n",
      "*********** background_color ***********\n"
     ]
    },
    {
     "data": {
      "text/plain": [
       "000000    9711\n",
       "fcdede    1779\n",
       "dfdffa    1635\n",
       "cdf5d4    1621\n",
       "faf4cf    1491\n",
       "d1eeeb    1421\n",
       "f3f2f3     946\n",
       "efe1da     715\n",
       "d9f5cb     496\n",
       "eee9e8     281\n",
       "FFFFFF     272\n",
       "fadff4     230\n",
       "4C47F7     192\n",
       "ffffff     158\n",
       "fae1ca      93\n",
       "f3f3f3      38\n",
       "eff1e0      27\n",
       "040726      19\n",
       "fbfbfb      14\n",
       "e0e5fc       9\n",
       "97DBD9       7\n",
       "c5eefa       7\n",
       "faeefa       5\n",
       "0b0c22       5\n",
       "f5fffa       5\n",
       "a2c2eb       4\n",
       "e8f2da       4\n",
       "e5f3e2       3\n",
       "e1eee8       3\n",
       "dcebfc       3\n",
       "fde9e4       2\n",
       "ffe8ee       2\n",
       "FEE7C9       2\n",
       "232323       2\n",
       "FBFBFB       2\n",
       "F1F7D2       2\n",
       "829e90       2\n",
       "2c0056       1\n",
       "eeeeee       1\n",
       "EF3500       1\n",
       "d4eec7       1\n",
       "e4dffc       1\n",
       "D1F4F9       1\n",
       "072083       1\n",
       "e5e7ef       1\n",
       "ADDFFF       1\n",
       "C0C0FF       1\n",
       "3E45D1       1\n",
       "Name: background_color, dtype: int64"
      ]
     },
     "metadata": {},
     "output_type": "display_data"
    },
    {
     "name": "stdout",
     "output_type": "stream",
     "text": [
      "\n",
      "\n",
      "\n",
      "*********** collection.chat_url ***********\n"
     ]
    },
    {
     "data": {
      "text/plain": [
       "https://discord.gg/FpN2ws6    946\n",
       "Name: collection.chat_url, dtype: int64"
      ]
     },
     "metadata": {},
     "output_type": "display_data"
    },
    {
     "name": "stdout",
     "output_type": "stream",
     "text": [
      "\n",
      "\n",
      "\n",
      "*********** collection.description ***********\n"
     ]
    },
    {
     "data": {
      "text/plain": [
       "CryptoKitties is a game centered around breedable, collectible, and oh-so-adorable creatures we call CryptoKitties! Each cat is one-of-a-kind and 100% owned by you; it cannot be replicated, taken away, or destroyed.                                                                                                                                                                                                                                                                                                                                                                                                                                                                                                                                                                                                                                                                                                                                                                                                                                 9836\n",
       "Gods Unchained is a free-to-play, turn-based competitive trading card game in which cards can be bought and sold on the OpenSea marketplace. Players use their collection to build decks of cards, and select a God to play with at the start of each match. The goal of the game is to reduce your opponent's life to zero. Each deck contains exactly 30 cards. On OpenSea, cards can be sold for a fixed price, auctioned, or sold in bundles.                                                                                                                                                                                                                                                                                                                                                                                                                                                                                                                                                                                                       9595\n",
       "Create and sell digital collectibles secured with blockchain technology. Rarible is home to thousands of artists and collectors, creating and exchanging immutable art without using code. Trade with RARI token on OpenSea.                                                                                                                                                                                                                                                                                                                                                                                                                                                                                                                                                                                                                                                                                                                                                                                                                            1605\n",
       "Sorare is a fantasy football game where managers can trade official digital collectibles. The platform is growing fast, with a global audience collecting, buying, and selling their favorite players in the form of blockchain-backed NFTs. The Sorare team has secured the rights to European giants like Atletico Madrid, Juventus, and Bayern Munich, as well as the MLS, Korean League, and Japanese League.                                                                                                                                                                                                                                                                                                                                                                                                                                                                                                                                                                                                                                        946\n",
       "50,000 items will be minted, take your acid drop is a ticket to the moon, future coming soon.                                                                                                                                                                                                                                                                                                                                                                                                                                                                                                                                                                                                                                                                                                                                                                                                                                                                                                                                                            866\n",
       "                                                                                                                                                                                                                                                                                                                                                                                                                                                                                                                                                                                                                                                                                                                                                                                                                                                                                                                                                                                                                                                        ... \n",
       "Collection of humans art                                                                                                                                                                                                                                                                                                                                                                                                                                                                                                                                                                                                                                                                                                                                                                                                                                                                                                                                                                                                                                   1\n",
       "A collection of Sovryn based NFTs. Please note we just love Sovryn and are not a team member of Sovryn.                                                                                                                                                                                                                                                                                                                                                                                                                                                                                                                                                                                                                                                                                                                                                                                                                                                                                                                                                    1\n",
       "This is contemporary artist Takashi Murakami.\\r\\nI have propounded, and am researching and practicing, the art movement called Superflat. One can accomplish art solely by simultaneously delving into and spreading one's own philosophical lideas. In the short decades before an artist's death, they have to create works that manage to remain relevant for hundreds of years thereafter. In that line of thinking, I am starting this experiment because it amounts to digging down into the nature of art within the realm of VR that are recognizable as such, and further diffusing it. Is this merely a slight fluctuation of interest? Or is this the first step towards future values that we don’t yet begin to understand?\\r\\nThe series of works I am going to release consists of Murakami’s signature flowers in 24 x 24 pixel art evoking nostalgia for Famicom (NES), prepared in 108 variations, the number that signifies earthly desires in Buddhism.\\r\\n\\r\\n©2021 Takashi Murakami/Kaikai Kiki Co., Ltd. All Rights Reserved.       1\n",
       "Faces.\\n\\n---\\n\\nAll 1/1s only. Made by [cielmot](https://twitter.com/cielmot) with Photoshop.  \\n  \\n__View my other collections here 👇__\\n\\n[CHAOS](https://opensea.io/collection/chaos) | [Wild Colors](https://opensea.io/collection/wild-colors) | [April Dreams](https://opensea.io/collection/april-dreams)                                                                                                                                                                                                                                                                                                                                                                                                                                                                                                                                                                                                                                                                                                                                         1\n",
       "All FEG token holders who aspire to help the inner development team of FEG token succeed or just like our products should buy NFTs here.                                                                                                                                                                                                                                                                                                                                                                                                                                                                                                                                                                                                                                                                                                                                                                                                                                                                                                                   1\n",
       "Name: collection.description, Length: 2494, dtype: int64"
      ]
     },
     "metadata": {},
     "output_type": "display_data"
    },
    {
     "name": "stdout",
     "output_type": "stream",
     "text": [
      "\n",
      "\n",
      "\n",
      "*********** collection.discord_url ***********\n"
     ]
    },
    {
     "data": {
      "text/plain": [
       "https://discord.gg/cryptokitties       9836\n",
       "https://discord.gg/godsunchained       9595\n",
       "https://discord.gg/tsjtham              946\n",
       "https://discord.gg/j9d9c6M8Tr           724\n",
       "https://discord.gg/3P5K3dzgdB           712\n",
       "                                       ... \n",
       "https://discord.gg/awWShJCR6a             1\n",
       "https://discord.gg/Yj4APdtNDt             1\n",
       "https://discord.gg/pQMk3988Ek             1\n",
       "https://discord.gg/t8sUDVGvrq             1\n",
       "https://discord.gg/MorpheusOfSteeze       1\n",
       "Name: collection.discord_url, Length: 357, dtype: int64"
      ]
     },
     "metadata": {},
     "output_type": "display_data"
    },
    {
     "name": "stdout",
     "output_type": "stream",
     "text": [
      "\n",
      "\n",
      "\n",
      "*********** collection.display_data.card_display_style ***********\n"
     ]
    },
    {
     "data": {
      "text/plain": [
       "contain    24252\n",
       "padded     11505\n",
       "cover       4194\n",
       "Name: collection.display_data.card_display_style, dtype: int64"
      ]
     },
     "metadata": {},
     "output_type": "display_data"
    },
    {
     "name": "stdout",
     "output_type": "stream",
     "text": [
      "\n",
      "\n",
      "\n",
      "*********** collection.display_data.images ***********\n"
     ]
    },
    {
     "data": {
      "text/plain": [
       "[]                                                                                                                                                                                                                                                                                                                                                                                                                                                                                                                                                                                                                                                                                                                                                                                                                                                                                                                                                                                                                                            6209\n",
       "['https://ledgerlegends.com/img/monster.png', 'https://ledgerlegends.com/img/monster.png', 'https://ledgerlegends.com/img/monster.png', 'https://ledgerlegends.com/img/monster.png', 'https://ledgerlegends.com/img/monster.png', 'https://ledgerlegends.com/img/monster.png']                                                                                                                                                                                                                                                                                                                                                                                                                                                                                                                                                                                                                                                                                                                                                                 193\n",
       "['https://storage.opensea.io/0x8562c38485b1e8ccd82e44f89823da76c98eb0ab/11081664790290029703914123501093412959851005990698421485335279882236843786250-1550517150.png', 'https://storage.opensea.io/0x8562c38485b1e8ccd82e44f89823da76c98eb0ab/11081664790290028134638689654423222000903650188781817459746418766228215563559-1552773943.png', 'https://storage.opensea.io/0x8562c38485b1e8ccd82e44f89823da76c98eb0ab/50885195465617471177731255234521635734804147820253726770435014604985116655636-1551524003.jpg', 'https://storage.opensea.io/0x8562c38485b1e8ccd82e44f89823da76c98eb0ab/11081664790290028178578401802129987347754176151235482372462906877476457152527-1552773783.png', 'https://storage.opensea.io/0x8562c38485b1e8ccd82e44f89823da76c98eb0ab/7237005577332265873523498293477879557094607771672055840139323123026691620864-1551250671.jpg', 'https://storage.opensea.io/0x8562c38485b1e8ccd82e44f89823da76c98eb0ab/10855508365998398882471917397163648119753490024396247545386072295876434329600-1552747248.jpg']             16\n",
       "['https://storage.opensea.io/0x2aea4add166ebf38b63d09a75de1a7b94aa24163/1978-1552743515.svg', 'https://storage.opensea.io/0x2aea4add166ebf38b63d09a75de1a7b94aa24163/1819-1551610280.svg', 'https://storage.opensea.io/0x2aea4add166ebf38b63d09a75de1a7b94aa24163/2.svg', 'https://storage.opensea.io/0x2aea4add166ebf38b63d09a75de1a7b94aa24163/1977-1552730712.svg', 'https://storage.opensea.io/0x2aea4add166ebf38b63d09a75de1a7b94aa24163/1976-1552728445.svg', 'https://storage.opensea.io/0x2aea4add166ebf38b63d09a75de1a7b94aa24163/5-1551384373.svg']                                                                                                                                                                                                                                                                                                                                                                                                                                                                                   14\n",
       "['https://cryptobots.me/img/6349', 'https://cryptobots.me/img/6361', 'https://cryptobots.me/img/6338', 'https://cryptobots.me/img/6339', 'https://cryptobots.me/img/6331', 'https://cryptobots.me/img/6328']                                                                                                                                                                                                                                                                                                                                                                                                                                                                                                                                                                                                                                                                                                                                                                                                                                     9\n",
       "['https://storage.opensea.io/0x15820072729d045ec5232ba3bd060ec5df38e09a/1806.png', 'https://storage.opensea.io/0x15820072729d045ec5232ba3bd060ec5df38e09a/1807-1549675103.png', 'https://storage.opensea.io/0x15820072729d045ec5232ba3bd060ec5df38e09a/101-1549897787.png', 'https://storage.opensea.io/0x15820072729d045ec5232ba3bd060ec5df38e09a/1799-1549907447.png', 'https://storage.opensea.io/0x15820072729d045ec5232ba3bd060ec5df38e09a/98-1550005653.png', 'https://storage.opensea.io/0x15820072729d045ec5232ba3bd060ec5df38e09a/3001-1550008955.png']                                                                                                                                                                                                                                                                                                                                                                                                                                                                                 8\n",
       "['https://storage.opensea.io/0xfaafdc07907ff5120a76b34b731b278c38d6043c/54277541829991970145084277980910407609605540001142873075224213181424744792064-1564876783.jpg', 'https://storage.opensea.io/0xfaafdc07907ff5120a76b34b731b278c38d6043c/54277541829991970138807176245523726845769750577935206659121857736960710279168-1564871970.jpg', 'https://storage.opensea.io/0xfaafdc07907ff5120a76b34b731b278c38d6043c/54277541829991971764576525710674044679239211188720808429631917853145649119232-1564856907.jpg', 'https://storage.opensea.io/0xfaafdc07907ff5120a76b34b731b278c38d6043c/54277541829991970170192684922457130664948697693973538739633634959280882843648-1564858155.jpg', 'https://storage.opensea.io/0xfaafdc07907ff5120a76b34b731b278c38d6043c/54277541829991970132530074510137046081933961154727540243019502292496675766272-1564868622.jpg', 'https://storage.opensea.io/0xfaafdc07907ff5120a76b34b731b278c38d6043c/54277541829991970452662263014857765037559221738318527464239629960162435923968-1564863062.jpg']             6\n",
       "['https://storage.opensea.io/0x8853b05833029e3cf8d3cbb592f9784fa43d2a79/1178-1551947758.gif', 'https://storage.opensea.io/0x8853b05833029e3cf8d3cbb592f9784fa43d2a79/811-1549677961.gif', 'https://storage.opensea.io/0x8853b05833029e3cf8d3cbb592f9784fa43d2a79/1208-1552429987.gif', 'https://storage.opensea.io/0x8853b05833029e3cf8d3cbb592f9784fa43d2a79/1221-1552769441.jpg', 'https://storage.opensea.io/0x8853b05833029e3cf8d3cbb592f9784fa43d2a79/728-1551540084.jpg', 'https://storage.opensea.io/0x8853b05833029e3cf8d3cbb592f9784fa43d2a79/1215-1552657749.jpg']                                                                                                                                                                                                                                                                                                                                                                                                                                                                     6\n",
       "['https://storage.opensea.io/0xfaafdc07907ff5120a76b34b731b278c38d6043c/50885195465617473544198609475300283700896760369543965641023017167926128017414-1564976317.png', 'https://storage.opensea.io/0xfaafdc07907ff5120a76b34b731b278c38d6043c/50659039041325842321021892306622949975308721317951141070523061135867509735424-1564858178.jpg', 'https://storage.opensea.io/0xfaafdc07907ff5120a76b34b731b278c38d6043c/50885195465617473550475711210686964464732549792751632057125372612390162530312-1564940797.png', 'https://storage.opensea.io/0xfaafdc07907ff5120a76b34b731b278c38d6043c/50885195465617473581861219887620368283911496908789964137637149834710335094789-1564939305.png', 'https://storage.opensea.io/0xfaafdc07907ff5120a76b34b731b278c38d6043c/50885195465617473563029914681460325992404128639166964889330083501318231556097-1564922428.png', 'https://storage.opensea.io/0xfaafdc07907ff5120a76b34b731b278c38d6043c/50885195465617473544198609475300283700896760369543965641023017167926128017418-1564904039.png']             2\n",
       "['https://storage.opensea.io/0x1a94fce7ef36bc90959e206ba569a12afbc91ca1/9097None-1550128081.', 'https://storage.opensea.io/0x1a94fce7ef36bc90959e206ba569a12afbc91ca1/48022None-1552754932.', 'https://storage.opensea.io/0x1a94fce7ef36bc90959e206ba569a12afbc91ca1/29518None-1550040276.', 'https://storage.opensea.io/0x1a94fce7ef36bc90959e206ba569a12afbc91ca1/6445None-1550122917.', 'https://storage.opensea.io/0x1a94fce7ef36bc90959e206ba569a12afbc91ca1/44638None-1549992322.', 'https://storage.opensea.io/0x1a94fce7ef36bc90959e206ba569a12afbc91ca1/45354None-1550316509.']                                                                                                                                                                                                                                                                                                                                                                                                                                                         2\n",
       "['https://storage.opensea.io/0x2fb5d7dda4f1f20f974a0fdd547c38674e8d940c/1-1571915237.svg', 'https://storage.opensea.io/0x2fb5d7dda4f1f20f974a0fdd547c38674e8d940c/2-1571982585.svg', 'https://storage.opensea.io/0x2fb5d7dda4f1f20f974a0fdd547c38674e8d940c/6-1571984918.svg', 'https://storage.opensea.io/0x2fb5d7dda4f1f20f974a0fdd547c38674e8d940c/5-1571984898.svg', 'https://storage.opensea.io/0x2fb5d7dda4f1f20f974a0fdd547c38674e8d940c/4-1571984887.svg', 'https://storage.opensea.io/0x2fb5d7dda4f1f20f974a0fdd547c38674e8d940c/3-1571984879.svg']                                                                                                                                                                                                                                                                                                                                                                                                                                                                                     2\n",
       "['https://storage.googleapis.com/opensea-prod.appspot.com/0x9d9c250311b65803c895cc77f878b8092019dedc/1.svg', 'https://storage.googleapis.com/opensea-prod.appspot.com/0x9d9c250311b65803c895cc77f878b8092019dedc/2.svg', 'https://storage.googleapis.com/opensea-prod.appspot.com/0x9d9c250311b65803c895cc77f878b8092019dedc/3.svg', 'https://storage.googleapis.com/opensea-prod.appspot.com/0x9d9c250311b65803c895cc77f878b8092019dedc/4.svg', 'https://storage.googleapis.com/opensea-prod.appspot.com/0x9d9c250311b65803c895cc77f878b8092019dedc/5.svg', 'https://storage.googleapis.com/opensea-prod.appspot.com/0x9d9c250311b65803c895cc77f878b8092019dedc/6.svg']                                                                                                                                                                                                                                                                                                                                                                         1\n",
       "['https://storage.googleapis.com/opensea-prod.appspot.com/0xf766b3e7073f5a6483e27de20ea6f59b30b28f87/19.svg', 'https://storage.googleapis.com/opensea-prod.appspot.com/0xf766b3e7073f5a6483e27de20ea6f59b30b28f87/13.svg', 'https://storage.googleapis.com/opensea-prod.appspot.com/0xf766b3e7073f5a6483e27de20ea6f59b30b28f87/10.svg', 'https://storage.googleapis.com/opensea-prod.appspot.com/0xf766b3e7073f5a6483e27de20ea6f59b30b28f87/5.svg', 'https://storage.googleapis.com/opensea-prod.appspot.com/0xf766b3e7073f5a6483e27de20ea6f59b30b28f87/195.svg', 'https://storage.googleapis.com/opensea-prod.appspot.com/0xf766b3e7073f5a6483e27de20ea6f59b30b28f87/232.svg']                                                                                                                                                                                                                                                                                                                                                                  1\n",
       "['https://storage.googleapis.com/opensea-prod.appspot.com/0xbdaed67214641b7eda3bf8d7431c3ae5fc46f466/260.png', 'https://storage.googleapis.com/opensea-prod.appspot.com/0xbdaed67214641b7eda3bf8d7431c3ae5fc46f466/259.png', 'https://storage.googleapis.com/opensea-prod.appspot.com/0xbdaed67214641b7eda3bf8d7431c3ae5fc46f466/258.png', 'https://storage.googleapis.com/opensea-prod.appspot.com/0xbdaed67214641b7eda3bf8d7431c3ae5fc46f466/257.png', 'https://storage.googleapis.com/opensea-prod.appspot.com/0xbdaed67214641b7eda3bf8d7431c3ae5fc46f466/256.png', 'https://storage.googleapis.com/opensea-prod.appspot.com/0xbdaed67214641b7eda3bf8d7431c3ae5fc46f466/255.png']                                                                                                                                                                                                                                                                                                                                                             1\n",
       "['https://lh3.googleusercontent.com/mO_PQZc_Z0-42Fr7mZNCrtWwnVMvfX2xbrqFflj7iF9fYcebzKdviPyUf1hr7ywmpc6Knr3eQzkD1kZTh4XRa5gp', 'https://lh3.googleusercontent.com/qcTsNCj5TWHqc5muE6wNZ3_a2AO4ccbzMsuEDkg_J9Jmpjk0L-M1wmEMDFoP5niC6BmCfX0CSKLmcr4BE-CvWpo', 'https://lh3.googleusercontent.com/uSSkeYu001A-px-oLfCHxwjtAK5Rf5CRsLzklxqo2RYAN5hbiTGpLd8qGrIfIQumtQIK98rcomKr5xC3owronyIHew', 'https://lh3.googleusercontent.com/LVrCoivrVSam8XBOBap9SQk8DFuMpcP3CYpzdjU5Z_ijYE1GmxbPuTLOtpy-WJaOpQKvOzf8t_kZJg7oPheZPn9cgA', 'https://lh3.googleusercontent.com/r04WnhnhvGnCj2GFCKh7bfGh5BxSWiE0crfrnISDACg881za3ZTqr83w71ZPCaVZvZMZg7ingj1MaJrbGt48ARrQZg', 'https://lh3.googleusercontent.com/ETQt9Jp9nHM4rm3iBGDolKUCgqg6X7FDKFfcs6j8S4-fGR9oP8NRn4zOSKV5Zvqqug7Tk5M5JT8Eer9NJIsBtiOX']                                                                                                                                                                                                                                                        1\n",
       "['https://storage.opensea.io/0x157ad40f43e26e72909f16bb07f2ca97466df849/103734-1568559343.png', 'https://storage.opensea.io/0x157ad40f43e26e72909f16bb07f2ca97466df849/77141-1568072196.png', 'https://storage.opensea.io/0x157ad40f43e26e72909f16bb07f2ca97466df849/103722-1568559209.png', 'https://storage.opensea.io/0x157ad40f43e26e72909f16bb07f2ca97466df849/64851-1568525095.png', 'https://storage.opensea.io/0x157ad40f43e26e72909f16bb07f2ca97466df849/103729-1568559189.png', 'https://storage.opensea.io/0x157ad40f43e26e72909f16bb07f2ca97466df849/59194-1568560326.png']                                                                                                                                                                                                                                                                                                                                                                                                                                                          1\n",
       "['https://storage.opensea.io/0x6f9b9f2c75125079c029f6aecde745e09cf06f5a/405678898387156995.gif', 'https://storage.googleapis.com/opensea-prod.appspot.com/0x6f9b9f2c75125079c029f6aecde745e09cf06f5a/355020662882172931None', 'https://storage.googleapis.com/opensea-prod.appspot.com/0x6f9b9f2c75125079c029f6aecde745e09cf06f5a/355020485560664065None', 'https://storage.googleapis.com/opensea-prod.appspot.com/0x6f9b9f2c75125079c029f6aecde745e09cf06f5a/355020307237076995None', 'https://storage.googleapis.com/opensea-prod.appspot.com/0x6f9b9f2c75125079c029f6aecde745e09cf06f5a/378824876837896194None', 'https://storage.googleapis.com/opensea-prod.appspot.com/0x6f9b9f2c75125079c029f6aecde745e09cf06f5a/355021148638380033None']                                                                                                                                                                                                                                                                                                1\n",
       "['https://i.imgur.com/okDFdyw.jpg', 'https://i.imgur.com/nWGmIzB.png', 'https://i.imgur.com/E9M0KY4.png', 'https://i.imgur.com/wDom5bw.png', 'https://i.imgur.com/PWmOKbu.png', 'https://i.imgur.com/0j4YlcF.png']                                                                                                                                                                                                                                                                                                                                                                                                                                                                                                                                                                                                                                                                                                                                                                                                                               1\n",
       "['https://storage.opensea.io/0x14a4123da9ad21b2215dc0ab6984ec1e89842c6d/18998906514627227274320642736617172985370189003558443992493832354010134223107-1552772413.png', 'https://storage.opensea.io/0x14a4123da9ad21b2215dc0ab6984ec1e89842c6d/18998906514627227268043541001230492221534399580350777576391476909546099705584-1551162279.png', 'https://storage.opensea.io/0x14a4123da9ad21b2215dc0ab6984ec1e89842c6d/18998906514627227274320642736617172985370189003558443992493832354010134222786-1552246841.png', 'https://storage.opensea.io/0x14a4123da9ad21b2215dc0ab6984ec1e89842c6d/18998906514627228890674339598687469759857969044371854322010884198599916634180-1552773220.png', 'https://storage.opensea.io/0x14a4123da9ad21b2215dc0ab6984ec1e89842c6d/18998906514627227274320642736617172985370189003558443992493832354010134219374-1551157054.png', 'https://storage.opensea.io/0x14a4123da9ad21b2215dc0ab6984ec1e89842c6d/18998906514627227274320642736617172985370189003558443992493832354010134222006-1551595979.png']             1\n",
       "['https://lh3.googleusercontent.com/ig3CMQUUn8z6AtAWvWlU4PgwJo6lY9o1Nji9tTg8HIkbPTOjcEBNg-GBcThKIWmU3sxMNLyzF_UUT0XNAOfthJp1SA', 'https://lh3.googleusercontent.com/cIaLuSmqfTiF9aog1kp76lJJCyo76uEoxMTogYxKat4ci4YwuyIicXRMaHZ6A_I2wCuGrGB5Q2rmkmi-wuXsfq2B']                                                                                                                                                                                                                                                                                                                                                                                                                                                                                                                                                                                                                                                                                                                                                                                   1\n",
       "['https://storage.opensea.io/0xfaafdc07907ff5120a76b34b731b278c38d6043c/43648189888285213772017997977676106592189471955723666252373186063940982931523-1565029009.jpg', 'https://storage.opensea.io/0xfaafdc07907ff5120a76b34b731b278c38d6043c/43648189888285213715524082359195979717667367146854668507451987063764672315428-1565019526.jpg', 'https://storage.opensea.io/0xfaafdc07907ff5120a76b34b731b278c38d6043c/43422033463993588750617795371039367536361383033305260791000409162348463390720-1565022971.jpg', 'https://storage.opensea.io/0xfaafdc07907ff5120a76b34b731b278c38d6043c/43648189888285213746909591036129383536846314262893000587963764286084844879878-1566599843.jpg', 'https://storage.opensea.io/0xfaafdc07907ff5120a76b34b731b278c38d6043c/43648189888285213790849303183836148883696840225346665500680252397333086470166-1567033927.jpg']                                                                                                                                                                                   1\n",
       "['https://storage.opensea.io/0x3903525e5c6cec55d4d38060c3edf05068a7a8d1/315450205-1549865572.jpg', 'https://storage.opensea.io/0x3903525e5c6cec55d4d38060c3edf05068a7a8d1/695695453-1549865865.jpg']                                                                                                                                                                                                                                                                                                                                                                                                                                                                                                                                                                                                                                                                                                                                                                                                                                             1\n",
       "['https://storage.opensea.io/0x34d77a17038491a2a9eaa6e690b7c7cd39fc8392/15-1550024421.png', 'https://storage.opensea.io/0x34d77a17038491a2a9eaa6e690b7c7cd39fc8392/0-1550024816.png', 'https://storage.opensea.io/0x34d77a17038491a2a9eaa6e690b7c7cd39fc8392/53-1550077098.png', 'https://storage.opensea.io/0x34d77a17038491a2a9eaa6e690b7c7cd39fc8392/98-1551917129.png', 'https://storage.opensea.io/0x34d77a17038491a2a9eaa6e690b7c7cd39fc8392/41-1550038954.png', 'https://storage.opensea.io/0x34d77a17038491a2a9eaa6e690b7c7cd39fc8392/68-1550088521.png']                                                                                                                                                                                                                                                                                                                                                                                                                                                                                1\n",
       "['https://storage.opensea.io/0x7c99dedb1dd8b9c9b12a8043c569988c3f881550/115792089237316195423570985008687907808352712232076686862292135826919725727861-1571104076.png', 'https://storage.opensea.io/0x7c99dedb1dd8b9c9b12a8043c569988c3f881550/115792089237316195423570985008687907808012429865155748398828761219487957516405-1571104067.png', 'https://storage.opensea.io/0x7c99dedb1dd8b9c9b12a8043c569988c3f881550/115792089237316195423570985008687907808012429865155748398828761219487957516397-1571105553.png', 'https://storage.opensea.io/0x7c99dedb1dd8b9c9b12a8043c569988c3f881550/115792089237316195423570985008687907808012429865155748398828761219487957516406-1571103501.png', 'https://storage.opensea.io/0x7c99dedb1dd8b9c9b12a8043c569988c3f881550/115792089237316195423570985008687907808352712232076686862292135826919725727862-1571103533.png', 'https://storage.opensea.io/0x7c99dedb1dd8b9c9b12a8043c569988c3f881550/115792089237316195423570985008687907810394406433602317643072383471510334996598-1571100023.png']       1\n",
       "['https://storage.opensea.io/0xfaafdc07907ff5120a76b34b731b278c38d6043c/7237005577332269652338742996259699386239840542687238333757300690375468384256-1564883125.png', 'https://storage.opensea.io/0xfaafdc07907ff5120a76b34b731b278c38d6043c/7237005577332268892809433014471326962109320334559601985372291910227292323840-1564794598.png', 'https://storage.opensea.io/0xfaafdc07907ff5120a76b34b731b278c38d6043c/7237005577332272382877997889465831654808239638022129338281919032230481494016-1564890793.png', 'https://storage.opensea.io/0xfaafdc07907ff5120a76b34b731b278c38d6043c/7237005577332271039578226516716148193949303071581516292377853916927095734272-1564890742.png', 'https://storage.opensea.io/0xfaafdc07907ff5120a76b34b731b278c38d6043c/7237005577332269658615844731646380150075629965894904749859656134839502897152-1564890540.png', 'https://storage.opensea.io/0xfaafdc07907ff5120a76b34b731b278c38d6043c/7237005577332272395432201360239193182479818484437462170486629921158550519808-1564889269.png']                   1\n",
       "['https://storage.opensea.io/0xd3551ab3018edb9e1c1111e966cceffdf625a730/302696-1559938476.jpg', 'https://storage.opensea.io/0xd3551ab3018edb9e1c1111e966cceffdf625a730/5145-1563770500.jpg', 'https://storage.opensea.io/0xd3551ab3018edb9e1c1111e966cceffdf625a730/250504-1558083460.jpg', 'https://storage.opensea.io/0xd3551ab3018edb9e1c1111e966cceffdf625a730/21302-1563770614.jpg', 'https://storage.opensea.io/0xd3551ab3018edb9e1c1111e966cceffdf625a730/21308-1564465810.jpg', 'https://storage.opensea.io/0xd3551ab3018edb9e1c1111e966cceffdf625a730/21314-1564467989.jpg']                                                                                                                                                                                                                                                                                                                                                                                                                                                            1\n",
       "Name: collection.display_data.images, dtype: int64"
      ]
     },
     "metadata": {},
     "output_type": "display_data"
    },
    {
     "name": "stdout",
     "output_type": "stream",
     "text": [
      "\n",
      "\n",
      "\n",
      "*********** collection.external_url ***********\n"
     ]
    },
    {
     "data": {
      "text/plain": [
       "https://www.cryptokitties.co/                                                    9836\n",
       "https://godsunchained.com/?refcode=0x5b3256965e7C3cF26E11FCAf296DfC8807C01073    9595\n",
       "https://rarible.com/                                                             1605\n",
       "https://sorare.com                                                                946\n",
       "https://8aliens.io/                                                               724\n",
       "                                                                                 ... \n",
       "https://www.rabidartwork.com                                                        1\n",
       "http://sigma-game.com/games/bulumonster/                                            1\n",
       "https://digitaltradingcards.com                                                     1\n",
       "https://mocochouchou.net                                                            1\n",
       "https://skullsoneth.com                                                             1\n",
       "Name: collection.external_url, Length: 1064, dtype: int64"
      ]
     },
     "metadata": {},
     "output_type": "display_data"
    },
    {
     "name": "stdout",
     "output_type": "stream",
     "text": [
      "\n",
      "\n",
      "\n",
      "*********** collection.image_url ***********\n"
     ]
    },
    {
     "data": {
      "text/plain": [
       "https://lh3.googleusercontent.com/C272ZRW1RGGef9vKMePFSCeKc1Lw6U40wl9ofNVxzUxFdj84hH9xJRQNf-7wgs7W8qw8RWe-1ybKp-VKuU5D-tg=s60                     9836\n",
       "https://lh3.googleusercontent.com/yArciVdcDv3O2R-O8XCxx3YEYZdzpiCMdossjUgv0kpLIluUQ1bYN_dyEk5xcvBEOgeq0zNIoWOh7TL9DvUEv--OLQ=s60                  9595\n",
       "https://lh3.googleusercontent.com/FG0QJ00fN3c_FWuPeUr9-T__iQl63j9hn5d6svW8UqOmia5zp3lKHPkJuHcvhZ0f_Pd6P2COo9tt9zVUvdPxG_9BBw=s60                  1605\n",
       "https://lh3.googleusercontent.com/gj47nmAR3valkmpVbwamiuTJfWEWSCyVeORdjM6DRWrZ1o8WaqBxFXmpBrzZnGoWaPwq1Y0jiXRrBLbnLcawAp92=s120                    946\n",
       "https://lh3.googleusercontent.com/WQXdqF_-CVV1dgwOfQw2-hcg_2zU-vanX5i7k-q_JdxT10qFV7M36nUUxPz7URBT9jd6vNLPmuXDETm7OZ1-n9J-ksvxNLfYgE636V4=s120     866\n",
       "                                                                                                                                                  ... \n",
       "https://lh3.googleusercontent.com/PXw-gTPhTjjeiB8b7ICWIiXb3BwBMwSAT2xmpT1LaV-3e0z8RWtSGaD3Y8rQq3novJ6jo27alpd8dITjK0X4_aHyEjpNnZF6SdUC=s120          1\n",
       "https://lh3.googleusercontent.com/Fkefab0S_E5GWjG1b6j_x0EXwbOAFWbJlIjpmuDiQ5pyGsu8r8zr74QYeVgyj8phjsw-6NmpyPiO-dWI-vEUmtvr-WjPjHIhcMrY=s120          1\n",
       "https://lh3.googleusercontent.com/z_ulQMLZAHlu6Du4j-AelVYGYsMrbY-rjHqsLn326nprMhz5u4b9kOnQS7S1K49jaVUHQZk2dem3oy6Xyt_pWhf1xrJM3ow1sPnn=s120          1\n",
       "https://lh3.googleusercontent.com/-1mIn3phUs2lQyWl0QMvH070PeffuCO0nQNcjqGXvdQJLSX1JsAWQkWoOrEdPjUm0AKHIFztERgGZ6gczOPfkwhR=s60                       1\n",
       "https://lh3.googleusercontent.com/LdvXjE7w-ciXiLKAJMPxZ-D9rako3DtOLL8a29kSBOtmdrQKqcDleDiEUlxd9TQaMHsLGXTM1U57EJsXEUBgW4Pu0x60HOFMdq0JhNM=s120       1\n",
       "Name: collection.image_url, Length: 2735, dtype: int64"
      ]
     },
     "metadata": {},
     "output_type": "display_data"
    },
    {
     "name": "stdout",
     "output_type": "stream",
     "text": [
      "\n",
      "\n",
      "\n",
      "*********** collection.instagram_username ***********\n"
     ]
    },
    {
     "data": {
      "text/plain": [
       "cybermafia.nft       866\n",
       "boredapeyachtclub    712\n",
       "cryptohamsters       492\n",
       "cryptorr78           432\n",
       "zwmalachite          169\n",
       "                    ... \n",
       "tobiasrahim            1\n",
       "artofhealingcc         1\n",
       "nftyskateboards        1\n",
       "devilgoat00            1\n",
       "evanmobley4            1\n",
       "Name: collection.instagram_username, Length: 567, dtype: int64"
      ]
     },
     "metadata": {},
     "output_type": "display_data"
    },
    {
     "name": "stdout",
     "output_type": "stream",
     "text": [
      "\n",
      "\n",
      "\n",
      "*********** collection.large_image_url ***********\n"
     ]
    },
    {
     "data": {
      "text/plain": [
       "https://lh3.googleusercontent.com/C272ZRW1RGGef9vKMePFSCeKc1Lw6U40wl9ofNVxzUxFdj84hH9xJRQNf-7wgs7W8qw8RWe-1ybKp-VKuU5D-tg                         9836\n",
       "https://lh3.googleusercontent.com/yArciVdcDv3O2R-O8XCxx3YEYZdzpiCMdossjUgv0kpLIluUQ1bYN_dyEk5xcvBEOgeq0zNIoWOh7TL9DvUEv--OLQ                      9595\n",
       "https://lh3.googleusercontent.com/FG0QJ00fN3c_FWuPeUr9-T__iQl63j9hn5d6svW8UqOmia5zp3lKHPkJuHcvhZ0f_Pd6P2COo9tt9zVUvdPxG_9BBw                      1605\n",
       "https://lh3.googleusercontent.com/nXNnPXj42KX4PACc4LP9ijCvWLY7xIgHihKk17ON3t9MEZIWBULQRp6kuo4ATsXOIQJGc37HVnrk4dRLzw3x1403aQv2luEM7QPr=s300        946\n",
       "https://lh3.googleusercontent.com/pWPnZ4B9ECYX0IqhLSEUir5lJXmjdyAwbaWJg4JVDI-7DWNDwX4DZObF8KVbw8_uXYVwYV7ORRy6AMT_gPfryN-1G9dE1V5myM5nkQ=s300      724\n",
       "                                                                                                                                                  ... \n",
       "https://lh3.googleusercontent.com/mVZvPPrvqMIylzHHYiGbELe_A9DF4YFoQHx34-T92S4qZAu2Kyo81hZ7hQB5esDXpiaLAhE2V87mXURgYzJuXu7wLDEQOItUNcW8rPY=s300       1\n",
       "https://lh3.googleusercontent.com/r1U-yjKTqzWbv-qINV0qTxn0yZ2rA9VAd8xGUDJmvXbQI7syEOhWDrhT8IPc7iJJijUm2zyT7ElsMY2vbwhK8TVVQ_D9mtjtDbh2Cg=s300        1\n",
       "https://lh3.googleusercontent.com/0vWunuOBbaH65NVhlTJC4q8S57ahYHAhAqxOdq5V_hO21UXAMdRvz5Qkr5rDBo0IjZ8HdiAS0ZbJJmH0B9tM_I22E3GWu7-F6myF=s300          1\n",
       "https://lh3.googleusercontent.com/SRAaWn28GO4b5-pW0XB6UpicwE2OY2I-_D9upmCUjohcFgyOwvYqaBFrrK2AMY5wYiC6PQ9I8Q9lwevljbDUqrLLjCeVgJIWCbZV=s300          1\n",
       "https://lh3.googleusercontent.com/IeaVF_1JI79Cw1k4wN6Ol4DNKnrwjo1_CNdf6p94bnbZCFe2nykUbiyTmK3N8UELWFRrYDGcsz-AxSH7D8z54UxMPJRKwX3lYc8w4jo=s300       1\n",
       "Name: collection.large_image_url, Length: 1404, dtype: int64"
      ]
     },
     "metadata": {},
     "output_type": "display_data"
    },
    {
     "name": "stdout",
     "output_type": "stream",
     "text": [
      "\n",
      "\n",
      "\n",
      "*********** collection.medium_username ***********\n"
     ]
    },
    {
     "data": {
      "text/plain": [
       "rarible                      1605\n",
       "the-ethereum-name-service     358\n",
       "polychainmonsters             254\n",
       "sandbox-game                  185\n",
       "pixelfigures                  126\n",
       "                             ... \n",
       "peckfreedom                     1\n",
       "kaprika                         1\n",
       "nugbase                         1\n",
       "shantell_martin                 1\n",
       "mrbitcrunchy                    1\n",
       "Name: collection.medium_username, Length: 143, dtype: int64"
      ]
     },
     "metadata": {},
     "output_type": "display_data"
    },
    {
     "name": "stdout",
     "output_type": "stream",
     "text": [
      "\n",
      "\n",
      "\n",
      "*********** collection.telegram_url ***********\n"
     ]
    },
    {
     "data": {
      "text/plain": [
       "https://t.me/rarible                      1605\n",
       "https://t.me/sorarefc                      946\n",
       "https://t.me/Daniel78Raymond               432\n",
       "https://t.me//                             270\n",
       "https://t.me/polychainmonsters             254\n",
       "                                          ... \n",
       "https://t.me/aaronleupp                      1\n",
       "https://t.me/navajjoo                        1\n",
       "https://t.me/Poodl                           1\n",
       "https://t.me/joinchat/SpBfO0Ff-uqAv_Mb       1\n",
       "https://t.me/Mgame32                         1\n",
       "Name: collection.telegram_url, Length: 198, dtype: int64"
      ]
     },
     "metadata": {},
     "output_type": "display_data"
    },
    {
     "name": "stdout",
     "output_type": "stream",
     "text": [
      "\n",
      "\n",
      "\n",
      "*********** collection.twitter_username ***********\n"
     ]
    },
    {
     "data": {
      "text/plain": [
       "CryptoKitties                        9836\n",
       "GodsUnchained                        9595\n",
       "rariblecom                           1605\n",
       "SorareHQ                              946\n",
       "https://twitter.com/nftcybermafia     866\n",
       "                                     ... \n",
       "arconametaverse                         1\n",
       "unstablekido                            1\n",
       "cryptopom1                              1\n",
       "Crypto_Frogz                            1\n",
       "PantyNectar                             1\n",
       "Name: collection.twitter_username, Length: 1199, dtype: int64"
      ]
     },
     "metadata": {},
     "output_type": "display_data"
    },
    {
     "name": "stdout",
     "output_type": "stream",
     "text": [
      "\n",
      "\n",
      "\n",
      "*********** creator.config ***********\n"
     ]
    },
    {
     "data": {
      "text/plain": [
       "verified             1329\n",
       "affiliate             325\n",
       "moderator              12\n",
       "affiliate_partner       3\n",
       "Name: creator.config, dtype: int64"
      ]
     },
     "metadata": {},
     "output_type": "display_data"
    },
    {
     "name": "stdout",
     "output_type": "stream",
     "text": [
      "\n",
      "\n",
      "\n",
      "*********** creator.discord_id ***********\n"
     ]
    },
    {
     "data": {
      "text/plain": [
       "@RobGronkowski          45\n",
       "Instagram fiedler.jp    27\n",
       "@kevinabosch            24\n",
       "@DrakeBell              16\n",
       "@sabet                  15\n",
       "@vhils1                 10\n",
       "@CbHoyo                  8\n",
       "@adamlucasNYC            8\n",
       "@justinkan               6\n",
       "@Cryptopathic            5\n",
       "Instagram thatsval V     4\n",
       "@wizardofsoho            4\n",
       "@Crypto_Kobe_            4\n",
       "395737001225355275       4\n",
       "Katttykattt#2416         4\n",
       "@msp4rro                 3\n",
       "@WebbEmotional           3\n",
       "@bobbibillard            3\n",
       "650843151266742292       2\n",
       "@godfreymeyer            2\n",
       "419625211588116481       2\n",
       "@wivteam                 2\n",
       "Diana Art #4099          2\n",
       "PaartiLive               2\n",
       "101723492973559808       2\n",
       "@DBlockEurope            2\n",
       "@ExtendedVictory         2\n",
       "@SatoshiLite             1\n",
       "@TheMCFaceman            1\n",
       "davidfirth66             1\n",
       "@MarcTaraz               1\n",
       "@casperdefi              1\n",
       "@outisRatwell            1\n",
       "cloudwhite☁|OpenSea      1\n",
       "@PuffyPuffPuff1          1\n",
       "Instagram meowyoface     1\n",
       "146613143592894464       1\n",
       "edd#1977                 1\n",
       "@iSpaceCrypto            1\n",
       "@zachwinterton           1\n",
       "Instagram maderis        1\n",
       "@seanbonner              1\n",
       "@TeddyKillerz            1\n",
       "@andrealtrez             1\n",
       "Rarebits #0901           1\n",
       "Name: creator.discord_id, dtype: int64"
      ]
     },
     "metadata": {},
     "output_type": "display_data"
    },
    {
     "name": "stdout",
     "output_type": "stream",
     "text": [
      "\n",
      "\n",
      "\n",
      "*********** creator.user.username ***********\n"
     ]
    },
    {
     "data": {
      "text/plain": [
       "0x3ee5c5f600a019a68a43c61e5966e0b3e8c6ce71    4048\n",
       "cybermafia                                     866\n",
       "Heptalabs                                      724\n",
       "HAVE_IDEA                                      505\n",
       "PlagueDr                                       495\n",
       "                                              ... \n",
       "AlexCocoPro                                      1\n",
       "Crypsterio                                       1\n",
       "Djankov                                          1\n",
       "maxotg                                           1\n",
       "StrongHands                                      1\n",
       "Name: creator.user.username, Length: 4266, dtype: int64"
      ]
     },
     "metadata": {},
     "output_type": "display_data"
    },
    {
     "name": "stdout",
     "output_type": "stream",
     "text": [
      "\n",
      "\n",
      "\n",
      "*********** description ***********\n"
     ]
    },
    {
     "data": {
      "text/plain": [
       "Rare Player Cards are only issued at 100 editions per season.                                                                                                                                                                                                                                                                                                                                                                                                                                                                                                                                                                                                                                                                                                                                                                                                                                                                                                                                                                                                                                                                                                                                                                                                                                                                                                                                                                                                                                                                                                                                                                                                                                                                                                                                                                                                                                                                                                                                                                                                                                                                                                                                                                                                                                                                                                                                                                                                                                                                                                                                                                                                                                                                        871\n",
       "Where are the sick - There I Am. Healing since 1619.\\n                                                                                                                                                                                                                                                                                                                                                                                                                                                                                                                                                                                                                                                                                                                                                                                                                                                                                                                                                                                                                                                                                                                                                                                                                                                                                                                                                                                                                                                                                                                                                                                                                                                                                                                                                                                                                                                                                                                                                                                                                                                                                                                                                                                                                                                                                                                                                                                                                                                                                                                                                                                                                                                                               495\n",
       "100,000+ anime characters of different races, genders and ages! Here you will find knights, wizards, elves, fairies, beastmen, demons and many others! Collect your own exceptional and extraordinary squads of diverse warriors and creatures that you have always wanted!                                                                                                                                                                                                                                                                                                                                                                                                                                                                                                                                                                                                                                                                                                                                                                                                                                                                                                                                                                                                                                                                                                                                                                                                                                                                                                                                                                                                                                                                                                                                                                                                                                                                                                                                                                                                                                                                                                                                                                                                                                                                                                                                                                                                                                                                                                                                                                                                                                                          432\n",
       "CryptoHorsemen is a collection of 10,000 unique CryptoHorsemen NFTs— unique digital collectibles living on the Ethereum blockchain.\\nOwning a CryptoHorsemen makes you a member of the CryptoHorsemen Club and will allows you to gain the right to travel in parallel universes.                                                                                                                                                                                                                                                                                                                                                                                                                                                                                                                                                                                                                                                                                                                                                                                                                                                                                                                                                                                                                                                                                                                                                                                                                                                                                                                                                                                                                                                                                                                                                                                                                                                                                                                                                                                                                                                                                                                                                                                                                                                                                                                                                                                                                                                                                                                                                                                                                                                    389\n",
       "3001 Rat Pak NFT's on the Ethereum network in a Fight for Their Survival Against the Gutter Cat Gang\\n\\nEach rat has a name, bio and background story that will be revealed over time as we tell our story of the Gutter Cat Gang's arrival and our fight for survival now - with the story as another first in NFT collectibles.                                                                                                                                                                                                                                                                                                                                                                                                                                                                                                                                                                                                                                                                                                                                                                                                                                                                                                                                                                                                                                                                                                                                                                                                                                                                                                                                                                                                                                                                                                                                                                                                                                                                                                                                                                                                                                                                                                                                                                                                                                                                                                                                                                                                                                                                                                                                                                                                    321\n",
       "                                                                                                                                                                                                                                                                                                                                                                                                                                                                                                                                                                                                                                                                                                                                                                                                                                                                                                                                                                                                                                                                                                                                                                                                                                                                                                                                                                                                                                                                                                                                                                                                                                                                                                                                                                                                                                                                                                                                                                                                                                                                                                                                                                                                                                                                                                                                                                                                                                                                                                                                                                                                                                                                                                                                    ... \n",
       "*waves*! My name's Gemstone. I once peed on Martin Luther King Jr.'s cat. They had it coming. I once made a rabbit trot. Maybe you and I can be partners in crime.                                                                                                                                                                                                                                                                                                                                                                                                                                                                                                                                                                                                                                                                                                                                                                                                                                                                                                                                                                                                                                                                                                                                                                                                                                                                                                                                                                                                                                                                                                                                                                                                                                                                                                                                                                                                                                                                                                                                                                                                                                                                                                                                                                                                                                                                                                                                                                                                                                                                                                                                                                     1\n",
       "SOUND ON\\n\\nThe Exploding Heads present the world’s first NFT audio sitcom. \\n\\nYou are bidding on the first episode of **Gophers** by The Exploding Heads. This has not yet been released or heard by anyone outside of the cast and crew. Upon successfully purchasing this item you will unlock the full, professional recording, duration 31 minutes. To be clear, although you are initially purchasing the trailer listed, the winning bidder will unlock the full 31 minute audio file, which will also be an NFT. We will manually gift this full version to the same address. Effectively you are getting **two** NFTs for the price of one! \\n\\nYou will be the sole owner of this particular recording and this storyline will not be recorded in any other format or owned (or even heard) by anyone else on the entire planet. \\n\\nThe Exploding Heads are a comedy duo from the UK known for their offbeat comedy sketches for ESPN. This is their first full-length sitcom. \\n\\n**Gophers: A Pizza For Emma Bunton** is written by and starring The Exploding Heads, with script input and production assistance from David Schneider [BRASSEYE, DEATH OF STALIN, THE ARMANDO IANNUCCI SHOWS, AVENUE 5, THE DAY TODAY] at That Lot Studios in London. \\n\\n### About The Sitcom\\n\\nAnthony and Mark are the Celebrity Gophers, doing odd jobs that the rich and famous are too important to do themselves. In Episode 1, join Anthony, Mark and their Drunk Brother Ben as they frantically try to make a pepperoni pizza and deliver it to Emma Bunton of The Spice Girls, who’s filming a nature documentary in some nearby woods. Will they get that meat feast to Baby Spice on time? Or will a beatboxing Judi Dench stand in their way? \\n\\n### Cast & Crew \\n\\nAnthony - Anthony Richardson\\nMark - Mark Davison\\nDrunk Brother Ben - Ben Tonge \\nDame Judi Dench - Lucy Roslyn \\nRachel Double-Barrelled Surname - Lizzie Stables \\n\\nWritten by Anthony Richardson and Mark Davison\\nSound Editor - Stuart Duffy\\n\\nExecutive Creative Director at That Lot - David Schneider\\n\\nRecorded at That Lot Studio One. \\n\\nThumbnail designed by Chris Vincze\\n\\nThanks to Ben Forder and the crew at That Lot. \\n\\nThis purchase does not buy you ownership over any aspect of Gophers other than the recording of episode 1 \"Gophers: A Pizza For Emma Bunton,\" nor will you own any subsequent episodes or recordings. For the avoidance of doubt, The Exploding Heads (Mark Davison and Anthony Richardson) retain full ownership and copyright of Gophers as an intellectual property and all characters associated with it in any and all subsequent development deals, production or episode recordings.      1\n",
       "Good day! I'm Lavvy. I'm often referred to as the Frodo Baggins of the group. I like to listen to Justin Bieber while grooming. Don't judge me. Our friendship will be fabulous, brilliant, and full of cereal.                                                                                                                                                                                                                                                                                                                                                                                                                                                                                                                                                                                                                                                                                                                                                                                                                                                                                                                                                                                                                                                                                                                                                                                                                                                                                                                                                                                                                                                                                                                                                                                                                                                                                                                                                                                                                                                                                                                                                                                                                                                                                                                                                                                                                                                                                                                                                                                                                                                                                                                        1\n",
       "⚠️ **ATTENTION**: Hashmask names can change at any time. Immediately before purchasing a Hashmask, enter the Hashmask's token ID into the `tokenNameByIndex` function on a site like [Etherscan](https://etherscan.io/address/0xc2c747e0f7004f9e8817db2ca4997657a7746928#readContract) to verify that the blockchain indicates that the Hashmask you're purchasing has the name you expect.\\n\\nHashmask #15036                                                                                                                                                                                                                                                                                                                                                                                                                                                                                                                                                                                                                                                                                                                                                                                                                                                                                                                                                                                                                                                                                                                                                                                                                                                                                                                                                                                                                                                                                                                                                                                                                                                                                                                                                                                                                                                                                                                                                                                                                                                                                                                                                                                                                                                                                                                         1\n",
       "Yo! I'm CATastrophe. I'm a professional Ventriloquist and I love chocolate. When I'm not practicing witchcraft, I'm summoning ghosts! I think you'll love me beclaws I have cattitude.                                                                                                                                                                                                                                                                                                                                                                                                                                                                                                                                                                                                                                                                                                                                                                                                                                                                                                                                                                                                                                                                                                                                                                                                                                                                                                                                                                                                                                                                                                                                                                                                                                                                                                                                                                                                                                                                                                                                                                                                                                                                                                                                                                                                                                                                                                                                                                                                                                                                                                                                                 1\n",
       "Name: description, Length: 18946, dtype: int64"
      ]
     },
     "metadata": {},
     "output_type": "display_data"
    },
    {
     "name": "stdout",
     "output_type": "stream",
     "text": [
      "\n",
      "\n",
      "\n",
      "*********** external_link ***********\n"
     ]
    },
    {
     "data": {
      "text/plain": [
       "https://8aliens.io                                   724\n",
       "https://opensea.io/CryptoRR                          432\n",
       "https://totallyturtletokens.madzy.design/             86\n",
       "https://www.beeple-collect.com/                       85\n",
       "https://chubbies.io                                   81\n",
       "                                                    ... \n",
       "https://www.cryptokitties.co/kitty/431460              1\n",
       "https://www.cryptokitties.co/kitty/449951              1\n",
       "https://cryptohamsters.co/hamsters/16250048485835      1\n",
       "https://www.cryptokitties.co/kitty/254555              1\n",
       "https://skullsoneth.com                                1\n",
       "Name: external_link, Length: 15485, dtype: int64"
      ]
     },
     "metadata": {},
     "output_type": "display_data"
    },
    {
     "name": "stdout",
     "output_type": "stream",
     "text": [
      "\n",
      "\n",
      "\n",
      "*********** image_url ***********\n"
     ]
    },
    {
     "data": {
      "text/plain": [
       "https://lh3.googleusercontent.com/ZzJ1gv3qSh_ftmq_vfG6C3NsDnfTqVWzQcKad_u34sndISIFwinFgfA6cqnQxXnPQjmKB6TF0h4Oa5iPwsmi76l_If7mTfp5FW1scw     104\n",
       "https://lh3.googleusercontent.com/q7YPwkm8U15AJfhA_YU_4rRcW1VuY0YnR_rMPvx9Ll4nv0h5pkSRRUsTXRIbKaVZ4HoGYPNmjVt1AJj8OdpXjOqeyZdP1EdieeJsXeY     73\n",
       "https://lh3.googleusercontent.com/8oP0Kd8AWAGDn-M5XMa2E7uAwB0ZDu8MyhvYbuUfkhZcdctEYHERaDOqonN94ZAsQcu98eVjbMDoZY4BuRHpqiU                     67\n",
       "https://lh3.googleusercontent.com/w2r87824INiVaa-_Yt4JVcfSoa-CzMerBedzAXXOjCm2kCJ4Vy5B-mz3Dwfslr5I226SBNII5RhA4gdU6ct9sQ4-                    62\n",
       "https://lh3.googleusercontent.com/CtQ5sUHxODakndMuZtQZXjQCXXEV-j8mi7hvxGDT2NZ7FKMt4QxjgDO6rlS0tPlmrxNsmvCFhLsLIZq7hcWPH6mn                    60\n",
       "                                                                                                                                            ... \n",
       "https://storage.opensea.io/files/854e74ba14a9ef1e304565b4dc949286.svg                                                                          1\n",
       "https://lh3.googleusercontent.com/GziLrqeOfR1Nr84L-WhduQ448IHviR0KYT11qTFV6MYVRUEx0RwHiNsVJcw0Gg9K188kqpc-aVVJPJ595ZEaqZJ8cUKIDCsfOnmQ         1\n",
       "https://lh3.googleusercontent.com/ghn4gxK8gNxGTo4wv9QUS75ii76lwI0lUc6rsVWp8yrBJcHRWg4PEG2-WR-xiAFnG9qnTJuMG2EloMjTWldmBn7sIJ0aWq_r1TQaZhE      1\n",
       "https://lh3.googleusercontent.com/nVZ9SC50gXPqlRZwkqip3W_blKdTCGDfrEAHreDHtd39caX3tqIyySzPcyQ7dxMUV5IScJbSkRPQMruZa7HSVUFex4xo434Oxyp8         1\n",
       "https://storage.opensea.io/0x06012c8cf97bead5deae237070f9587f8e7a266d/438133-1555614005.png                                                    1\n",
       "Name: image_url, Length: 28813, dtype: int64"
      ]
     },
     "metadata": {},
     "output_type": "display_data"
    },
    {
     "name": "stdout",
     "output_type": "stream",
     "text": [
      "\n",
      "\n",
      "\n",
      "*********** name ***********\n"
     ]
    },
    {
     "data": {
      "text/plain": [
       "Acid Drop                             866\n",
       "Ledger Legend Card                    193\n",
       "Polkastarter Babydragon                37\n",
       "Bitcoin Unidragon                      34\n",
       "Moonrock x Morningstar Babydragon      28\n",
       "                                     ... \n",
       "Gorgeous Guy                            1\n",
       "Tomcat                                  1\n",
       "Pocket Channeler ID #49893655           1\n",
       "Elon Musk#2                             1\n",
       "Joan Mazzaco 2020-21 • Rare 32/100      1\n",
       "Name: name, Length: 33675, dtype: int64"
      ]
     },
     "metadata": {},
     "output_type": "display_data"
    },
    {
     "name": "stdout",
     "output_type": "stream",
     "text": [
      "\n",
      "\n",
      "\n",
      "*********** owner.config ***********\n"
     ]
    },
    {
     "data": {
      "text/plain": [
       "verified             3219\n",
       "affiliate            1537\n",
       "moderator              10\n",
       "affiliate_partner       2\n",
       "Name: owner.config, dtype: int64"
      ]
     },
     "metadata": {},
     "output_type": "display_data"
    },
    {
     "name": "stdout",
     "output_type": "stream",
     "text": [
      "\n",
      "\n",
      "\n",
      "*********** owner.discord_id ***********\n"
     ]
    },
    {
     "data": {
      "text/plain": [
       "@kevinabosch           24\n",
       "cloudwhite☁|OpenSea    15\n",
       "419625211588116481      5\n",
       "499194181533564949      3\n",
       "387325865077243924      1\n",
       "@mera_takeru            1\n",
       "391063760317448204      1\n",
       "@sabet                  1\n",
       "Name: owner.discord_id, dtype: int64"
      ]
     },
     "metadata": {},
     "output_type": "display_data"
    },
    {
     "name": "stdout",
     "output_type": "stream",
     "text": [
      "\n",
      "\n",
      "\n",
      "*********** token_metadata ***********\n"
     ]
    },
    {
     "data": {
      "text/plain": [
       "https://ipfs.io/ipfs/QmWTjGKDwa7zMeM67P6K1yzpmHxSbnzkudehjspyCDtsTu                        19\n",
       "https://ipfs.io/ipfs/WMasterChef                                                           11\n",
       "https://ipfs-2.gitcoin.co:443/api/v0/cat/QmevCbVm34yDH9Y1Pm2vvK6u74DVkayM7VLYpxbhBDmn3a    10\n",
       "https://ipfsgateway.makersplace.com/ipfs/QmemZjidihcUCeXeM5FL9VraKvPW5E9yn2vdht5Y1oheXR     4\n",
       "0x0001020000010000000000000000000000000000000000000000000000000000                          4\n",
       "                                                                                           ..\n",
       "https://ipfs.io/ipfs//Qmea7DDtfHQY5jaQWz3rTNvpBBua9S8J8RQx8LnXNMKXoB                        1\n",
       "https://ipfs.io/ipfs/QmVVnKGPi426h2UUUFEJetFP24LibDpZNugTiLa3KWJ4Mb                         1\n",
       "https://meebits.larvalabs.com/meebit/12643                                                  1\n",
       "https://ipfs.io/ipfs/QmfETbiQLvpJguKUcXQXXZcND8ms7FwrtnRU8EVf9fk1Kx                         1\n",
       "https://voxies-meta-final.s3.us-east-2.amazonaws.com/3977                                   1\n",
       "Name: token_metadata, Length: 6791, dtype: int64"
      ]
     },
     "metadata": {},
     "output_type": "display_data"
    },
    {
     "name": "stdout",
     "output_type": "stream",
     "text": [
      "\n",
      "\n",
      "\n"
     ]
    }
   ],
   "source": [
    "for col in obj_col_withnull:\n",
    "    print(f\"*********** {col} ***********\")\n",
    "    display(df[col].value_counts())\n",
    "    print(\"\\n\\n\")"
   ]
  },
  {
   "cell_type": "code",
   "execution_count": 206,
   "metadata": {
    "ExecuteTime": {
     "end_time": "2021-07-07T05:22:22.586466Z",
     "start_time": "2021-07-07T05:22:22.228727Z"
    }
   },
   "outputs": [],
   "source": [
    "for col in obj_col_withnull:\n",
    "    df_binary[col] = np.where(df[col].isna(), 0, 1)"
   ]
  },
  {
   "cell_type": "markdown",
   "metadata": {},
   "source": [
    "## Add Target"
   ]
  },
  {
   "cell_type": "code",
   "execution_count": 212,
   "metadata": {
    "ExecuteTime": {
     "end_time": "2021-07-07T05:28:01.275093Z",
     "start_time": "2021-07-07T05:28:01.247502Z"
    }
   },
   "outputs": [],
   "source": [
    "df_binary['target'] = df['target']"
   ]
  },
  {
   "cell_type": "markdown",
   "metadata": {},
   "source": [
    "# Explore Data"
   ]
  },
  {
   "cell_type": "code",
   "execution_count": 218,
   "metadata": {
    "ExecuteTime": {
     "end_time": "2021-07-07T05:29:26.177741Z",
     "start_time": "2021-07-07T05:29:25.921186Z"
    }
   },
   "outputs": [
    {
     "data": {
      "text/html": [
       "<div>\n",
       "<style scoped>\n",
       "    .dataframe tbody tr th:only-of-type {\n",
       "        vertical-align: middle;\n",
       "    }\n",
       "\n",
       "    .dataframe tbody tr th {\n",
       "        vertical-align: top;\n",
       "    }\n",
       "\n",
       "    .dataframe thead th {\n",
       "        text-align: right;\n",
       "    }\n",
       "</style>\n",
       "<table border=\"1\" class=\"dataframe\">\n",
       "  <thead>\n",
       "    <tr style=\"text-align: right;\">\n",
       "      <th></th>\n",
       "      <th>is_presale</th>\n",
       "      <th>collection.featured</th>\n",
       "      <th>asset_contract.dev_seller_fee_basis_points_0</th>\n",
       "      <th>collection.dev_seller_fee_basis_points_0</th>\n",
       "      <th>asset_contract.seller_fee_basis_points_250</th>\n",
       "      <th>asset_contract.opensea_seller_fee_basis_points_250</th>\n",
       "      <th>collection.opensea_seller_fee_basis_points_250</th>\n",
       "      <th>asset_contract.asset_contract_type</th>\n",
       "      <th>asset_contract.schema_name</th>\n",
       "      <th>asset_contract.name</th>\n",
       "      <th>...</th>\n",
       "      <th>creator.discord_id</th>\n",
       "      <th>creator.user.username</th>\n",
       "      <th>description</th>\n",
       "      <th>external_link</th>\n",
       "      <th>image_url</th>\n",
       "      <th>name</th>\n",
       "      <th>owner.config</th>\n",
       "      <th>owner.discord_id</th>\n",
       "      <th>token_metadata</th>\n",
       "      <th>target</th>\n",
       "    </tr>\n",
       "  </thead>\n",
       "  <tbody>\n",
       "    <tr>\n",
       "      <th>count</th>\n",
       "      <td>44752.000000</td>\n",
       "      <td>44752.000000</td>\n",
       "      <td>44752.000000</td>\n",
       "      <td>44752.000000</td>\n",
       "      <td>44752.000000</td>\n",
       "      <td>44752.000000</td>\n",
       "      <td>44752.000000</td>\n",
       "      <td>44752.000000</td>\n",
       "      <td>44752.000000</td>\n",
       "      <td>44752.000000</td>\n",
       "      <td>...</td>\n",
       "      <td>44752.000000</td>\n",
       "      <td>44752.000000</td>\n",
       "      <td>44752.000000</td>\n",
       "      <td>44752.000000</td>\n",
       "      <td>44752.000000</td>\n",
       "      <td>44752.000000</td>\n",
       "      <td>44752.000000</td>\n",
       "      <td>44752.000000</td>\n",
       "      <td>44752.000000</td>\n",
       "      <td>44752.000000</td>\n",
       "    </tr>\n",
       "    <tr>\n",
       "      <th>mean</th>\n",
       "      <td>0.286043</td>\n",
       "      <td>0.022033</td>\n",
       "      <td>0.930238</td>\n",
       "      <td>0.715633</td>\n",
       "      <td>0.932830</td>\n",
       "      <td>0.997408</td>\n",
       "      <td>0.997386</td>\n",
       "      <td>0.670406</td>\n",
       "      <td>0.670406</td>\n",
       "      <td>0.285127</td>\n",
       "      <td>...</td>\n",
       "      <td>0.005117</td>\n",
       "      <td>0.456940</td>\n",
       "      <td>0.753955</td>\n",
       "      <td>0.406351</td>\n",
       "      <td>0.894508</td>\n",
       "      <td>0.806042</td>\n",
       "      <td>0.106543</td>\n",
       "      <td>0.001140</td>\n",
       "      <td>0.152999</td>\n",
       "      <td>0.602766</td>\n",
       "    </tr>\n",
       "    <tr>\n",
       "      <th>std</th>\n",
       "      <td>0.451915</td>\n",
       "      <td>0.146791</td>\n",
       "      <td>0.254749</td>\n",
       "      <td>0.451118</td>\n",
       "      <td>0.250319</td>\n",
       "      <td>0.050847</td>\n",
       "      <td>0.051065</td>\n",
       "      <td>0.470071</td>\n",
       "      <td>0.470071</td>\n",
       "      <td>0.451480</td>\n",
       "      <td>...</td>\n",
       "      <td>0.071351</td>\n",
       "      <td>0.498148</td>\n",
       "      <td>0.430710</td>\n",
       "      <td>0.491157</td>\n",
       "      <td>0.307190</td>\n",
       "      <td>0.395401</td>\n",
       "      <td>0.308534</td>\n",
       "      <td>0.033739</td>\n",
       "      <td>0.359990</td>\n",
       "      <td>0.489331</td>\n",
       "    </tr>\n",
       "    <tr>\n",
       "      <th>min</th>\n",
       "      <td>0.000000</td>\n",
       "      <td>0.000000</td>\n",
       "      <td>0.000000</td>\n",
       "      <td>0.000000</td>\n",
       "      <td>0.000000</td>\n",
       "      <td>0.000000</td>\n",
       "      <td>0.000000</td>\n",
       "      <td>0.000000</td>\n",
       "      <td>0.000000</td>\n",
       "      <td>0.000000</td>\n",
       "      <td>...</td>\n",
       "      <td>0.000000</td>\n",
       "      <td>0.000000</td>\n",
       "      <td>0.000000</td>\n",
       "      <td>0.000000</td>\n",
       "      <td>0.000000</td>\n",
       "      <td>0.000000</td>\n",
       "      <td>0.000000</td>\n",
       "      <td>0.000000</td>\n",
       "      <td>0.000000</td>\n",
       "      <td>0.000000</td>\n",
       "    </tr>\n",
       "    <tr>\n",
       "      <th>25%</th>\n",
       "      <td>0.000000</td>\n",
       "      <td>0.000000</td>\n",
       "      <td>1.000000</td>\n",
       "      <td>0.000000</td>\n",
       "      <td>1.000000</td>\n",
       "      <td>1.000000</td>\n",
       "      <td>1.000000</td>\n",
       "      <td>0.000000</td>\n",
       "      <td>0.000000</td>\n",
       "      <td>0.000000</td>\n",
       "      <td>...</td>\n",
       "      <td>0.000000</td>\n",
       "      <td>0.000000</td>\n",
       "      <td>1.000000</td>\n",
       "      <td>0.000000</td>\n",
       "      <td>1.000000</td>\n",
       "      <td>1.000000</td>\n",
       "      <td>0.000000</td>\n",
       "      <td>0.000000</td>\n",
       "      <td>0.000000</td>\n",
       "      <td>0.000000</td>\n",
       "    </tr>\n",
       "    <tr>\n",
       "      <th>50%</th>\n",
       "      <td>0.000000</td>\n",
       "      <td>0.000000</td>\n",
       "      <td>1.000000</td>\n",
       "      <td>1.000000</td>\n",
       "      <td>1.000000</td>\n",
       "      <td>1.000000</td>\n",
       "      <td>1.000000</td>\n",
       "      <td>1.000000</td>\n",
       "      <td>1.000000</td>\n",
       "      <td>0.000000</td>\n",
       "      <td>...</td>\n",
       "      <td>0.000000</td>\n",
       "      <td>0.000000</td>\n",
       "      <td>1.000000</td>\n",
       "      <td>0.000000</td>\n",
       "      <td>1.000000</td>\n",
       "      <td>1.000000</td>\n",
       "      <td>0.000000</td>\n",
       "      <td>0.000000</td>\n",
       "      <td>0.000000</td>\n",
       "      <td>1.000000</td>\n",
       "    </tr>\n",
       "    <tr>\n",
       "      <th>75%</th>\n",
       "      <td>1.000000</td>\n",
       "      <td>0.000000</td>\n",
       "      <td>1.000000</td>\n",
       "      <td>1.000000</td>\n",
       "      <td>1.000000</td>\n",
       "      <td>1.000000</td>\n",
       "      <td>1.000000</td>\n",
       "      <td>1.000000</td>\n",
       "      <td>1.000000</td>\n",
       "      <td>1.000000</td>\n",
       "      <td>...</td>\n",
       "      <td>0.000000</td>\n",
       "      <td>1.000000</td>\n",
       "      <td>1.000000</td>\n",
       "      <td>1.000000</td>\n",
       "      <td>1.000000</td>\n",
       "      <td>1.000000</td>\n",
       "      <td>0.000000</td>\n",
       "      <td>0.000000</td>\n",
       "      <td>0.000000</td>\n",
       "      <td>1.000000</td>\n",
       "    </tr>\n",
       "    <tr>\n",
       "      <th>max</th>\n",
       "      <td>1.000000</td>\n",
       "      <td>1.000000</td>\n",
       "      <td>1.000000</td>\n",
       "      <td>1.000000</td>\n",
       "      <td>1.000000</td>\n",
       "      <td>1.000000</td>\n",
       "      <td>1.000000</td>\n",
       "      <td>1.000000</td>\n",
       "      <td>1.000000</td>\n",
       "      <td>1.000000</td>\n",
       "      <td>...</td>\n",
       "      <td>1.000000</td>\n",
       "      <td>1.000000</td>\n",
       "      <td>1.000000</td>\n",
       "      <td>1.000000</td>\n",
       "      <td>1.000000</td>\n",
       "      <td>1.000000</td>\n",
       "      <td>1.000000</td>\n",
       "      <td>1.000000</td>\n",
       "      <td>1.000000</td>\n",
       "      <td>1.000000</td>\n",
       "    </tr>\n",
       "  </tbody>\n",
       "</table>\n",
       "<p>8 rows × 47 columns</p>\n",
       "</div>"
      ],
      "text/plain": [
       "         is_presale  collection.featured  \\\n",
       "count  44752.000000         44752.000000   \n",
       "mean       0.286043             0.022033   \n",
       "std        0.451915             0.146791   \n",
       "min        0.000000             0.000000   \n",
       "25%        0.000000             0.000000   \n",
       "50%        0.000000             0.000000   \n",
       "75%        1.000000             0.000000   \n",
       "max        1.000000             1.000000   \n",
       "\n",
       "       asset_contract.dev_seller_fee_basis_points_0  \\\n",
       "count                                  44752.000000   \n",
       "mean                                       0.930238   \n",
       "std                                        0.254749   \n",
       "min                                        0.000000   \n",
       "25%                                        1.000000   \n",
       "50%                                        1.000000   \n",
       "75%                                        1.000000   \n",
       "max                                        1.000000   \n",
       "\n",
       "       collection.dev_seller_fee_basis_points_0  \\\n",
       "count                              44752.000000   \n",
       "mean                                   0.715633   \n",
       "std                                    0.451118   \n",
       "min                                    0.000000   \n",
       "25%                                    0.000000   \n",
       "50%                                    1.000000   \n",
       "75%                                    1.000000   \n",
       "max                                    1.000000   \n",
       "\n",
       "       asset_contract.seller_fee_basis_points_250  \\\n",
       "count                                44752.000000   \n",
       "mean                                     0.932830   \n",
       "std                                      0.250319   \n",
       "min                                      0.000000   \n",
       "25%                                      1.000000   \n",
       "50%                                      1.000000   \n",
       "75%                                      1.000000   \n",
       "max                                      1.000000   \n",
       "\n",
       "       asset_contract.opensea_seller_fee_basis_points_250  \\\n",
       "count                                       44752.000000    \n",
       "mean                                            0.997408    \n",
       "std                                             0.050847    \n",
       "min                                             0.000000    \n",
       "25%                                             1.000000    \n",
       "50%                                             1.000000    \n",
       "75%                                             1.000000    \n",
       "max                                             1.000000    \n",
       "\n",
       "       collection.opensea_seller_fee_basis_points_250  \\\n",
       "count                                    44752.000000   \n",
       "mean                                         0.997386   \n",
       "std                                          0.051065   \n",
       "min                                          0.000000   \n",
       "25%                                          1.000000   \n",
       "50%                                          1.000000   \n",
       "75%                                          1.000000   \n",
       "max                                          1.000000   \n",
       "\n",
       "       asset_contract.asset_contract_type  asset_contract.schema_name  \\\n",
       "count                        44752.000000                44752.000000   \n",
       "mean                             0.670406                    0.670406   \n",
       "std                              0.470071                    0.470071   \n",
       "min                              0.000000                    0.000000   \n",
       "25%                              0.000000                    0.000000   \n",
       "50%                              1.000000                    1.000000   \n",
       "75%                              1.000000                    1.000000   \n",
       "max                              1.000000                    1.000000   \n",
       "\n",
       "       asset_contract.name  ...  creator.discord_id  creator.user.username  \\\n",
       "count         44752.000000  ...        44752.000000           44752.000000   \n",
       "mean              0.285127  ...            0.005117               0.456940   \n",
       "std               0.451480  ...            0.071351               0.498148   \n",
       "min               0.000000  ...            0.000000               0.000000   \n",
       "25%               0.000000  ...            0.000000               0.000000   \n",
       "50%               0.000000  ...            0.000000               0.000000   \n",
       "75%               1.000000  ...            0.000000               1.000000   \n",
       "max               1.000000  ...            1.000000               1.000000   \n",
       "\n",
       "        description  external_link     image_url          name  owner.config  \\\n",
       "count  44752.000000   44752.000000  44752.000000  44752.000000  44752.000000   \n",
       "mean       0.753955       0.406351      0.894508      0.806042      0.106543   \n",
       "std        0.430710       0.491157      0.307190      0.395401      0.308534   \n",
       "min        0.000000       0.000000      0.000000      0.000000      0.000000   \n",
       "25%        1.000000       0.000000      1.000000      1.000000      0.000000   \n",
       "50%        1.000000       0.000000      1.000000      1.000000      0.000000   \n",
       "75%        1.000000       1.000000      1.000000      1.000000      0.000000   \n",
       "max        1.000000       1.000000      1.000000      1.000000      1.000000   \n",
       "\n",
       "       owner.discord_id  token_metadata        target  \n",
       "count      44752.000000    44752.000000  44752.000000  \n",
       "mean           0.001140        0.152999      0.602766  \n",
       "std            0.033739        0.359990      0.489331  \n",
       "min            0.000000        0.000000      0.000000  \n",
       "25%            0.000000        0.000000      0.000000  \n",
       "50%            0.000000        0.000000      1.000000  \n",
       "75%            0.000000        0.000000      1.000000  \n",
       "max            1.000000        1.000000      1.000000  \n",
       "\n",
       "[8 rows x 47 columns]"
      ]
     },
     "execution_count": 218,
     "metadata": {},
     "output_type": "execute_result"
    }
   ],
   "source": [
    "df_binary.describe()"
   ]
  },
  {
   "cell_type": "markdown",
   "metadata": {},
   "source": [
    "## Explore Datetime"
   ]
  },
  {
   "cell_type": "code",
   "execution_count": 16,
   "metadata": {
    "ExecuteTime": {
     "end_time": "2021-07-03T15:48:46.386289Z",
     "start_time": "2021-07-03T15:48:44.403269Z"
    }
   },
   "outputs": [
    {
     "data": {
      "text/plain": [
       "<matplotlib.axes._subplots.AxesSubplot at 0x7fd42ca9f550>"
      ]
     },
     "execution_count": 16,
     "metadata": {},
     "output_type": "execute_result"
    },
    {
     "data": {
      "image/png": "[encoded data removed]",
      "text/plain": [
       "<Figure size 864x432 with 1 Axes>"
      ]
     },
     "metadata": {
      "needs_background": "light"
     },
     "output_type": "display_data"
    }
   ],
   "source": [
    "df['asset_contract.created_date'].dt.dayofweek.hist(figsize=[12,6])"
   ]
  },
  {
   "cell_type": "code",
   "execution_count": null,
   "metadata": {},
   "outputs": [],
   "source": []
  }
 ],
 "metadata": {
  "kernelspec": {
   "display_name": "learn-env",
   "language": "python",
   "name": "learn-env"
  },
  "language_info": {
   "codemirror_mode": {
    "name": "ipython",
    "version": 3
   },
   "file_extension": ".py",
   "mimetype": "text/x-python",
   "name": "python",
   "nbconvert_exporter": "python",
   "pygments_lexer": "ipython3",
   "version": "3.6.9"
  },
  "toc": {
   "base_numbering": 1,
   "nav_menu": {},
   "number_sections": true,
   "sideBar": true,
   "skip_h1_title": false,
   "title_cell": "Table of Contents",
   "title_sidebar": "Contents",
   "toc_cell": false,
   "toc_position": {
    "height": "calc(100% - 180px)",
    "left": "10px",
    "top": "150px",
    "width": "288px"
   },
   "toc_section_display": true,
   "toc_window_display": true
  }
 },
 "nbformat": 4,
 "nbformat_minor": 4
}
