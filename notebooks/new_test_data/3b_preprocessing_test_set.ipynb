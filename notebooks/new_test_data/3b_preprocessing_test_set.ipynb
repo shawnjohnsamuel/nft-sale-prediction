{
 "cells": [
  {
   "cell_type": "markdown",
   "metadata": {},
   "source": [
    "# Imports"
   ]
  },
  {
   "cell_type": "code",
   "execution_count": 1,
   "metadata": {
    "ExecuteTime": {
     "end_time": "2021-07-13T01:23:10.009517Z",
     "start_time": "2021-07-13T01:23:07.619682Z"
    }
   },
   "outputs": [],
   "source": [
    "import pandas as pd\n",
    "import numpy as np\n",
    "import matplotlib as plt\n",
    "%matplotlib inline"
   ]
  },
  {
   "cell_type": "markdown",
   "metadata": {},
   "source": [
    "# Data"
   ]
  },
  {
   "cell_type": "code",
   "execution_count": 2,
   "metadata": {
    "ExecuteTime": {
     "end_time": "2021-07-13T01:23:11.247793Z",
     "start_time": "2021-07-13T01:23:10.028333Z"
    }
   },
   "outputs": [],
   "source": [
    "parse_dates = ['asset_contract.created_date', 'collection.created_date']\n",
    "df = pd.read_csv('../data/2b_data_condensed_validation_set.csv', low_memory=False, parse_dates=parse_dates)"
   ]
  },
  {
   "cell_type": "code",
   "execution_count": 3,
   "metadata": {
    "ExecuteTime": {
     "end_time": "2021-07-13T01:23:11.318615Z",
     "start_time": "2021-07-13T01:23:11.268116Z"
    }
   },
   "outputs": [
    {
     "data": {
      "text/html": [
       "<div>\n",
       "<style scoped>\n",
       "    .dataframe tbody tr th:only-of-type {\n",
       "        vertical-align: middle;\n",
       "    }\n",
       "\n",
       "    .dataframe tbody tr th {\n",
       "        vertical-align: top;\n",
       "    }\n",
       "\n",
       "    .dataframe thead th {\n",
       "        text-align: right;\n",
       "    }\n",
       "</style>\n",
       "<table border=\"1\" class=\"dataframe\">\n",
       "  <thead>\n",
       "    <tr style=\"text-align: right;\">\n",
       "      <th></th>\n",
       "      <th>num_sales</th>\n",
       "      <th>sell_orders</th>\n",
       "      <th>last_sale.event_type</th>\n",
       "      <th>id</th>\n",
       "      <th>token_id</th>\n",
       "      <th>name</th>\n",
       "      <th>traits</th>\n",
       "      <th>description</th>\n",
       "      <th>is_presale</th>\n",
       "      <th>image_url</th>\n",
       "      <th>...</th>\n",
       "      <th>collection.medium_username</th>\n",
       "      <th>collection.chat_url</th>\n",
       "      <th>creator.user.username</th>\n",
       "      <th>creator.config</th>\n",
       "      <th>creator.profile_img_url</th>\n",
       "      <th>creator.discord_id</th>\n",
       "      <th>owner.address</th>\n",
       "      <th>owner.config</th>\n",
       "      <th>owner.profile_img_url</th>\n",
       "      <th>owner.discord_id</th>\n",
       "    </tr>\n",
       "  </thead>\n",
       "  <tbody>\n",
       "    <tr>\n",
       "      <th>0</th>\n",
       "      <td>0</td>\n",
       "      <td>NaN</td>\n",
       "      <td>NaN</td>\n",
       "      <td>31278619</td>\n",
       "      <td>6715461703434003445645336638579260494260736795...</td>\n",
       "      <td>[WordA]Chinese characters #6634</td>\n",
       "      <td>[{'trait_type': 'Chinese', 'value': 'character...</td>\n",
       "      <td>ID:6634 \\n\\nChinese characters: 柩 // 706  x  7...</td>\n",
       "      <td>True</td>\n",
       "      <td>https://lh3.googleusercontent.com/Pd7PXs5ZHtgv...</td>\n",
       "      <td>...</td>\n",
       "      <td>NaN</td>\n",
       "      <td>NaN</td>\n",
       "      <td>Suqingyan</td>\n",
       "      <td>NaN</td>\n",
       "      <td>https://storage.googleapis.com/opensea-static/...</td>\n",
       "      <td>NaN</td>\n",
       "      <td>0x0000000000000000000000000000000000000000</td>\n",
       "      <td>NaN</td>\n",
       "      <td>https://storage.googleapis.com/opensea-static/...</td>\n",
       "      <td>NaN</td>\n",
       "    </tr>\n",
       "    <tr>\n",
       "      <th>1</th>\n",
       "      <td>0</td>\n",
       "      <td>NaN</td>\n",
       "      <td>NaN</td>\n",
       "      <td>31278618</td>\n",
       "      <td>3108049546517070910075436470153648977290720661...</td>\n",
       "      <td>Moosy Rare 1998</td>\n",
       "      <td>[{'trait_type': 'Level', 'value': 'Rare', 'dis...</td>\n",
       "      <td>Moosy Rare 1998</td>\n",
       "      <td>True</td>\n",
       "      <td>https://lh3.googleusercontent.com/KfteuZFSCiCO...</td>\n",
       "      <td>...</td>\n",
       "      <td>NaN</td>\n",
       "      <td>NaN</td>\n",
       "      <td>Thebullishbearsnft</td>\n",
       "      <td>NaN</td>\n",
       "      <td>https://storage.googleapis.com/opensea-static/...</td>\n",
       "      <td>NaN</td>\n",
       "      <td>0x0000000000000000000000000000000000000000</td>\n",
       "      <td>NaN</td>\n",
       "      <td>https://storage.googleapis.com/opensea-static/...</td>\n",
       "      <td>NaN</td>\n",
       "    </tr>\n",
       "    <tr>\n",
       "      <th>2</th>\n",
       "      <td>0</td>\n",
       "      <td>NaN</td>\n",
       "      <td>NaN</td>\n",
       "      <td>31278617</td>\n",
       "      <td>9057683344706687937980539802150068508547322538...</td>\n",
       "      <td>Fortune Cookie # 22   - Unlockable Fortune FOR...</td>\n",
       "      <td>[]</td>\n",
       "      <td>Fortune Cookie # 22\\n\\nThis collection of uniq...</td>\n",
       "      <td>True</td>\n",
       "      <td>https://lh3.googleusercontent.com/caAUHZLbhExp...</td>\n",
       "      <td>...</td>\n",
       "      <td>NaN</td>\n",
       "      <td>NaN</td>\n",
       "      <td>FirstThingsFirst</td>\n",
       "      <td>NaN</td>\n",
       "      <td>https://storage.googleapis.com/opensea-static/...</td>\n",
       "      <td>NaN</td>\n",
       "      <td>0x0000000000000000000000000000000000000000</td>\n",
       "      <td>NaN</td>\n",
       "      <td>https://storage.googleapis.com/opensea-static/...</td>\n",
       "      <td>NaN</td>\n",
       "    </tr>\n",
       "    <tr>\n",
       "      <th>3</th>\n",
       "      <td>0</td>\n",
       "      <td>[{'created_date': '2021-07-13T00:17:14.492573'...</td>\n",
       "      <td>NaN</td>\n",
       "      <td>31278616</td>\n",
       "      <td>3268304683559065074852929730958675774624902165...</td>\n",
       "      <td>IconPunk #243 Ugandan Knuckles</td>\n",
       "      <td>[{'trait_type': 'person', 'value': 'Ugandan Kn...</td>\n",
       "      <td>24x24 pixels and pushing the limit to the max!...</td>\n",
       "      <td>True</td>\n",
       "      <td>https://lh3.googleusercontent.com/4XUpEHLMNbJl...</td>\n",
       "      <td>...</td>\n",
       "      <td>NaN</td>\n",
       "      <td>NaN</td>\n",
       "      <td>iconpunks</td>\n",
       "      <td>NaN</td>\n",
       "      <td>https://storage.googleapis.com/opensea-static/...</td>\n",
       "      <td>NaN</td>\n",
       "      <td>0x0000000000000000000000000000000000000000</td>\n",
       "      <td>NaN</td>\n",
       "      <td>https://storage.googleapis.com/opensea-static/...</td>\n",
       "      <td>NaN</td>\n",
       "    </tr>\n",
       "    <tr>\n",
       "      <th>4</th>\n",
       "      <td>0</td>\n",
       "      <td>[{'created_date': '2021-07-13T00:17:15.130145'...</td>\n",
       "      <td>NaN</td>\n",
       "      <td>31278614</td>\n",
       "      <td>7779220728716121010175700030620486582973273824...</td>\n",
       "      <td>PlagueDoctor #107</td>\n",
       "      <td>[{'trait_type': 'id', 'value': '107', 'display...</td>\n",
       "      <td>Where are the sick - There I Am. Healing since...</td>\n",
       "      <td>True</td>\n",
       "      <td>https://lh3.googleusercontent.com/pcJ0zq1Gr-ND...</td>\n",
       "      <td>...</td>\n",
       "      <td>NaN</td>\n",
       "      <td>NaN</td>\n",
       "      <td>PlagueDoctor</td>\n",
       "      <td>NaN</td>\n",
       "      <td>https://storage.googleapis.com/opensea-static/...</td>\n",
       "      <td>NaN</td>\n",
       "      <td>0x0000000000000000000000000000000000000000</td>\n",
       "      <td>NaN</td>\n",
       "      <td>https://storage.googleapis.com/opensea-static/...</td>\n",
       "      <td>NaN</td>\n",
       "    </tr>\n",
       "  </tbody>\n",
       "</table>\n",
       "<p>5 rows × 53 columns</p>\n",
       "</div>"
      ],
      "text/plain": [
       "   num_sales                                        sell_orders  \\\n",
       "0          0                                                NaN   \n",
       "1          0                                                NaN   \n",
       "2          0                                                NaN   \n",
       "3          0  [{'created_date': '2021-07-13T00:17:14.492573'...   \n",
       "4          0  [{'created_date': '2021-07-13T00:17:15.130145'...   \n",
       "\n",
       "  last_sale.event_type        id  \\\n",
       "0                  NaN  31278619   \n",
       "1                  NaN  31278618   \n",
       "2                  NaN  31278617   \n",
       "3                  NaN  31278616   \n",
       "4                  NaN  31278614   \n",
       "\n",
       "                                            token_id  \\\n",
       "0  6715461703434003445645336638579260494260736795...   \n",
       "1  3108049546517070910075436470153648977290720661...   \n",
       "2  9057683344706687937980539802150068508547322538...   \n",
       "3  3268304683559065074852929730958675774624902165...   \n",
       "4  7779220728716121010175700030620486582973273824...   \n",
       "\n",
       "                                                name  \\\n",
       "0                    [WordA]Chinese characters #6634   \n",
       "1                                    Moosy Rare 1998   \n",
       "2  Fortune Cookie # 22   - Unlockable Fortune FOR...   \n",
       "3                     IconPunk #243 Ugandan Knuckles   \n",
       "4                                  PlagueDoctor #107   \n",
       "\n",
       "                                              traits  \\\n",
       "0  [{'trait_type': 'Chinese', 'value': 'character...   \n",
       "1  [{'trait_type': 'Level', 'value': 'Rare', 'dis...   \n",
       "2                                                 []   \n",
       "3  [{'trait_type': 'person', 'value': 'Ugandan Kn...   \n",
       "4  [{'trait_type': 'id', 'value': '107', 'display...   \n",
       "\n",
       "                                         description  is_presale  \\\n",
       "0  ID:6634 \\n\\nChinese characters: 柩 // 706  x  7...        True   \n",
       "1                                    Moosy Rare 1998        True   \n",
       "2  Fortune Cookie # 22\\n\\nThis collection of uniq...        True   \n",
       "3  24x24 pixels and pushing the limit to the max!...        True   \n",
       "4  Where are the sick - There I Am. Healing since...        True   \n",
       "\n",
       "                                           image_url  ...  \\\n",
       "0  https://lh3.googleusercontent.com/Pd7PXs5ZHtgv...  ...   \n",
       "1  https://lh3.googleusercontent.com/KfteuZFSCiCO...  ...   \n",
       "2  https://lh3.googleusercontent.com/caAUHZLbhExp...  ...   \n",
       "3  https://lh3.googleusercontent.com/4XUpEHLMNbJl...  ...   \n",
       "4  https://lh3.googleusercontent.com/pcJ0zq1Gr-ND...  ...   \n",
       "\n",
       "  collection.medium_username collection.chat_url creator.user.username  \\\n",
       "0                        NaN                 NaN             Suqingyan   \n",
       "1                        NaN                 NaN    Thebullishbearsnft   \n",
       "2                        NaN                 NaN      FirstThingsFirst   \n",
       "3                        NaN                 NaN             iconpunks   \n",
       "4                        NaN                 NaN          PlagueDoctor   \n",
       "\n",
       "  creator.config                            creator.profile_img_url  \\\n",
       "0            NaN  https://storage.googleapis.com/opensea-static/...   \n",
       "1            NaN  https://storage.googleapis.com/opensea-static/...   \n",
       "2            NaN  https://storage.googleapis.com/opensea-static/...   \n",
       "3            NaN  https://storage.googleapis.com/opensea-static/...   \n",
       "4            NaN  https://storage.googleapis.com/opensea-static/...   \n",
       "\n",
       "  creator.discord_id                               owner.address owner.config  \\\n",
       "0                NaN  0x0000000000000000000000000000000000000000          NaN   \n",
       "1                NaN  0x0000000000000000000000000000000000000000          NaN   \n",
       "2                NaN  0x0000000000000000000000000000000000000000          NaN   \n",
       "3                NaN  0x0000000000000000000000000000000000000000          NaN   \n",
       "4                NaN  0x0000000000000000000000000000000000000000          NaN   \n",
       "\n",
       "                               owner.profile_img_url owner.discord_id  \n",
       "0  https://storage.googleapis.com/opensea-static/...              NaN  \n",
       "1  https://storage.googleapis.com/opensea-static/...              NaN  \n",
       "2  https://storage.googleapis.com/opensea-static/...              NaN  \n",
       "3  https://storage.googleapis.com/opensea-static/...              NaN  \n",
       "4  https://storage.googleapis.com/opensea-static/...              NaN  \n",
       "\n",
       "[5 rows x 53 columns]"
      ]
     },
     "execution_count": 3,
     "metadata": {},
     "output_type": "execute_result"
    }
   ],
   "source": [
    "df.head()"
   ]
  },
  {
   "cell_type": "markdown",
   "metadata": {
    "ExecuteTime": {
     "end_time": "2021-07-03T15:33:34.071848Z",
     "start_time": "2021-07-03T15:33:34.061435Z"
    }
   },
   "source": [
    "# Engineer Target"
   ]
  },
  {
   "cell_type": "code",
   "execution_count": 4,
   "metadata": {
    "ExecuteTime": {
     "end_time": "2021-07-13T01:23:11.358018Z",
     "start_time": "2021-07-13T01:23:11.325786Z"
    }
   },
   "outputs": [
    {
     "data": {
      "text/plain": [
       "False    0.575702\n",
       "True     0.424298\n",
       "Name: num_sales, dtype: float64"
      ]
     },
     "execution_count": 4,
     "metadata": {},
     "output_type": "execute_result"
    }
   ],
   "source": [
    "(df['num_sales'] > 0).value_counts(normalize=True)"
   ]
  },
  {
   "cell_type": "code",
   "execution_count": 5,
   "metadata": {
    "ExecuteTime": {
     "end_time": "2021-07-13T01:23:11.396308Z",
     "start_time": "2021-07-13T01:23:11.369259Z"
    }
   },
   "outputs": [
    {
     "data": {
      "text/plain": [
       "0.263671353988034"
      ]
     },
     "execution_count": 5,
     "metadata": {},
     "output_type": "execute_result"
    }
   ],
   "source": [
    "df['last_sale.event_type'].notna().sum()/len(df)"
   ]
  },
  {
   "cell_type": "code",
   "execution_count": 6,
   "metadata": {
    "ExecuteTime": {
     "end_time": "2021-07-13T01:23:11.433571Z",
     "start_time": "2021-07-13T01:23:11.409466Z"
    }
   },
   "outputs": [
    {
     "data": {
      "text/plain": [
       "0.2942342136351511"
      ]
     },
     "execution_count": 6,
     "metadata": {},
     "output_type": "execute_result"
    }
   ],
   "source": [
    "df['sell_orders'].notna().sum()/len(df)"
   ]
  },
  {
   "cell_type": "code",
   "execution_count": 7,
   "metadata": {
    "ExecuteTime": {
     "end_time": "2021-07-13T01:23:11.480891Z",
     "start_time": "2021-07-13T01:23:11.444137Z"
    }
   },
   "outputs": [
    {
     "data": {
      "text/plain": [
       "0.5962425212453794"
      ]
     },
     "execution_count": 7,
     "metadata": {},
     "output_type": "execute_result"
    }
   ],
   "source": [
    "len(df[(df['num_sales'] > 0) | \n",
    "       (df['sell_orders'].notna()) | \n",
    "       (df['last_sale.event_type'].notna())])/len(df)"
   ]
  },
  {
   "cell_type": "code",
   "execution_count": 8,
   "metadata": {
    "ExecuteTime": {
     "end_time": "2021-07-13T01:23:11.503425Z",
     "start_time": "2021-07-13T01:23:11.486265Z"
    }
   },
   "outputs": [],
   "source": [
    "df['target'] = np.where((df['num_sales'] > 0) | \n",
    "                        (df['sell_orders'].notna()) | \n",
    "                        (df['last_sale.event_type'].notna()), 1, 0)"
   ]
  },
  {
   "cell_type": "code",
   "execution_count": 9,
   "metadata": {
    "ExecuteTime": {
     "end_time": "2021-07-13T01:23:11.541494Z",
     "start_time": "2021-07-13T01:23:11.526110Z"
    }
   },
   "outputs": [
    {
     "data": {
      "text/plain": [
       "1    0.596243\n",
       "0    0.403757\n",
       "Name: target, dtype: float64"
      ]
     },
     "execution_count": 9,
     "metadata": {},
     "output_type": "execute_result"
    }
   ],
   "source": [
    "df['target'].value_counts(normalize=True)"
   ]
  },
  {
   "cell_type": "code",
   "execution_count": 10,
   "metadata": {
    "ExecuteTime": {
     "end_time": "2021-07-13T01:23:11.617318Z",
     "start_time": "2021-07-13T01:23:11.558845Z"
    },
    "scrolled": false
   },
   "outputs": [
    {
     "data": {
      "text/html": [
       "<div>\n",
       "<style scoped>\n",
       "    .dataframe tbody tr th:only-of-type {\n",
       "        vertical-align: middle;\n",
       "    }\n",
       "\n",
       "    .dataframe tbody tr th {\n",
       "        vertical-align: top;\n",
       "    }\n",
       "\n",
       "    .dataframe thead th {\n",
       "        text-align: right;\n",
       "    }\n",
       "</style>\n",
       "<table border=\"1\" class=\"dataframe\">\n",
       "  <thead>\n",
       "    <tr style=\"text-align: right;\">\n",
       "      <th></th>\n",
       "      <th>id</th>\n",
       "      <th>token_id</th>\n",
       "      <th>name</th>\n",
       "      <th>traits</th>\n",
       "      <th>description</th>\n",
       "      <th>is_presale</th>\n",
       "      <th>image_url</th>\n",
       "      <th>background_color</th>\n",
       "      <th>external_link</th>\n",
       "      <th>token_metadata</th>\n",
       "      <th>...</th>\n",
       "      <th>collection.chat_url</th>\n",
       "      <th>creator.user.username</th>\n",
       "      <th>creator.config</th>\n",
       "      <th>creator.profile_img_url</th>\n",
       "      <th>creator.discord_id</th>\n",
       "      <th>owner.address</th>\n",
       "      <th>owner.config</th>\n",
       "      <th>owner.profile_img_url</th>\n",
       "      <th>owner.discord_id</th>\n",
       "      <th>target</th>\n",
       "    </tr>\n",
       "  </thead>\n",
       "  <tbody>\n",
       "    <tr>\n",
       "      <th>0</th>\n",
       "      <td>31278619</td>\n",
       "      <td>6715461703434003445645336638579260494260736795...</td>\n",
       "      <td>[WordA]Chinese characters #6634</td>\n",
       "      <td>[{'trait_type': 'Chinese', 'value': 'character...</td>\n",
       "      <td>ID:6634 \\n\\nChinese characters: 柩 // 706  x  7...</td>\n",
       "      <td>True</td>\n",
       "      <td>https://lh3.googleusercontent.com/Pd7PXs5ZHtgv...</td>\n",
       "      <td>NaN</td>\n",
       "      <td>NaN</td>\n",
       "      <td>NaN</td>\n",
       "      <td>...</td>\n",
       "      <td>NaN</td>\n",
       "      <td>Suqingyan</td>\n",
       "      <td>NaN</td>\n",
       "      <td>https://storage.googleapis.com/opensea-static/...</td>\n",
       "      <td>NaN</td>\n",
       "      <td>0x0000000000000000000000000000000000000000</td>\n",
       "      <td>NaN</td>\n",
       "      <td>https://storage.googleapis.com/opensea-static/...</td>\n",
       "      <td>NaN</td>\n",
       "      <td>0</td>\n",
       "    </tr>\n",
       "    <tr>\n",
       "      <th>1</th>\n",
       "      <td>31278618</td>\n",
       "      <td>3108049546517070910075436470153648977290720661...</td>\n",
       "      <td>Moosy Rare 1998</td>\n",
       "      <td>[{'trait_type': 'Level', 'value': 'Rare', 'dis...</td>\n",
       "      <td>Moosy Rare 1998</td>\n",
       "      <td>True</td>\n",
       "      <td>https://lh3.googleusercontent.com/KfteuZFSCiCO...</td>\n",
       "      <td>NaN</td>\n",
       "      <td>NaN</td>\n",
       "      <td>NaN</td>\n",
       "      <td>...</td>\n",
       "      <td>NaN</td>\n",
       "      <td>Thebullishbearsnft</td>\n",
       "      <td>NaN</td>\n",
       "      <td>https://storage.googleapis.com/opensea-static/...</td>\n",
       "      <td>NaN</td>\n",
       "      <td>0x0000000000000000000000000000000000000000</td>\n",
       "      <td>NaN</td>\n",
       "      <td>https://storage.googleapis.com/opensea-static/...</td>\n",
       "      <td>NaN</td>\n",
       "      <td>0</td>\n",
       "    </tr>\n",
       "    <tr>\n",
       "      <th>2</th>\n",
       "      <td>31278617</td>\n",
       "      <td>9057683344706687937980539802150068508547322538...</td>\n",
       "      <td>Fortune Cookie # 22   - Unlockable Fortune FOR...</td>\n",
       "      <td>[]</td>\n",
       "      <td>Fortune Cookie # 22\\n\\nThis collection of uniq...</td>\n",
       "      <td>True</td>\n",
       "      <td>https://lh3.googleusercontent.com/caAUHZLbhExp...</td>\n",
       "      <td>NaN</td>\n",
       "      <td>NaN</td>\n",
       "      <td>NaN</td>\n",
       "      <td>...</td>\n",
       "      <td>NaN</td>\n",
       "      <td>FirstThingsFirst</td>\n",
       "      <td>NaN</td>\n",
       "      <td>https://storage.googleapis.com/opensea-static/...</td>\n",
       "      <td>NaN</td>\n",
       "      <td>0x0000000000000000000000000000000000000000</td>\n",
       "      <td>NaN</td>\n",
       "      <td>https://storage.googleapis.com/opensea-static/...</td>\n",
       "      <td>NaN</td>\n",
       "      <td>0</td>\n",
       "    </tr>\n",
       "    <tr>\n",
       "      <th>3</th>\n",
       "      <td>31278616</td>\n",
       "      <td>3268304683559065074852929730958675774624902165...</td>\n",
       "      <td>IconPunk #243 Ugandan Knuckles</td>\n",
       "      <td>[{'trait_type': 'person', 'value': 'Ugandan Kn...</td>\n",
       "      <td>24x24 pixels and pushing the limit to the max!...</td>\n",
       "      <td>True</td>\n",
       "      <td>https://lh3.googleusercontent.com/4XUpEHLMNbJl...</td>\n",
       "      <td>NaN</td>\n",
       "      <td>NaN</td>\n",
       "      <td>NaN</td>\n",
       "      <td>...</td>\n",
       "      <td>NaN</td>\n",
       "      <td>iconpunks</td>\n",
       "      <td>NaN</td>\n",
       "      <td>https://storage.googleapis.com/opensea-static/...</td>\n",
       "      <td>NaN</td>\n",
       "      <td>0x0000000000000000000000000000000000000000</td>\n",
       "      <td>NaN</td>\n",
       "      <td>https://storage.googleapis.com/opensea-static/...</td>\n",
       "      <td>NaN</td>\n",
       "      <td>1</td>\n",
       "    </tr>\n",
       "    <tr>\n",
       "      <th>4</th>\n",
       "      <td>31278614</td>\n",
       "      <td>7779220728716121010175700030620486582973273824...</td>\n",
       "      <td>PlagueDoctor #107</td>\n",
       "      <td>[{'trait_type': 'id', 'value': '107', 'display...</td>\n",
       "      <td>Where are the sick - There I Am. Healing since...</td>\n",
       "      <td>True</td>\n",
       "      <td>https://lh3.googleusercontent.com/pcJ0zq1Gr-ND...</td>\n",
       "      <td>NaN</td>\n",
       "      <td>NaN</td>\n",
       "      <td>NaN</td>\n",
       "      <td>...</td>\n",
       "      <td>NaN</td>\n",
       "      <td>PlagueDoctor</td>\n",
       "      <td>NaN</td>\n",
       "      <td>https://storage.googleapis.com/opensea-static/...</td>\n",
       "      <td>NaN</td>\n",
       "      <td>0x0000000000000000000000000000000000000000</td>\n",
       "      <td>NaN</td>\n",
       "      <td>https://storage.googleapis.com/opensea-static/...</td>\n",
       "      <td>NaN</td>\n",
       "      <td>1</td>\n",
       "    </tr>\n",
       "  </tbody>\n",
       "</table>\n",
       "<p>5 rows × 51 columns</p>\n",
       "</div>"
      ],
      "text/plain": [
       "         id                                           token_id  \\\n",
       "0  31278619  6715461703434003445645336638579260494260736795...   \n",
       "1  31278618  3108049546517070910075436470153648977290720661...   \n",
       "2  31278617  9057683344706687937980539802150068508547322538...   \n",
       "3  31278616  3268304683559065074852929730958675774624902165...   \n",
       "4  31278614  7779220728716121010175700030620486582973273824...   \n",
       "\n",
       "                                                name  \\\n",
       "0                    [WordA]Chinese characters #6634   \n",
       "1                                    Moosy Rare 1998   \n",
       "2  Fortune Cookie # 22   - Unlockable Fortune FOR...   \n",
       "3                     IconPunk #243 Ugandan Knuckles   \n",
       "4                                  PlagueDoctor #107   \n",
       "\n",
       "                                              traits  \\\n",
       "0  [{'trait_type': 'Chinese', 'value': 'character...   \n",
       "1  [{'trait_type': 'Level', 'value': 'Rare', 'dis...   \n",
       "2                                                 []   \n",
       "3  [{'trait_type': 'person', 'value': 'Ugandan Kn...   \n",
       "4  [{'trait_type': 'id', 'value': '107', 'display...   \n",
       "\n",
       "                                         description  is_presale  \\\n",
       "0  ID:6634 \\n\\nChinese characters: 柩 // 706  x  7...        True   \n",
       "1                                    Moosy Rare 1998        True   \n",
       "2  Fortune Cookie # 22\\n\\nThis collection of uniq...        True   \n",
       "3  24x24 pixels and pushing the limit to the max!...        True   \n",
       "4  Where are the sick - There I Am. Healing since...        True   \n",
       "\n",
       "                                           image_url background_color  \\\n",
       "0  https://lh3.googleusercontent.com/Pd7PXs5ZHtgv...              NaN   \n",
       "1  https://lh3.googleusercontent.com/KfteuZFSCiCO...              NaN   \n",
       "2  https://lh3.googleusercontent.com/caAUHZLbhExp...              NaN   \n",
       "3  https://lh3.googleusercontent.com/4XUpEHLMNbJl...              NaN   \n",
       "4  https://lh3.googleusercontent.com/pcJ0zq1Gr-ND...              NaN   \n",
       "\n",
       "  external_link token_metadata  ... collection.chat_url creator.user.username  \\\n",
       "0           NaN            NaN  ...                 NaN             Suqingyan   \n",
       "1           NaN            NaN  ...                 NaN    Thebullishbearsnft   \n",
       "2           NaN            NaN  ...                 NaN      FirstThingsFirst   \n",
       "3           NaN            NaN  ...                 NaN             iconpunks   \n",
       "4           NaN            NaN  ...                 NaN          PlagueDoctor   \n",
       "\n",
       "  creator.config                            creator.profile_img_url  \\\n",
       "0            NaN  https://storage.googleapis.com/opensea-static/...   \n",
       "1            NaN  https://storage.googleapis.com/opensea-static/...   \n",
       "2            NaN  https://storage.googleapis.com/opensea-static/...   \n",
       "3            NaN  https://storage.googleapis.com/opensea-static/...   \n",
       "4            NaN  https://storage.googleapis.com/opensea-static/...   \n",
       "\n",
       "  creator.discord_id                               owner.address owner.config  \\\n",
       "0                NaN  0x0000000000000000000000000000000000000000          NaN   \n",
       "1                NaN  0x0000000000000000000000000000000000000000          NaN   \n",
       "2                NaN  0x0000000000000000000000000000000000000000          NaN   \n",
       "3                NaN  0x0000000000000000000000000000000000000000          NaN   \n",
       "4                NaN  0x0000000000000000000000000000000000000000          NaN   \n",
       "\n",
       "                               owner.profile_img_url owner.discord_id  target  \n",
       "0  https://storage.googleapis.com/opensea-static/...              NaN       0  \n",
       "1  https://storage.googleapis.com/opensea-static/...              NaN       0  \n",
       "2  https://storage.googleapis.com/opensea-static/...              NaN       0  \n",
       "3  https://storage.googleapis.com/opensea-static/...              NaN       1  \n",
       "4  https://storage.googleapis.com/opensea-static/...              NaN       1  \n",
       "\n",
       "[5 rows x 51 columns]"
      ]
     },
     "execution_count": 10,
     "metadata": {},
     "output_type": "execute_result"
    }
   ],
   "source": [
    "df = df.drop(labels = ['num_sales', 'sell_orders', 'last_sale.event_type'], axis=1)\n",
    "df.head()"
   ]
  },
  {
   "cell_type": "markdown",
   "metadata": {},
   "source": [
    "# Engineer Binary Features"
   ]
  },
  {
   "cell_type": "markdown",
   "metadata": {},
   "source": [
    "## Explore"
   ]
  },
  {
   "cell_type": "code",
   "execution_count": 11,
   "metadata": {
    "ExecuteTime": {
     "end_time": "2021-07-13T01:23:12.182112Z",
     "start_time": "2021-07-13T01:23:11.624026Z"
    },
    "scrolled": true
   },
   "outputs": [
    {
     "data": {
      "text/html": [
       "<div>\n",
       "<style scoped>\n",
       "    .dataframe tbody tr th:only-of-type {\n",
       "        vertical-align: middle;\n",
       "    }\n",
       "\n",
       "    .dataframe tbody tr th {\n",
       "        vertical-align: top;\n",
       "    }\n",
       "\n",
       "    .dataframe thead th {\n",
       "        text-align: right;\n",
       "    }\n",
       "</style>\n",
       "<table border=\"1\" class=\"dataframe\">\n",
       "  <thead>\n",
       "    <tr style=\"text-align: right;\">\n",
       "      <th></th>\n",
       "      <th>Type</th>\n",
       "      <th>Null</th>\n",
       "      <th>Count</th>\n",
       "      <th>Unique</th>\n",
       "    </tr>\n",
       "  </thead>\n",
       "  <tbody>\n",
       "    <tr>\n",
       "      <th>is_presale</th>\n",
       "      <td>bool</td>\n",
       "      <td>0.00%</td>\n",
       "      <td>26241</td>\n",
       "      <td>2</td>\n",
       "    </tr>\n",
       "    <tr>\n",
       "      <th>collection.featured</th>\n",
       "      <td>bool</td>\n",
       "      <td>0.00%</td>\n",
       "      <td>26241</td>\n",
       "      <td>2</td>\n",
       "    </tr>\n",
       "    <tr>\n",
       "      <th>asset_contract.opensea_seller_fee_basis_points</th>\n",
       "      <td>int64</td>\n",
       "      <td>0.00%</td>\n",
       "      <td>26241</td>\n",
       "      <td>2</td>\n",
       "    </tr>\n",
       "    <tr>\n",
       "      <th>collection.opensea_seller_fee_basis_points</th>\n",
       "      <td>int64</td>\n",
       "      <td>0.00%</td>\n",
       "      <td>26241</td>\n",
       "      <td>2</td>\n",
       "    </tr>\n",
       "    <tr>\n",
       "      <th>target</th>\n",
       "      <td>int64</td>\n",
       "      <td>0.00%</td>\n",
       "      <td>26241</td>\n",
       "      <td>2</td>\n",
       "    </tr>\n",
       "    <tr>\n",
       "      <th>asset_contract.seller_fee_basis_points</th>\n",
       "      <td>int64</td>\n",
       "      <td>0.00%</td>\n",
       "      <td>26241</td>\n",
       "      <td>18</td>\n",
       "    </tr>\n",
       "    <tr>\n",
       "      <th>asset_contract.dev_seller_fee_basis_points</th>\n",
       "      <td>int64</td>\n",
       "      <td>0.00%</td>\n",
       "      <td>26241</td>\n",
       "      <td>18</td>\n",
       "    </tr>\n",
       "    <tr>\n",
       "      <th>collection.dev_seller_fee_basis_points</th>\n",
       "      <td>int64</td>\n",
       "      <td>0.00%</td>\n",
       "      <td>26241</td>\n",
       "      <td>56</td>\n",
       "    </tr>\n",
       "    <tr>\n",
       "      <th>id</th>\n",
       "      <td>int64</td>\n",
       "      <td>0.00%</td>\n",
       "      <td>26241</td>\n",
       "      <td>26241</td>\n",
       "    </tr>\n",
       "    <tr>\n",
       "      <th>asset_contract.created_date</th>\n",
       "      <td>datetime64[ns]</td>\n",
       "      <td>0.00%</td>\n",
       "      <td>26241</td>\n",
       "      <td>307</td>\n",
       "    </tr>\n",
       "    <tr>\n",
       "      <th>collection.created_date</th>\n",
       "      <td>datetime64[ns]</td>\n",
       "      <td>0.00%</td>\n",
       "      <td>26241</td>\n",
       "      <td>2775</td>\n",
       "    </tr>\n",
       "    <tr>\n",
       "      <th>asset_contract.asset_contract_type</th>\n",
       "      <td>object</td>\n",
       "      <td>0.00%</td>\n",
       "      <td>26241</td>\n",
       "      <td>2</td>\n",
       "    </tr>\n",
       "    <tr>\n",
       "      <th>asset_contract.schema_name</th>\n",
       "      <td>object</td>\n",
       "      <td>0.00%</td>\n",
       "      <td>26241</td>\n",
       "      <td>3</td>\n",
       "    </tr>\n",
       "    <tr>\n",
       "      <th>collection.safelist_request_status</th>\n",
       "      <td>object</td>\n",
       "      <td>0.00%</td>\n",
       "      <td>26241</td>\n",
       "      <td>4</td>\n",
       "    </tr>\n",
       "    <tr>\n",
       "      <th>owner.profile_img_url</th>\n",
       "      <td>object</td>\n",
       "      <td>0.00%</td>\n",
       "      <td>26241</td>\n",
       "      <td>33</td>\n",
       "    </tr>\n",
       "    <tr>\n",
       "      <th>asset_contract.name</th>\n",
       "      <td>object</td>\n",
       "      <td>0.00%</td>\n",
       "      <td>26241</td>\n",
       "      <td>279</td>\n",
       "    </tr>\n",
       "    <tr>\n",
       "      <th>collection.slug</th>\n",
       "      <td>object</td>\n",
       "      <td>0.00%</td>\n",
       "      <td>26241</td>\n",
       "      <td>2782</td>\n",
       "    </tr>\n",
       "    <tr>\n",
       "      <th>owner.address</th>\n",
       "      <td>object</td>\n",
       "      <td>0.00%</td>\n",
       "      <td>26241</td>\n",
       "      <td>8069</td>\n",
       "    </tr>\n",
       "    <tr>\n",
       "      <th>traits</th>\n",
       "      <td>object</td>\n",
       "      <td>0.00%</td>\n",
       "      <td>26241</td>\n",
       "      <td>11164</td>\n",
       "    </tr>\n",
       "    <tr>\n",
       "      <th>token_id</th>\n",
       "      <td>object</td>\n",
       "      <td>0.00%</td>\n",
       "      <td>26241</td>\n",
       "      <td>26241</td>\n",
       "    </tr>\n",
       "    <tr>\n",
       "      <th>creator.profile_img_url</th>\n",
       "      <td>object</td>\n",
       "      <td>1.07%</td>\n",
       "      <td>25960</td>\n",
       "      <td>33</td>\n",
       "    </tr>\n",
       "    <tr>\n",
       "      <th>collection.display_data.card_display_style</th>\n",
       "      <td>object</td>\n",
       "      <td>16.09%</td>\n",
       "      <td>22020</td>\n",
       "      <td>3</td>\n",
       "    </tr>\n",
       "    <tr>\n",
       "      <th>collection.image_url</th>\n",
       "      <td>object</td>\n",
       "      <td>17.56%</td>\n",
       "      <td>21633</td>\n",
       "      <td>2720</td>\n",
       "    </tr>\n",
       "    <tr>\n",
       "      <th>image_url</th>\n",
       "      <td>object</td>\n",
       "      <td>20.49%</td>\n",
       "      <td>20864</td>\n",
       "      <td>18189</td>\n",
       "    </tr>\n",
       "    <tr>\n",
       "      <th>collection.description</th>\n",
       "      <td>object</td>\n",
       "      <td>20.98%</td>\n",
       "      <td>20736</td>\n",
       "      <td>2474</td>\n",
       "    </tr>\n",
       "    <tr>\n",
       "      <th>name</th>\n",
       "      <td>object</td>\n",
       "      <td>23.04%</td>\n",
       "      <td>20194</td>\n",
       "      <td>18149</td>\n",
       "    </tr>\n",
       "    <tr>\n",
       "      <th>creator.user.username</th>\n",
       "      <td>object</td>\n",
       "      <td>30.97%</td>\n",
       "      <td>18114</td>\n",
       "      <td>3008</td>\n",
       "    </tr>\n",
       "    <tr>\n",
       "      <th>description</th>\n",
       "      <td>object</td>\n",
       "      <td>32.29%</td>\n",
       "      <td>17767</td>\n",
       "      <td>11058</td>\n",
       "    </tr>\n",
       "    <tr>\n",
       "      <th>collection.large_image_url</th>\n",
       "      <td>object</td>\n",
       "      <td>35.18%</td>\n",
       "      <td>17009</td>\n",
       "      <td>1422</td>\n",
       "    </tr>\n",
       "    <tr>\n",
       "      <th>collection.twitter_username</th>\n",
       "      <td>object</td>\n",
       "      <td>42.71%</td>\n",
       "      <td>15034</td>\n",
       "      <td>1230</td>\n",
       "    </tr>\n",
       "    <tr>\n",
       "      <th>collection.external_url</th>\n",
       "      <td>object</td>\n",
       "      <td>45.72%</td>\n",
       "      <td>14243</td>\n",
       "      <td>1106</td>\n",
       "    </tr>\n",
       "    <tr>\n",
       "      <th>asset_contract.nft_version</th>\n",
       "      <td>object</td>\n",
       "      <td>47.60%</td>\n",
       "      <td>13751</td>\n",
       "      <td>3</td>\n",
       "    </tr>\n",
       "    <tr>\n",
       "      <th>asset_contract.image_url</th>\n",
       "      <td>object</td>\n",
       "      <td>57.52%</td>\n",
       "      <td>11147</td>\n",
       "      <td>240</td>\n",
       "    </tr>\n",
       "    <tr>\n",
       "      <th>asset_contract.external_link</th>\n",
       "      <td>object</td>\n",
       "      <td>58.42%</td>\n",
       "      <td>10911</td>\n",
       "      <td>230</td>\n",
       "    </tr>\n",
       "    <tr>\n",
       "      <th>asset_contract.description</th>\n",
       "      <td>object</td>\n",
       "      <td>59.12%</td>\n",
       "      <td>10728</td>\n",
       "      <td>236</td>\n",
       "    </tr>\n",
       "    <tr>\n",
       "      <th>asset_contract.opensea_version</th>\n",
       "      <td>object</td>\n",
       "      <td>60.00%</td>\n",
       "      <td>10496</td>\n",
       "      <td>3</td>\n",
       "    </tr>\n",
       "    <tr>\n",
       "      <th>token_metadata</th>\n",
       "      <td>object</td>\n",
       "      <td>61.19%</td>\n",
       "      <td>10185</td>\n",
       "      <td>10101</td>\n",
       "    </tr>\n",
       "    <tr>\n",
       "      <th>collection.discord_url</th>\n",
       "      <td>object</td>\n",
       "      <td>63.80%</td>\n",
       "      <td>9499</td>\n",
       "      <td>373</td>\n",
       "    </tr>\n",
       "    <tr>\n",
       "      <th>external_link</th>\n",
       "      <td>object</td>\n",
       "      <td>71.28%</td>\n",
       "      <td>7536</td>\n",
       "      <td>5945</td>\n",
       "    </tr>\n",
       "    <tr>\n",
       "      <th>collection.telegram_url</th>\n",
       "      <td>object</td>\n",
       "      <td>75.19%</td>\n",
       "      <td>6511</td>\n",
       "      <td>197</td>\n",
       "    </tr>\n",
       "    <tr>\n",
       "      <th>collection.instagram_username</th>\n",
       "      <td>object</td>\n",
       "      <td>75.54%</td>\n",
       "      <td>6418</td>\n",
       "      <td>606</td>\n",
       "    </tr>\n",
       "    <tr>\n",
       "      <th>collection.display_data.images</th>\n",
       "      <td>object</td>\n",
       "      <td>78.15%</td>\n",
       "      <td>5734</td>\n",
       "      <td>18</td>\n",
       "    </tr>\n",
       "    <tr>\n",
       "      <th>asset_contract.total_supply</th>\n",
       "      <td>object</td>\n",
       "      <td>78.41%</td>\n",
       "      <td>5666</td>\n",
       "      <td>22</td>\n",
       "    </tr>\n",
       "    <tr>\n",
       "      <th>collection.medium_username</th>\n",
       "      <td>object</td>\n",
       "      <td>84.61%</td>\n",
       "      <td>4039</td>\n",
       "      <td>140</td>\n",
       "    </tr>\n",
       "    <tr>\n",
       "      <th>asset_contract.symbol</th>\n",
       "      <td>object</td>\n",
       "      <td>9.54%</td>\n",
       "      <td>23738</td>\n",
       "      <td>244</td>\n",
       "    </tr>\n",
       "    <tr>\n",
       "      <th>background_color</th>\n",
       "      <td>object</td>\n",
       "      <td>90.91%</td>\n",
       "      <td>2384</td>\n",
       "      <td>41</td>\n",
       "    </tr>\n",
       "    <tr>\n",
       "      <th>creator.config</th>\n",
       "      <td>object</td>\n",
       "      <td>94.44%</td>\n",
       "      <td>1459</td>\n",
       "      <td>4</td>\n",
       "    </tr>\n",
       "    <tr>\n",
       "      <th>collection.chat_url</th>\n",
       "      <td>object</td>\n",
       "      <td>95.08%</td>\n",
       "      <td>1292</td>\n",
       "      <td>1</td>\n",
       "    </tr>\n",
       "    <tr>\n",
       "      <th>owner.config</th>\n",
       "      <td>object</td>\n",
       "      <td>96.98%</td>\n",
       "      <td>793</td>\n",
       "      <td>4</td>\n",
       "    </tr>\n",
       "    <tr>\n",
       "      <th>creator.discord_id</th>\n",
       "      <td>object</td>\n",
       "      <td>99.25%</td>\n",
       "      <td>196</td>\n",
       "      <td>44</td>\n",
       "    </tr>\n",
       "    <tr>\n",
       "      <th>owner.discord_id</th>\n",
       "      <td>object</td>\n",
       "      <td>99.93%</td>\n",
       "      <td>19</td>\n",
       "      <td>8</td>\n",
       "    </tr>\n",
       "  </tbody>\n",
       "</table>\n",
       "</div>"
      ],
      "text/plain": [
       "                                                          Type    Null  Count  \\\n",
       "is_presale                                                bool   0.00%  26241   \n",
       "collection.featured                                       bool   0.00%  26241   \n",
       "asset_contract.opensea_seller_fee_basis_points           int64   0.00%  26241   \n",
       "collection.opensea_seller_fee_basis_points               int64   0.00%  26241   \n",
       "target                                                   int64   0.00%  26241   \n",
       "asset_contract.seller_fee_basis_points                   int64   0.00%  26241   \n",
       "asset_contract.dev_seller_fee_basis_points               int64   0.00%  26241   \n",
       "collection.dev_seller_fee_basis_points                   int64   0.00%  26241   \n",
       "id                                                       int64   0.00%  26241   \n",
       "asset_contract.created_date                     datetime64[ns]   0.00%  26241   \n",
       "collection.created_date                         datetime64[ns]   0.00%  26241   \n",
       "asset_contract.asset_contract_type                      object   0.00%  26241   \n",
       "asset_contract.schema_name                              object   0.00%  26241   \n",
       "collection.safelist_request_status                      object   0.00%  26241   \n",
       "owner.profile_img_url                                   object   0.00%  26241   \n",
       "asset_contract.name                                     object   0.00%  26241   \n",
       "collection.slug                                         object   0.00%  26241   \n",
       "owner.address                                           object   0.00%  26241   \n",
       "traits                                                  object   0.00%  26241   \n",
       "token_id                                                object   0.00%  26241   \n",
       "creator.profile_img_url                                 object   1.07%  25960   \n",
       "collection.display_data.card_display_style              object  16.09%  22020   \n",
       "collection.image_url                                    object  17.56%  21633   \n",
       "image_url                                               object  20.49%  20864   \n",
       "collection.description                                  object  20.98%  20736   \n",
       "name                                                    object  23.04%  20194   \n",
       "creator.user.username                                   object  30.97%  18114   \n",
       "description                                             object  32.29%  17767   \n",
       "collection.large_image_url                              object  35.18%  17009   \n",
       "collection.twitter_username                             object  42.71%  15034   \n",
       "collection.external_url                                 object  45.72%  14243   \n",
       "asset_contract.nft_version                              object  47.60%  13751   \n",
       "asset_contract.image_url                                object  57.52%  11147   \n",
       "asset_contract.external_link                            object  58.42%  10911   \n",
       "asset_contract.description                              object  59.12%  10728   \n",
       "asset_contract.opensea_version                          object  60.00%  10496   \n",
       "token_metadata                                          object  61.19%  10185   \n",
       "collection.discord_url                                  object  63.80%   9499   \n",
       "external_link                                           object  71.28%   7536   \n",
       "collection.telegram_url                                 object  75.19%   6511   \n",
       "collection.instagram_username                           object  75.54%   6418   \n",
       "collection.display_data.images                          object  78.15%   5734   \n",
       "asset_contract.total_supply                             object  78.41%   5666   \n",
       "collection.medium_username                              object  84.61%   4039   \n",
       "asset_contract.symbol                                   object   9.54%  23738   \n",
       "background_color                                        object  90.91%   2384   \n",
       "creator.config                                          object  94.44%   1459   \n",
       "collection.chat_url                                     object  95.08%   1292   \n",
       "owner.config                                            object  96.98%    793   \n",
       "creator.discord_id                                      object  99.25%    196   \n",
       "owner.discord_id                                        object  99.93%     19   \n",
       "\n",
       "                                               Unique  \n",
       "is_presale                                          2  \n",
       "collection.featured                                 2  \n",
       "asset_contract.opensea_seller_fee_basis_points      2  \n",
       "collection.opensea_seller_fee_basis_points          2  \n",
       "target                                              2  \n",
       "asset_contract.seller_fee_basis_points             18  \n",
       "asset_contract.dev_seller_fee_basis_points         18  \n",
       "collection.dev_seller_fee_basis_points             56  \n",
       "id                                              26241  \n",
       "asset_contract.created_date                       307  \n",
       "collection.created_date                          2775  \n",
       "asset_contract.asset_contract_type                  2  \n",
       "asset_contract.schema_name                          3  \n",
       "collection.safelist_request_status                  4  \n",
       "owner.profile_img_url                              33  \n",
       "asset_contract.name                               279  \n",
       "collection.slug                                  2782  \n",
       "owner.address                                    8069  \n",
       "traits                                          11164  \n",
       "token_id                                        26241  \n",
       "creator.profile_img_url                            33  \n",
       "collection.display_data.card_display_style          3  \n",
       "collection.image_url                             2720  \n",
       "image_url                                       18189  \n",
       "collection.description                           2474  \n",
       "name                                            18149  \n",
       "creator.user.username                            3008  \n",
       "description                                     11058  \n",
       "collection.large_image_url                       1422  \n",
       "collection.twitter_username                      1230  \n",
       "collection.external_url                          1106  \n",
       "asset_contract.nft_version                          3  \n",
       "asset_contract.image_url                          240  \n",
       "asset_contract.external_link                      230  \n",
       "asset_contract.description                        236  \n",
       "asset_contract.opensea_version                      3  \n",
       "token_metadata                                  10101  \n",
       "collection.discord_url                            373  \n",
       "external_link                                    5945  \n",
       "collection.telegram_url                           197  \n",
       "collection.instagram_username                     606  \n",
       "collection.display_data.images                     18  \n",
       "asset_contract.total_supply                        22  \n",
       "collection.medium_username                        140  \n",
       "asset_contract.symbol                             244  \n",
       "background_color                                   41  \n",
       "creator.config                                      4  \n",
       "collection.chat_url                                 1  \n",
       "owner.config                                        4  \n",
       "creator.discord_id                                 44  \n",
       "owner.discord_id                                    8  "
      ]
     },
     "metadata": {},
     "output_type": "display_data"
    }
   ],
   "source": [
    "# find out a bit more about the dtype, uniques, counts and how many null in each column\n",
    "\n",
    "df_isna = pd.DataFrame()\n",
    "\n",
    "for column in df.columns:\n",
    "    df_isna.loc['Type', column] = df.dtypes[column]\n",
    "    df_isna.loc['Null', column] = f\"{df[column].isna().sum()/len(df):.2%}\"\n",
    "    df_isna.loc['Count', column] = df[column].count()\n",
    "    df_isna.loc['Unique', column] = df[column].nunique()\n",
    "\n",
    "with pd.option_context('display.max_rows', 150):\n",
    "    display(df_isna.T.sort_values(by=['Type','Null','Count','Unique']))"
   ]
  },
  {
   "cell_type": "code",
   "execution_count": 12,
   "metadata": {
    "ExecuteTime": {
     "end_time": "2021-07-13T01:23:12.287858Z",
     "start_time": "2021-07-13T01:23:12.188137Z"
    },
    "scrolled": false
   },
   "outputs": [
    {
     "data": {
      "text/html": [
       "<div>\n",
       "<style scoped>\n",
       "    .dataframe tbody tr th:only-of-type {\n",
       "        vertical-align: middle;\n",
       "    }\n",
       "\n",
       "    .dataframe tbody tr th {\n",
       "        vertical-align: top;\n",
       "    }\n",
       "\n",
       "    .dataframe thead th {\n",
       "        text-align: right;\n",
       "    }\n",
       "</style>\n",
       "<table border=\"1\" class=\"dataframe\">\n",
       "  <thead>\n",
       "    <tr style=\"text-align: right;\">\n",
       "      <th></th>\n",
       "      <th>id</th>\n",
       "      <th>asset_contract.seller_fee_basis_points</th>\n",
       "      <th>asset_contract.dev_seller_fee_basis_points</th>\n",
       "      <th>asset_contract.opensea_seller_fee_basis_points</th>\n",
       "      <th>collection.dev_seller_fee_basis_points</th>\n",
       "      <th>collection.opensea_seller_fee_basis_points</th>\n",
       "      <th>target</th>\n",
       "    </tr>\n",
       "  </thead>\n",
       "  <tbody>\n",
       "    <tr>\n",
       "      <th>count</th>\n",
       "      <td>2.624100e+04</td>\n",
       "      <td>26241.000000</td>\n",
       "      <td>26241.000000</td>\n",
       "      <td>26241.000000</td>\n",
       "      <td>26241.000000</td>\n",
       "      <td>26241.000000</td>\n",
       "      <td>26241.000000</td>\n",
       "    </tr>\n",
       "    <tr>\n",
       "      <th>mean</th>\n",
       "      <td>2.189302e+07</td>\n",
       "      <td>357.006859</td>\n",
       "      <td>108.121527</td>\n",
       "      <td>248.885332</td>\n",
       "      <td>321.096338</td>\n",
       "      <td>248.875805</td>\n",
       "      <td>0.596243</td>\n",
       "    </tr>\n",
       "    <tr>\n",
       "      <th>std</th>\n",
       "      <td>1.070807e+07</td>\n",
       "      <td>238.870452</td>\n",
       "      <td>238.951804</td>\n",
       "      <td>16.656382</td>\n",
       "      <td>380.717754</td>\n",
       "      <td>16.727091</td>\n",
       "      <td>0.490659</td>\n",
       "    </tr>\n",
       "    <tr>\n",
       "      <th>min</th>\n",
       "      <td>1.150100e+05</td>\n",
       "      <td>250.000000</td>\n",
       "      <td>0.000000</td>\n",
       "      <td>0.000000</td>\n",
       "      <td>0.000000</td>\n",
       "      <td>0.000000</td>\n",
       "      <td>0.000000</td>\n",
       "    </tr>\n",
       "    <tr>\n",
       "      <th>25%</th>\n",
       "      <td>1.697735e+07</td>\n",
       "      <td>250.000000</td>\n",
       "      <td>0.000000</td>\n",
       "      <td>250.000000</td>\n",
       "      <td>0.000000</td>\n",
       "      <td>250.000000</td>\n",
       "      <td>0.000000</td>\n",
       "    </tr>\n",
       "    <tr>\n",
       "      <th>50%</th>\n",
       "      <td>2.332352e+07</td>\n",
       "      <td>250.000000</td>\n",
       "      <td>0.000000</td>\n",
       "      <td>250.000000</td>\n",
       "      <td>100.000000</td>\n",
       "      <td>250.000000</td>\n",
       "      <td>1.000000</td>\n",
       "    </tr>\n",
       "    <tr>\n",
       "      <th>75%</th>\n",
       "      <td>3.126994e+07</td>\n",
       "      <td>250.000000</td>\n",
       "      <td>0.000000</td>\n",
       "      <td>250.000000</td>\n",
       "      <td>500.000000</td>\n",
       "      <td>250.000000</td>\n",
       "      <td>1.000000</td>\n",
       "    </tr>\n",
       "    <tr>\n",
       "      <th>max</th>\n",
       "      <td>3.128001e+07</td>\n",
       "      <td>1500.000000</td>\n",
       "      <td>1250.000000</td>\n",
       "      <td>250.000000</td>\n",
       "      <td>1500.000000</td>\n",
       "      <td>250.000000</td>\n",
       "      <td>1.000000</td>\n",
       "    </tr>\n",
       "  </tbody>\n",
       "</table>\n",
       "</div>"
      ],
      "text/plain": [
       "                 id  asset_contract.seller_fee_basis_points  \\\n",
       "count  2.624100e+04                            26241.000000   \n",
       "mean   2.189302e+07                              357.006859   \n",
       "std    1.070807e+07                              238.870452   \n",
       "min    1.150100e+05                              250.000000   \n",
       "25%    1.697735e+07                              250.000000   \n",
       "50%    2.332352e+07                              250.000000   \n",
       "75%    3.126994e+07                              250.000000   \n",
       "max    3.128001e+07                             1500.000000   \n",
       "\n",
       "       asset_contract.dev_seller_fee_basis_points  \\\n",
       "count                                26241.000000   \n",
       "mean                                   108.121527   \n",
       "std                                    238.951804   \n",
       "min                                      0.000000   \n",
       "25%                                      0.000000   \n",
       "50%                                      0.000000   \n",
       "75%                                      0.000000   \n",
       "max                                   1250.000000   \n",
       "\n",
       "       asset_contract.opensea_seller_fee_basis_points  \\\n",
       "count                                    26241.000000   \n",
       "mean                                       248.885332   \n",
       "std                                         16.656382   \n",
       "min                                          0.000000   \n",
       "25%                                        250.000000   \n",
       "50%                                        250.000000   \n",
       "75%                                        250.000000   \n",
       "max                                        250.000000   \n",
       "\n",
       "       collection.dev_seller_fee_basis_points  \\\n",
       "count                            26241.000000   \n",
       "mean                               321.096338   \n",
       "std                                380.717754   \n",
       "min                                  0.000000   \n",
       "25%                                  0.000000   \n",
       "50%                                100.000000   \n",
       "75%                                500.000000   \n",
       "max                               1500.000000   \n",
       "\n",
       "       collection.opensea_seller_fee_basis_points        target  \n",
       "count                                26241.000000  26241.000000  \n",
       "mean                                   248.875805      0.596243  \n",
       "std                                     16.727091      0.490659  \n",
       "min                                      0.000000      0.000000  \n",
       "25%                                    250.000000      0.000000  \n",
       "50%                                    250.000000      1.000000  \n",
       "75%                                    250.000000      1.000000  \n",
       "max                                    250.000000      1.000000  "
      ]
     },
     "execution_count": 12,
     "metadata": {},
     "output_type": "execute_result"
    }
   ],
   "source": [
    "df.describe()"
   ]
  },
  {
   "cell_type": "markdown",
   "metadata": {},
   "source": [
    "## Split columns by type"
   ]
  },
  {
   "cell_type": "code",
   "execution_count": 13,
   "metadata": {
    "ExecuteTime": {
     "end_time": "2021-07-13T01:23:12.414731Z",
     "start_time": "2021-07-13T01:23:12.292988Z"
    },
    "scrolled": true
   },
   "outputs": [
    {
     "name": "stdout",
     "output_type": "stream",
     "text": [
      "Boolean = ['is_presale', 'collection.featured'] \n",
      "\n",
      "Integer = ['id', 'asset_contract.seller_fee_basis_points', 'asset_contract.dev_seller_fee_basis_points', 'asset_contract.opensea_seller_fee_basis_points', 'collection.dev_seller_fee_basis_points', 'collection.opensea_seller_fee_basis_points', 'target'] \n",
      "\n",
      "Time = ['asset_contract.created_date', 'collection.created_date'] \n",
      "\n",
      "Object = ['token_id', 'name', 'traits', 'description', 'image_url', 'background_color', 'external_link', 'token_metadata', 'asset_contract.name', 'asset_contract.description', 'asset_contract.total_supply', 'asset_contract.symbol', 'asset_contract.schema_name', 'asset_contract.asset_contract_type', 'asset_contract.nft_version', 'asset_contract.opensea_version', 'asset_contract.external_link', 'asset_contract.image_url', 'collection.slug', 'collection.safelist_request_status', 'collection.description', 'collection.display_data.card_display_style', 'collection.external_url', 'collection.image_url', 'collection.large_image_url', 'collection.display_data.images', 'collection.twitter_username', 'collection.instagram_username', 'collection.discord_url', 'collection.telegram_url', 'collection.medium_username', 'collection.chat_url', 'creator.user.username', 'creator.config', 'creator.profile_img_url', 'creator.discord_id', 'owner.address', 'owner.config', 'owner.profile_img_url', 'owner.discord_id'] \n",
      "\n"
     ]
    }
   ],
   "source": [
    "bool_col = []\n",
    "int_col = []\n",
    "time_col = []\n",
    "obj_col = []\n",
    "\n",
    "for column in df.columns:\n",
    "    if df.dtypes[column] == 'bool':\n",
    "        bool_col.append(column)\n",
    "    elif df.dtypes[column] == 'int64':\n",
    "        int_col.append(column)\n",
    "    elif df.dtypes[column] == '<M8[ns]':\n",
    "        time_col.append(column)\n",
    "    elif df.dtypes[column] == 'object':\n",
    "        obj_col.append(column)\n",
    "        \n",
    "print(f\"Boolean = {bool_col} \\n\")\n",
    "print(f\"Integer = {int_col} \\n\")\n",
    "print(f\"Time = {time_col} \\n\")\n",
    "print(f\"Object = {obj_col} \\n\")"
   ]
  },
  {
   "cell_type": "markdown",
   "metadata": {},
   "source": [
    "### Boolean"
   ]
  },
  {
   "cell_type": "code",
   "execution_count": 14,
   "metadata": {
    "ExecuteTime": {
     "end_time": "2021-07-13T01:23:12.447452Z",
     "start_time": "2021-07-13T01:23:12.431382Z"
    }
   },
   "outputs": [],
   "source": [
    "df_binary = pd.DataFrame()\n",
    "\n",
    "for column in bool_col:\n",
    "    df_binary[column] = np.where(df[column] == True, 1, 0)"
   ]
  },
  {
   "cell_type": "code",
   "execution_count": 15,
   "metadata": {
    "ExecuteTime": {
     "end_time": "2021-07-13T01:23:12.493528Z",
     "start_time": "2021-07-13T01:23:12.453151Z"
    }
   },
   "outputs": [
    {
     "data": {
      "text/html": [
       "<div>\n",
       "<style scoped>\n",
       "    .dataframe tbody tr th:only-of-type {\n",
       "        vertical-align: middle;\n",
       "    }\n",
       "\n",
       "    .dataframe tbody tr th {\n",
       "        vertical-align: top;\n",
       "    }\n",
       "\n",
       "    .dataframe thead th {\n",
       "        text-align: right;\n",
       "    }\n",
       "</style>\n",
       "<table border=\"1\" class=\"dataframe\">\n",
       "  <thead>\n",
       "    <tr style=\"text-align: right;\">\n",
       "      <th></th>\n",
       "      <th>is_presale</th>\n",
       "      <th>collection.featured</th>\n",
       "    </tr>\n",
       "  </thead>\n",
       "  <tbody>\n",
       "    <tr>\n",
       "      <th>count</th>\n",
       "      <td>26241.000000</td>\n",
       "      <td>26241.000000</td>\n",
       "    </tr>\n",
       "    <tr>\n",
       "      <th>mean</th>\n",
       "      <td>0.400366</td>\n",
       "      <td>0.049808</td>\n",
       "    </tr>\n",
       "    <tr>\n",
       "      <th>std</th>\n",
       "      <td>0.489982</td>\n",
       "      <td>0.217551</td>\n",
       "    </tr>\n",
       "    <tr>\n",
       "      <th>min</th>\n",
       "      <td>0.000000</td>\n",
       "      <td>0.000000</td>\n",
       "    </tr>\n",
       "    <tr>\n",
       "      <th>25%</th>\n",
       "      <td>0.000000</td>\n",
       "      <td>0.000000</td>\n",
       "    </tr>\n",
       "    <tr>\n",
       "      <th>50%</th>\n",
       "      <td>0.000000</td>\n",
       "      <td>0.000000</td>\n",
       "    </tr>\n",
       "    <tr>\n",
       "      <th>75%</th>\n",
       "      <td>1.000000</td>\n",
       "      <td>0.000000</td>\n",
       "    </tr>\n",
       "    <tr>\n",
       "      <th>max</th>\n",
       "      <td>1.000000</td>\n",
       "      <td>1.000000</td>\n",
       "    </tr>\n",
       "  </tbody>\n",
       "</table>\n",
       "</div>"
      ],
      "text/plain": [
       "         is_presale  collection.featured\n",
       "count  26241.000000         26241.000000\n",
       "mean       0.400366             0.049808\n",
       "std        0.489982             0.217551\n",
       "min        0.000000             0.000000\n",
       "25%        0.000000             0.000000\n",
       "50%        0.000000             0.000000\n",
       "75%        1.000000             0.000000\n",
       "max        1.000000             1.000000"
      ]
     },
     "execution_count": 15,
     "metadata": {},
     "output_type": "execute_result"
    }
   ],
   "source": [
    "df_binary.describe()"
   ]
  },
  {
   "cell_type": "markdown",
   "metadata": {},
   "source": [
    "### Integers"
   ]
  },
  {
   "cell_type": "code",
   "execution_count": 16,
   "metadata": {
    "ExecuteTime": {
     "end_time": "2021-07-13T01:23:12.594014Z",
     "start_time": "2021-07-13T01:23:12.499871Z"
    },
    "scrolled": true
   },
   "outputs": [
    {
     "data": {
      "text/plain": [
       "20645887    1\n",
       "1701474     1\n",
       "19553825    1\n",
       "26310180    1\n",
       "21065255    1\n",
       "           ..\n",
       "16120874    1\n",
       "31278702    1\n",
       "31271984    1\n",
       "31274035    1\n",
       "31264770    1\n",
       "Name: id, Length: 26241, dtype: int64"
      ]
     },
     "metadata": {},
     "output_type": "display_data"
    },
    {
     "data": {
      "text/plain": [
       "250     20915\n",
       "750      2711\n",
       "500      1155\n",
       "1250      850\n",
       "550       266\n",
       "1000      260\n",
       "600        32\n",
       "450        10\n",
       "850        10\n",
       "350        10\n",
       "1350        7\n",
       "1500        6\n",
       "666         3\n",
       "759         2\n",
       "950         1\n",
       "650         1\n",
       "251         1\n",
       "400         1\n",
       "Name: asset_contract.seller_fee_basis_points, dtype: int64"
      ]
     },
     "metadata": {},
     "output_type": "display_data"
    },
    {
     "data": {
      "text/plain": [
       "0       20798\n",
       "500      2711\n",
       "250      1272\n",
       "1000      850\n",
       "300       266\n",
       "750       260\n",
       "350        32\n",
       "600        10\n",
       "100        10\n",
       "200        10\n",
       "1100        7\n",
       "1250        6\n",
       "416         3\n",
       "509         2\n",
       "700         1\n",
       "150         1\n",
       "1           1\n",
       "400         1\n",
       "Name: asset_contract.dev_seller_fee_basis_points, dtype: int64"
      ]
     },
     "metadata": {},
     "output_type": "display_data"
    },
    {
     "data": {
      "text/plain": [
       "250    26124\n",
       "0        117\n",
       "Name: asset_contract.opensea_seller_fee_basis_points, dtype: int64"
      ]
     },
     "metadata": {},
     "output_type": "display_data"
    },
    {
     "data": {
      "text/plain": [
       "0       12668\n",
       "500      5274\n",
       "1000     4632\n",
       "250      1731\n",
       "750       333\n",
       "300       307\n",
       "100       256\n",
       "200       250\n",
       "400       202\n",
       "10        160\n",
       "1          49\n",
       "900        48\n",
       "350        46\n",
       "999        35\n",
       "112        28\n",
       "800        21\n",
       "700        20\n",
       "150        17\n",
       "50         16\n",
       "600        15\n",
       "1250       14\n",
       "690        11\n",
       "20         10\n",
       "543         9\n",
       "5           9\n",
       "1500        9\n",
       "969         8\n",
       "1100        7\n",
       "420         7\n",
       "369         7\n",
       "850         4\n",
       "650         3\n",
       "69          3\n",
       "416         3\n",
       "2           2\n",
       "3           2\n",
       "950         2\n",
       "777         2\n",
       "15          2\n",
       "509         2\n",
       "269         2\n",
       "490         1\n",
       "270         1\n",
       "960         1\n",
       "299         1\n",
       "810         1\n",
       "70          1\n",
       "710         1\n",
       "450         1\n",
       "249         1\n",
       "25          1\n",
       "888         1\n",
       "247         1\n",
       "35          1\n",
       "707         1\n",
       "927         1\n",
       "Name: collection.dev_seller_fee_basis_points, dtype: int64"
      ]
     },
     "metadata": {},
     "output_type": "display_data"
    },
    {
     "data": {
      "text/plain": [
       "250    26123\n",
       "0        118\n",
       "Name: collection.opensea_seller_fee_basis_points, dtype: int64"
      ]
     },
     "metadata": {},
     "output_type": "display_data"
    },
    {
     "data": {
      "text/plain": [
       "1    15646\n",
       "0    10595\n",
       "Name: target, dtype: int64"
      ]
     },
     "metadata": {},
     "output_type": "display_data"
    }
   ],
   "source": [
    "for col in int_col:\n",
    "    display(df[col].value_counts())"
   ]
  },
  {
   "cell_type": "code",
   "execution_count": 17,
   "metadata": {
    "ExecuteTime": {
     "end_time": "2021-07-13T01:23:12.630107Z",
     "start_time": "2021-07-13T01:23:12.601842Z"
    }
   },
   "outputs": [],
   "source": [
    "# will set binary for int columns based on the dominant integer value which are either '0' or '250'\n",
    "\n",
    "int_col_250 = ['asset_contract.seller_fee_basis_points',\n",
    "               'asset_contract.opensea_seller_fee_basis_points',\n",
    "               'collection.opensea_seller_fee_basis_points']\n",
    "\n",
    "int_col_0 = ['asset_contract.dev_seller_fee_basis_points',\n",
    "             'collection.dev_seller_fee_basis_points']\n",
    "\n",
    "for column in int_col_0:\n",
    "    df_binary[f\"{column}_0\"] = np.where(df[column] == 0, 1, 0)\n",
    "\n",
    "for column in int_col_250:\n",
    "    df_binary[f\"{column}_250\"] = np.where(df[column] == 250, 1, 0)"
   ]
  },
  {
   "cell_type": "code",
   "execution_count": 18,
   "metadata": {
    "ExecuteTime": {
     "end_time": "2021-07-13T01:23:12.705094Z",
     "start_time": "2021-07-13T01:23:12.640711Z"
    },
    "scrolled": false
   },
   "outputs": [
    {
     "data": {
      "text/html": [
       "<div>\n",
       "<style scoped>\n",
       "    .dataframe tbody tr th:only-of-type {\n",
       "        vertical-align: middle;\n",
       "    }\n",
       "\n",
       "    .dataframe tbody tr th {\n",
       "        vertical-align: top;\n",
       "    }\n",
       "\n",
       "    .dataframe thead th {\n",
       "        text-align: right;\n",
       "    }\n",
       "</style>\n",
       "<table border=\"1\" class=\"dataframe\">\n",
       "  <thead>\n",
       "    <tr style=\"text-align: right;\">\n",
       "      <th></th>\n",
       "      <th>is_presale</th>\n",
       "      <th>collection.featured</th>\n",
       "      <th>asset_contract.dev_seller_fee_basis_points_0</th>\n",
       "      <th>collection.dev_seller_fee_basis_points_0</th>\n",
       "      <th>asset_contract.seller_fee_basis_points_250</th>\n",
       "      <th>asset_contract.opensea_seller_fee_basis_points_250</th>\n",
       "      <th>collection.opensea_seller_fee_basis_points_250</th>\n",
       "    </tr>\n",
       "  </thead>\n",
       "  <tbody>\n",
       "    <tr>\n",
       "      <th>count</th>\n",
       "      <td>26241.000000</td>\n",
       "      <td>26241.000000</td>\n",
       "      <td>26241.000000</td>\n",
       "      <td>26241.000000</td>\n",
       "      <td>26241.000000</td>\n",
       "      <td>26241.000000</td>\n",
       "      <td>26241.000000</td>\n",
       "    </tr>\n",
       "    <tr>\n",
       "      <th>mean</th>\n",
       "      <td>0.400366</td>\n",
       "      <td>0.049808</td>\n",
       "      <td>0.792577</td>\n",
       "      <td>0.482756</td>\n",
       "      <td>0.797035</td>\n",
       "      <td>0.995541</td>\n",
       "      <td>0.995503</td>\n",
       "    </tr>\n",
       "    <tr>\n",
       "      <th>std</th>\n",
       "      <td>0.489982</td>\n",
       "      <td>0.217551</td>\n",
       "      <td>0.405469</td>\n",
       "      <td>0.499712</td>\n",
       "      <td>0.402214</td>\n",
       "      <td>0.066626</td>\n",
       "      <td>0.066908</td>\n",
       "    </tr>\n",
       "    <tr>\n",
       "      <th>min</th>\n",
       "      <td>0.000000</td>\n",
       "      <td>0.000000</td>\n",
       "      <td>0.000000</td>\n",
       "      <td>0.000000</td>\n",
       "      <td>0.000000</td>\n",
       "      <td>0.000000</td>\n",
       "      <td>0.000000</td>\n",
       "    </tr>\n",
       "    <tr>\n",
       "      <th>25%</th>\n",
       "      <td>0.000000</td>\n",
       "      <td>0.000000</td>\n",
       "      <td>1.000000</td>\n",
       "      <td>0.000000</td>\n",
       "      <td>1.000000</td>\n",
       "      <td>1.000000</td>\n",
       "      <td>1.000000</td>\n",
       "    </tr>\n",
       "    <tr>\n",
       "      <th>50%</th>\n",
       "      <td>0.000000</td>\n",
       "      <td>0.000000</td>\n",
       "      <td>1.000000</td>\n",
       "      <td>0.000000</td>\n",
       "      <td>1.000000</td>\n",
       "      <td>1.000000</td>\n",
       "      <td>1.000000</td>\n",
       "    </tr>\n",
       "    <tr>\n",
       "      <th>75%</th>\n",
       "      <td>1.000000</td>\n",
       "      <td>0.000000</td>\n",
       "      <td>1.000000</td>\n",
       "      <td>1.000000</td>\n",
       "      <td>1.000000</td>\n",
       "      <td>1.000000</td>\n",
       "      <td>1.000000</td>\n",
       "    </tr>\n",
       "    <tr>\n",
       "      <th>max</th>\n",
       "      <td>1.000000</td>\n",
       "      <td>1.000000</td>\n",
       "      <td>1.000000</td>\n",
       "      <td>1.000000</td>\n",
       "      <td>1.000000</td>\n",
       "      <td>1.000000</td>\n",
       "      <td>1.000000</td>\n",
       "    </tr>\n",
       "  </tbody>\n",
       "</table>\n",
       "</div>"
      ],
      "text/plain": [
       "         is_presale  collection.featured  \\\n",
       "count  26241.000000         26241.000000   \n",
       "mean       0.400366             0.049808   \n",
       "std        0.489982             0.217551   \n",
       "min        0.000000             0.000000   \n",
       "25%        0.000000             0.000000   \n",
       "50%        0.000000             0.000000   \n",
       "75%        1.000000             0.000000   \n",
       "max        1.000000             1.000000   \n",
       "\n",
       "       asset_contract.dev_seller_fee_basis_points_0  \\\n",
       "count                                  26241.000000   \n",
       "mean                                       0.792577   \n",
       "std                                        0.405469   \n",
       "min                                        0.000000   \n",
       "25%                                        1.000000   \n",
       "50%                                        1.000000   \n",
       "75%                                        1.000000   \n",
       "max                                        1.000000   \n",
       "\n",
       "       collection.dev_seller_fee_basis_points_0  \\\n",
       "count                              26241.000000   \n",
       "mean                                   0.482756   \n",
       "std                                    0.499712   \n",
       "min                                    0.000000   \n",
       "25%                                    0.000000   \n",
       "50%                                    0.000000   \n",
       "75%                                    1.000000   \n",
       "max                                    1.000000   \n",
       "\n",
       "       asset_contract.seller_fee_basis_points_250  \\\n",
       "count                                26241.000000   \n",
       "mean                                     0.797035   \n",
       "std                                      0.402214   \n",
       "min                                      0.000000   \n",
       "25%                                      1.000000   \n",
       "50%                                      1.000000   \n",
       "75%                                      1.000000   \n",
       "max                                      1.000000   \n",
       "\n",
       "       asset_contract.opensea_seller_fee_basis_points_250  \\\n",
       "count                                       26241.000000    \n",
       "mean                                            0.995541    \n",
       "std                                             0.066626    \n",
       "min                                             0.000000    \n",
       "25%                                             1.000000    \n",
       "50%                                             1.000000    \n",
       "75%                                             1.000000    \n",
       "max                                             1.000000    \n",
       "\n",
       "       collection.opensea_seller_fee_basis_points_250  \n",
       "count                                    26241.000000  \n",
       "mean                                         0.995503  \n",
       "std                                          0.066908  \n",
       "min                                          0.000000  \n",
       "25%                                          1.000000  \n",
       "50%                                          1.000000  \n",
       "75%                                          1.000000  \n",
       "max                                          1.000000  "
      ]
     },
     "execution_count": 18,
     "metadata": {},
     "output_type": "execute_result"
    }
   ],
   "source": [
    "df_binary.describe()"
   ]
  },
  {
   "cell_type": "markdown",
   "metadata": {},
   "source": [
    "### Objects"
   ]
  },
  {
   "cell_type": "markdown",
   "metadata": {},
   "source": [
    "#### No Null Values"
   ]
  },
  {
   "cell_type": "code",
   "execution_count": 19,
   "metadata": {
    "ExecuteTime": {
     "end_time": "2021-07-13T01:23:13.565356Z",
     "start_time": "2021-07-13T01:23:12.715257Z"
    },
    "scrolled": true
   },
   "outputs": [
    {
     "name": "stdout",
     "output_type": "stream",
     "text": [
      "*********** token_id ***********\n"
     ]
    },
    {
     "data": {
      "text/plain": [
       "28447412226086517906447925790233853288880282466351253792794280888779707252737    1\n",
       "109000055                                                                        1\n",
       "13273                                                                            1\n",
       "22574                                                                            1\n",
       "1412                                                                             1\n",
       "                                                                                ..\n",
       "43664126836952723704399353327675132118450703213709159520069741499664667344318    1\n",
       "28669                                                                            1\n",
       "15327339506351857530173487312729554208274795765817746032107845345386237526017    1\n",
       "35596623753586310084467056134413912891112135163192505153583255921645547368244    1\n",
       "405                                                                              1\n",
       "Name: token_id, Length: 26241, dtype: int64"
      ]
     },
     "metadata": {},
     "output_type": "display_data"
    },
    {
     "name": "stdout",
     "output_type": "stream",
     "text": [
      "\n",
      "\n",
      "\n",
      "*********** name ***********\n"
     ]
    },
    {
     "data": {
      "text/plain": [
       "Dodgers World Series Champions Medal (Open Edition)    168\n",
       "Ethereum Blessing                                      149\n",
       "x art                                                  115\n",
       "Common Shrub                                            65\n",
       "Sour Diesel                                             62\n",
       "                                                      ... \n",
       "Voxie #4921                                              1\n",
       "LADY #1433                                               1\n",
       "Sheen                                                    1\n",
       "Soundless                                                1\n",
       "Bumblebee #4438                                          1\n",
       "Name: name, Length: 18149, dtype: int64"
      ]
     },
     "metadata": {},
     "output_type": "display_data"
    },
    {
     "name": "stdout",
     "output_type": "stream",
     "text": [
      "\n",
      "\n",
      "\n",
      "*********** traits ***********\n"
     ]
    },
    {
     "data": {
      "text/plain": [
       "[]                                                                                                                                                                                                                                                                                                                                                                                                                                                                                                                                                                                                                                                                                                                                                                                                                                                                                                                                                                                                                                                                                                                                                                                                                                                                                                                                                                                                                                                                                                                                                                                                                                                                                                                                                                                                                                                                                                                                                                                                                                                                                                                                                                                                                                                                                                                                                                                                                                                                                                                                                                                                                                                                                                                                                                                                                                                                                                                                                                                                                                                                                                                                                                                                                                                                                                                                                                                                                                                                                                                                                                                                                                                                                                                                                                                                                                                                                                                                                                                                                                                                                                                                                                                                                                                                                                                                                                                                                                                                                                                                                                                                                                                                                                                                                                                                                                                                                                                                                                                                                                                               12765\n",
       "[{'trait_type': 'Personality', 'value': 'Unknown', 'display_type': None, 'max_value': None, 'trait_count': 165, 'order': None}]                                                                                                                                                                                                                                                                                                                                                                                                                                                                                                                                                                                                                                                                                                                                                                                                                                                                                                                                                                                                                                                                                                                                                                                                                                                                                                                                                                                                                                                                                                                                                                                                                                                                                                                                                                                                                                                                                                                                                                                                                                                                                                                                                                                                                                                                                                                                                                                                                                                                                                                                                                                                                                                                                                                                                                                                                                                                                                                                                                                                                                                                                                                                                                                                                                                                                                                                                                                                                                                                                                                                                                                                                                                                                                                                                                                                                                                                                                                                                                                                                                                                                                                                                                                                                                                                                                                                                                                                                                                                                                                                                                                                                                                                                                                                                                                                                                                                                                                                    105\n",
       "[{'trait_type': 'Type', 'value': 'Asset', 'display_type': None, 'max_value': None, 'trait_count': 460, 'order': None}]                                                                                                                                                                                                                                                                                                                                                                                                                                                                                                                                                                                                                                                                                                                                                                                                                                                                                                                                                                                                                                                                                                                                                                                                                                                                                                                                                                                                                                                                                                                                                                                                                                                                                                                                                                                                                                                                                                                                                                                                                                                                                                                                                                                                                                                                                                                                                                                                                                                                                                                                                                                                                                                                                                                                                                                                                                                                                                                                                                                                                                                                                                                                                                                                                                                                                                                                                                                                                                                                                                                                                                                                                                                                                                                                                                                                                                                                                                                                                                                                                                                                                                                                                                                                                                                                                                                                                                                                                                                                                                                                                                                                                                                                                                                                                                                                                                                                                                                                              84\n",
       "[{'trait_type': 'Level', 'value': 'Rare', 'display_type': None, 'max_value': None, 'trait_count': 69, 'order': None}, {'trait_type': 'Bear', 'value': 'Moosy', 'display_type': None, 'max_value': None, 'trait_count': 445, 'order': None}]                                                                                                                                                                                                                                                                                                                                                                                                                                                                                                                                                                                                                                                                                                                                                                                                                                                                                                                                                                                                                                                                                                                                                                                                                                                                                                                                                                                                                                                                                                                                                                                                                                                                                                                                                                                                                                                                                                                                                                                                                                                                                                                                                                                                                                                                                                                                                                                                                                                                                                                                                                                                                                                                                                                                                                                                                                                                                                                                                                                                                                                                                                                                                                                                                                                                                                                                                                                                                                                                                                                                                                                                                                                                                                                                                                                                                                                                                                                                                                                                                                                                                                                                                                                                                                                                                                                                                                                                                                                                                                                                                                                                                                                                                                                                                                                                                         81\n",
       "[{'trait_type': 'Chinese', 'value': 'characters', 'display_type': None, 'max_value': None, 'trait_count': 6613, 'order': None}]                                                                                                                                                                                                                                                                                                                                                                                                                                                                                                                                                                                                                                                                                                                                                                                                                                                                                                                                                                                                                                                                                                                                                                                                                                                                                                                                                                                                                                                                                                                                                                                                                                                                                                                                                                                                                                                                                                                                                                                                                                                                                                                                                                                                                                                                                                                                                                                                                                                                                                                                                                                                                                                                                                                                                                                                                                                                                                                                                                                                                                                                                                                                                                                                                                                                                                                                                                                                                                                                                                                                                                                                                                                                                                                                                                                                                                                                                                                                                                                                                                                                                                                                                                                                                                                                                                                                                                                                                                                                                                                                                                                                                                                                                                                                                                                                                                                                                                                                     77\n",
       "                                                                                                                                                                                                                                                                                                                                                                                                                                                                                                                                                                                                                                                                                                                                                                                                                                                                                                                                                                                                                                                                                                                                                                                                                                                                                                                                                                                                                                                                                                                                                                                                                                                                                                                                                                                                                                                                                                                                                                                                                                                                                                                                                                                                                                                                                                                                                                                                                                                                                                                                                                                                                                                                                                                                                                                                                                                                                                                                                                                                                                                                                                                                                                                                                                                                                                                                                                                                                                                                                                                                                                                                                                                                                                                                                                                                                                                                                                                                                                                                                                                                                                                                                                                                                                                                                                                                                                                                                                                                                                                                                                                                                                                                                                                                                                                                                                                                                                                                                                                                                                                                 ...  \n",
       "[{'trait_type': 'NOSE PIERCING UPPER', 'value': 'BLUE ARROW', 'display_type': None, 'max_value': None, 'trait_count': 159, 'order': None}, {'trait_type': 'RARENESS', 'value': 68.5, 'display_type': 'boost_percentage', 'max_value': None, 'trait_count': 0, 'order': None}, {'trait_type': 'EAR RING', 'value': 'CHRIST', 'display_type': None, 'max_value': None, 'trait_count': 151, 'order': None}, {'trait_type': 'CLOTHES', 'value': 'YELLOW DRESS', 'display_type': None, 'max_value': None, 'trait_count': 71, 'order': None}, {'trait_type': 'EAR PIERCING UPPER', 'value': 'GOLDEN RING', 'display_type': None, 'max_value': None, 'trait_count': 262, 'order': None}, {'trait_type': 'HAIR', 'value': 'STRAIGHT BLUE', 'display_type': None, 'max_value': None, 'trait_count': 50, 'order': None}, {'trait_type': 'EAR PIERCING RIGHTER', 'value': 'GOLDEN CIRCLE', 'display_type': None, 'max_value': None, 'trait_count': 220, 'order': None}, {'trait_type': 'EYES', 'value': 'BLACK', 'display_type': None, 'max_value': None, 'trait_count': 76, 'order': None}, {'trait_type': 'BACKGROUND', 'value': 'WHITE', 'display_type': None, 'max_value': None, 'trait_count': 822, 'order': None}, {'trait_type': 'SKIN', 'value': 'BLACK', 'display_type': None, 'max_value': None, 'trait_count': 442, 'order': None}, {'trait_type': 'FACE EXPRESSION', 'value': 'POKERFACE', 'display_type': None, 'max_value': None, 'trait_count': 903, 'order': None}]                                                                                                                                                                                                                                                                                                                                                                                                                                                                                                                                                                                                                                                                                                                                                                                                                                                                                                                                                                                                                                                                                                                                                                                                                                                                                                                                                                                                                                                                                                                                                                                                                                                                                                                                                                                                                                                                                                                                                                                                                                                                                                                                                                                                                                                                                                                                                                                                                                                                                                                                                                                                                                                                                                                                                                                                                                                                                                                                                                                                                                                                                                                                                                                                                                                                                                                                                                                                                                                                                                                                                                                             1\n",
       "[{'trait_type': 'pixelpeeps-middle-name', 'value': 'Silvers', 'display_type': None, 'max_value': None, 'trait_count': 1, 'order': None}, {'trait_type': 'pixelpeeps-last-name', 'value': 'Geigel', 'display_type': None, 'max_value': None, 'trait_count': 1, 'order': None}, {'trait_type': 'pixelpeeps-first-name', 'value': 'Joe', 'display_type': None, 'max_value': None, 'trait_count': 13, 'order': None}, {'trait_type': 'pixelpeeps-suffix', 'value': 'II', 'display_type': None, 'max_value': None, 'trait_count': 260, 'order': None}, {'trait_type': 'pixelpeeps-hair', 'value': 'no', 'display_type': None, 'max_value': None, 'trait_count': 495, 'order': None}, {'trait_type': 'pixelpeeps-top', 'value': 'hairy', 'display_type': None, 'max_value': None, 'trait_count': 1557, 'order': None}, {'trait_type': 'pixelpeeps-batch', 'value': '1', 'display_type': None, 'max_value': None, 'trait_count': 4761, 'order': None}, {'trait_type': 'pixelpeeps-mouth', 'value': 'garf', 'display_type': None, 'max_value': None, 'trait_count': 801, 'order': None}, {'trait_type': 'pixelpeeps-eyes', 'value': 'plain', 'display_type': None, 'max_value': None, 'trait_count': 949, 'order': None}, {'trait_type': 'pixelpeeps-nose', 'value': 'plain', 'display_type': None, 'max_value': None, 'trait_count': 791, 'order': None}, {'trait_type': 'pixelpeeps-hat', 'value': 'wolf', 'display_type': None, 'max_value': None, 'trait_count': 2369, 'order': None}, {'trait_type': 'pixelpeeps-skin', 'value': 'dark', 'display_type': None, 'max_value': None, 'trait_count': 955, 'order': None}, {'trait_type': 'pixelpeeps-prefix', 'value': 'Captain', 'display_type': None, 'max_value': None, 'trait_count': 65, 'order': None}]                                                                                                                                                                                                                                                                                                                                                                                                                                                                                                                                                                                                                                                                                                                                                                                                                                                                                                                                                                                                                                                                                                                                                                                                                                                                                                                                                                                                                                                                                                                                                                                                                                                                                                                                                                                                                                                                                                                                                                                                                                                                                                                                                                                                                                                                                                                                                                                                                                                                                                                                                                                                                                                                                                                                                                                                                                                                                                                                                                                                                                                                                                                                                                                                                                                                                                               1\n",
       "[{'trait_type': 'Cryptocurrency', 'value': 'Ethereum', 'display_type': None, 'max_value': None, 'trait_count': 23, 'order': None}, {'trait_type': 'Rarity', 'value': 'Super Rare', 'display_type': None, 'max_value': None, 'trait_count': 75, 'order': None}, {'trait_type': 'Artist', 'value': 'Forexus', 'display_type': None, 'max_value': None, 'trait_count': 55, 'order': None}]                                                                                                                                                                                                                                                                                                                                                                                                                                                                                                                                                                                                                                                                                                                                                                                                                                                                                                                                                                                                                                                                                                                                                                                                                                                                                                                                                                                                                                                                                                                                                                                                                                                                                                                                                                                                                                                                                                                                                                                                                                                                                                                                                                                                                                                                                                                                                                                                                                                                                                                                                                                                                                                                                                                                                                                                                                                                                                                                                                                                                                                                                                                                                                                                                                                                                                                                                                                                                                                                                                                                                                                                                                                                                                                                                                                                                                                                                                                                                                                                                                                                                                                                                                                                                                                                                                                                                                                                                                                                                                                                                                                                                                                                              1\n",
       "[{'trait_type': 'RARENESS', 'value': 57.8, 'display_type': 'boost_percentage', 'max_value': None, 'trait_count': 0, 'order': None}, {'trait_type': 'EYES', 'value': 'BROWN', 'display_type': None, 'max_value': None, 'trait_count': 216, 'order': None}, {'trait_type': 'EAR RING', 'value': 'YELLOW', 'display_type': None, 'max_value': None, 'trait_count': 158, 'order': None}, {'trait_type': 'CLOTHES', 'value': 'PURPLE FUR COAT', 'display_type': None, 'max_value': None, 'trait_count': 43, 'order': None}, {'trait_type': 'GLASSES', 'value': 'BLACK', 'display_type': None, 'max_value': None, 'trait_count': 80, 'order': None}, {'trait_type': 'HAIR', 'value': 'RED POMP', 'display_type': None, 'max_value': None, 'trait_count': 45, 'order': None}, {'trait_type': 'CHEEK', 'value': 'CACTUS', 'display_type': None, 'max_value': None, 'trait_count': 152, 'order': None}, {'trait_type': 'NECK', 'value': 'CHOKER', 'display_type': None, 'max_value': None, 'trait_count': 148, 'order': None}, {'trait_type': 'BACKGROUND', 'value': 'WHITE', 'display_type': None, 'max_value': None, 'trait_count': 822, 'order': None}, {'trait_type': 'SKIN', 'value': 'BLACK', 'display_type': None, 'max_value': None, 'trait_count': 442, 'order': None}, {'trait_type': 'FACE EXPRESSION', 'value': 'POKERFACE', 'display_type': None, 'max_value': None, 'trait_count': 903, 'order': None}, {'trait_type': 'EAR PIERCING RIGHTER', 'value': 'SILVER CIRCLE', 'display_type': None, 'max_value': None, 'trait_count': 229, 'order': None}]                                                                                                                                                                                                                                                                                                                                                                                                                                                                                                                                                                                                                                                                                                                                                                                                                                                                                                                                                                                                                                                                                                                                                                                                                                                                                                                                                                                                                                                                                                                                                                                                                                                                                                                                                                                                                                                                                                                                                                                                                                                                                                                                                                                                                                                                                                                                                                                                                                                                                                                                                                                                                                                                                                                                                                                                                                                                                                                                                                                                                                                                                                                                                                                                                                                                                                                                                                                                                                                                                                           1\n",
       "[{'trait_type': 'nug_leaf_type', 'value': 'nug_leaf_6', 'display_type': None, 'max_value': None, 'trait_count': 3961, 'order': None}, {'trait_type': 'set', 'value': 'none', 'display_type': None, 'max_value': None, 'trait_count': 9896, 'order': None}, {'trait_type': 'particle_algorithm', 'value': 'powder_nug', 'display_type': None, 'max_value': None, 'trait_count': 4471, 'order': None}, {'trait_type': 'smell_secondary', 'value': 'smoke', 'display_type': None, 'max_value': None, 'trait_count': 3437, 'order': None}, {'trait_type': 'parent_two_id', 'value': 18331, 'display_type': 'number', 'max_value': None, 'trait_count': 0, 'order': None}, {'trait_type': 'base_nug_color', 'value': 'c69077', 'display_type': None, 'max_value': None, 'trait_count': 1, 'order': None}, {'trait_type': 'leaf_color', 'value': '7ba899', 'display_type': None, 'max_value': None, 'trait_count': 1, 'order': None}, {'trait_type': 'stem_color', 'value': '9b74e2', 'display_type': None, 'max_value': None, 'trait_count': 1, 'order': None}, {'trait_type': 'powder_color', 'value': '85e79d', 'display_type': None, 'max_value': None, 'trait_count': 1, 'order': None}, {'trait_type': 'main_leaf_type', 'value': 'base_leaf_2', 'display_type': None, 'max_value': None, 'trait_count': 4429, 'order': None}, {'trait_type': 'parent_one_id', 'value': 21708, 'display_type': 'number', 'max_value': None, 'trait_count': 0, 'order': None}, {'trait_type': 'stem_type', 'value': 'stem_7', 'display_type': None, 'max_value': None, 'trait_count': 5194, 'order': None}, {'trait_type': 'skeleton_type', 'value': 'three_leaf', 'display_type': None, 'max_value': None, 'trait_count': 24998, 'order': None}, {'trait_type': 'body_type', 'value': 'indica', 'display_type': None, 'max_value': None, 'trait_count': 10286, 'order': None}, {'trait_type': 'land_affinity', 'value': 'soil', 'display_type': None, 'max_value': None, 'trait_count': 9046, 'order': None}, {'trait_type': 'land_variant', 'value': 'land_variant_none', 'display_type': None, 'max_value': None, 'trait_count': 24998, 'order': None}, {'trait_type': 'idle_animation', 'value': 'idle', 'display_type': None, 'max_value': None, 'trait_count': 24998, 'order': None}, {'trait_type': 'smell_primary', 'value': 'floral', 'display_type': None, 'max_value': None, 'trait_count': 1875, 'order': None}, {'trait_type': 'rarity_bracket', 'value': 'common', 'display_type': None, 'max_value': None, 'trait_count': 13960, 'order': None}, {'trait_type': 'base_nug_type', 'value': 'nug_base_mellow', 'display_type': None, 'max_value': None, 'trait_count': 5084, 'order': None}, {'trait_type': 'powder_type', 'value': 'mellow_config_1', 'display_type': None, 'max_value': None, 'trait_count': 5084, 'order': None}, {'trait_type': 'seed_drop', 'value': 0, 'display_type': None, 'max_value': '100', 'trait_count': 0, 'order': None}, {'trait_type': 'thc', 'value': 37, 'display_type': None, 'max_value': '100', 'trait_count': 0, 'order': None}, {'trait_type': 'cbd', 'value': 2, 'display_type': None, 'max_value': '100', 'trait_count': 0, 'order': None}, {'trait_type': 'smell_secondary_strength', 'value': 96, 'display_type': None, 'max_value': '100', 'trait_count': 0, 'order': None}, {'trait_type': 'growth_speed', 'value': 1, 'display_type': None, 'max_value': '100', 'trait_count': 0, 'order': None}, {'trait_type': 'mutability', 'value': 70, 'display_type': None, 'max_value': '100', 'trait_count': 0, 'order': None}, {'trait_type': 'nug_drop', 'value': 0, 'display_type': None, 'max_value': '100', 'trait_count': 0, 'order': None}, {'trait_type': 'height', 'value': 29, 'display_type': None, 'max_value': '100', 'trait_count': 0, 'order': None}, {'trait_type': 'smell_primary_strength', 'value': 0, 'display_type': None, 'max_value': '100', 'trait_count': 0, 'order': None}, {'trait_type': 'base_nug_scale', 'value': 31, 'display_type': None, 'max_value': '100', 'trait_count': 0, 'order': None}, {'trait_type': 'nug_leaf_scale', 'value': 0, 'display_type': None, 'max_value': '100', 'trait_count': 0, 'order': None}, {'trait_type': 'stem_scale', 'value': 0, 'display_type': None, 'max_value': '100', 'trait_count': 0, 'order': None}, {'trait_type': 'berry_drop', 'value': 29, 'display_type': None, 'max_value': '100', 'trait_count': 0, 'order': None}, {'trait_type': 'flower_drop', 'value': 35, 'display_type': None, 'max_value': '100', 'trait_count': 0, 'order': None}, {'trait_type': 'harvest_size', 'value': 17, 'display_type': None, 'max_value': '100', 'trait_count': 0, 'order': None}, {'trait_type': 'harvest_spread', 'value': 100, 'display_type': None, 'max_value': '100', 'trait_count': 0, 'order': None}, {'trait_type': 'rarity', 'value': 9, 'display_type': None, 'max_value': '100', 'trait_count': 0, 'order': None}, {'trait_type': 'main_leaf_scale', 'value': 100, 'display_type': None, 'max_value': '100', 'trait_count': 0, 'order': None}]        1\n",
       "Name: traits, Length: 11164, dtype: int64"
      ]
     },
     "metadata": {},
     "output_type": "display_data"
    },
    {
     "name": "stdout",
     "output_type": "stream",
     "text": [
      "\n",
      "\n",
      "\n",
      "*********** description ***********\n"
     ]
    },
    {
     "data": {
      "text/plain": [
       "Rare Player Cards are only issued at 100 editions per season.                                                                                                                                                                                                                                                                                                                                                                                                                                                                                                                                                                                                                                                                                                                                                                                                                                                                                                                                                                                                                                                                                                                                                                                                                                                                                                                                                                                                                                                                                                                                                                                                                                                                                                                                                                                                                                                                                                                                                                                                                                                                                                                                                                                                                                                                                                 1215\n",
       "FAME LADY SQUAD IS A COLLECTION OF 8888 UNIQUE LADY NFTS THAT ARE LIVING ON THE ETH BLOCKCHAIN. EACH LADY IS ABSOLUTELY DISTINCTIVE FROM OTHERS. MILLIONS OF COMBINATIONS WERE CREATED TO MAKE THIS HAPPEN.                                                                                                                                                                                                                                                                                                                                                                                                                                                                                                                                                                                                                                                                                                                                                                                                                                                                                                                                                                                                                                                                                                                                                                                                                                                                                                                                                                                                                                                                                                                                                                                                                                                                                                                                                                                                                                                                                                                                                                                                                                                                                                                                                   1192\n",
       "Congratulations! You have stumbled upon a Rare Egg. CryptoBeasts is a first-of-its-kind online experience. You can learn more at www.CryptoBeasts.org                                                                                                                                                                                                                                                                                                                                                                                                                                                                                                                                                                                                                                                                                                                                                                                                                                                                                                                                                                                                                                                                                                                                                                                                                                                                                                                                                                                                                                                                                                                                                                                                                                                                                                                                                                                                                                                                                                                                                                                                                                                                                                                                                                                                          453\n",
       "Where are the sick - There I Am. Healing since 1619.\\n                                                                                                                                                                                                                                                                                                                                                                                                                                                                                                                                                                                                                                                                                                                                                                                                                                                                                                                                                                                                                                                                                                                                                                                                                                                                                                                                                                                                                                                                                                                                                                                                                                                                                                                                                                                                                                                                                                                                                                                                                                                                                                                                                                                                                                                                                                         415\n",
       "24x24 pixels and pushing the limit to the max! Tribute to the original CyberPunks. Each and every piece is unique and handcrafted with love. Say hello to the IconPunks!\\n                                                                                                                                                                                                                                                                                                                                                                                                                                                                                                                                                                                                                                                                                                                                                                                                                                                                                                                                                                                                                                                                                                                                                                                                                                                                                                                                                                                                                                                                                                                                                                                                                                                                                                                                                                                                                                                                                                                                                                                                                                                                                                                                                                                     285\n",
       "                                                                                                                                                                                                                                                                                                                                                                                                                                                                                                                                                                                                                                                                                                                                                                                                                                                                                                                                                                                                                                                                                                                                                                                                                                                                                                                                                                                                                                                                                                                                                                                                                                                                                                                                                                                                                                                                                                                                                                                                                                                                                                                                                                                                                                                                                                                                                              ... \n",
       "100% unique Crypto Bumblebee with number #27979                                                                                                                                                                                                                                                                                                                                                                                                                                                                                                                                                                                                                                                                                                                                                                                                                                                                                                                                                                                                                                                                                                                                                                                                                                                                                                                                                                                                                                                                                                                                                                                                                                                                                                                                                                                                                                                                                                                                                                                                                                                                                                                                                                                                                                                                                                                  1\n",
       "Pokemon Collectibles #002 - Bulbasaur Pixelated avatar\\n\\nSize: 1000x1000\\nFormat: png                                                                                                                                                                                                                                                                                                                                                                                                                                                                                                                                                                                                                                                                                                                                                                                                                                                                                                                                                                                                                                                                                                                                                                                                                                                                                                                                                                                                                                                                                                                                                                                                                                                                                                                                                                                                                                                                                                                                                                                                                                                                                                                                                                                                                                                                           1\n",
       "Hello! My name is Premier Gwen Williams Norris DO.\\n\\nI'm a Pixelpeep, part of batch number 1, and I'm number 4331 of 54000 within that batch. I'm entirely unique from my name to my particular combination of features, and I have the following properties:\\n\\n> **Note**: **You can click these properties to see other Pixelpeeps with the same traits!**:\\n\\n- top: [hairy](https://opensea.io/assets/pixelpeeps?search[stringTraits][0][name]=pixelpeeps-top&search[stringTraits][0][values][0]=hairy)\\n- hat: [no](https://opensea.io/assets/pixelpeeps?search[stringTraits][0][name]=pixelpeeps-hat&search[stringTraits][0][values][0]=no)\\n- hair: [short-purple](https://opensea.io/assets/pixelpeeps?search[stringTraits][0][name]=pixelpeeps-hair&search[stringTraits][0][values][0]=short-purple)\\n- nose: [pig](https://opensea.io/assets/pixelpeeps?search[stringTraits][0][name]=pixelpeeps-nose&search[stringTraits][0][values][0]=pig)\\n- eyes: [cyclops](https://opensea.io/assets/pixelpeeps?search[stringTraits][0][name]=pixelpeeps-eyes&search[stringTraits][0][values][0]=cyclops)\\n- mouth: [garf](https://opensea.io/assets/pixelpeeps?search[stringTraits][0][name]=pixelpeeps-mouth&search[stringTraits][0][values][0]=garf)\\n- skin: [pale](https://opensea.io/assets/pixelpeeps?search[stringTraits][0][name]=pixelpeeps-skin&search[stringTraits][0][values][0]=pale)\\n- prefix/title: [Premier](https://opensea.io/assets/pixelpeeps?search[stringTraits][0][name]=pixelpeeps-prefix&search[stringTraits][0][values][0]=Premier)\\n- first name: [Gwen](https://opensea.io/assets/pixelpeeps?search[stringTraits][0][name]=pixelpeeps-first-name&search[stringTraits][0][values][0]=Gwen)\\n- middle name/initial: [Williams](https://opensea.io/assets/pixelpeeps?search[stringTraits][0][name]=pixelpeeps-middle-name&search[stringTraits][0][values][0]=Williams)\\n- last name: [Norris](https://opensea.io/assets/pixelpeeps?search[stringTraits][0][name]=pixelpeeps-last-name&search[stringTraits][0][values][0]=Norris)\\n- suffix: [DO](https://opensea.io/assets/pixelpeeps?search[stringTraits][0][name]=pixelpeeps-suffix&search[stringTraits][0][values][0]=DO)\\n- batch number: [1](https://opensea.io/assets/pixelpeeps?search[stringTraits][0][name]=pixelpeeps-batch&search[stringTraits][0][values][0]=1)\\n       1\n",
       "Tommy Smokes Selfie #10 (April 21, 2021)                                                                                                                                                                                                                                                                                                                                                                                                                                                                                                                                                                                                                                                                                                                                                                                                                                                                                                                                                                                                                                                                                                                                                                                                                                                                                                                                                                                                                                                                                                                                                                                                                                                                                                                                                                                                                                                                                                                                                                                                                                                                                                                                                                                                                                                                                                                         1\n",
       "Fait parti des plus gros buzz français, tous les droit vous appartiendront ensuite.                                                                                                                                                                                                                                                                                                                                                                                                                                                                                                                                                                                                                                                                                                                                                                                                                                                                                                                                                                                                                                                                                                                                                                                                                                                                                                                                                                                                                                                                                                                                                                                                                                                                                                                                                                                                                                                                                                                                                                                                                                                                                                                                                                                                                                                                              1\n",
       "Name: description, Length: 11058, dtype: int64"
      ]
     },
     "metadata": {},
     "output_type": "display_data"
    },
    {
     "name": "stdout",
     "output_type": "stream",
     "text": [
      "\n",
      "\n",
      "\n",
      "*********** image_url ***********\n"
     ]
    },
    {
     "data": {
      "text/plain": [
       "https://lh3.googleusercontent.com/NWqaMOYWFuKEhjbNq9jRHyRCXngGk3hDRVFAJxAPDF9d5hhP93SkHt4t0X4Blz7eJcw_Eknxhq13mMCWzx-h9jUVgIx8UnyqsFDS       168\n",
       "https://lh3.googleusercontent.com/q7YPwkm8U15AJfhA_YU_4rRcW1VuY0YnR_rMPvx9Ll4nv0h5pkSRRUsTXRIbKaVZ4HoGYPNmjVt1AJj8OdpXjOqeyZdP1EdieeJsXeY    105\n",
       "https://lh3.googleusercontent.com/3czNreLvq_PYBoXAvzNd9i_PcubNVbB1LSz0lRIcUN2LS0AkjziSQ9Z3DAq4R8-J0cxkdjAbhulctAm3T2JOxugsAuS0_VcnHm_s        66\n",
       "https://lh3.googleusercontent.com/0Meg2Yl_0HuHVxIEWbVal6fiGDfz2rgc9xCorG_Hu-3PEA7RAvufB44mmTpY1IAxtc4AYMoNT4AOadqDK-iwljRd22o83QwjGK_xag      65\n",
       "https://lh3.googleusercontent.com/FhdjQpCB6pnNoXtFEoWi1aIj-0Qb2hp47oarB5o_z7fFRCIKBeI5twEF9i78q0sIHenhMaKjwa5T7f02vSxndb6rqJJA_k01UhFidpE     62\n",
       "                                                                                                                                            ... \n",
       "https://lh3.googleusercontent.com/wc4DVnjapLRDQMHQTD9rb6yvoIRl78niMwBk0JTfqkFZ95VH_47uRVrjb6Fs72WaR9XqAx-ltPYwtJepnMz5mKQa-MmiEhpksEpYtg       1\n",
       "https://storage.opensea.io/files/e49038ec98cf70df2644d9e319c01db3.svg                                                                          1\n",
       "https://lh3.googleusercontent.com/NMyDZ2Yx5X0A0b9OwaVBrhZ6OpjoKrkGvIUzn0MqZvD_-PsY3SWM367iP_Lg9ORm6gOWarxy5T1YDEY_obb-jkiwwTgT_n-Lurv7         1\n",
       "https://lh3.googleusercontent.com/LRwV_7x_3agVwfKgiWiYNHcIXLd8Zj6_ZgFioPwOUwjGg8lECPWE7PnSvYtyW0oNY3rEUx6VAgJwCDpsvXPziEC8qAwQLjsgvAiGnQI      1\n",
       "https://lh3.googleusercontent.com/0ZSXQ2O2jU3Aa03oeP-nqGpYgB9TTLBoz1y-dD9wLEQ617YPhXKg4E0Ss-4R27q-c4lColZVIMDC5jU63QVz23Fe_2y_xRPGNsdirQ       1\n",
       "Name: image_url, Length: 18189, dtype: int64"
      ]
     },
     "metadata": {},
     "output_type": "display_data"
    },
    {
     "name": "stdout",
     "output_type": "stream",
     "text": [
      "\n",
      "\n",
      "\n",
      "*********** background_color ***********\n"
     ]
    },
    {
     "data": {
      "text/plain": [
       "f3f2f3    1292\n",
       "67C171     241\n",
       "ffffff     208\n",
       "FFFFFF     195\n",
       "4C47F7     158\n",
       "000000     121\n",
       "1999CF      59\n",
       "f3f3f3      14\n",
       "c5eefa       8\n",
       "e0e5fc       6\n",
       "FF72D0       6\n",
       "fcdede       6\n",
       "fde9e4       6\n",
       "efe1da       5\n",
       "dfdffa       5\n",
       "faf4cf       4\n",
       "e8f2da       4\n",
       "a2c2eb       4\n",
       "0b0c22       4\n",
       "eee9e8       3\n",
       "e5f3e2       3\n",
       "cdf5d4       3\n",
       "faeefa       3\n",
       "dcebfc       2\n",
       "f5fffa       2\n",
       "F1F7D2       2\n",
       "FEE7C9       2\n",
       "e5e7ef       2\n",
       "232323       2\n",
       "fadff4       2\n",
       "d1eeeb       2\n",
       "e1eee8       1\n",
       "829e90       1\n",
       "d4eec7       1\n",
       "D1F4F9       1\n",
       "3E45D1       1\n",
       "040726       1\n",
       "09071B       1\n",
       "121212       1\n",
       "EF3500       1\n",
       "072083       1\n",
       "Name: background_color, dtype: int64"
      ]
     },
     "metadata": {},
     "output_type": "display_data"
    },
    {
     "name": "stdout",
     "output_type": "stream",
     "text": [
      "\n",
      "\n",
      "\n",
      "*********** external_link ***********\n"
     ]
    },
    {
     "data": {
      "text/plain": [
       "https://niftygateway.com/#/                                                        122\n",
       "https://voxies.io                                                                  108\n",
       "https://ohmyarts.top                                                                98\n",
       "https://www.beeple-collect.com/                                                     83\n",
       "https://thedivinezodiac.com/                                                        66\n",
       "                                                                                  ... \n",
       "https://rarible.com/token/0xd07dc4262bcdbf85190c01c996b4c06a461d2430:355126          1\n",
       "https://www.larvalabs.com/cryptopunks/details/5823                                   1\n",
       "https://app.rarible.com/token/0xd07dc4262bcdbf85190c01c996b4c06a461d2430:139779      1\n",
       "https://app.rarible.com/token/0xd07dc4262bcdbf85190c01c996b4c06a461d2430:7125        1\n",
       "https://www.artblocks.io/token/95000225                                              1\n",
       "Name: external_link, Length: 5945, dtype: int64"
      ]
     },
     "metadata": {},
     "output_type": "display_data"
    },
    {
     "name": "stdout",
     "output_type": "stream",
     "text": [
      "\n",
      "\n",
      "\n",
      "*********** token_metadata ***********\n"
     ]
    },
    {
     "data": {
      "text/plain": [
       "https://ipfs.io/ipfs/WMasterChef                                                                                     23\n",
       "https://ipfsgateway.makersplace.com/ipfs/Qmby2iAEwfZdZiAq42bygURYvJ9NkX9mgnXm4z7nxisvZL                              11\n",
       "https://ipfsgateway.makersplace.com/ipfs/QmSwJkXtZSKGd45cgrZWjsL25PmsuYSu62AntUoTKFhcqt                               7\n",
       "https://ipfsgateway.makersplace.com/ipfs/QmQidMhagyXV3bwxPeLmQVBthXLTWRjx7CdP5BGEWsS4PF                               5\n",
       "https://ipfsgateway.makersplace.com/ipfs/QmdSq1E28wmPqQbDvEza34n53NGUf55ZUynDpu1o4nRMNz                               5\n",
       "                                                                                                                     ..\n",
       "https://flowerpatch.app/data/flower-23942.opensea.json                                                                1\n",
       "https://ipfs.io/ipfs/QmaHUCW9QbcKeVafhLTe2beXLULSx6qpYbDqLXW747qSdD                                                   1\n",
       "https://tokens.gala.games/sandbox-games/town-star/farm-stands/wheat-stand.json                                        1\n",
       "https://guttercatgang.s3.us-east-2.amazonaws.com/j/283                                                                1\n",
       "https://api.sorare.com/api/v1/cards/71813161349389094537622674283396178302968495967893392041249078920239662448433     1\n",
       "Name: token_metadata, Length: 10101, dtype: int64"
      ]
     },
     "metadata": {},
     "output_type": "display_data"
    },
    {
     "name": "stdout",
     "output_type": "stream",
     "text": [
      "\n",
      "\n",
      "\n",
      "*********** asset_contract.name ***********\n"
     ]
    },
    {
     "data": {
      "text/plain": [
       "OpenSea Collection          10482\n",
       "Dodgers MLB Crypto           4005\n",
       "Rarible 1155                 1297\n",
       "Sorare New                   1292\n",
       "FameLadySquad                1192\n",
       "                            ...  \n",
       "NYC Skyline by FEWOCiOUS        1\n",
       "Artobject                       1\n",
       "Degen$ Farm Eggs                1\n",
       "CyberKongz                      1\n",
       "CryptoAvatars                   1\n",
       "Name: asset_contract.name, Length: 279, dtype: int64"
      ]
     },
     "metadata": {},
     "output_type": "display_data"
    },
    {
     "name": "stdout",
     "output_type": "stream",
     "text": [
      "\n",
      "\n",
      "\n",
      "*********** asset_contract.description ***********\n"
     ]
    },
    {
     "data": {
      "text/plain": [
       "Create and sell digital collectibles secured with blockchain technology. Rarible is home to thousands of artists and collectors, creating and exchanging immutable art without using code. Trade with RARI token on OpenSea.                                                                                                                                                                                                                                    1525\n",
       "Sorare is a fantasy football game where managers can trade official digital collectibles. The platform is growing fast, with a global audience collecting, buying, and selling their favorite players in the form of blockchain-backed NFTs. The Sorare team has secured the rights to European giants like Atletico Madrid, Juventus, and Bayern Munich, as well as the MLS, Korean League, and Japanese League.                                               1292\n",
       "Fame Lady Squad is a collection of 8888 unique Lady NFTs that are living on the ETH blockchain. Each Lady is absolutely distinctive from others. Millions of combinations were created to make this happen.                                                                                                                                                                                                                                                     1192\n",
       "Flowerpatch is an indie farming MMO that treats cannabis with respect! Build up your farm, breed unique NFTs with other players, and enjoy a vast game world 🙏🏻🐨                                                                                                                                                                                                                                                                                                1149\n",
       "The Doge Pound is 10,000 art pieces carefully chosen by Professor Elon. A unique digital collection of diverse NFTs lying on Ethereum Blockchain. Each one is thoughtfully designed, specifically picked, and impeccably shaped. Join us on our adventure and have a good time. Having a Doge Token grants you creative and commercial rights, as well as inclusion in the gang.                                                                                 669\n",
       "                                                                                                                                                                                                                                                                                                                                                                                                                                                                ... \n",
       "Superplastic is the world’s premier synthetic artist and influencer management company. It’s clients include many of the world’s top virtual artists and personalities.                                                                                                                                                                                                                                                                                            1\n",
       "Vatoms are dynamic, compelling digital objects, that connect brands and customers, artists and fans, citizens and governments, friends, families and global gamers. Designed for discovery, a Vatom can be dropped onto a map, captured in augmented reality, moved into virtual reality, transferred and stored. Interactive digital goods that can move seamlessly and instantly between users and across any smart device.                                      1\n",
       "Pushing paint, augmented reality & ₿itcoin. MA Fine Art. 'Art is either plagiarism or revolution' ~ Paul Gauguin                                                                                                                                                                                                                                                                                                                                                   1\n",
       "CryptoAvatars is a platform where designers can tokenize their VR avatars using blockchain technology and sell their creations for cryptocurrencies.\\r\\nThe avatar tokens are ERC721 single edition tokens on the Ethereum blockchain. This provide a long lasting value since anyone can prove the authenticity and ownership of each avatar, making it easy to give credit to the original creator, regardless the Metaverse layer they are being used in.       1\n",
       "The adventure is beginning, the world of Coins & Steel starts to form out of the fires of forges and the promise of battle. Today, we welcome you to the Vault of Champions. Your time has come hero, join The Founders!                                                                                                                                                                                                                                           1\n",
       "Name: asset_contract.description, Length: 236, dtype: int64"
      ]
     },
     "metadata": {},
     "output_type": "display_data"
    },
    {
     "name": "stdout",
     "output_type": "stream",
     "text": [
      "\n",
      "\n",
      "\n",
      "*********** asset_contract.total_supply ***********\n"
     ]
    },
    {
     "data": {
      "text/plain": [
       "0                                                                                 3046\n",
       "30                                                                                1192\n",
       "1                                                                                 1122\n",
       "40                                                                                  98\n",
       "8                                                                                   39\n",
       "5                                                                                   31\n",
       "4                                                                                   28\n",
       "34                                                                                  27\n",
       "2                                                                                   27\n",
       "115792089237316195423570985008687907853269984665640564039457584007913129639935      12\n",
       "50                                                                                  10\n",
       "28                                                                                   7\n",
       "3                                                                                    6\n",
       "12012                                                                                6\n",
       "16                                                                                   5\n",
       "9                                                                                    2\n",
       "51                                                                                   2\n",
       "11                                                                                   2\n",
       "6                                                                                    1\n",
       "13                                                                                   1\n",
       "65536                                                                                1\n",
       "125010                                                                               1\n",
       "Name: asset_contract.total_supply, dtype: int64"
      ]
     },
     "metadata": {},
     "output_type": "display_data"
    },
    {
     "name": "stdout",
     "output_type": "stream",
     "text": [
      "\n",
      "\n",
      "\n",
      "*********** asset_contract.symbol ***********\n"
     ]
    },
    {
     "data": {
      "text/plain": [
       "OPENSTORE                                            10486\n",
       "DNFTCB                                                4005\n",
       "SOR                                                   1292\n",
       "FLS                                                   1192\n",
       "FLOWER                                                1149\n",
       "                                                     ...  \n",
       "SDB                                                      1\n",
       "PAT                                                      1\n",
       "INSANECRITTERSUNCOMMONBYZACHHADELANDMICHAELCUSACK        1\n",
       "TECHNOFISHOPENEDITIONSBYCALVINHARRISXEMILNAVA            1\n",
       "MDJREPLICATOR                                            1\n",
       "Name: asset_contract.symbol, Length: 244, dtype: int64"
      ]
     },
     "metadata": {},
     "output_type": "display_data"
    },
    {
     "name": "stdout",
     "output_type": "stream",
     "text": [
      "\n",
      "\n",
      "\n",
      "*********** asset_contract.schema_name ***********\n"
     ]
    },
    {
     "data": {
      "text/plain": [
       "ERC721         13635\n",
       "ERC1155        12518\n",
       "CRYPTOPUNKS       88\n",
       "Name: asset_contract.schema_name, dtype: int64"
      ]
     },
     "metadata": {},
     "output_type": "display_data"
    },
    {
     "name": "stdout",
     "output_type": "stream",
     "text": [
      "\n",
      "\n",
      "\n",
      "*********** asset_contract.asset_contract_type ***********\n"
     ]
    },
    {
     "data": {
      "text/plain": [
       "non-fungible     13723\n",
       "semi-fungible    12518\n",
       "Name: asset_contract.asset_contract_type, dtype: int64"
      ]
     },
     "metadata": {},
     "output_type": "display_data"
    },
    {
     "name": "stdout",
     "output_type": "stream",
     "text": [
      "\n",
      "\n",
      "\n",
      "*********** asset_contract.nft_version ***********\n"
     ]
    },
    {
     "data": {
      "text/plain": [
       "3.0            13318\n",
       "unsupported      352\n",
       "1.0               81\n",
       "Name: asset_contract.nft_version, dtype: int64"
      ]
     },
     "metadata": {},
     "output_type": "display_data"
    },
    {
     "name": "stdout",
     "output_type": "stream",
     "text": [
      "\n",
      "\n",
      "\n",
      "*********** asset_contract.opensea_version ***********\n"
     ]
    },
    {
     "data": {
      "text/plain": [
       "2.0.0    10486\n",
       "2.0.2        8\n",
       "1.2.0        2\n",
       "Name: asset_contract.opensea_version, dtype: int64"
      ]
     },
     "metadata": {},
     "output_type": "display_data"
    },
    {
     "name": "stdout",
     "output_type": "stream",
     "text": [
      "\n",
      "\n",
      "\n",
      "*********** asset_contract.external_link ***********\n"
     ]
    },
    {
     "data": {
      "text/plain": [
       "https://rarible.com/                                           1525\n",
       "https://sorare.com                                             1292\n",
       "https://fameladysquad.com/                                     1192\n",
       "https://flowerpatch.app/                                       1149\n",
       "https://thedogepoundnft.com/                                    669\n",
       "                                                               ... \n",
       "https://niftygateway.com/collections/insanecrittersuncommon       1\n",
       "http://etherpoems.com                                             1\n",
       "https://niftygateway.com/collections/ssx3lau                      1\n",
       "https://umi.digital/                                              1\n",
       "https://www.instagram.com/realimposter/                           1\n",
       "Name: asset_contract.external_link, Length: 230, dtype: int64"
      ]
     },
     "metadata": {},
     "output_type": "display_data"
    },
    {
     "name": "stdout",
     "output_type": "stream",
     "text": [
      "\n",
      "\n",
      "\n",
      "*********** asset_contract.image_url ***********\n"
     ]
    },
    {
     "data": {
      "text/plain": [
       "https://lh3.googleusercontent.com/FG0QJ00fN3c_FWuPeUr9-T__iQl63j9hn5d6svW8UqOmia5zp3lKHPkJuHcvhZ0f_Pd6P2COo9tt9zVUvdPxG_9BBw=s60                  1525\n",
       "https://lh3.googleusercontent.com/gj47nmAR3valkmpVbwamiuTJfWEWSCyVeORdjM6DRWrZ1o8WaqBxFXmpBrzZnGoWaPwq1Y0jiXRrBLbnLcawAp92=s120                   1292\n",
       "https://lh3.googleusercontent.com/uj2Wod0PLHgno51EggCbx56GdFTL-_TkAhWdifApD7hNKGni9tUNFYncf98gUGWcuCplEksHxapqT-dYzfS0emYs9ffTh1h3ybcyl7M=s120    1192\n",
       "https://lh3.googleusercontent.com/c9fa-MKAkBbkmnoYGR_7dUCXcJcSHNwu3CZGaNCTH0-fcEKzQ6SxwNdrq8hroRD2eMg7eDG2T1096FUjYwuvMgCT0km5zuz2Bfs3eQ=s120     1149\n",
       "https://lh3.googleusercontent.com/uNkBbVvg7wyRjspsooFtYYbRHFHFISntxwijLRskjGhplP8A3Iz_4ApLU_yLp9BW-Ai0yUWC50A138IGUkII55QWRT7g12qmSRTlbA=s120      669\n",
       "                                                                                                                                                  ... \n",
       "https://lh3.googleusercontent.com/OcOlcm1FcZcHZoPBMQLkIx0Thku58-h48CwIXVg0TXSk89pxfy0JWE0rE7UNCLzu13ALThIwn-U5EFAkI26zfEWAsBfKoFKCwXx_VQ=s120        1\n",
       "https://lh3.googleusercontent.com/ZRXLLhatw2osjEvQnsla7rg-ne24tgJ4mgqLT_jZjDBWR_-v5V4nSNUathacUwmkPjJkIHMQvnzfLj8KAW6PIrrK=s120                      1\n",
       "https://lh3.googleusercontent.com/4FAKcyzZCzCCKUXqKV7MAbII769opWf4lZBGCiz16i1-GPlXnheJcXgqsbUSutPwhcXcU-QGdiYYXAJ7PC7tKcCFeGeyxQ8Ppp29aLA=s120       1\n",
       "https://lh3.googleusercontent.com/VaAuvbr0qO7TrGcy3VNytW6Oam31Tzyjs_KSWesXpbcKea7qvCHx618CkhxrHfeX-KD_yFgHSFjZOy1uPFgwmu4C-w=s120                    1\n",
       "https://lh3.googleusercontent.com/_vwXExfnYweK_LAmVd1Dc1GNsp0RI2jKzrI5M-E0M9304JD1K0gaGF_84Li9PsVpnfaGSVd6-mVv2R352CESYCGzldwtSQXZGgKk=s120          1\n",
       "Name: asset_contract.image_url, Length: 240, dtype: int64"
      ]
     },
     "metadata": {},
     "output_type": "display_data"
    },
    {
     "name": "stdout",
     "output_type": "stream",
     "text": [
      "\n",
      "\n",
      "\n",
      "*********** collection.slug ***********\n"
     ]
    },
    {
     "data": {
      "text/plain": [
       "dodgers-mlb-crypto               4005\n",
       "cryptobumblebees                 1645\n",
       "rarible                          1510\n",
       "sorare                           1292\n",
       "fameladysquad                    1192\n",
       "                                 ... \n",
       "manga-xenia                         1\n",
       "treasures-in-sight                  1\n",
       "mdmz-photomanipulations             1\n",
       "bastard-gan-punks-v2-official       1\n",
       "flying-arts                         1\n",
       "Name: collection.slug, Length: 2782, dtype: int64"
      ]
     },
     "metadata": {},
     "output_type": "display_data"
    },
    {
     "name": "stdout",
     "output_type": "stream",
     "text": [
      "\n",
      "\n",
      "\n",
      "*********** collection.safelist_request_status ***********\n"
     ]
    },
    {
     "data": {
      "text/plain": [
       "not_requested    15045\n",
       "verified          9341\n",
       "approved          1600\n",
       "requested          255\n",
       "Name: collection.safelist_request_status, dtype: int64"
      ]
     },
     "metadata": {},
     "output_type": "display_data"
    },
    {
     "name": "stdout",
     "output_type": "stream",
     "text": [
      "\n",
      "\n",
      "\n",
      "*********** collection.description ***********\n"
     ]
    },
    {
     "data": {
      "text/plain": [
       "Explore the collection of cute and fabulous bumblebees. Each bumblebee is unique and living in the ethereum blockchain.\\n-> Save the bees <-                                                                                                                                                                                                                                                                                                                                                                                                                                                                                                                      1645\n",
       "Create and sell digital collectibles secured with blockchain technology. Rarible is home to thousands of artists and collectors, creating and exchanging immutable art without using code. Trade with RARI token on OpenSea.                                                                                                                                                                                                                                                                                                                                                                                                                                      1510\n",
       "Sorare is a fantasy football game where managers can trade official digital collectibles. The platform is growing fast, with a global audience collecting, buying, and selling their favorite players in the form of blockchain-backed NFTs. The Sorare team has secured the rights to European giants like Atletico Madrid, Juventus, and Bayern Munich, as well as the MLS, Korean League, and Japanese League.                                                                                                                                                                                                                                                 1292\n",
       "Fame Lady Squad is a collection of 8888 unique Lady NFTs that are living on the ETH blockchain. Each Lady is absolutely distinctive from others. Millions of combinations were created to make this happen.                                                                                                                                                                                                                                                                                                                                                                                                                                                       1192\n",
       "Flowerpatch is an indie farming MMO that treats cannabis with respect! Build up your farm, breed unique NFTs with other players, and enjoy a vast game world 🙏🏻🐨                                                                                                                                                                                                                                                                                                                                                                                                                                                                                                  1149\n",
       "                                                                                                                                                                                                                                                                                                                                                                                                                                                                                                                                                                                                                                                                  ... \n",
       "Goldweard is a digital sculptor. He creates a wide variety of digital renderings from wine glasses, to bullets, to animals. He is an artist on the rise in the NFT space.                                                                                                                                                                                                                                                                                                                                                                                                                                                                                            1\n",
       "The mission of this application is to help anyone who wants to be a self-powered generator to find a designer, an installer and an expert to fulfill their desire. Thus, those who want to buy make a registration as a customer, those who want to design register as a designer and those who want to install make a registration as an installer. The customer will see the options he has based on the designer's hourly price, while the designer will be able to see all the installers that exist near the desired installation location. So, a designer in the USA could be responsible for an installation  of the photovoltaic project in Argentina.       1\n",
       "This collection is for the LA Blockchain Summit COVID-19 relief auction in partnership with Giveback Heroes. 100% of proceeds from the auction will be donated to buy and distribute gift cards to first responders, frontline workers & those in need.\\n\\nCheck out the leaderboard!: https://niftyrank.com/la-blockchain-summit-covid-relief                                                                                                                                                                                                                                                                                                                       1\n",
       "All 10000 cryptopunks (https://github.com/larvalabs/cryptopunks/blob/master/punks.png) are put into StyleGAN2 (https://github.com/NVlabs/stylegan2) to give birth to bastard children.                                                                                                                                                                                                                                                                                                                                                                                                                                                                               1\n",
       "This is a selection of the Revit Template Projects.                                                                                                                                                                                                                                                                                                                                                                                                                                                                                                                                                                                                                  1\n",
       "Name: collection.description, Length: 2474, dtype: int64"
      ]
     },
     "metadata": {},
     "output_type": "display_data"
    },
    {
     "name": "stdout",
     "output_type": "stream",
     "text": [
      "\n",
      "\n",
      "\n",
      "*********** collection.display_data.card_display_style ***********\n"
     ]
    },
    {
     "data": {
      "text/plain": [
       "contain    14754\n",
       "cover       4532\n",
       "padded      2734\n",
       "Name: collection.display_data.card_display_style, dtype: int64"
      ]
     },
     "metadata": {},
     "output_type": "display_data"
    },
    {
     "name": "stdout",
     "output_type": "stream",
     "text": [
      "\n",
      "\n",
      "\n",
      "*********** collection.external_url ***********\n"
     ]
    },
    {
     "data": {
      "text/plain": [
       "https://rarible.com/                  1510\n",
       "https://sorare.com                    1292\n",
       "https://fameladysquad.com/            1192\n",
       "https://flowerpatch.app/              1149\n",
       "https://thedogepoundnft.com/           669\n",
       "                                      ... \n",
       "https://marathonmeb.com/                 1\n",
       "https://www.valentinaloffredo.com/       1\n",
       "https://mattiasguitar.com                1\n",
       "https://www.triptychdrops.com/           1\n",
       "https://mintable.app/u/xdiginonx         1\n",
       "Name: collection.external_url, Length: 1106, dtype: int64"
      ]
     },
     "metadata": {},
     "output_type": "display_data"
    },
    {
     "name": "stdout",
     "output_type": "stream",
     "text": [
      "\n",
      "\n",
      "\n",
      "*********** collection.image_url ***********\n"
     ]
    },
    {
     "data": {
      "text/plain": [
       "https://lh3.googleusercontent.com/ek2X4mpeyIW4Jx0axpDBdJq0XFt0hGlUwEQe7HQork_ZYdfyUY8j4NC8c2A1RfnQV6I3fZXHLll93THAS5BhslIQ8aP5bu4UPAcnNbg=s120    1645\n",
       "https://lh3.googleusercontent.com/FG0QJ00fN3c_FWuPeUr9-T__iQl63j9hn5d6svW8UqOmia5zp3lKHPkJuHcvhZ0f_Pd6P2COo9tt9zVUvdPxG_9BBw=s60                  1510\n",
       "https://lh3.googleusercontent.com/gj47nmAR3valkmpVbwamiuTJfWEWSCyVeORdjM6DRWrZ1o8WaqBxFXmpBrzZnGoWaPwq1Y0jiXRrBLbnLcawAp92=s120                   1292\n",
       "https://lh3.googleusercontent.com/uj2Wod0PLHgno51EggCbx56GdFTL-_TkAhWdifApD7hNKGni9tUNFYncf98gUGWcuCplEksHxapqT-dYzfS0emYs9ffTh1h3ybcyl7M=s120    1192\n",
       "https://lh3.googleusercontent.com/c9fa-MKAkBbkmnoYGR_7dUCXcJcSHNwu3CZGaNCTH0-fcEKzQ6SxwNdrq8hroRD2eMg7eDG2T1096FUjYwuvMgCT0km5zuz2Bfs3eQ=s120     1149\n",
       "                                                                                                                                                  ... \n",
       "https://lh3.googleusercontent.com/bOy220vZK2iAKXQeWTj2bmjShsElCEhUexNdFA5080UGl8meViFQNamj3jC-mkKGA5TWlX47mJgPTpw_TdQxaTI5MMCyVf9V5jaH0w=s120        1\n",
       "https://lh3.googleusercontent.com/7KuV2oaz1F3AUzYwMX1j-xOBgF8MEGLQEIVeEtVZBi-lVIhPWrMfhX_HwoJHstF-I4OwvaVCvcp6fz-VNrFWOzZW6Iv1F-Imys41kw=s120        1\n",
       "https://lh3.googleusercontent.com/L50hHfe5mqqCmdhhqukbRajo2v278zZ1zKnVRWtmPHaNYk3CB_sRNmJVeqCzx5zFdX5famSt_hofhvGDybPPu58acyqLP8h_R6SX=s120          1\n",
       "https://lh3.googleusercontent.com/ZD1bs3awfAUy1hwEfQmO0D_J-VSLaCpXDciSc1pOAnO088xV0uJkvFrh3f7AKL1wdRYRY37UzBxnYhBWBmK5_OAzp89pKSn63BfMblA=s120       1\n",
       "https://lh3.googleusercontent.com/Dt22VCt9uvtF_VWHgyKs7fKT-EES7znIy-nsyiQyzfbyV3aImKFWdbIcfrr-kQlzVwnq0xHV1V0JbmxX5TmPzsnd9TQ-dF_hFxvVcME=s120       1\n",
       "Name: collection.image_url, Length: 2720, dtype: int64"
      ]
     },
     "metadata": {},
     "output_type": "display_data"
    },
    {
     "name": "stdout",
     "output_type": "stream",
     "text": [
      "\n",
      "\n",
      "\n",
      "*********** collection.large_image_url ***********\n"
     ]
    },
    {
     "data": {
      "text/plain": [
       "https://lh3.googleusercontent.com/9mDcN2mTqWZ5HbxQdd3yQHzmA9BNLEFfxiZWOE4y_Bj8YdC_JTu0KfMRC-2sb4C_tQCNd34J-Ym6h24XjPufSYSSZ2PDrBhmUc2K=s300       1645\n",
       "https://lh3.googleusercontent.com/FG0QJ00fN3c_FWuPeUr9-T__iQl63j9hn5d6svW8UqOmia5zp3lKHPkJuHcvhZ0f_Pd6P2COo9tt9zVUvdPxG_9BBw                      1510\n",
       "https://lh3.googleusercontent.com/nXNnPXj42KX4PACc4LP9ijCvWLY7xIgHihKk17ON3t9MEZIWBULQRp6kuo4ATsXOIQJGc37HVnrk4dRLzw3x1403aQv2luEM7QPr=s300       1292\n",
       "https://lh3.googleusercontent.com/ddzg7iww0bB8SNQn6i2Reni99AV6oW2sA5Zk7JhBxeDrQqFdfhQ-DHaq2TnUKXJAS9v1obco658gmFi1ZmbQfYujH6B9rvHeGA5jsw=s300     1192\n",
       "https://lh3.googleusercontent.com/fIqsUldzqPig48D42Go9kot_wYTGButslUfNLe4y-awTj-rpsIlEWBilBrqa030dbeGtNv3Xejsbfp07zmR_q2BfU1sKD9nGxk_b5g=s300     1149\n",
       "                                                                                                                                                  ... \n",
       "https://lh3.googleusercontent.com/1zD0-5Vb2QubT5kihLwR29RH-Mgf4-RxDSHZZqkvwjc3yXq92ck5fRcons9lrERB1dr2vdYCLZAPuAgs948k2ChyVC58Q3IV5sm-eK0=s300       1\n",
       "https://lh3.googleusercontent.com/DHjhifAcGObAiGVanVWkpBmDGWHKy22okCPIbtDzJmL6wW3V4Z60zG8Karxm3b45OENTZGPkvuCA4e44IVmmEre74JxqJPi_oO_BaQ=s300        1\n",
       "https://lh3.googleusercontent.com/xPlf9wyePE_gUtTN-DkiejCeijGY37tvzSXOpOgTOE3cjv0PGQVFJPdUHzJ_FaIefPPJ0l1j1N8hy3seFl2E98UVm6MJWJt-sUGqxw=s300        1\n",
       "https://lh3.googleusercontent.com/0ruTGYArxcdMfxy9FQ27Qkd5QsleoIuW_0EEDkqM2-ebW-OQ1MCJNWkfHlExiCzzlZBt-U25RSLdHJVHp_53uB9DNnfjcyyHSMEoAKo=s300       1\n",
       "https://lh3.googleusercontent.com/j2QCVmd2RHiw1qD5R8di0OAEgaUVEApK3rZrF96b7sRe3plDaOZaq3TlB1nFzRW3r_ll3V7zbPdL8FhbAJC4iP1-bGxo-wGHqeJY=s300          1\n",
       "Name: collection.large_image_url, Length: 1422, dtype: int64"
      ]
     },
     "metadata": {},
     "output_type": "display_data"
    },
    {
     "name": "stdout",
     "output_type": "stream",
     "text": [
      "\n",
      "\n",
      "\n",
      "*********** collection.display_data.images ***********\n"
     ]
    },
    {
     "data": {
      "text/plain": [
       "[]                                                                                                                                                                                                                                                                                                                                                                                                                                                                                                                                                                                                                                                                                                                                                                                                                                                                                                                                                                                                                                            5646\n",
       "['https://storage.opensea.io/0x8853b05833029e3cf8d3cbb592f9784fa43d2a79/1178-1551947758.gif', 'https://storage.opensea.io/0x8853b05833029e3cf8d3cbb592f9784fa43d2a79/811-1549677961.gif', 'https://storage.opensea.io/0x8853b05833029e3cf8d3cbb592f9784fa43d2a79/1208-1552429987.gif', 'https://storage.opensea.io/0x8853b05833029e3cf8d3cbb592f9784fa43d2a79/1221-1552769441.jpg', 'https://storage.opensea.io/0x8853b05833029e3cf8d3cbb592f9784fa43d2a79/728-1551540084.jpg', 'https://storage.opensea.io/0x8853b05833029e3cf8d3cbb592f9784fa43d2a79/1215-1552657749.jpg']                                                                                                                                                                                                                                                                                                                                                                                                                                                                    37\n",
       "['https://storage.opensea.io/0x8562c38485b1e8ccd82e44f89823da76c98eb0ab/11081664790290029703914123501093412959851005990698421485335279882236843786250-1550517150.png', 'https://storage.opensea.io/0x8562c38485b1e8ccd82e44f89823da76c98eb0ab/11081664790290028134638689654423222000903650188781817459746418766228215563559-1552773943.png', 'https://storage.opensea.io/0x8562c38485b1e8ccd82e44f89823da76c98eb0ab/50885195465617471177731255234521635734804147820253726770435014604985116655636-1551524003.jpg', 'https://storage.opensea.io/0x8562c38485b1e8ccd82e44f89823da76c98eb0ab/11081664790290028178578401802129987347754176151235482372462906877476457152527-1552773783.png', 'https://storage.opensea.io/0x8562c38485b1e8ccd82e44f89823da76c98eb0ab/7237005577332265873523498293477879557094607771672055840139323123026691620864-1551250671.jpg', 'https://storage.opensea.io/0x8562c38485b1e8ccd82e44f89823da76c98eb0ab/10855508365998398882471917397163648119753490024396247545386072295876434329600-1552747248.jpg']             19\n",
       "['https://cryptobots.me/img/6349', 'https://cryptobots.me/img/6361', 'https://cryptobots.me/img/6338', 'https://cryptobots.me/img/6339', 'https://cryptobots.me/img/6331', 'https://cryptobots.me/img/6328']                                                                                                                                                                                                                                                                                                                                                                                                                                                                                                                                                                                                                                                                                                                                                                                                                                     9\n",
       "['https://storage.opensea.io/0xfaafdc07907ff5120a76b34b731b278c38d6043c/54277541829991970145084277980910407609605540001142873075224213181424744792064-1564876783.jpg', 'https://storage.opensea.io/0xfaafdc07907ff5120a76b34b731b278c38d6043c/54277541829991970138807176245523726845769750577935206659121857736960710279168-1564871970.jpg', 'https://storage.opensea.io/0xfaafdc07907ff5120a76b34b731b278c38d6043c/54277541829991971764576525710674044679239211188720808429631917853145649119232-1564856907.jpg', 'https://storage.opensea.io/0xfaafdc07907ff5120a76b34b731b278c38d6043c/54277541829991970170192684922457130664948697693973538739633634959280882843648-1564858155.jpg', 'https://storage.opensea.io/0xfaafdc07907ff5120a76b34b731b278c38d6043c/54277541829991970132530074510137046081933961154727540243019502292496675766272-1564868622.jpg', 'https://storage.opensea.io/0xfaafdc07907ff5120a76b34b731b278c38d6043c/54277541829991970452662263014857765037559221738318527464239629960162435923968-1564863062.jpg']             6\n",
       "['https://storage.opensea.io/0xfaafdc07907ff5120a76b34b731b278c38d6043c/50885195465617473544198609475300283700896760369543965641023017167926128017414-1564976317.png', 'https://storage.opensea.io/0xfaafdc07907ff5120a76b34b731b278c38d6043c/50659039041325842321021892306622949975308721317951141070523061135867509735424-1564858178.jpg', 'https://storage.opensea.io/0xfaafdc07907ff5120a76b34b731b278c38d6043c/50885195465617473550475711210686964464732549792751632057125372612390162530312-1564940797.png', 'https://storage.opensea.io/0xfaafdc07907ff5120a76b34b731b278c38d6043c/50885195465617473581861219887620368283911496908789964137637149834710335094789-1564939305.png', 'https://storage.opensea.io/0xfaafdc07907ff5120a76b34b731b278c38d6043c/50885195465617473563029914681460325992404128639166964889330083501318231556097-1564922428.png', 'https://storage.opensea.io/0xfaafdc07907ff5120a76b34b731b278c38d6043c/50885195465617473544198609475300283700896760369543965641023017167926128017418-1564904039.png']             2\n",
       "['https://storage.opensea.io/0x7c99dedb1dd8b9c9b12a8043c569988c3f881550/115792089237316195423570985008687907808352712232076686862292135826919725727861-1571104076.png', 'https://storage.opensea.io/0x7c99dedb1dd8b9c9b12a8043c569988c3f881550/115792089237316195423570985008687907808012429865155748398828761219487957516405-1571104067.png', 'https://storage.opensea.io/0x7c99dedb1dd8b9c9b12a8043c569988c3f881550/115792089237316195423570985008687907808012429865155748398828761219487957516397-1571105553.png', 'https://storage.opensea.io/0x7c99dedb1dd8b9c9b12a8043c569988c3f881550/115792089237316195423570985008687907808012429865155748398828761219487957516406-1571103501.png', 'https://storage.opensea.io/0x7c99dedb1dd8b9c9b12a8043c569988c3f881550/115792089237316195423570985008687907808352712232076686862292135826919725727862-1571103533.png', 'https://storage.opensea.io/0x7c99dedb1dd8b9c9b12a8043c569988c3f881550/115792089237316195423570985008687907810394406433602317643072383471510334996598-1571100023.png']       2\n",
       "['https://storage.opensea.io/0x2fb5d7dda4f1f20f974a0fdd547c38674e8d940c/1-1571915237.svg', 'https://storage.opensea.io/0x2fb5d7dda4f1f20f974a0fdd547c38674e8d940c/2-1571982585.svg', 'https://storage.opensea.io/0x2fb5d7dda4f1f20f974a0fdd547c38674e8d940c/6-1571984918.svg', 'https://storage.opensea.io/0x2fb5d7dda4f1f20f974a0fdd547c38674e8d940c/5-1571984898.svg', 'https://storage.opensea.io/0x2fb5d7dda4f1f20f974a0fdd547c38674e8d940c/4-1571984887.svg', 'https://storage.opensea.io/0x2fb5d7dda4f1f20f974a0fdd547c38674e8d940c/3-1571984879.svg']                                                                                                                                                                                                                                                                                                                                                                                                                                                                                     2\n",
       "['https://lh3.googleusercontent.com/mO_PQZc_Z0-42Fr7mZNCrtWwnVMvfX2xbrqFflj7iF9fYcebzKdviPyUf1hr7ywmpc6Knr3eQzkD1kZTh4XRa5gp', 'https://lh3.googleusercontent.com/qcTsNCj5TWHqc5muE6wNZ3_a2AO4ccbzMsuEDkg_J9Jmpjk0L-M1wmEMDFoP5niC6BmCfX0CSKLmcr4BE-CvWpo', 'https://lh3.googleusercontent.com/uSSkeYu001A-px-oLfCHxwjtAK5Rf5CRsLzklxqo2RYAN5hbiTGpLd8qGrIfIQumtQIK98rcomKr5xC3owronyIHew', 'https://lh3.googleusercontent.com/LVrCoivrVSam8XBOBap9SQk8DFuMpcP3CYpzdjU5Z_ijYE1GmxbPuTLOtpy-WJaOpQKvOzf8t_kZJg7oPheZPn9cgA', 'https://lh3.googleusercontent.com/r04WnhnhvGnCj2GFCKh7bfGh5BxSWiE0crfrnISDACg881za3ZTqr83w71ZPCaVZvZMZg7ingj1MaJrbGt48ARrQZg', 'https://lh3.googleusercontent.com/ETQt9Jp9nHM4rm3iBGDolKUCgqg6X7FDKFfcs6j8S4-fGR9oP8NRn4zOSKV5Zvqqug7Tk5M5JT8Eer9NJIsBtiOX']                                                                                                                                                                                                                                                        2\n",
       "['https://storage.opensea.io/0x157ad40f43e26e72909f16bb07f2ca97466df849/103734-1568559343.png', 'https://storage.opensea.io/0x157ad40f43e26e72909f16bb07f2ca97466df849/77141-1568072196.png', 'https://storage.opensea.io/0x157ad40f43e26e72909f16bb07f2ca97466df849/103722-1568559209.png', 'https://storage.opensea.io/0x157ad40f43e26e72909f16bb07f2ca97466df849/64851-1568525095.png', 'https://storage.opensea.io/0x157ad40f43e26e72909f16bb07f2ca97466df849/103729-1568559189.png', 'https://storage.opensea.io/0x157ad40f43e26e72909f16bb07f2ca97466df849/59194-1568560326.png']                                                                                                                                                                                                                                                                                                                                                                                                                                                          1\n",
       "['https://storage.opensea.io/0xfaafdc07907ff5120a76b34b731b278c38d6043c/7237005577332269652338742996259699386239840542687238333757300690375468384256-1564883125.png', 'https://storage.opensea.io/0xfaafdc07907ff5120a76b34b731b278c38d6043c/7237005577332268892809433014471326962109320334559601985372291910227292323840-1564794598.png', 'https://storage.opensea.io/0xfaafdc07907ff5120a76b34b731b278c38d6043c/7237005577332272382877997889465831654808239638022129338281919032230481494016-1564890793.png', 'https://storage.opensea.io/0xfaafdc07907ff5120a76b34b731b278c38d6043c/7237005577332271039578226516716148193949303071581516292377853916927095734272-1564890742.png', 'https://storage.opensea.io/0xfaafdc07907ff5120a76b34b731b278c38d6043c/7237005577332269658615844731646380150075629965894904749859656134839502897152-1564890540.png', 'https://storage.opensea.io/0xfaafdc07907ff5120a76b34b731b278c38d6043c/7237005577332272395432201360239193182479818484437462170486629921158550519808-1564889269.png']                   1\n",
       "['https://storage.opensea.io/0x14a4123da9ad21b2215dc0ab6984ec1e89842c6d/18998906514627227274320642736617172985370189003558443992493832354010134223107-1552772413.png', 'https://storage.opensea.io/0x14a4123da9ad21b2215dc0ab6984ec1e89842c6d/18998906514627227268043541001230492221534399580350777576391476909546099705584-1551162279.png', 'https://storage.opensea.io/0x14a4123da9ad21b2215dc0ab6984ec1e89842c6d/18998906514627227274320642736617172985370189003558443992493832354010134222786-1552246841.png', 'https://storage.opensea.io/0x14a4123da9ad21b2215dc0ab6984ec1e89842c6d/18998906514627228890674339598687469759857969044371854322010884198599916634180-1552773220.png', 'https://storage.opensea.io/0x14a4123da9ad21b2215dc0ab6984ec1e89842c6d/18998906514627227274320642736617172985370189003558443992493832354010134219374-1551157054.png', 'https://storage.opensea.io/0x14a4123da9ad21b2215dc0ab6984ec1e89842c6d/18998906514627227274320642736617172985370189003558443992493832354010134222006-1551595979.png']             1\n",
       "['https://i.imgur.com/okDFdyw.jpg', 'https://i.imgur.com/nWGmIzB.png', 'https://i.imgur.com/E9M0KY4.png', 'https://i.imgur.com/wDom5bw.png', 'https://i.imgur.com/PWmOKbu.png', 'https://i.imgur.com/0j4YlcF.png']                                                                                                                                                                                                                                                                                                                                                                                                                                                                                                                                                                                                                                                                                                                                                                                                                               1\n",
       "['https://storage.opensea.io/0x909899c5dbb5002610dd8543b6f638be56e3b17e/57896044618658097711785492504343953929357251268187789727435788863410710514156-1552753058.png', 'https://storage.opensea.io/0x909899c5dbb5002610dd8543b6f638be56e3b17e/57896044618658097711785492504343953929357251268187789727435788863410710511618-1552437976.png', 'https://storage.opensea.io/0x909899c5dbb5002610dd8543b6f638be56e3b17e/57896044618658097711785492504343953929357251268187789727435788863410710514085-1552752765.png', 'https://storage.opensea.io/0x909899c5dbb5002610dd8543b6f638be56e3b17e/57896044618658097711785492504343953929357251268187789727435788863410710524327-1552747692.png', 'https://storage.opensea.io/0x909899c5dbb5002610dd8543b6f638be56e3b17e/57896044618658097711785492504343953929357251268187789727435788863410710514089-1552752909.png', 'https://storage.opensea.io/0x909899c5dbb5002610dd8543b6f638be56e3b17e/57896044618658097711785492504343953929357251268187789727435788863410710522410-1552523248.png']             1\n",
       "['https://storage.opensea.io/0xd3551ab3018edb9e1c1111e966cceffdf625a730/302696-1559938476.jpg', 'https://storage.opensea.io/0xd3551ab3018edb9e1c1111e966cceffdf625a730/5145-1563770500.jpg', 'https://storage.opensea.io/0xd3551ab3018edb9e1c1111e966cceffdf625a730/250504-1558083460.jpg', 'https://storage.opensea.io/0xd3551ab3018edb9e1c1111e966cceffdf625a730/21302-1563770614.jpg', 'https://storage.opensea.io/0xd3551ab3018edb9e1c1111e966cceffdf625a730/21308-1564465810.jpg', 'https://storage.opensea.io/0xd3551ab3018edb9e1c1111e966cceffdf625a730/21314-1564467989.jpg']                                                                                                                                                                                                                                                                                                                                                                                                                                                            1\n",
       "['https://storage.googleapis.com/opensea-prod.appspot.com/0x61c81bab9f7094a038e645b8a995f13c4e102480/35.jpg', 'https://storage.opensea.io/0x61c81bab9f7094a038e645b8a995f13c4e102480/117.jpg', 'https://storage.opensea.io/0x61c81bab9f7094a038e645b8a995f13c4e102480/119.jpg', 'https://storage.googleapis.com/opensea-prod.appspot.com/0x61c81bab9f7094a038e645b8a995f13c4e102480/70.jpg', 'https://storage.opensea.io/0x61c81bab9f7094a038e645b8a995f13c4e102480/72.jpg', 'https://storage.opensea.io/0x61c81bab9f7094a038e645b8a995f13c4e102480/122.jpg']                                                                                                                                                                                                                                                                                                                                                                                                                                                                                    1\n",
       "['https://storage.opensea.io/0xfaafdc07907ff5120a76b34b731b278c38d6043c/43648189888285213772017997977676106592189471955723666252373186063940982931523-1565029009.jpg', 'https://storage.opensea.io/0xfaafdc07907ff5120a76b34b731b278c38d6043c/43648189888285213715524082359195979717667367146854668507451987063764672315428-1565019526.jpg', 'https://storage.opensea.io/0xfaafdc07907ff5120a76b34b731b278c38d6043c/43422033463993588750617795371039367536361383033305260791000409162348463390720-1565022971.jpg', 'https://storage.opensea.io/0xfaafdc07907ff5120a76b34b731b278c38d6043c/43648189888285213746909591036129383536846314262893000587963764286084844879878-1566599843.jpg', 'https://storage.opensea.io/0xfaafdc07907ff5120a76b34b731b278c38d6043c/43648189888285213790849303183836148883696840225346665500680252397333086470166-1567033927.jpg']                                                                                                                                                                                   1\n",
       "['https://storage.opensea.io/0x6f9b9f2c75125079c029f6aecde745e09cf06f5a/405678898387156995.gif', 'https://storage.googleapis.com/opensea-prod.appspot.com/0x6f9b9f2c75125079c029f6aecde745e09cf06f5a/355020662882172931None', 'https://storage.googleapis.com/opensea-prod.appspot.com/0x6f9b9f2c75125079c029f6aecde745e09cf06f5a/355020485560664065None', 'https://storage.googleapis.com/opensea-prod.appspot.com/0x6f9b9f2c75125079c029f6aecde745e09cf06f5a/355020307237076995None', 'https://storage.googleapis.com/opensea-prod.appspot.com/0x6f9b9f2c75125079c029f6aecde745e09cf06f5a/378824876837896194None', 'https://storage.googleapis.com/opensea-prod.appspot.com/0x6f9b9f2c75125079c029f6aecde745e09cf06f5a/355021148638380033None']                                                                                                                                                                                                                                                                                                1\n",
       "Name: collection.display_data.images, dtype: int64"
      ]
     },
     "metadata": {},
     "output_type": "display_data"
    },
    {
     "name": "stdout",
     "output_type": "stream",
     "text": [
      "\n",
      "\n",
      "\n",
      "*********** collection.twitter_username ***********\n"
     ]
    },
    {
     "data": {
      "text/plain": [
       "rariblecom         1510\n",
       "SorareHQ           1292\n",
       "FameLadySquad      1192\n",
       "flowerpatchgame    1149\n",
       "TheDogePoundNFT     669\n",
       "                   ... \n",
       "OhYouBlockhead        1\n",
       "Azshx                 1\n",
       "NftBuy                1\n",
       "GKipach               1\n",
       "upunksunion           1\n",
       "Name: collection.twitter_username, Length: 1230, dtype: int64"
      ]
     },
     "metadata": {},
     "output_type": "display_data"
    },
    {
     "name": "stdout",
     "output_type": "stream",
     "text": [
      "\n",
      "\n",
      "\n",
      "*********** collection.instagram_username ***********\n"
     ]
    },
    {
     "data": {
      "text/plain": [
       "fameladysquad                             1192\n",
       "flowerpatchgame                           1149\n",
       "boredapeyachtclub                          634\n",
       "crypt0beasts                               453\n",
       "zwmalachite                                169\n",
       "                                          ... \n",
       "cloudwhiteNFT                                1\n",
       "https://www.instagram.com/adreis.art/        1\n",
       "https://www.instagram.com/nftartbondo/       1\n",
       "_focuspirate                                 1\n",
       "jon_lovac_work                               1\n",
       "Name: collection.instagram_username, Length: 606, dtype: int64"
      ]
     },
     "metadata": {},
     "output_type": "display_data"
    },
    {
     "name": "stdout",
     "output_type": "stream",
     "text": [
      "\n",
      "\n",
      "\n",
      "*********** collection.discord_url ***********\n"
     ]
    },
    {
     "data": {
      "text/plain": [
       "https://discord.gg/tsjtham       1292\n",
       "https://discord.gg/6Nn7ZKtuwK    1192\n",
       "https://discord.gg/4b8xyjZ       1149\n",
       "https://discord.gg/6xEq5wxR6M     669\n",
       "https://discord.gg/3P5K3dzgdB     634\n",
       "                                 ... \n",
       "https://discord.gg/uHyReTwJMz       1\n",
       "https://discord.gg/VJVJDUyA         1\n",
       "https://discord.gg/tFkPWCnXSU       1\n",
       "https://discord.gg/t8sUDVGvrq       1\n",
       "https://discord.gg/b2xhzzBhGz       1\n",
       "Name: collection.discord_url, Length: 373, dtype: int64"
      ]
     },
     "metadata": {},
     "output_type": "display_data"
    },
    {
     "name": "stdout",
     "output_type": "stream",
     "text": [
      "\n",
      "\n",
      "\n",
      "*********** collection.telegram_url ***********\n"
     ]
    },
    {
     "data": {
      "text/plain": [
       "https://t.me/rarible            1510\n",
       "https://t.me/sorarefc           1292\n",
       "https://t.me/FameLadySquad      1192\n",
       "https://t.me/Flowerpatch        1149\n",
       "https://t.me/sandboxgame         192\n",
       "                                ... \n",
       "https://t.me/blockchainkicks       1\n",
       "https://t.me/leheretic             1\n",
       "https://t.me/uqinzen               1\n",
       "https://t.me/blockmedia            1\n",
       "https://t.me/LeonidNikolaev        1\n",
       "Name: collection.telegram_url, Length: 197, dtype: int64"
      ]
     },
     "metadata": {},
     "output_type": "display_data"
    },
    {
     "name": "stdout",
     "output_type": "stream",
     "text": [
      "\n",
      "\n",
      "\n",
      "*********** collection.medium_username ***********\n"
     ]
    },
    {
     "data": {
      "text/plain": [
       "rarible                                           1510\n",
       "nugbase                                           1149\n",
       "sandbox-game                                       192\n",
       "polychainmonsters                                  178\n",
       "the-ethereum-name-service                          171\n",
       "                                                  ... \n",
       "universe-xyz/polymorphic-universe-8470e14629b4       1\n",
       "photography                                          1\n",
       "starterpad                                           1\n",
       "averyfamous                                          1\n",
       "https://kstarlive.medium.com/                        1\n",
       "Name: collection.medium_username, Length: 140, dtype: int64"
      ]
     },
     "metadata": {},
     "output_type": "display_data"
    },
    {
     "name": "stdout",
     "output_type": "stream",
     "text": [
      "\n",
      "\n",
      "\n",
      "*********** collection.chat_url ***********\n"
     ]
    },
    {
     "data": {
      "text/plain": [
       "https://discord.gg/FpN2ws6    1292\n",
       "Name: collection.chat_url, dtype: int64"
      ]
     },
     "metadata": {},
     "output_type": "display_data"
    },
    {
     "name": "stdout",
     "output_type": "stream",
     "text": [
      "\n",
      "\n",
      "\n",
      "*********** creator.user.username ***********\n"
     ]
    },
    {
     "data": {
      "text/plain": [
       "0x3ee5c5f600a019a68a43c61e5966e0b3e8c6ce71    4017\n",
       "DrCryptoCollector                             1645\n",
       "BoredApeYachtClub                              638\n",
       "CryptoBeasts-Official                          453\n",
       "PlagueDoctor                                   415\n",
       "                                              ... \n",
       "Incrypted                                        1\n",
       "VitaliyGrechin                                   1\n",
       "kenreitz                                         1\n",
       "IMVU_OpenSea                                     1\n",
       "MattiasSchulstad                                 1\n",
       "Name: creator.user.username, Length: 3008, dtype: int64"
      ]
     },
     "metadata": {},
     "output_type": "display_data"
    },
    {
     "name": "stdout",
     "output_type": "stream",
     "text": [
      "\n",
      "\n",
      "\n",
      "*********** creator.config ***********\n"
     ]
    },
    {
     "data": {
      "text/plain": [
       "verified             1333\n",
       "affiliate             118\n",
       "moderator               7\n",
       "affiliate_partner       1\n",
       "Name: creator.config, dtype: int64"
      ]
     },
     "metadata": {},
     "output_type": "display_data"
    },
    {
     "name": "stdout",
     "output_type": "stream",
     "text": [
      "\n",
      "\n",
      "\n",
      "*********** creator.profile_img_url ***********\n"
     ]
    },
    {
     "data": {
      "text/plain": [
       "https://storage.googleapis.com/opensea-static/opensea-profile/30.png    4439\n",
       "https://storage.googleapis.com/opensea-static/opensea-profile/5.png     3909\n",
       "https://storage.googleapis.com/opensea-static/opensea-profile/27.png    1593\n",
       "https://storage.googleapis.com/opensea-static/opensea-profile/15.png    1538\n",
       "https://storage.googleapis.com/opensea-static/opensea-profile/1.png     1147\n",
       "https://storage.googleapis.com/opensea-static/opensea-profile/18.png     816\n",
       "https://storage.googleapis.com/opensea-static/opensea-profile/32.png     701\n",
       "https://storage.googleapis.com/opensea-static/opensea-profile/14.png     700\n",
       "https://storage.googleapis.com/opensea-static/opensea-profile/21.png     678\n",
       "https://storage.googleapis.com/opensea-static/opensea-profile/16.png     662\n",
       "https://storage.googleapis.com/opensea-static/opensea-profile/2.png      586\n",
       "https://storage.googleapis.com/opensea-static/opensea-profile/9.png      574\n",
       "https://storage.googleapis.com/opensea-static/opensea-profile/23.png     554\n",
       "https://storage.googleapis.com/opensea-static/opensea-profile/22.png     553\n",
       "https://storage.googleapis.com/opensea-static/opensea-profile/28.png     527\n",
       "https://storage.googleapis.com/opensea-static/opensea-profile/4.png      509\n",
       "https://storage.googleapis.com/opensea-static/opensea-profile/25.png     483\n",
       "https://storage.googleapis.com/opensea-static/opensea-profile/7.png      482\n",
       "https://storage.googleapis.com/opensea-static/opensea-profile/29.png     465\n",
       "https://storage.googleapis.com/opensea-static/opensea-profile/17.png     460\n",
       "https://storage.googleapis.com/opensea-static/opensea-profile/24.png     454\n",
       "https://storage.googleapis.com/opensea-static/opensea-profile/19.png     449\n",
       "https://storage.googleapis.com/opensea-static/opensea-profile/33.png     438\n",
       "https://storage.googleapis.com/opensea-static/opensea-profile/26.png     393\n",
       "https://storage.googleapis.com/opensea-static/opensea-profile/11.png     368\n",
       "https://storage.googleapis.com/opensea-static/opensea-profile/10.png     361\n",
       "https://storage.googleapis.com/opensea-static/opensea-profile/31.png     349\n",
       "https://storage.googleapis.com/opensea-static/opensea-profile/20.png     326\n",
       "https://storage.googleapis.com/opensea-static/opensea-profile/3.png      321\n",
       "https://storage.googleapis.com/opensea-static/opensea-profile/12.png     304\n",
       "https://storage.googleapis.com/opensea-static/opensea-profile/13.png     298\n",
       "https://storage.googleapis.com/opensea-static/opensea-profile/6.png      292\n",
       "https://storage.googleapis.com/opensea-static/opensea-profile/8.png      231\n",
       "Name: creator.profile_img_url, dtype: int64"
      ]
     },
     "metadata": {},
     "output_type": "display_data"
    },
    {
     "name": "stdout",
     "output_type": "stream",
     "text": [
      "\n",
      "\n",
      "\n",
      "*********** creator.discord_id ***********\n"
     ]
    },
    {
     "data": {
      "text/plain": [
       "@RobGronkowski          37\n",
       "Instagram fiedler.jp    26\n",
       "@DrakeBell              17\n",
       "@sabet                  16\n",
       "@CbHoyo                  8\n",
       "@adamlucasNYC            8\n",
       "@vhils1                  8\n",
       "@kevinabosch             8\n",
       "@justinkan               6\n",
       "395737001225355275       4\n",
       "Instagram thatsval V     4\n",
       "@Crypto_Kobe_            4\n",
       "Katttykattt#2416         4\n",
       "@wizardofsoho            4\n",
       "@Cryptopathic            3\n",
       "@WebbEmotional           3\n",
       "@bobbibillard            2\n",
       "PaartiLive               2\n",
       "@wivteam                 2\n",
       "@godfreymeyer            2\n",
       "@ExtendedVictory         2\n",
       "Diana Art #4099          2\n",
       "@xCryptochild            2\n",
       "@msp4rro                 2\n",
       "Instagram maderis        1\n",
       "@andrealtrez             1\n",
       "davidfirth66             1\n",
       "@outisRatwell            1\n",
       "@D0PEP0PE                1\n",
       "368149960211824640       1\n",
       "@seanbonner              1\n",
       "146613143592894464       1\n",
       "Instagram meowyoface     1\n",
       "@DBlockEurope            1\n",
       "Rarebits #0901           1\n",
       "@MarcTaraz               1\n",
       "cloudwhite☁|OpenSea      1\n",
       "@TheMCFaceman            1\n",
       "@iSpaceCrypto            1\n",
       "Instagram dwbroodle      1\n",
       "@PuffyPuffPuff1          1\n",
       "298663715689988098       1\n",
       "@SatoshiLite             1\n",
       "@TeddyKillerz            1\n",
       "Name: creator.discord_id, dtype: int64"
      ]
     },
     "metadata": {},
     "output_type": "display_data"
    },
    {
     "name": "stdout",
     "output_type": "stream",
     "text": [
      "\n",
      "\n",
      "\n",
      "*********** owner.address ***********\n"
     ]
    },
    {
     "data": {
      "text/plain": [
       "0x0000000000000000000000000000000000000000    12597\n",
       "0x327305a797d92a39cee1a225d7e2a1cc42b1a8fa      881\n",
       "0xe5193d2be4d4819f717092afc95e806f09a79964      405\n",
       "0x2d98e14e491f00c2ee60381075323947161de87c      232\n",
       "0x0899a46dbcbbed0a009c308e70b9a1db9d4b0363      163\n",
       "                                              ...  \n",
       "0xdc65dc547f8c6a5e675a88fa2f7de1f8ff802301        1\n",
       "0x4519bba7596257973e7b8c8f8ba0d9088b3c460f        1\n",
       "0x56f74671cad5846fb9290393687f63082e4e2eb7        1\n",
       "0x47823b5beaef0db80edaa838a72c1ec406440b19        1\n",
       "0x05dad9407f51c00b134c35d6e79c716843bb79c1        1\n",
       "Name: owner.address, Length: 8069, dtype: int64"
      ]
     },
     "metadata": {},
     "output_type": "display_data"
    },
    {
     "name": "stdout",
     "output_type": "stream",
     "text": [
      "\n",
      "\n",
      "\n",
      "*********** owner.config ***********\n"
     ]
    },
    {
     "data": {
      "text/plain": [
       "affiliate            565\n",
       "verified             218\n",
       "moderator              8\n",
       "affiliate_partner      2\n",
       "Name: owner.config, dtype: int64"
      ]
     },
     "metadata": {},
     "output_type": "display_data"
    },
    {
     "name": "stdout",
     "output_type": "stream",
     "text": [
      "\n",
      "\n",
      "\n",
      "*********** owner.profile_img_url ***********\n"
     ]
    },
    {
     "data": {
      "text/plain": [
       "https://storage.googleapis.com/opensea-static/opensea-profile/1.png     12927\n",
       "https://storage.googleapis.com/opensea-static/opensea-profile/7.png      1210\n",
       "https://storage.googleapis.com/opensea-static/opensea-profile/13.png      770\n",
       "https://storage.googleapis.com/opensea-static/opensea-profile/12.png      541\n",
       "https://storage.googleapis.com/opensea-static/opensea-profile/5.png       531\n",
       "https://storage.googleapis.com/opensea-static/opensea-profile/15.png      474\n",
       "https://storage.googleapis.com/opensea-static/opensea-profile/11.png      469\n",
       "https://storage.googleapis.com/opensea-static/opensea-profile/17.png      439\n",
       "https://storage.googleapis.com/opensea-static/opensea-profile/8.png       431\n",
       "https://storage.googleapis.com/opensea-static/opensea-profile/27.png      424\n",
       "https://storage.googleapis.com/opensea-static/opensea-profile/22.png      405\n",
       "https://storage.googleapis.com/opensea-static/opensea-profile/10.png      402\n",
       "https://storage.googleapis.com/opensea-static/opensea-profile/21.png      389\n",
       "https://storage.googleapis.com/opensea-static/opensea-profile/3.png       365\n",
       "https://storage.googleapis.com/opensea-static/opensea-profile/18.png      363\n",
       "https://storage.googleapis.com/opensea-static/opensea-profile/30.png      360\n",
       "https://storage.googleapis.com/opensea-static/opensea-profile/31.png      354\n",
       "https://storage.googleapis.com/opensea-static/opensea-profile/19.png      353\n",
       "https://storage.googleapis.com/opensea-static/opensea-profile/6.png       351\n",
       "https://storage.googleapis.com/opensea-static/opensea-profile/26.png      350\n",
       "https://storage.googleapis.com/opensea-static/opensea-profile/14.png      350\n",
       "https://storage.googleapis.com/opensea-static/opensea-profile/29.png      346\n",
       "https://storage.googleapis.com/opensea-static/opensea-profile/16.png      345\n",
       "https://storage.googleapis.com/opensea-static/opensea-profile/23.png      344\n",
       "https://storage.googleapis.com/opensea-static/opensea-profile/2.png       343\n",
       "https://storage.googleapis.com/opensea-static/opensea-profile/28.png      337\n",
       "https://storage.googleapis.com/opensea-static/opensea-profile/33.png      333\n",
       "https://storage.googleapis.com/opensea-static/opensea-profile/9.png       332\n",
       "https://storage.googleapis.com/opensea-static/opensea-profile/32.png      332\n",
       "https://storage.googleapis.com/opensea-static/opensea-profile/20.png      324\n",
       "https://storage.googleapis.com/opensea-static/opensea-profile/24.png      323\n",
       "https://storage.googleapis.com/opensea-static/opensea-profile/25.png      321\n",
       "https://storage.googleapis.com/opensea-static/opensea-profile/4.png       303\n",
       "Name: owner.profile_img_url, dtype: int64"
      ]
     },
     "metadata": {},
     "output_type": "display_data"
    },
    {
     "name": "stdout",
     "output_type": "stream",
     "text": [
      "\n",
      "\n",
      "\n",
      "*********** owner.discord_id ***********\n"
     ]
    },
    {
     "data": {
      "text/plain": [
       "@kevinabosch          8\n",
       "edd#1977              5\n",
       "Nicholas | ⏚ #1355    1\n",
       "@mera_takeru          1\n",
       "387325865077243924    1\n",
       "@sabet                1\n",
       "391063760317448204    1\n",
       "499194181533564949    1\n",
       "Name: owner.discord_id, dtype: int64"
      ]
     },
     "metadata": {},
     "output_type": "display_data"
    },
    {
     "name": "stdout",
     "output_type": "stream",
     "text": [
      "\n",
      "\n",
      "\n"
     ]
    }
   ],
   "source": [
    "for col in obj_col:\n",
    "    print(f\"*********** {col} ***********\")\n",
    "    display(df[col].value_counts())\n",
    "    print(\"\\n\\n\")"
   ]
  },
  {
   "cell_type": "code",
   "execution_count": 20,
   "metadata": {
    "ExecuteTime": {
     "end_time": "2021-07-13T01:23:13.763651Z",
     "start_time": "2021-07-13T01:23:13.574792Z"
    },
    "scrolled": true
   },
   "outputs": [
    {
     "name": "stdout",
     "output_type": "stream",
     "text": [
      "*********** asset_contract.asset_contract_type ***********\n"
     ]
    },
    {
     "data": {
      "text/plain": [
       "non-fungible     13723\n",
       "semi-fungible    12518\n",
       "Name: asset_contract.asset_contract_type, dtype: int64"
      ]
     },
     "metadata": {},
     "output_type": "display_data"
    },
    {
     "name": "stdout",
     "output_type": "stream",
     "text": [
      "\n",
      "\n",
      "\n",
      "*********** asset_contract.schema_name ***********\n"
     ]
    },
    {
     "data": {
      "text/plain": [
       "ERC721         13635\n",
       "ERC1155        12518\n",
       "CRYPTOPUNKS       88\n",
       "Name: asset_contract.schema_name, dtype: int64"
      ]
     },
     "metadata": {},
     "output_type": "display_data"
    },
    {
     "name": "stdout",
     "output_type": "stream",
     "text": [
      "\n",
      "\n",
      "\n",
      "*********** collection.safelist_request_status ***********\n"
     ]
    },
    {
     "data": {
      "text/plain": [
       "not_requested    15045\n",
       "verified          9341\n",
       "approved          1600\n",
       "requested          255\n",
       "Name: collection.safelist_request_status, dtype: int64"
      ]
     },
     "metadata": {},
     "output_type": "display_data"
    },
    {
     "name": "stdout",
     "output_type": "stream",
     "text": [
      "\n",
      "\n",
      "\n",
      "*********** owner.profile_img_url ***********\n"
     ]
    },
    {
     "data": {
      "text/plain": [
       "https://storage.googleapis.com/opensea-static/opensea-profile/1.png     12927\n",
       "https://storage.googleapis.com/opensea-static/opensea-profile/7.png      1210\n",
       "https://storage.googleapis.com/opensea-static/opensea-profile/13.png      770\n",
       "https://storage.googleapis.com/opensea-static/opensea-profile/12.png      541\n",
       "https://storage.googleapis.com/opensea-static/opensea-profile/5.png       531\n",
       "https://storage.googleapis.com/opensea-static/opensea-profile/15.png      474\n",
       "https://storage.googleapis.com/opensea-static/opensea-profile/11.png      469\n",
       "https://storage.googleapis.com/opensea-static/opensea-profile/17.png      439\n",
       "https://storage.googleapis.com/opensea-static/opensea-profile/8.png       431\n",
       "https://storage.googleapis.com/opensea-static/opensea-profile/27.png      424\n",
       "https://storage.googleapis.com/opensea-static/opensea-profile/22.png      405\n",
       "https://storage.googleapis.com/opensea-static/opensea-profile/10.png      402\n",
       "https://storage.googleapis.com/opensea-static/opensea-profile/21.png      389\n",
       "https://storage.googleapis.com/opensea-static/opensea-profile/3.png       365\n",
       "https://storage.googleapis.com/opensea-static/opensea-profile/18.png      363\n",
       "https://storage.googleapis.com/opensea-static/opensea-profile/30.png      360\n",
       "https://storage.googleapis.com/opensea-static/opensea-profile/31.png      354\n",
       "https://storage.googleapis.com/opensea-static/opensea-profile/19.png      353\n",
       "https://storage.googleapis.com/opensea-static/opensea-profile/6.png       351\n",
       "https://storage.googleapis.com/opensea-static/opensea-profile/26.png      350\n",
       "https://storage.googleapis.com/opensea-static/opensea-profile/14.png      350\n",
       "https://storage.googleapis.com/opensea-static/opensea-profile/29.png      346\n",
       "https://storage.googleapis.com/opensea-static/opensea-profile/16.png      345\n",
       "https://storage.googleapis.com/opensea-static/opensea-profile/23.png      344\n",
       "https://storage.googleapis.com/opensea-static/opensea-profile/2.png       343\n",
       "https://storage.googleapis.com/opensea-static/opensea-profile/28.png      337\n",
       "https://storage.googleapis.com/opensea-static/opensea-profile/33.png      333\n",
       "https://storage.googleapis.com/opensea-static/opensea-profile/9.png       332\n",
       "https://storage.googleapis.com/opensea-static/opensea-profile/32.png      332\n",
       "https://storage.googleapis.com/opensea-static/opensea-profile/20.png      324\n",
       "https://storage.googleapis.com/opensea-static/opensea-profile/24.png      323\n",
       "https://storage.googleapis.com/opensea-static/opensea-profile/25.png      321\n",
       "https://storage.googleapis.com/opensea-static/opensea-profile/4.png       303\n",
       "Name: owner.profile_img_url, dtype: int64"
      ]
     },
     "metadata": {},
     "output_type": "display_data"
    },
    {
     "name": "stdout",
     "output_type": "stream",
     "text": [
      "\n",
      "\n",
      "\n",
      "*********** asset_contract.name ***********\n"
     ]
    },
    {
     "data": {
      "text/plain": [
       "OpenSea Collection          10482\n",
       "Dodgers MLB Crypto           4005\n",
       "Rarible 1155                 1297\n",
       "Sorare New                   1292\n",
       "FameLadySquad                1192\n",
       "                            ...  \n",
       "NYC Skyline by FEWOCiOUS        1\n",
       "Artobject                       1\n",
       "Degen$ Farm Eggs                1\n",
       "CyberKongz                      1\n",
       "CryptoAvatars                   1\n",
       "Name: asset_contract.name, Length: 279, dtype: int64"
      ]
     },
     "metadata": {},
     "output_type": "display_data"
    },
    {
     "name": "stdout",
     "output_type": "stream",
     "text": [
      "\n",
      "\n",
      "\n",
      "*********** collection.slug ***********\n"
     ]
    },
    {
     "data": {
      "text/plain": [
       "dodgers-mlb-crypto               4005\n",
       "cryptobumblebees                 1645\n",
       "rarible                          1510\n",
       "sorare                           1292\n",
       "fameladysquad                    1192\n",
       "                                 ... \n",
       "manga-xenia                         1\n",
       "treasures-in-sight                  1\n",
       "mdmz-photomanipulations             1\n",
       "bastard-gan-punks-v2-official       1\n",
       "flying-arts                         1\n",
       "Name: collection.slug, Length: 2782, dtype: int64"
      ]
     },
     "metadata": {},
     "output_type": "display_data"
    },
    {
     "name": "stdout",
     "output_type": "stream",
     "text": [
      "\n",
      "\n",
      "\n",
      "*********** owner.address ***********\n"
     ]
    },
    {
     "data": {
      "text/plain": [
       "0x0000000000000000000000000000000000000000    12597\n",
       "0x327305a797d92a39cee1a225d7e2a1cc42b1a8fa      881\n",
       "0xe5193d2be4d4819f717092afc95e806f09a79964      405\n",
       "0x2d98e14e491f00c2ee60381075323947161de87c      232\n",
       "0x0899a46dbcbbed0a009c308e70b9a1db9d4b0363      163\n",
       "                                              ...  \n",
       "0xdc65dc547f8c6a5e675a88fa2f7de1f8ff802301        1\n",
       "0x4519bba7596257973e7b8c8f8ba0d9088b3c460f        1\n",
       "0x56f74671cad5846fb9290393687f63082e4e2eb7        1\n",
       "0x47823b5beaef0db80edaa838a72c1ec406440b19        1\n",
       "0x05dad9407f51c00b134c35d6e79c716843bb79c1        1\n",
       "Name: owner.address, Length: 8069, dtype: int64"
      ]
     },
     "metadata": {},
     "output_type": "display_data"
    },
    {
     "name": "stdout",
     "output_type": "stream",
     "text": [
      "\n",
      "\n",
      "\n",
      "*********** traits ***********\n"
     ]
    },
    {
     "data": {
      "text/plain": [
       "[]                                                                                                                                                                                                                                                                                                                                                                                                                                                                                                                                                                                                                                                                                                                                                                                                                                                                                                                                                                                                                                                                                                                                                                                                                                                                                                                                                                                                                                                                                                                                                                                                                                                                                                                                                                                                                                                                                                                                                                                                                                                                                                                                                                                                                                                                                                                                                                                                                                                                                                                                                                                                                                                                                                                                                                                                                                                                                                                                                                                                                                                                                                                                                                                                                                                                                                                                                                                                                                                                                                                                                                                                                                                                                                                                                                                                                                                                                                                                                                                                                                                                                                                                                                                                                                                                                                                                                                                                                                                                                                                                                                                                                                                                                                                                                                                                                                                                                                                                                                                                                                                               12765\n",
       "[{'trait_type': 'Personality', 'value': 'Unknown', 'display_type': None, 'max_value': None, 'trait_count': 165, 'order': None}]                                                                                                                                                                                                                                                                                                                                                                                                                                                                                                                                                                                                                                                                                                                                                                                                                                                                                                                                                                                                                                                                                                                                                                                                                                                                                                                                                                                                                                                                                                                                                                                                                                                                                                                                                                                                                                                                                                                                                                                                                                                                                                                                                                                                                                                                                                                                                                                                                                                                                                                                                                                                                                                                                                                                                                                                                                                                                                                                                                                                                                                                                                                                                                                                                                                                                                                                                                                                                                                                                                                                                                                                                                                                                                                                                                                                                                                                                                                                                                                                                                                                                                                                                                                                                                                                                                                                                                                                                                                                                                                                                                                                                                                                                                                                                                                                                                                                                                                                    105\n",
       "[{'trait_type': 'Type', 'value': 'Asset', 'display_type': None, 'max_value': None, 'trait_count': 460, 'order': None}]                                                                                                                                                                                                                                                                                                                                                                                                                                                                                                                                                                                                                                                                                                                                                                                                                                                                                                                                                                                                                                                                                                                                                                                                                                                                                                                                                                                                                                                                                                                                                                                                                                                                                                                                                                                                                                                                                                                                                                                                                                                                                                                                                                                                                                                                                                                                                                                                                                                                                                                                                                                                                                                                                                                                                                                                                                                                                                                                                                                                                                                                                                                                                                                                                                                                                                                                                                                                                                                                                                                                                                                                                                                                                                                                                                                                                                                                                                                                                                                                                                                                                                                                                                                                                                                                                                                                                                                                                                                                                                                                                                                                                                                                                                                                                                                                                                                                                                                                              84\n",
       "[{'trait_type': 'Level', 'value': 'Rare', 'display_type': None, 'max_value': None, 'trait_count': 69, 'order': None}, {'trait_type': 'Bear', 'value': 'Moosy', 'display_type': None, 'max_value': None, 'trait_count': 445, 'order': None}]                                                                                                                                                                                                                                                                                                                                                                                                                                                                                                                                                                                                                                                                                                                                                                                                                                                                                                                                                                                                                                                                                                                                                                                                                                                                                                                                                                                                                                                                                                                                                                                                                                                                                                                                                                                                                                                                                                                                                                                                                                                                                                                                                                                                                                                                                                                                                                                                                                                                                                                                                                                                                                                                                                                                                                                                                                                                                                                                                                                                                                                                                                                                                                                                                                                                                                                                                                                                                                                                                                                                                                                                                                                                                                                                                                                                                                                                                                                                                                                                                                                                                                                                                                                                                                                                                                                                                                                                                                                                                                                                                                                                                                                                                                                                                                                                                         81\n",
       "[{'trait_type': 'Chinese', 'value': 'characters', 'display_type': None, 'max_value': None, 'trait_count': 6613, 'order': None}]                                                                                                                                                                                                                                                                                                                                                                                                                                                                                                                                                                                                                                                                                                                                                                                                                                                                                                                                                                                                                                                                                                                                                                                                                                                                                                                                                                                                                                                                                                                                                                                                                                                                                                                                                                                                                                                                                                                                                                                                                                                                                                                                                                                                                                                                                                                                                                                                                                                                                                                                                                                                                                                                                                                                                                                                                                                                                                                                                                                                                                                                                                                                                                                                                                                                                                                                                                                                                                                                                                                                                                                                                                                                                                                                                                                                                                                                                                                                                                                                                                                                                                                                                                                                                                                                                                                                                                                                                                                                                                                                                                                                                                                                                                                                                                                                                                                                                                                                     77\n",
       "                                                                                                                                                                                                                                                                                                                                                                                                                                                                                                                                                                                                                                                                                                                                                                                                                                                                                                                                                                                                                                                                                                                                                                                                                                                                                                                                                                                                                                                                                                                                                                                                                                                                                                                                                                                                                                                                                                                                                                                                                                                                                                                                                                                                                                                                                                                                                                                                                                                                                                                                                                                                                                                                                                                                                                                                                                                                                                                                                                                                                                                                                                                                                                                                                                                                                                                                                                                                                                                                                                                                                                                                                                                                                                                                                                                                                                                                                                                                                                                                                                                                                                                                                                                                                                                                                                                                                                                                                                                                                                                                                                                                                                                                                                                                                                                                                                                                                                                                                                                                                                                                 ...  \n",
       "[{'trait_type': 'NOSE PIERCING UPPER', 'value': 'BLUE ARROW', 'display_type': None, 'max_value': None, 'trait_count': 159, 'order': None}, {'trait_type': 'RARENESS', 'value': 68.5, 'display_type': 'boost_percentage', 'max_value': None, 'trait_count': 0, 'order': None}, {'trait_type': 'EAR RING', 'value': 'CHRIST', 'display_type': None, 'max_value': None, 'trait_count': 151, 'order': None}, {'trait_type': 'CLOTHES', 'value': 'YELLOW DRESS', 'display_type': None, 'max_value': None, 'trait_count': 71, 'order': None}, {'trait_type': 'EAR PIERCING UPPER', 'value': 'GOLDEN RING', 'display_type': None, 'max_value': None, 'trait_count': 262, 'order': None}, {'trait_type': 'HAIR', 'value': 'STRAIGHT BLUE', 'display_type': None, 'max_value': None, 'trait_count': 50, 'order': None}, {'trait_type': 'EAR PIERCING RIGHTER', 'value': 'GOLDEN CIRCLE', 'display_type': None, 'max_value': None, 'trait_count': 220, 'order': None}, {'trait_type': 'EYES', 'value': 'BLACK', 'display_type': None, 'max_value': None, 'trait_count': 76, 'order': None}, {'trait_type': 'BACKGROUND', 'value': 'WHITE', 'display_type': None, 'max_value': None, 'trait_count': 822, 'order': None}, {'trait_type': 'SKIN', 'value': 'BLACK', 'display_type': None, 'max_value': None, 'trait_count': 442, 'order': None}, {'trait_type': 'FACE EXPRESSION', 'value': 'POKERFACE', 'display_type': None, 'max_value': None, 'trait_count': 903, 'order': None}]                                                                                                                                                                                                                                                                                                                                                                                                                                                                                                                                                                                                                                                                                                                                                                                                                                                                                                                                                                                                                                                                                                                                                                                                                                                                                                                                                                                                                                                                                                                                                                                                                                                                                                                                                                                                                                                                                                                                                                                                                                                                                                                                                                                                                                                                                                                                                                                                                                                                                                                                                                                                                                                                                                                                                                                                                                                                                                                                                                                                                                                                                                                                                                                                                                                                                                                                                                                                                                                                                                                                                                                             1\n",
       "[{'trait_type': 'pixelpeeps-middle-name', 'value': 'Silvers', 'display_type': None, 'max_value': None, 'trait_count': 1, 'order': None}, {'trait_type': 'pixelpeeps-last-name', 'value': 'Geigel', 'display_type': None, 'max_value': None, 'trait_count': 1, 'order': None}, {'trait_type': 'pixelpeeps-first-name', 'value': 'Joe', 'display_type': None, 'max_value': None, 'trait_count': 13, 'order': None}, {'trait_type': 'pixelpeeps-suffix', 'value': 'II', 'display_type': None, 'max_value': None, 'trait_count': 260, 'order': None}, {'trait_type': 'pixelpeeps-hair', 'value': 'no', 'display_type': None, 'max_value': None, 'trait_count': 495, 'order': None}, {'trait_type': 'pixelpeeps-top', 'value': 'hairy', 'display_type': None, 'max_value': None, 'trait_count': 1557, 'order': None}, {'trait_type': 'pixelpeeps-batch', 'value': '1', 'display_type': None, 'max_value': None, 'trait_count': 4761, 'order': None}, {'trait_type': 'pixelpeeps-mouth', 'value': 'garf', 'display_type': None, 'max_value': None, 'trait_count': 801, 'order': None}, {'trait_type': 'pixelpeeps-eyes', 'value': 'plain', 'display_type': None, 'max_value': None, 'trait_count': 949, 'order': None}, {'trait_type': 'pixelpeeps-nose', 'value': 'plain', 'display_type': None, 'max_value': None, 'trait_count': 791, 'order': None}, {'trait_type': 'pixelpeeps-hat', 'value': 'wolf', 'display_type': None, 'max_value': None, 'trait_count': 2369, 'order': None}, {'trait_type': 'pixelpeeps-skin', 'value': 'dark', 'display_type': None, 'max_value': None, 'trait_count': 955, 'order': None}, {'trait_type': 'pixelpeeps-prefix', 'value': 'Captain', 'display_type': None, 'max_value': None, 'trait_count': 65, 'order': None}]                                                                                                                                                                                                                                                                                                                                                                                                                                                                                                                                                                                                                                                                                                                                                                                                                                                                                                                                                                                                                                                                                                                                                                                                                                                                                                                                                                                                                                                                                                                                                                                                                                                                                                                                                                                                                                                                                                                                                                                                                                                                                                                                                                                                                                                                                                                                                                                                                                                                                                                                                                                                                                                                                                                                                                                                                                                                                                                                                                                                                                                                                                                                                                                                                                                                                                               1\n",
       "[{'trait_type': 'Cryptocurrency', 'value': 'Ethereum', 'display_type': None, 'max_value': None, 'trait_count': 23, 'order': None}, {'trait_type': 'Rarity', 'value': 'Super Rare', 'display_type': None, 'max_value': None, 'trait_count': 75, 'order': None}, {'trait_type': 'Artist', 'value': 'Forexus', 'display_type': None, 'max_value': None, 'trait_count': 55, 'order': None}]                                                                                                                                                                                                                                                                                                                                                                                                                                                                                                                                                                                                                                                                                                                                                                                                                                                                                                                                                                                                                                                                                                                                                                                                                                                                                                                                                                                                                                                                                                                                                                                                                                                                                                                                                                                                                                                                                                                                                                                                                                                                                                                                                                                                                                                                                                                                                                                                                                                                                                                                                                                                                                                                                                                                                                                                                                                                                                                                                                                                                                                                                                                                                                                                                                                                                                                                                                                                                                                                                                                                                                                                                                                                                                                                                                                                                                                                                                                                                                                                                                                                                                                                                                                                                                                                                                                                                                                                                                                                                                                                                                                                                                                                              1\n",
       "[{'trait_type': 'RARENESS', 'value': 57.8, 'display_type': 'boost_percentage', 'max_value': None, 'trait_count': 0, 'order': None}, {'trait_type': 'EYES', 'value': 'BROWN', 'display_type': None, 'max_value': None, 'trait_count': 216, 'order': None}, {'trait_type': 'EAR RING', 'value': 'YELLOW', 'display_type': None, 'max_value': None, 'trait_count': 158, 'order': None}, {'trait_type': 'CLOTHES', 'value': 'PURPLE FUR COAT', 'display_type': None, 'max_value': None, 'trait_count': 43, 'order': None}, {'trait_type': 'GLASSES', 'value': 'BLACK', 'display_type': None, 'max_value': None, 'trait_count': 80, 'order': None}, {'trait_type': 'HAIR', 'value': 'RED POMP', 'display_type': None, 'max_value': None, 'trait_count': 45, 'order': None}, {'trait_type': 'CHEEK', 'value': 'CACTUS', 'display_type': None, 'max_value': None, 'trait_count': 152, 'order': None}, {'trait_type': 'NECK', 'value': 'CHOKER', 'display_type': None, 'max_value': None, 'trait_count': 148, 'order': None}, {'trait_type': 'BACKGROUND', 'value': 'WHITE', 'display_type': None, 'max_value': None, 'trait_count': 822, 'order': None}, {'trait_type': 'SKIN', 'value': 'BLACK', 'display_type': None, 'max_value': None, 'trait_count': 442, 'order': None}, {'trait_type': 'FACE EXPRESSION', 'value': 'POKERFACE', 'display_type': None, 'max_value': None, 'trait_count': 903, 'order': None}, {'trait_type': 'EAR PIERCING RIGHTER', 'value': 'SILVER CIRCLE', 'display_type': None, 'max_value': None, 'trait_count': 229, 'order': None}]                                                                                                                                                                                                                                                                                                                                                                                                                                                                                                                                                                                                                                                                                                                                                                                                                                                                                                                                                                                                                                                                                                                                                                                                                                                                                                                                                                                                                                                                                                                                                                                                                                                                                                                                                                                                                                                                                                                                                                                                                                                                                                                                                                                                                                                                                                                                                                                                                                                                                                                                                                                                                                                                                                                                                                                                                                                                                                                                                                                                                                                                                                                                                                                                                                                                                                                                                                                                                                                                                                           1\n",
       "[{'trait_type': 'nug_leaf_type', 'value': 'nug_leaf_6', 'display_type': None, 'max_value': None, 'trait_count': 3961, 'order': None}, {'trait_type': 'set', 'value': 'none', 'display_type': None, 'max_value': None, 'trait_count': 9896, 'order': None}, {'trait_type': 'particle_algorithm', 'value': 'powder_nug', 'display_type': None, 'max_value': None, 'trait_count': 4471, 'order': None}, {'trait_type': 'smell_secondary', 'value': 'smoke', 'display_type': None, 'max_value': None, 'trait_count': 3437, 'order': None}, {'trait_type': 'parent_two_id', 'value': 18331, 'display_type': 'number', 'max_value': None, 'trait_count': 0, 'order': None}, {'trait_type': 'base_nug_color', 'value': 'c69077', 'display_type': None, 'max_value': None, 'trait_count': 1, 'order': None}, {'trait_type': 'leaf_color', 'value': '7ba899', 'display_type': None, 'max_value': None, 'trait_count': 1, 'order': None}, {'trait_type': 'stem_color', 'value': '9b74e2', 'display_type': None, 'max_value': None, 'trait_count': 1, 'order': None}, {'trait_type': 'powder_color', 'value': '85e79d', 'display_type': None, 'max_value': None, 'trait_count': 1, 'order': None}, {'trait_type': 'main_leaf_type', 'value': 'base_leaf_2', 'display_type': None, 'max_value': None, 'trait_count': 4429, 'order': None}, {'trait_type': 'parent_one_id', 'value': 21708, 'display_type': 'number', 'max_value': None, 'trait_count': 0, 'order': None}, {'trait_type': 'stem_type', 'value': 'stem_7', 'display_type': None, 'max_value': None, 'trait_count': 5194, 'order': None}, {'trait_type': 'skeleton_type', 'value': 'three_leaf', 'display_type': None, 'max_value': None, 'trait_count': 24998, 'order': None}, {'trait_type': 'body_type', 'value': 'indica', 'display_type': None, 'max_value': None, 'trait_count': 10286, 'order': None}, {'trait_type': 'land_affinity', 'value': 'soil', 'display_type': None, 'max_value': None, 'trait_count': 9046, 'order': None}, {'trait_type': 'land_variant', 'value': 'land_variant_none', 'display_type': None, 'max_value': None, 'trait_count': 24998, 'order': None}, {'trait_type': 'idle_animation', 'value': 'idle', 'display_type': None, 'max_value': None, 'trait_count': 24998, 'order': None}, {'trait_type': 'smell_primary', 'value': 'floral', 'display_type': None, 'max_value': None, 'trait_count': 1875, 'order': None}, {'trait_type': 'rarity_bracket', 'value': 'common', 'display_type': None, 'max_value': None, 'trait_count': 13960, 'order': None}, {'trait_type': 'base_nug_type', 'value': 'nug_base_mellow', 'display_type': None, 'max_value': None, 'trait_count': 5084, 'order': None}, {'trait_type': 'powder_type', 'value': 'mellow_config_1', 'display_type': None, 'max_value': None, 'trait_count': 5084, 'order': None}, {'trait_type': 'seed_drop', 'value': 0, 'display_type': None, 'max_value': '100', 'trait_count': 0, 'order': None}, {'trait_type': 'thc', 'value': 37, 'display_type': None, 'max_value': '100', 'trait_count': 0, 'order': None}, {'trait_type': 'cbd', 'value': 2, 'display_type': None, 'max_value': '100', 'trait_count': 0, 'order': None}, {'trait_type': 'smell_secondary_strength', 'value': 96, 'display_type': None, 'max_value': '100', 'trait_count': 0, 'order': None}, {'trait_type': 'growth_speed', 'value': 1, 'display_type': None, 'max_value': '100', 'trait_count': 0, 'order': None}, {'trait_type': 'mutability', 'value': 70, 'display_type': None, 'max_value': '100', 'trait_count': 0, 'order': None}, {'trait_type': 'nug_drop', 'value': 0, 'display_type': None, 'max_value': '100', 'trait_count': 0, 'order': None}, {'trait_type': 'height', 'value': 29, 'display_type': None, 'max_value': '100', 'trait_count': 0, 'order': None}, {'trait_type': 'smell_primary_strength', 'value': 0, 'display_type': None, 'max_value': '100', 'trait_count': 0, 'order': None}, {'trait_type': 'base_nug_scale', 'value': 31, 'display_type': None, 'max_value': '100', 'trait_count': 0, 'order': None}, {'trait_type': 'nug_leaf_scale', 'value': 0, 'display_type': None, 'max_value': '100', 'trait_count': 0, 'order': None}, {'trait_type': 'stem_scale', 'value': 0, 'display_type': None, 'max_value': '100', 'trait_count': 0, 'order': None}, {'trait_type': 'berry_drop', 'value': 29, 'display_type': None, 'max_value': '100', 'trait_count': 0, 'order': None}, {'trait_type': 'flower_drop', 'value': 35, 'display_type': None, 'max_value': '100', 'trait_count': 0, 'order': None}, {'trait_type': 'harvest_size', 'value': 17, 'display_type': None, 'max_value': '100', 'trait_count': 0, 'order': None}, {'trait_type': 'harvest_spread', 'value': 100, 'display_type': None, 'max_value': '100', 'trait_count': 0, 'order': None}, {'trait_type': 'rarity', 'value': 9, 'display_type': None, 'max_value': '100', 'trait_count': 0, 'order': None}, {'trait_type': 'main_leaf_scale', 'value': 100, 'display_type': None, 'max_value': '100', 'trait_count': 0, 'order': None}]        1\n",
       "Name: traits, Length: 11164, dtype: int64"
      ]
     },
     "metadata": {},
     "output_type": "display_data"
    },
    {
     "name": "stdout",
     "output_type": "stream",
     "text": [
      "\n",
      "\n",
      "\n",
      "*********** token_id ***********\n"
     ]
    },
    {
     "data": {
      "text/plain": [
       "28447412226086517906447925790233853288880282466351253792794280888779707252737    1\n",
       "109000055                                                                        1\n",
       "13273                                                                            1\n",
       "22574                                                                            1\n",
       "1412                                                                             1\n",
       "                                                                                ..\n",
       "43664126836952723704399353327675132118450703213709159520069741499664667344318    1\n",
       "28669                                                                            1\n",
       "15327339506351857530173487312729554208274795765817746032107845345386237526017    1\n",
       "35596623753586310084467056134413912891112135163192505153583255921645547368244    1\n",
       "405                                                                              1\n",
       "Name: token_id, Length: 26241, dtype: int64"
      ]
     },
     "metadata": {},
     "output_type": "display_data"
    },
    {
     "name": "stdout",
     "output_type": "stream",
     "text": [
      "\n",
      "\n",
      "\n",
      "*********** creator.profile_img_url ***********\n"
     ]
    },
    {
     "data": {
      "text/plain": [
       "https://storage.googleapis.com/opensea-static/opensea-profile/30.png    4439\n",
       "https://storage.googleapis.com/opensea-static/opensea-profile/5.png     3909\n",
       "https://storage.googleapis.com/opensea-static/opensea-profile/27.png    1593\n",
       "https://storage.googleapis.com/opensea-static/opensea-profile/15.png    1538\n",
       "https://storage.googleapis.com/opensea-static/opensea-profile/1.png     1147\n",
       "https://storage.googleapis.com/opensea-static/opensea-profile/18.png     816\n",
       "https://storage.googleapis.com/opensea-static/opensea-profile/32.png     701\n",
       "https://storage.googleapis.com/opensea-static/opensea-profile/14.png     700\n",
       "https://storage.googleapis.com/opensea-static/opensea-profile/21.png     678\n",
       "https://storage.googleapis.com/opensea-static/opensea-profile/16.png     662\n",
       "https://storage.googleapis.com/opensea-static/opensea-profile/2.png      586\n",
       "https://storage.googleapis.com/opensea-static/opensea-profile/9.png      574\n",
       "https://storage.googleapis.com/opensea-static/opensea-profile/23.png     554\n",
       "https://storage.googleapis.com/opensea-static/opensea-profile/22.png     553\n",
       "https://storage.googleapis.com/opensea-static/opensea-profile/28.png     527\n",
       "https://storage.googleapis.com/opensea-static/opensea-profile/4.png      509\n",
       "https://storage.googleapis.com/opensea-static/opensea-profile/25.png     483\n",
       "https://storage.googleapis.com/opensea-static/opensea-profile/7.png      482\n",
       "https://storage.googleapis.com/opensea-static/opensea-profile/29.png     465\n",
       "https://storage.googleapis.com/opensea-static/opensea-profile/17.png     460\n",
       "https://storage.googleapis.com/opensea-static/opensea-profile/24.png     454\n",
       "https://storage.googleapis.com/opensea-static/opensea-profile/19.png     449\n",
       "https://storage.googleapis.com/opensea-static/opensea-profile/33.png     438\n",
       "https://storage.googleapis.com/opensea-static/opensea-profile/26.png     393\n",
       "https://storage.googleapis.com/opensea-static/opensea-profile/11.png     368\n",
       "https://storage.googleapis.com/opensea-static/opensea-profile/10.png     361\n",
       "https://storage.googleapis.com/opensea-static/opensea-profile/31.png     349\n",
       "https://storage.googleapis.com/opensea-static/opensea-profile/20.png     326\n",
       "https://storage.googleapis.com/opensea-static/opensea-profile/3.png      321\n",
       "https://storage.googleapis.com/opensea-static/opensea-profile/12.png     304\n",
       "https://storage.googleapis.com/opensea-static/opensea-profile/13.png     298\n",
       "https://storage.googleapis.com/opensea-static/opensea-profile/6.png      292\n",
       "https://storage.googleapis.com/opensea-static/opensea-profile/8.png      231\n",
       "Name: creator.profile_img_url, dtype: int64"
      ]
     },
     "metadata": {},
     "output_type": "display_data"
    },
    {
     "name": "stdout",
     "output_type": "stream",
     "text": [
      "\n",
      "\n",
      "\n"
     ]
    }
   ],
   "source": [
    "# dilineate objects that have no null values and custom determine best way to create binary encoding\n",
    "\n",
    "obj_col_nonull = ['asset_contract.asset_contract_type', # 0 = 'semi-fungible', 1 = 'non-fungible'\n",
    "                  'asset_contract.schema_name', # 0 = ERC1155\n",
    "                  'collection.safelist_request_status', # 0 = 'verified' | 'approved'\n",
    "                  'owner.profile_img_url', # 1 = 'https://storage.googleapis.com/opensea-static/opensea-profile/1.png'\n",
    "                  'asset_contract.name', # 1 = 'OpenSea Collection'\n",
    "                  'collection.slug', # 1 = 'cryptokitties' | 'gods-unchained' \n",
    "                  'owner.address', # 1 = '0x0000000000000000000000000000000000000000'\n",
    "                  'traits', # 0 = '[]'\n",
    "                  'token_id', # NOT USING\n",
    "                  'creator.profile_img_url'] # 1 = 'https://storage.googleapis.com/opensea-static/opensea-profile/3.png'\n",
    "\n",
    "for col in obj_col_nonull:\n",
    "    print(f\"*********** {col} ***********\")\n",
    "    display(df[col].value_counts())\n",
    "    print(\"\\n\\n\")"
   ]
  },
  {
   "cell_type": "code",
   "execution_count": 21,
   "metadata": {
    "ExecuteTime": {
     "end_time": "2021-07-13T01:23:13.781316Z",
     "start_time": "2021-07-13T01:23:13.766865Z"
    }
   },
   "outputs": [
    {
     "data": {
      "text/plain": [
       "OpenSea Collection          0.399451\n",
       "Dodgers MLB Crypto          0.152624\n",
       "Rarible 1155                0.049426\n",
       "Sorare New                  0.049236\n",
       "FameLadySquad               0.045425\n",
       "                              ...   \n",
       "NYC Skyline by FEWOCiOUS    0.000038\n",
       "Artobject                   0.000038\n",
       "Degen$ Farm Eggs            0.000038\n",
       "CyberKongz                  0.000038\n",
       "CryptoAvatars               0.000038\n",
       "Name: asset_contract.name, Length: 279, dtype: float64"
      ]
     },
     "execution_count": 21,
     "metadata": {},
     "output_type": "execute_result"
    }
   ],
   "source": [
    "df['asset_contract.name'].value_counts(normalize = True)"
   ]
  },
  {
   "cell_type": "code",
   "execution_count": 22,
   "metadata": {
    "ExecuteTime": {
     "end_time": "2021-07-13T01:23:13.807426Z",
     "start_time": "2021-07-13T01:23:13.785017Z"
    }
   },
   "outputs": [
    {
     "data": {
      "text/plain": [
       "dodgers-mlb-crypto               0.152624\n",
       "cryptobumblebees                 0.062688\n",
       "rarible                          0.057544\n",
       "sorare                           0.049236\n",
       "fameladysquad                    0.045425\n",
       "                                   ...   \n",
       "manga-xenia                      0.000038\n",
       "treasures-in-sight               0.000038\n",
       "mdmz-photomanipulations          0.000038\n",
       "bastard-gan-punks-v2-official    0.000038\n",
       "flying-arts                      0.000038\n",
       "Name: collection.slug, Length: 2782, dtype: float64"
      ]
     },
     "execution_count": 22,
     "metadata": {},
     "output_type": "execute_result"
    }
   ],
   "source": [
    "df['collection.slug'].value_counts(normalize = True)"
   ]
  },
  {
   "cell_type": "code",
   "execution_count": 23,
   "metadata": {
    "ExecuteTime": {
     "end_time": "2021-07-13T01:23:13.830649Z",
     "start_time": "2021-07-13T01:23:13.817470Z"
    },
    "scrolled": true
   },
   "outputs": [],
   "source": [
    "# This will be the initial binary values for the object columns containing no null values\n",
    "\n",
    "obj_nonull = [['asset_contract.asset_contract_type', ['semi-fungible'], 0, 1],\n",
    "              ['asset_contract.schema_name', ['ERC1155'], 0, 1],\n",
    "              ['asset_contract.name', ['OpenSea Collection'], 1, 0],\n",
    "              ['collection.safelist_request_status', ['verified','approved'], 0, 1],\n",
    "              ['collection.slug', ['cryptokitties', 'gods-unchained'], 1, 0],\n",
    "              ['creator.profile_img_url', ['https://storage.googleapis.com/opensea-static/opensea-profile/3.png'], 1, 0],\n",
    "              ['owner.address', ['0x0000000000000000000000000000000000000000'], 1, 0],\n",
    "              ['owner.profile_img_url', ['https://storage.googleapis.com/opensea-static/opensea-profile/1.png'], 1, 0],\n",
    "              ['traits', ['[]'], 0, 1]]"
   ]
  },
  {
   "cell_type": "code",
   "execution_count": 24,
   "metadata": {
    "ExecuteTime": {
     "end_time": "2021-07-13T01:23:13.875480Z",
     "start_time": "2021-07-13T01:23:13.837766Z"
    }
   },
   "outputs": [],
   "source": [
    "for list in obj_nonull:\n",
    "    df_binary[list[0]] = np.where(df[list[0]].isin(list[1]), list[2], list[3])"
   ]
  },
  {
   "cell_type": "code",
   "execution_count": 25,
   "metadata": {
    "ExecuteTime": {
     "end_time": "2021-07-13T01:23:13.916578Z",
     "start_time": "2021-07-13T01:23:13.888527Z"
    },
    "scrolled": true
   },
   "outputs": [
    {
     "name": "stdout",
     "output_type": "stream",
     "text": [
      "<class 'pandas.core.frame.DataFrame'>\n",
      "RangeIndex: 26241 entries, 0 to 26240\n",
      "Data columns (total 16 columns):\n",
      "is_presale                                            26241 non-null int64\n",
      "collection.featured                                   26241 non-null int64\n",
      "asset_contract.dev_seller_fee_basis_points_0          26241 non-null int64\n",
      "collection.dev_seller_fee_basis_points_0              26241 non-null int64\n",
      "asset_contract.seller_fee_basis_points_250            26241 non-null int64\n",
      "asset_contract.opensea_seller_fee_basis_points_250    26241 non-null int64\n",
      "collection.opensea_seller_fee_basis_points_250        26241 non-null int64\n",
      "asset_contract.asset_contract_type                    26241 non-null int64\n",
      "asset_contract.schema_name                            26241 non-null int64\n",
      "asset_contract.name                                   26241 non-null int64\n",
      "collection.safelist_request_status                    26241 non-null int64\n",
      "collection.slug                                       26241 non-null int64\n",
      "creator.profile_img_url                               26241 non-null int64\n",
      "owner.address                                         26241 non-null int64\n",
      "owner.profile_img_url                                 26241 non-null int64\n",
      "traits                                                26241 non-null int64\n",
      "dtypes: int64(16)\n",
      "memory usage: 3.2 MB\n"
     ]
    }
   ],
   "source": [
    "df_binary.info()"
   ]
  },
  {
   "cell_type": "markdown",
   "metadata": {},
   "source": [
    "#### With Nulls"
   ]
  },
  {
   "cell_type": "code",
   "execution_count": 26,
   "metadata": {
    "ExecuteTime": {
     "end_time": "2021-07-13T01:23:13.941857Z",
     "start_time": "2021-07-13T01:23:13.933374Z"
    }
   },
   "outputs": [],
   "source": [
    "obj_col_withnull = np.setdiff1d(obj_col, obj_col_nonull).tolist()"
   ]
  },
  {
   "cell_type": "code",
   "execution_count": 27,
   "metadata": {
    "ExecuteTime": {
     "end_time": "2021-07-13T01:23:14.496074Z",
     "start_time": "2021-07-13T01:23:14.001165Z"
    }
   },
   "outputs": [
    {
     "name": "stdout",
     "output_type": "stream",
     "text": [
      "*********** asset_contract.description ***********\n"
     ]
    },
    {
     "data": {
      "text/plain": [
       "Create and sell digital collectibles secured with blockchain technology. Rarible is home to thousands of artists and collectors, creating and exchanging immutable art without using code. Trade with RARI token on OpenSea.                                                                                                                                                                                                                                    1525\n",
       "Sorare is a fantasy football game where managers can trade official digital collectibles. The platform is growing fast, with a global audience collecting, buying, and selling their favorite players in the form of blockchain-backed NFTs. The Sorare team has secured the rights to European giants like Atletico Madrid, Juventus, and Bayern Munich, as well as the MLS, Korean League, and Japanese League.                                               1292\n",
       "Fame Lady Squad is a collection of 8888 unique Lady NFTs that are living on the ETH blockchain. Each Lady is absolutely distinctive from others. Millions of combinations were created to make this happen.                                                                                                                                                                                                                                                     1192\n",
       "Flowerpatch is an indie farming MMO that treats cannabis with respect! Build up your farm, breed unique NFTs with other players, and enjoy a vast game world 🙏🏻🐨                                                                                                                                                                                                                                                                                                1149\n",
       "The Doge Pound is 10,000 art pieces carefully chosen by Professor Elon. A unique digital collection of diverse NFTs lying on Ethereum Blockchain. Each one is thoughtfully designed, specifically picked, and impeccably shaped. Join us on our adventure and have a good time. Having a Doge Token grants you creative and commercial rights, as well as inclusion in the gang.                                                                                 669\n",
       "                                                                                                                                                                                                                                                                                                                                                                                                                                                                ... \n",
       "Superplastic is the world’s premier synthetic artist and influencer management company. It’s clients include many of the world’s top virtual artists and personalities.                                                                                                                                                                                                                                                                                            1\n",
       "Vatoms are dynamic, compelling digital objects, that connect brands and customers, artists and fans, citizens and governments, friends, families and global gamers. Designed for discovery, a Vatom can be dropped onto a map, captured in augmented reality, moved into virtual reality, transferred and stored. Interactive digital goods that can move seamlessly and instantly between users and across any smart device.                                      1\n",
       "Pushing paint, augmented reality & ₿itcoin. MA Fine Art. 'Art is either plagiarism or revolution' ~ Paul Gauguin                                                                                                                                                                                                                                                                                                                                                   1\n",
       "CryptoAvatars is a platform where designers can tokenize their VR avatars using blockchain technology and sell their creations for cryptocurrencies.\\r\\nThe avatar tokens are ERC721 single edition tokens on the Ethereum blockchain. This provide a long lasting value since anyone can prove the authenticity and ownership of each avatar, making it easy to give credit to the original creator, regardless the Metaverse layer they are being used in.       1\n",
       "The adventure is beginning, the world of Coins & Steel starts to form out of the fires of forges and the promise of battle. Today, we welcome you to the Vault of Champions. Your time has come hero, join The Founders!                                                                                                                                                                                                                                           1\n",
       "Name: asset_contract.description, Length: 236, dtype: int64"
      ]
     },
     "metadata": {},
     "output_type": "display_data"
    },
    {
     "name": "stdout",
     "output_type": "stream",
     "text": [
      "\n",
      "\n",
      "\n",
      "*********** asset_contract.external_link ***********\n"
     ]
    },
    {
     "data": {
      "text/plain": [
       "https://rarible.com/                                           1525\n",
       "https://sorare.com                                             1292\n",
       "https://fameladysquad.com/                                     1192\n",
       "https://flowerpatch.app/                                       1149\n",
       "https://thedogepoundnft.com/                                    669\n",
       "                                                               ... \n",
       "https://niftygateway.com/collections/insanecrittersuncommon       1\n",
       "http://etherpoems.com                                             1\n",
       "https://niftygateway.com/collections/ssx3lau                      1\n",
       "https://umi.digital/                                              1\n",
       "https://www.instagram.com/realimposter/                           1\n",
       "Name: asset_contract.external_link, Length: 230, dtype: int64"
      ]
     },
     "metadata": {},
     "output_type": "display_data"
    },
    {
     "name": "stdout",
     "output_type": "stream",
     "text": [
      "\n",
      "\n",
      "\n",
      "*********** asset_contract.image_url ***********\n"
     ]
    },
    {
     "data": {
      "text/plain": [
       "https://lh3.googleusercontent.com/FG0QJ00fN3c_FWuPeUr9-T__iQl63j9hn5d6svW8UqOmia5zp3lKHPkJuHcvhZ0f_Pd6P2COo9tt9zVUvdPxG_9BBw=s60                  1525\n",
       "https://lh3.googleusercontent.com/gj47nmAR3valkmpVbwamiuTJfWEWSCyVeORdjM6DRWrZ1o8WaqBxFXmpBrzZnGoWaPwq1Y0jiXRrBLbnLcawAp92=s120                   1292\n",
       "https://lh3.googleusercontent.com/uj2Wod0PLHgno51EggCbx56GdFTL-_TkAhWdifApD7hNKGni9tUNFYncf98gUGWcuCplEksHxapqT-dYzfS0emYs9ffTh1h3ybcyl7M=s120    1192\n",
       "https://lh3.googleusercontent.com/c9fa-MKAkBbkmnoYGR_7dUCXcJcSHNwu3CZGaNCTH0-fcEKzQ6SxwNdrq8hroRD2eMg7eDG2T1096FUjYwuvMgCT0km5zuz2Bfs3eQ=s120     1149\n",
       "https://lh3.googleusercontent.com/uNkBbVvg7wyRjspsooFtYYbRHFHFISntxwijLRskjGhplP8A3Iz_4ApLU_yLp9BW-Ai0yUWC50A138IGUkII55QWRT7g12qmSRTlbA=s120      669\n",
       "                                                                                                                                                  ... \n",
       "https://lh3.googleusercontent.com/OcOlcm1FcZcHZoPBMQLkIx0Thku58-h48CwIXVg0TXSk89pxfy0JWE0rE7UNCLzu13ALThIwn-U5EFAkI26zfEWAsBfKoFKCwXx_VQ=s120        1\n",
       "https://lh3.googleusercontent.com/ZRXLLhatw2osjEvQnsla7rg-ne24tgJ4mgqLT_jZjDBWR_-v5V4nSNUathacUwmkPjJkIHMQvnzfLj8KAW6PIrrK=s120                      1\n",
       "https://lh3.googleusercontent.com/4FAKcyzZCzCCKUXqKV7MAbII769opWf4lZBGCiz16i1-GPlXnheJcXgqsbUSutPwhcXcU-QGdiYYXAJ7PC7tKcCFeGeyxQ8Ppp29aLA=s120       1\n",
       "https://lh3.googleusercontent.com/VaAuvbr0qO7TrGcy3VNytW6Oam31Tzyjs_KSWesXpbcKea7qvCHx618CkhxrHfeX-KD_yFgHSFjZOy1uPFgwmu4C-w=s120                    1\n",
       "https://lh3.googleusercontent.com/_vwXExfnYweK_LAmVd1Dc1GNsp0RI2jKzrI5M-E0M9304JD1K0gaGF_84Li9PsVpnfaGSVd6-mVv2R352CESYCGzldwtSQXZGgKk=s120          1\n",
       "Name: asset_contract.image_url, Length: 240, dtype: int64"
      ]
     },
     "metadata": {},
     "output_type": "display_data"
    },
    {
     "name": "stdout",
     "output_type": "stream",
     "text": [
      "\n",
      "\n",
      "\n",
      "*********** asset_contract.nft_version ***********\n"
     ]
    },
    {
     "data": {
      "text/plain": [
       "3.0            13318\n",
       "unsupported      352\n",
       "1.0               81\n",
       "Name: asset_contract.nft_version, dtype: int64"
      ]
     },
     "metadata": {},
     "output_type": "display_data"
    },
    {
     "name": "stdout",
     "output_type": "stream",
     "text": [
      "\n",
      "\n",
      "\n",
      "*********** asset_contract.opensea_version ***********\n"
     ]
    },
    {
     "data": {
      "text/plain": [
       "2.0.0    10486\n",
       "2.0.2        8\n",
       "1.2.0        2\n",
       "Name: asset_contract.opensea_version, dtype: int64"
      ]
     },
     "metadata": {},
     "output_type": "display_data"
    },
    {
     "name": "stdout",
     "output_type": "stream",
     "text": [
      "\n",
      "\n",
      "\n",
      "*********** asset_contract.symbol ***********\n"
     ]
    },
    {
     "data": {
      "text/plain": [
       "OPENSTORE                                            10486\n",
       "DNFTCB                                                4005\n",
       "SOR                                                   1292\n",
       "FLS                                                   1192\n",
       "FLOWER                                                1149\n",
       "                                                     ...  \n",
       "SDB                                                      1\n",
       "PAT                                                      1\n",
       "INSANECRITTERSUNCOMMONBYZACHHADELANDMICHAELCUSACK        1\n",
       "TECHNOFISHOPENEDITIONSBYCALVINHARRISXEMILNAVA            1\n",
       "MDJREPLICATOR                                            1\n",
       "Name: asset_contract.symbol, Length: 244, dtype: int64"
      ]
     },
     "metadata": {},
     "output_type": "display_data"
    },
    {
     "name": "stdout",
     "output_type": "stream",
     "text": [
      "\n",
      "\n",
      "\n",
      "*********** asset_contract.total_supply ***********\n"
     ]
    },
    {
     "data": {
      "text/plain": [
       "0                                                                                 3046\n",
       "30                                                                                1192\n",
       "1                                                                                 1122\n",
       "40                                                                                  98\n",
       "8                                                                                   39\n",
       "5                                                                                   31\n",
       "4                                                                                   28\n",
       "34                                                                                  27\n",
       "2                                                                                   27\n",
       "115792089237316195423570985008687907853269984665640564039457584007913129639935      12\n",
       "50                                                                                  10\n",
       "28                                                                                   7\n",
       "3                                                                                    6\n",
       "12012                                                                                6\n",
       "16                                                                                   5\n",
       "9                                                                                    2\n",
       "51                                                                                   2\n",
       "11                                                                                   2\n",
       "6                                                                                    1\n",
       "13                                                                                   1\n",
       "65536                                                                                1\n",
       "125010                                                                               1\n",
       "Name: asset_contract.total_supply, dtype: int64"
      ]
     },
     "metadata": {},
     "output_type": "display_data"
    },
    {
     "name": "stdout",
     "output_type": "stream",
     "text": [
      "\n",
      "\n",
      "\n",
      "*********** background_color ***********\n"
     ]
    },
    {
     "data": {
      "text/plain": [
       "f3f2f3    1292\n",
       "67C171     241\n",
       "ffffff     208\n",
       "FFFFFF     195\n",
       "4C47F7     158\n",
       "000000     121\n",
       "1999CF      59\n",
       "f3f3f3      14\n",
       "c5eefa       8\n",
       "e0e5fc       6\n",
       "FF72D0       6\n",
       "fcdede       6\n",
       "fde9e4       6\n",
       "efe1da       5\n",
       "dfdffa       5\n",
       "faf4cf       4\n",
       "e8f2da       4\n",
       "a2c2eb       4\n",
       "0b0c22       4\n",
       "eee9e8       3\n",
       "e5f3e2       3\n",
       "cdf5d4       3\n",
       "faeefa       3\n",
       "dcebfc       2\n",
       "f5fffa       2\n",
       "F1F7D2       2\n",
       "FEE7C9       2\n",
       "e5e7ef       2\n",
       "232323       2\n",
       "fadff4       2\n",
       "d1eeeb       2\n",
       "e1eee8       1\n",
       "829e90       1\n",
       "d4eec7       1\n",
       "D1F4F9       1\n",
       "3E45D1       1\n",
       "040726       1\n",
       "09071B       1\n",
       "121212       1\n",
       "EF3500       1\n",
       "072083       1\n",
       "Name: background_color, dtype: int64"
      ]
     },
     "metadata": {},
     "output_type": "display_data"
    },
    {
     "name": "stdout",
     "output_type": "stream",
     "text": [
      "\n",
      "\n",
      "\n",
      "*********** collection.chat_url ***********\n"
     ]
    },
    {
     "data": {
      "text/plain": [
       "https://discord.gg/FpN2ws6    1292\n",
       "Name: collection.chat_url, dtype: int64"
      ]
     },
     "metadata": {},
     "output_type": "display_data"
    },
    {
     "name": "stdout",
     "output_type": "stream",
     "text": [
      "\n",
      "\n",
      "\n",
      "*********** collection.description ***********\n"
     ]
    },
    {
     "data": {
      "text/plain": [
       "Explore the collection of cute and fabulous bumblebees. Each bumblebee is unique and living in the ethereum blockchain.\\n-> Save the bees <-                                                                                                                                                                                                                                                                                                                                                                                                                                                                                                                      1645\n",
       "Create and sell digital collectibles secured with blockchain technology. Rarible is home to thousands of artists and collectors, creating and exchanging immutable art without using code. Trade with RARI token on OpenSea.                                                                                                                                                                                                                                                                                                                                                                                                                                      1510\n",
       "Sorare is a fantasy football game where managers can trade official digital collectibles. The platform is growing fast, with a global audience collecting, buying, and selling their favorite players in the form of blockchain-backed NFTs. The Sorare team has secured the rights to European giants like Atletico Madrid, Juventus, and Bayern Munich, as well as the MLS, Korean League, and Japanese League.                                                                                                                                                                                                                                                 1292\n",
       "Fame Lady Squad is a collection of 8888 unique Lady NFTs that are living on the ETH blockchain. Each Lady is absolutely distinctive from others. Millions of combinations were created to make this happen.                                                                                                                                                                                                                                                                                                                                                                                                                                                       1192\n",
       "Flowerpatch is an indie farming MMO that treats cannabis with respect! Build up your farm, breed unique NFTs with other players, and enjoy a vast game world 🙏🏻🐨                                                                                                                                                                                                                                                                                                                                                                                                                                                                                                  1149\n",
       "                                                                                                                                                                                                                                                                                                                                                                                                                                                                                                                                                                                                                                                                  ... \n",
       "Goldweard is a digital sculptor. He creates a wide variety of digital renderings from wine glasses, to bullets, to animals. He is an artist on the rise in the NFT space.                                                                                                                                                                                                                                                                                                                                                                                                                                                                                            1\n",
       "The mission of this application is to help anyone who wants to be a self-powered generator to find a designer, an installer and an expert to fulfill their desire. Thus, those who want to buy make a registration as a customer, those who want to design register as a designer and those who want to install make a registration as an installer. The customer will see the options he has based on the designer's hourly price, while the designer will be able to see all the installers that exist near the desired installation location. So, a designer in the USA could be responsible for an installation  of the photovoltaic project in Argentina.       1\n",
       "This collection is for the LA Blockchain Summit COVID-19 relief auction in partnership with Giveback Heroes. 100% of proceeds from the auction will be donated to buy and distribute gift cards to first responders, frontline workers & those in need.\\n\\nCheck out the leaderboard!: https://niftyrank.com/la-blockchain-summit-covid-relief                                                                                                                                                                                                                                                                                                                       1\n",
       "All 10000 cryptopunks (https://github.com/larvalabs/cryptopunks/blob/master/punks.png) are put into StyleGAN2 (https://github.com/NVlabs/stylegan2) to give birth to bastard children.                                                                                                                                                                                                                                                                                                                                                                                                                                                                               1\n",
       "This is a selection of the Revit Template Projects.                                                                                                                                                                                                                                                                                                                                                                                                                                                                                                                                                                                                                  1\n",
       "Name: collection.description, Length: 2474, dtype: int64"
      ]
     },
     "metadata": {},
     "output_type": "display_data"
    },
    {
     "name": "stdout",
     "output_type": "stream",
     "text": [
      "\n",
      "\n",
      "\n",
      "*********** collection.discord_url ***********\n"
     ]
    },
    {
     "data": {
      "text/plain": [
       "https://discord.gg/tsjtham       1292\n",
       "https://discord.gg/6Nn7ZKtuwK    1192\n",
       "https://discord.gg/4b8xyjZ       1149\n",
       "https://discord.gg/6xEq5wxR6M     669\n",
       "https://discord.gg/3P5K3dzgdB     634\n",
       "                                 ... \n",
       "https://discord.gg/uHyReTwJMz       1\n",
       "https://discord.gg/VJVJDUyA         1\n",
       "https://discord.gg/tFkPWCnXSU       1\n",
       "https://discord.gg/t8sUDVGvrq       1\n",
       "https://discord.gg/b2xhzzBhGz       1\n",
       "Name: collection.discord_url, Length: 373, dtype: int64"
      ]
     },
     "metadata": {},
     "output_type": "display_data"
    },
    {
     "name": "stdout",
     "output_type": "stream",
     "text": [
      "\n",
      "\n",
      "\n",
      "*********** collection.display_data.card_display_style ***********\n"
     ]
    },
    {
     "data": {
      "text/plain": [
       "contain    14754\n",
       "cover       4532\n",
       "padded      2734\n",
       "Name: collection.display_data.card_display_style, dtype: int64"
      ]
     },
     "metadata": {},
     "output_type": "display_data"
    },
    {
     "name": "stdout",
     "output_type": "stream",
     "text": [
      "\n",
      "\n",
      "\n",
      "*********** collection.display_data.images ***********\n"
     ]
    },
    {
     "data": {
      "text/plain": [
       "[]                                                                                                                                                                                                                                                                                                                                                                                                                                                                                                                                                                                                                                                                                                                                                                                                                                                                                                                                                                                                                                            5646\n",
       "['https://storage.opensea.io/0x8853b05833029e3cf8d3cbb592f9784fa43d2a79/1178-1551947758.gif', 'https://storage.opensea.io/0x8853b05833029e3cf8d3cbb592f9784fa43d2a79/811-1549677961.gif', 'https://storage.opensea.io/0x8853b05833029e3cf8d3cbb592f9784fa43d2a79/1208-1552429987.gif', 'https://storage.opensea.io/0x8853b05833029e3cf8d3cbb592f9784fa43d2a79/1221-1552769441.jpg', 'https://storage.opensea.io/0x8853b05833029e3cf8d3cbb592f9784fa43d2a79/728-1551540084.jpg', 'https://storage.opensea.io/0x8853b05833029e3cf8d3cbb592f9784fa43d2a79/1215-1552657749.jpg']                                                                                                                                                                                                                                                                                                                                                                                                                                                                    37\n",
       "['https://storage.opensea.io/0x8562c38485b1e8ccd82e44f89823da76c98eb0ab/11081664790290029703914123501093412959851005990698421485335279882236843786250-1550517150.png', 'https://storage.opensea.io/0x8562c38485b1e8ccd82e44f89823da76c98eb0ab/11081664790290028134638689654423222000903650188781817459746418766228215563559-1552773943.png', 'https://storage.opensea.io/0x8562c38485b1e8ccd82e44f89823da76c98eb0ab/50885195465617471177731255234521635734804147820253726770435014604985116655636-1551524003.jpg', 'https://storage.opensea.io/0x8562c38485b1e8ccd82e44f89823da76c98eb0ab/11081664790290028178578401802129987347754176151235482372462906877476457152527-1552773783.png', 'https://storage.opensea.io/0x8562c38485b1e8ccd82e44f89823da76c98eb0ab/7237005577332265873523498293477879557094607771672055840139323123026691620864-1551250671.jpg', 'https://storage.opensea.io/0x8562c38485b1e8ccd82e44f89823da76c98eb0ab/10855508365998398882471917397163648119753490024396247545386072295876434329600-1552747248.jpg']             19\n",
       "['https://cryptobots.me/img/6349', 'https://cryptobots.me/img/6361', 'https://cryptobots.me/img/6338', 'https://cryptobots.me/img/6339', 'https://cryptobots.me/img/6331', 'https://cryptobots.me/img/6328']                                                                                                                                                                                                                                                                                                                                                                                                                                                                                                                                                                                                                                                                                                                                                                                                                                     9\n",
       "['https://storage.opensea.io/0xfaafdc07907ff5120a76b34b731b278c38d6043c/54277541829991970145084277980910407609605540001142873075224213181424744792064-1564876783.jpg', 'https://storage.opensea.io/0xfaafdc07907ff5120a76b34b731b278c38d6043c/54277541829991970138807176245523726845769750577935206659121857736960710279168-1564871970.jpg', 'https://storage.opensea.io/0xfaafdc07907ff5120a76b34b731b278c38d6043c/54277541829991971764576525710674044679239211188720808429631917853145649119232-1564856907.jpg', 'https://storage.opensea.io/0xfaafdc07907ff5120a76b34b731b278c38d6043c/54277541829991970170192684922457130664948697693973538739633634959280882843648-1564858155.jpg', 'https://storage.opensea.io/0xfaafdc07907ff5120a76b34b731b278c38d6043c/54277541829991970132530074510137046081933961154727540243019502292496675766272-1564868622.jpg', 'https://storage.opensea.io/0xfaafdc07907ff5120a76b34b731b278c38d6043c/54277541829991970452662263014857765037559221738318527464239629960162435923968-1564863062.jpg']             6\n",
       "['https://storage.opensea.io/0xfaafdc07907ff5120a76b34b731b278c38d6043c/50885195465617473544198609475300283700896760369543965641023017167926128017414-1564976317.png', 'https://storage.opensea.io/0xfaafdc07907ff5120a76b34b731b278c38d6043c/50659039041325842321021892306622949975308721317951141070523061135867509735424-1564858178.jpg', 'https://storage.opensea.io/0xfaafdc07907ff5120a76b34b731b278c38d6043c/50885195465617473550475711210686964464732549792751632057125372612390162530312-1564940797.png', 'https://storage.opensea.io/0xfaafdc07907ff5120a76b34b731b278c38d6043c/50885195465617473581861219887620368283911496908789964137637149834710335094789-1564939305.png', 'https://storage.opensea.io/0xfaafdc07907ff5120a76b34b731b278c38d6043c/50885195465617473563029914681460325992404128639166964889330083501318231556097-1564922428.png', 'https://storage.opensea.io/0xfaafdc07907ff5120a76b34b731b278c38d6043c/50885195465617473544198609475300283700896760369543965641023017167926128017418-1564904039.png']             2\n",
       "['https://storage.opensea.io/0x7c99dedb1dd8b9c9b12a8043c569988c3f881550/115792089237316195423570985008687907808352712232076686862292135826919725727861-1571104076.png', 'https://storage.opensea.io/0x7c99dedb1dd8b9c9b12a8043c569988c3f881550/115792089237316195423570985008687907808012429865155748398828761219487957516405-1571104067.png', 'https://storage.opensea.io/0x7c99dedb1dd8b9c9b12a8043c569988c3f881550/115792089237316195423570985008687907808012429865155748398828761219487957516397-1571105553.png', 'https://storage.opensea.io/0x7c99dedb1dd8b9c9b12a8043c569988c3f881550/115792089237316195423570985008687907808012429865155748398828761219487957516406-1571103501.png', 'https://storage.opensea.io/0x7c99dedb1dd8b9c9b12a8043c569988c3f881550/115792089237316195423570985008687907808352712232076686862292135826919725727862-1571103533.png', 'https://storage.opensea.io/0x7c99dedb1dd8b9c9b12a8043c569988c3f881550/115792089237316195423570985008687907810394406433602317643072383471510334996598-1571100023.png']       2\n",
       "['https://storage.opensea.io/0x2fb5d7dda4f1f20f974a0fdd547c38674e8d940c/1-1571915237.svg', 'https://storage.opensea.io/0x2fb5d7dda4f1f20f974a0fdd547c38674e8d940c/2-1571982585.svg', 'https://storage.opensea.io/0x2fb5d7dda4f1f20f974a0fdd547c38674e8d940c/6-1571984918.svg', 'https://storage.opensea.io/0x2fb5d7dda4f1f20f974a0fdd547c38674e8d940c/5-1571984898.svg', 'https://storage.opensea.io/0x2fb5d7dda4f1f20f974a0fdd547c38674e8d940c/4-1571984887.svg', 'https://storage.opensea.io/0x2fb5d7dda4f1f20f974a0fdd547c38674e8d940c/3-1571984879.svg']                                                                                                                                                                                                                                                                                                                                                                                                                                                                                     2\n",
       "['https://lh3.googleusercontent.com/mO_PQZc_Z0-42Fr7mZNCrtWwnVMvfX2xbrqFflj7iF9fYcebzKdviPyUf1hr7ywmpc6Knr3eQzkD1kZTh4XRa5gp', 'https://lh3.googleusercontent.com/qcTsNCj5TWHqc5muE6wNZ3_a2AO4ccbzMsuEDkg_J9Jmpjk0L-M1wmEMDFoP5niC6BmCfX0CSKLmcr4BE-CvWpo', 'https://lh3.googleusercontent.com/uSSkeYu001A-px-oLfCHxwjtAK5Rf5CRsLzklxqo2RYAN5hbiTGpLd8qGrIfIQumtQIK98rcomKr5xC3owronyIHew', 'https://lh3.googleusercontent.com/LVrCoivrVSam8XBOBap9SQk8DFuMpcP3CYpzdjU5Z_ijYE1GmxbPuTLOtpy-WJaOpQKvOzf8t_kZJg7oPheZPn9cgA', 'https://lh3.googleusercontent.com/r04WnhnhvGnCj2GFCKh7bfGh5BxSWiE0crfrnISDACg881za3ZTqr83w71ZPCaVZvZMZg7ingj1MaJrbGt48ARrQZg', 'https://lh3.googleusercontent.com/ETQt9Jp9nHM4rm3iBGDolKUCgqg6X7FDKFfcs6j8S4-fGR9oP8NRn4zOSKV5Zvqqug7Tk5M5JT8Eer9NJIsBtiOX']                                                                                                                                                                                                                                                        2\n",
       "['https://storage.opensea.io/0x157ad40f43e26e72909f16bb07f2ca97466df849/103734-1568559343.png', 'https://storage.opensea.io/0x157ad40f43e26e72909f16bb07f2ca97466df849/77141-1568072196.png', 'https://storage.opensea.io/0x157ad40f43e26e72909f16bb07f2ca97466df849/103722-1568559209.png', 'https://storage.opensea.io/0x157ad40f43e26e72909f16bb07f2ca97466df849/64851-1568525095.png', 'https://storage.opensea.io/0x157ad40f43e26e72909f16bb07f2ca97466df849/103729-1568559189.png', 'https://storage.opensea.io/0x157ad40f43e26e72909f16bb07f2ca97466df849/59194-1568560326.png']                                                                                                                                                                                                                                                                                                                                                                                                                                                          1\n",
       "['https://storage.opensea.io/0xfaafdc07907ff5120a76b34b731b278c38d6043c/7237005577332269652338742996259699386239840542687238333757300690375468384256-1564883125.png', 'https://storage.opensea.io/0xfaafdc07907ff5120a76b34b731b278c38d6043c/7237005577332268892809433014471326962109320334559601985372291910227292323840-1564794598.png', 'https://storage.opensea.io/0xfaafdc07907ff5120a76b34b731b278c38d6043c/7237005577332272382877997889465831654808239638022129338281919032230481494016-1564890793.png', 'https://storage.opensea.io/0xfaafdc07907ff5120a76b34b731b278c38d6043c/7237005577332271039578226516716148193949303071581516292377853916927095734272-1564890742.png', 'https://storage.opensea.io/0xfaafdc07907ff5120a76b34b731b278c38d6043c/7237005577332269658615844731646380150075629965894904749859656134839502897152-1564890540.png', 'https://storage.opensea.io/0xfaafdc07907ff5120a76b34b731b278c38d6043c/7237005577332272395432201360239193182479818484437462170486629921158550519808-1564889269.png']                   1\n",
       "['https://storage.opensea.io/0x14a4123da9ad21b2215dc0ab6984ec1e89842c6d/18998906514627227274320642736617172985370189003558443992493832354010134223107-1552772413.png', 'https://storage.opensea.io/0x14a4123da9ad21b2215dc0ab6984ec1e89842c6d/18998906514627227268043541001230492221534399580350777576391476909546099705584-1551162279.png', 'https://storage.opensea.io/0x14a4123da9ad21b2215dc0ab6984ec1e89842c6d/18998906514627227274320642736617172985370189003558443992493832354010134222786-1552246841.png', 'https://storage.opensea.io/0x14a4123da9ad21b2215dc0ab6984ec1e89842c6d/18998906514627228890674339598687469759857969044371854322010884198599916634180-1552773220.png', 'https://storage.opensea.io/0x14a4123da9ad21b2215dc0ab6984ec1e89842c6d/18998906514627227274320642736617172985370189003558443992493832354010134219374-1551157054.png', 'https://storage.opensea.io/0x14a4123da9ad21b2215dc0ab6984ec1e89842c6d/18998906514627227274320642736617172985370189003558443992493832354010134222006-1551595979.png']             1\n",
       "['https://i.imgur.com/okDFdyw.jpg', 'https://i.imgur.com/nWGmIzB.png', 'https://i.imgur.com/E9M0KY4.png', 'https://i.imgur.com/wDom5bw.png', 'https://i.imgur.com/PWmOKbu.png', 'https://i.imgur.com/0j4YlcF.png']                                                                                                                                                                                                                                                                                                                                                                                                                                                                                                                                                                                                                                                                                                                                                                                                                               1\n",
       "['https://storage.opensea.io/0x909899c5dbb5002610dd8543b6f638be56e3b17e/57896044618658097711785492504343953929357251268187789727435788863410710514156-1552753058.png', 'https://storage.opensea.io/0x909899c5dbb5002610dd8543b6f638be56e3b17e/57896044618658097711785492504343953929357251268187789727435788863410710511618-1552437976.png', 'https://storage.opensea.io/0x909899c5dbb5002610dd8543b6f638be56e3b17e/57896044618658097711785492504343953929357251268187789727435788863410710514085-1552752765.png', 'https://storage.opensea.io/0x909899c5dbb5002610dd8543b6f638be56e3b17e/57896044618658097711785492504343953929357251268187789727435788863410710524327-1552747692.png', 'https://storage.opensea.io/0x909899c5dbb5002610dd8543b6f638be56e3b17e/57896044618658097711785492504343953929357251268187789727435788863410710514089-1552752909.png', 'https://storage.opensea.io/0x909899c5dbb5002610dd8543b6f638be56e3b17e/57896044618658097711785492504343953929357251268187789727435788863410710522410-1552523248.png']             1\n",
       "['https://storage.opensea.io/0xd3551ab3018edb9e1c1111e966cceffdf625a730/302696-1559938476.jpg', 'https://storage.opensea.io/0xd3551ab3018edb9e1c1111e966cceffdf625a730/5145-1563770500.jpg', 'https://storage.opensea.io/0xd3551ab3018edb9e1c1111e966cceffdf625a730/250504-1558083460.jpg', 'https://storage.opensea.io/0xd3551ab3018edb9e1c1111e966cceffdf625a730/21302-1563770614.jpg', 'https://storage.opensea.io/0xd3551ab3018edb9e1c1111e966cceffdf625a730/21308-1564465810.jpg', 'https://storage.opensea.io/0xd3551ab3018edb9e1c1111e966cceffdf625a730/21314-1564467989.jpg']                                                                                                                                                                                                                                                                                                                                                                                                                                                            1\n",
       "['https://storage.googleapis.com/opensea-prod.appspot.com/0x61c81bab9f7094a038e645b8a995f13c4e102480/35.jpg', 'https://storage.opensea.io/0x61c81bab9f7094a038e645b8a995f13c4e102480/117.jpg', 'https://storage.opensea.io/0x61c81bab9f7094a038e645b8a995f13c4e102480/119.jpg', 'https://storage.googleapis.com/opensea-prod.appspot.com/0x61c81bab9f7094a038e645b8a995f13c4e102480/70.jpg', 'https://storage.opensea.io/0x61c81bab9f7094a038e645b8a995f13c4e102480/72.jpg', 'https://storage.opensea.io/0x61c81bab9f7094a038e645b8a995f13c4e102480/122.jpg']                                                                                                                                                                                                                                                                                                                                                                                                                                                                                    1\n",
       "['https://storage.opensea.io/0xfaafdc07907ff5120a76b34b731b278c38d6043c/43648189888285213772017997977676106592189471955723666252373186063940982931523-1565029009.jpg', 'https://storage.opensea.io/0xfaafdc07907ff5120a76b34b731b278c38d6043c/43648189888285213715524082359195979717667367146854668507451987063764672315428-1565019526.jpg', 'https://storage.opensea.io/0xfaafdc07907ff5120a76b34b731b278c38d6043c/43422033463993588750617795371039367536361383033305260791000409162348463390720-1565022971.jpg', 'https://storage.opensea.io/0xfaafdc07907ff5120a76b34b731b278c38d6043c/43648189888285213746909591036129383536846314262893000587963764286084844879878-1566599843.jpg', 'https://storage.opensea.io/0xfaafdc07907ff5120a76b34b731b278c38d6043c/43648189888285213790849303183836148883696840225346665500680252397333086470166-1567033927.jpg']                                                                                                                                                                                   1\n",
       "['https://storage.opensea.io/0x6f9b9f2c75125079c029f6aecde745e09cf06f5a/405678898387156995.gif', 'https://storage.googleapis.com/opensea-prod.appspot.com/0x6f9b9f2c75125079c029f6aecde745e09cf06f5a/355020662882172931None', 'https://storage.googleapis.com/opensea-prod.appspot.com/0x6f9b9f2c75125079c029f6aecde745e09cf06f5a/355020485560664065None', 'https://storage.googleapis.com/opensea-prod.appspot.com/0x6f9b9f2c75125079c029f6aecde745e09cf06f5a/355020307237076995None', 'https://storage.googleapis.com/opensea-prod.appspot.com/0x6f9b9f2c75125079c029f6aecde745e09cf06f5a/378824876837896194None', 'https://storage.googleapis.com/opensea-prod.appspot.com/0x6f9b9f2c75125079c029f6aecde745e09cf06f5a/355021148638380033None']                                                                                                                                                                                                                                                                                                1\n",
       "Name: collection.display_data.images, dtype: int64"
      ]
     },
     "metadata": {},
     "output_type": "display_data"
    },
    {
     "name": "stdout",
     "output_type": "stream",
     "text": [
      "\n",
      "\n",
      "\n",
      "*********** collection.external_url ***********\n"
     ]
    },
    {
     "data": {
      "text/plain": [
       "https://rarible.com/                  1510\n",
       "https://sorare.com                    1292\n",
       "https://fameladysquad.com/            1192\n",
       "https://flowerpatch.app/              1149\n",
       "https://thedogepoundnft.com/           669\n",
       "                                      ... \n",
       "https://marathonmeb.com/                 1\n",
       "https://www.valentinaloffredo.com/       1\n",
       "https://mattiasguitar.com                1\n",
       "https://www.triptychdrops.com/           1\n",
       "https://mintable.app/u/xdiginonx         1\n",
       "Name: collection.external_url, Length: 1106, dtype: int64"
      ]
     },
     "metadata": {},
     "output_type": "display_data"
    },
    {
     "name": "stdout",
     "output_type": "stream",
     "text": [
      "\n",
      "\n",
      "\n",
      "*********** collection.image_url ***********\n"
     ]
    },
    {
     "data": {
      "text/plain": [
       "https://lh3.googleusercontent.com/ek2X4mpeyIW4Jx0axpDBdJq0XFt0hGlUwEQe7HQork_ZYdfyUY8j4NC8c2A1RfnQV6I3fZXHLll93THAS5BhslIQ8aP5bu4UPAcnNbg=s120    1645\n",
       "https://lh3.googleusercontent.com/FG0QJ00fN3c_FWuPeUr9-T__iQl63j9hn5d6svW8UqOmia5zp3lKHPkJuHcvhZ0f_Pd6P2COo9tt9zVUvdPxG_9BBw=s60                  1510\n",
       "https://lh3.googleusercontent.com/gj47nmAR3valkmpVbwamiuTJfWEWSCyVeORdjM6DRWrZ1o8WaqBxFXmpBrzZnGoWaPwq1Y0jiXRrBLbnLcawAp92=s120                   1292\n",
       "https://lh3.googleusercontent.com/uj2Wod0PLHgno51EggCbx56GdFTL-_TkAhWdifApD7hNKGni9tUNFYncf98gUGWcuCplEksHxapqT-dYzfS0emYs9ffTh1h3ybcyl7M=s120    1192\n",
       "https://lh3.googleusercontent.com/c9fa-MKAkBbkmnoYGR_7dUCXcJcSHNwu3CZGaNCTH0-fcEKzQ6SxwNdrq8hroRD2eMg7eDG2T1096FUjYwuvMgCT0km5zuz2Bfs3eQ=s120     1149\n",
       "                                                                                                                                                  ... \n",
       "https://lh3.googleusercontent.com/bOy220vZK2iAKXQeWTj2bmjShsElCEhUexNdFA5080UGl8meViFQNamj3jC-mkKGA5TWlX47mJgPTpw_TdQxaTI5MMCyVf9V5jaH0w=s120        1\n",
       "https://lh3.googleusercontent.com/7KuV2oaz1F3AUzYwMX1j-xOBgF8MEGLQEIVeEtVZBi-lVIhPWrMfhX_HwoJHstF-I4OwvaVCvcp6fz-VNrFWOzZW6Iv1F-Imys41kw=s120        1\n",
       "https://lh3.googleusercontent.com/L50hHfe5mqqCmdhhqukbRajo2v278zZ1zKnVRWtmPHaNYk3CB_sRNmJVeqCzx5zFdX5famSt_hofhvGDybPPu58acyqLP8h_R6SX=s120          1\n",
       "https://lh3.googleusercontent.com/ZD1bs3awfAUy1hwEfQmO0D_J-VSLaCpXDciSc1pOAnO088xV0uJkvFrh3f7AKL1wdRYRY37UzBxnYhBWBmK5_OAzp89pKSn63BfMblA=s120       1\n",
       "https://lh3.googleusercontent.com/Dt22VCt9uvtF_VWHgyKs7fKT-EES7znIy-nsyiQyzfbyV3aImKFWdbIcfrr-kQlzVwnq0xHV1V0JbmxX5TmPzsnd9TQ-dF_hFxvVcME=s120       1\n",
       "Name: collection.image_url, Length: 2720, dtype: int64"
      ]
     },
     "metadata": {},
     "output_type": "display_data"
    },
    {
     "name": "stdout",
     "output_type": "stream",
     "text": [
      "\n",
      "\n",
      "\n",
      "*********** collection.instagram_username ***********\n"
     ]
    },
    {
     "data": {
      "text/plain": [
       "fameladysquad                             1192\n",
       "flowerpatchgame                           1149\n",
       "boredapeyachtclub                          634\n",
       "crypt0beasts                               453\n",
       "zwmalachite                                169\n",
       "                                          ... \n",
       "cloudwhiteNFT                                1\n",
       "https://www.instagram.com/adreis.art/        1\n",
       "https://www.instagram.com/nftartbondo/       1\n",
       "_focuspirate                                 1\n",
       "jon_lovac_work                               1\n",
       "Name: collection.instagram_username, Length: 606, dtype: int64"
      ]
     },
     "metadata": {},
     "output_type": "display_data"
    },
    {
     "name": "stdout",
     "output_type": "stream",
     "text": [
      "\n",
      "\n",
      "\n",
      "*********** collection.large_image_url ***********\n"
     ]
    },
    {
     "data": {
      "text/plain": [
       "https://lh3.googleusercontent.com/9mDcN2mTqWZ5HbxQdd3yQHzmA9BNLEFfxiZWOE4y_Bj8YdC_JTu0KfMRC-2sb4C_tQCNd34J-Ym6h24XjPufSYSSZ2PDrBhmUc2K=s300       1645\n",
       "https://lh3.googleusercontent.com/FG0QJ00fN3c_FWuPeUr9-T__iQl63j9hn5d6svW8UqOmia5zp3lKHPkJuHcvhZ0f_Pd6P2COo9tt9zVUvdPxG_9BBw                      1510\n",
       "https://lh3.googleusercontent.com/nXNnPXj42KX4PACc4LP9ijCvWLY7xIgHihKk17ON3t9MEZIWBULQRp6kuo4ATsXOIQJGc37HVnrk4dRLzw3x1403aQv2luEM7QPr=s300       1292\n",
       "https://lh3.googleusercontent.com/ddzg7iww0bB8SNQn6i2Reni99AV6oW2sA5Zk7JhBxeDrQqFdfhQ-DHaq2TnUKXJAS9v1obco658gmFi1ZmbQfYujH6B9rvHeGA5jsw=s300     1192\n",
       "https://lh3.googleusercontent.com/fIqsUldzqPig48D42Go9kot_wYTGButslUfNLe4y-awTj-rpsIlEWBilBrqa030dbeGtNv3Xejsbfp07zmR_q2BfU1sKD9nGxk_b5g=s300     1149\n",
       "                                                                                                                                                  ... \n",
       "https://lh3.googleusercontent.com/1zD0-5Vb2QubT5kihLwR29RH-Mgf4-RxDSHZZqkvwjc3yXq92ck5fRcons9lrERB1dr2vdYCLZAPuAgs948k2ChyVC58Q3IV5sm-eK0=s300       1\n",
       "https://lh3.googleusercontent.com/DHjhifAcGObAiGVanVWkpBmDGWHKy22okCPIbtDzJmL6wW3V4Z60zG8Karxm3b45OENTZGPkvuCA4e44IVmmEre74JxqJPi_oO_BaQ=s300        1\n",
       "https://lh3.googleusercontent.com/xPlf9wyePE_gUtTN-DkiejCeijGY37tvzSXOpOgTOE3cjv0PGQVFJPdUHzJ_FaIefPPJ0l1j1N8hy3seFl2E98UVm6MJWJt-sUGqxw=s300        1\n",
       "https://lh3.googleusercontent.com/0ruTGYArxcdMfxy9FQ27Qkd5QsleoIuW_0EEDkqM2-ebW-OQ1MCJNWkfHlExiCzzlZBt-U25RSLdHJVHp_53uB9DNnfjcyyHSMEoAKo=s300       1\n",
       "https://lh3.googleusercontent.com/j2QCVmd2RHiw1qD5R8di0OAEgaUVEApK3rZrF96b7sRe3plDaOZaq3TlB1nFzRW3r_ll3V7zbPdL8FhbAJC4iP1-bGxo-wGHqeJY=s300          1\n",
       "Name: collection.large_image_url, Length: 1422, dtype: int64"
      ]
     },
     "metadata": {},
     "output_type": "display_data"
    },
    {
     "name": "stdout",
     "output_type": "stream",
     "text": [
      "\n",
      "\n",
      "\n",
      "*********** collection.medium_username ***********\n"
     ]
    },
    {
     "data": {
      "text/plain": [
       "rarible                                           1510\n",
       "nugbase                                           1149\n",
       "sandbox-game                                       192\n",
       "polychainmonsters                                  178\n",
       "the-ethereum-name-service                          171\n",
       "                                                  ... \n",
       "universe-xyz/polymorphic-universe-8470e14629b4       1\n",
       "photography                                          1\n",
       "starterpad                                           1\n",
       "averyfamous                                          1\n",
       "https://kstarlive.medium.com/                        1\n",
       "Name: collection.medium_username, Length: 140, dtype: int64"
      ]
     },
     "metadata": {},
     "output_type": "display_data"
    },
    {
     "name": "stdout",
     "output_type": "stream",
     "text": [
      "\n",
      "\n",
      "\n",
      "*********** collection.telegram_url ***********\n"
     ]
    },
    {
     "data": {
      "text/plain": [
       "https://t.me/rarible            1510\n",
       "https://t.me/sorarefc           1292\n",
       "https://t.me/FameLadySquad      1192\n",
       "https://t.me/Flowerpatch        1149\n",
       "https://t.me/sandboxgame         192\n",
       "                                ... \n",
       "https://t.me/blockchainkicks       1\n",
       "https://t.me/leheretic             1\n",
       "https://t.me/uqinzen               1\n",
       "https://t.me/blockmedia            1\n",
       "https://t.me/LeonidNikolaev        1\n",
       "Name: collection.telegram_url, Length: 197, dtype: int64"
      ]
     },
     "metadata": {},
     "output_type": "display_data"
    },
    {
     "name": "stdout",
     "output_type": "stream",
     "text": [
      "\n",
      "\n",
      "\n",
      "*********** collection.twitter_username ***********\n"
     ]
    },
    {
     "data": {
      "text/plain": [
       "rariblecom         1510\n",
       "SorareHQ           1292\n",
       "FameLadySquad      1192\n",
       "flowerpatchgame    1149\n",
       "TheDogePoundNFT     669\n",
       "                   ... \n",
       "OhYouBlockhead        1\n",
       "Azshx                 1\n",
       "NftBuy                1\n",
       "GKipach               1\n",
       "upunksunion           1\n",
       "Name: collection.twitter_username, Length: 1230, dtype: int64"
      ]
     },
     "metadata": {},
     "output_type": "display_data"
    },
    {
     "name": "stdout",
     "output_type": "stream",
     "text": [
      "\n",
      "\n",
      "\n",
      "*********** creator.config ***********\n"
     ]
    },
    {
     "data": {
      "text/plain": [
       "verified             1333\n",
       "affiliate             118\n",
       "moderator               7\n",
       "affiliate_partner       1\n",
       "Name: creator.config, dtype: int64"
      ]
     },
     "metadata": {},
     "output_type": "display_data"
    },
    {
     "name": "stdout",
     "output_type": "stream",
     "text": [
      "\n",
      "\n",
      "\n",
      "*********** creator.discord_id ***********\n"
     ]
    },
    {
     "data": {
      "text/plain": [
       "@RobGronkowski          37\n",
       "Instagram fiedler.jp    26\n",
       "@DrakeBell              17\n",
       "@sabet                  16\n",
       "@CbHoyo                  8\n",
       "@adamlucasNYC            8\n",
       "@vhils1                  8\n",
       "@kevinabosch             8\n",
       "@justinkan               6\n",
       "395737001225355275       4\n",
       "Instagram thatsval V     4\n",
       "@Crypto_Kobe_            4\n",
       "Katttykattt#2416         4\n",
       "@wizardofsoho            4\n",
       "@Cryptopathic            3\n",
       "@WebbEmotional           3\n",
       "@bobbibillard            2\n",
       "PaartiLive               2\n",
       "@wivteam                 2\n",
       "@godfreymeyer            2\n",
       "@ExtendedVictory         2\n",
       "Diana Art #4099          2\n",
       "@xCryptochild            2\n",
       "@msp4rro                 2\n",
       "Instagram maderis        1\n",
       "@andrealtrez             1\n",
       "davidfirth66             1\n",
       "@outisRatwell            1\n",
       "@D0PEP0PE                1\n",
       "368149960211824640       1\n",
       "@seanbonner              1\n",
       "146613143592894464       1\n",
       "Instagram meowyoface     1\n",
       "@DBlockEurope            1\n",
       "Rarebits #0901           1\n",
       "@MarcTaraz               1\n",
       "cloudwhite☁|OpenSea      1\n",
       "@TheMCFaceman            1\n",
       "@iSpaceCrypto            1\n",
       "Instagram dwbroodle      1\n",
       "@PuffyPuffPuff1          1\n",
       "298663715689988098       1\n",
       "@SatoshiLite             1\n",
       "@TeddyKillerz            1\n",
       "Name: creator.discord_id, dtype: int64"
      ]
     },
     "metadata": {},
     "output_type": "display_data"
    },
    {
     "name": "stdout",
     "output_type": "stream",
     "text": [
      "\n",
      "\n",
      "\n",
      "*********** creator.user.username ***********\n"
     ]
    },
    {
     "data": {
      "text/plain": [
       "0x3ee5c5f600a019a68a43c61e5966e0b3e8c6ce71    4017\n",
       "DrCryptoCollector                             1645\n",
       "BoredApeYachtClub                              638\n",
       "CryptoBeasts-Official                          453\n",
       "PlagueDoctor                                   415\n",
       "                                              ... \n",
       "Incrypted                                        1\n",
       "VitaliyGrechin                                   1\n",
       "kenreitz                                         1\n",
       "IMVU_OpenSea                                     1\n",
       "MattiasSchulstad                                 1\n",
       "Name: creator.user.username, Length: 3008, dtype: int64"
      ]
     },
     "metadata": {},
     "output_type": "display_data"
    },
    {
     "name": "stdout",
     "output_type": "stream",
     "text": [
      "\n",
      "\n",
      "\n",
      "*********** description ***********\n"
     ]
    },
    {
     "data": {
      "text/plain": [
       "Rare Player Cards are only issued at 100 editions per season.                                                                                                                                                                                                                                                                                                                                                                                                                                                                                                                                                                                                                                                                                                                                                                                                                                                                                                                                                                                                                                                                                                                                                                                                                                                                                                                                                                                                                                                                                                                                                                                                                                                                                                                                                                                                                                                                                                                                                                                                                                                                                                                                                                                                                                                                                                 1215\n",
       "FAME LADY SQUAD IS A COLLECTION OF 8888 UNIQUE LADY NFTS THAT ARE LIVING ON THE ETH BLOCKCHAIN. EACH LADY IS ABSOLUTELY DISTINCTIVE FROM OTHERS. MILLIONS OF COMBINATIONS WERE CREATED TO MAKE THIS HAPPEN.                                                                                                                                                                                                                                                                                                                                                                                                                                                                                                                                                                                                                                                                                                                                                                                                                                                                                                                                                                                                                                                                                                                                                                                                                                                                                                                                                                                                                                                                                                                                                                                                                                                                                                                                                                                                                                                                                                                                                                                                                                                                                                                                                   1192\n",
       "Congratulations! You have stumbled upon a Rare Egg. CryptoBeasts is a first-of-its-kind online experience. You can learn more at www.CryptoBeasts.org                                                                                                                                                                                                                                                                                                                                                                                                                                                                                                                                                                                                                                                                                                                                                                                                                                                                                                                                                                                                                                                                                                                                                                                                                                                                                                                                                                                                                                                                                                                                                                                                                                                                                                                                                                                                                                                                                                                                                                                                                                                                                                                                                                                                          453\n",
       "Where are the sick - There I Am. Healing since 1619.\\n                                                                                                                                                                                                                                                                                                                                                                                                                                                                                                                                                                                                                                                                                                                                                                                                                                                                                                                                                                                                                                                                                                                                                                                                                                                                                                                                                                                                                                                                                                                                                                                                                                                                                                                                                                                                                                                                                                                                                                                                                                                                                                                                                                                                                                                                                                         415\n",
       "24x24 pixels and pushing the limit to the max! Tribute to the original CyberPunks. Each and every piece is unique and handcrafted with love. Say hello to the IconPunks!\\n                                                                                                                                                                                                                                                                                                                                                                                                                                                                                                                                                                                                                                                                                                                                                                                                                                                                                                                                                                                                                                                                                                                                                                                                                                                                                                                                                                                                                                                                                                                                                                                                                                                                                                                                                                                                                                                                                                                                                                                                                                                                                                                                                                                     285\n",
       "                                                                                                                                                                                                                                                                                                                                                                                                                                                                                                                                                                                                                                                                                                                                                                                                                                                                                                                                                                                                                                                                                                                                                                                                                                                                                                                                                                                                                                                                                                                                                                                                                                                                                                                                                                                                                                                                                                                                                                                                                                                                                                                                                                                                                                                                                                                                                              ... \n",
       "100% unique Crypto Bumblebee with number #27979                                                                                                                                                                                                                                                                                                                                                                                                                                                                                                                                                                                                                                                                                                                                                                                                                                                                                                                                                                                                                                                                                                                                                                                                                                                                                                                                                                                                                                                                                                                                                                                                                                                                                                                                                                                                                                                                                                                                                                                                                                                                                                                                                                                                                                                                                                                  1\n",
       "Pokemon Collectibles #002 - Bulbasaur Pixelated avatar\\n\\nSize: 1000x1000\\nFormat: png                                                                                                                                                                                                                                                                                                                                                                                                                                                                                                                                                                                                                                                                                                                                                                                                                                                                                                                                                                                                                                                                                                                                                                                                                                                                                                                                                                                                                                                                                                                                                                                                                                                                                                                                                                                                                                                                                                                                                                                                                                                                                                                                                                                                                                                                           1\n",
       "Hello! My name is Premier Gwen Williams Norris DO.\\n\\nI'm a Pixelpeep, part of batch number 1, and I'm number 4331 of 54000 within that batch. I'm entirely unique from my name to my particular combination of features, and I have the following properties:\\n\\n> **Note**: **You can click these properties to see other Pixelpeeps with the same traits!**:\\n\\n- top: [hairy](https://opensea.io/assets/pixelpeeps?search[stringTraits][0][name]=pixelpeeps-top&search[stringTraits][0][values][0]=hairy)\\n- hat: [no](https://opensea.io/assets/pixelpeeps?search[stringTraits][0][name]=pixelpeeps-hat&search[stringTraits][0][values][0]=no)\\n- hair: [short-purple](https://opensea.io/assets/pixelpeeps?search[stringTraits][0][name]=pixelpeeps-hair&search[stringTraits][0][values][0]=short-purple)\\n- nose: [pig](https://opensea.io/assets/pixelpeeps?search[stringTraits][0][name]=pixelpeeps-nose&search[stringTraits][0][values][0]=pig)\\n- eyes: [cyclops](https://opensea.io/assets/pixelpeeps?search[stringTraits][0][name]=pixelpeeps-eyes&search[stringTraits][0][values][0]=cyclops)\\n- mouth: [garf](https://opensea.io/assets/pixelpeeps?search[stringTraits][0][name]=pixelpeeps-mouth&search[stringTraits][0][values][0]=garf)\\n- skin: [pale](https://opensea.io/assets/pixelpeeps?search[stringTraits][0][name]=pixelpeeps-skin&search[stringTraits][0][values][0]=pale)\\n- prefix/title: [Premier](https://opensea.io/assets/pixelpeeps?search[stringTraits][0][name]=pixelpeeps-prefix&search[stringTraits][0][values][0]=Premier)\\n- first name: [Gwen](https://opensea.io/assets/pixelpeeps?search[stringTraits][0][name]=pixelpeeps-first-name&search[stringTraits][0][values][0]=Gwen)\\n- middle name/initial: [Williams](https://opensea.io/assets/pixelpeeps?search[stringTraits][0][name]=pixelpeeps-middle-name&search[stringTraits][0][values][0]=Williams)\\n- last name: [Norris](https://opensea.io/assets/pixelpeeps?search[stringTraits][0][name]=pixelpeeps-last-name&search[stringTraits][0][values][0]=Norris)\\n- suffix: [DO](https://opensea.io/assets/pixelpeeps?search[stringTraits][0][name]=pixelpeeps-suffix&search[stringTraits][0][values][0]=DO)\\n- batch number: [1](https://opensea.io/assets/pixelpeeps?search[stringTraits][0][name]=pixelpeeps-batch&search[stringTraits][0][values][0]=1)\\n       1\n",
       "Tommy Smokes Selfie #10 (April 21, 2021)                                                                                                                                                                                                                                                                                                                                                                                                                                                                                                                                                                                                                                                                                                                                                                                                                                                                                                                                                                                                                                                                                                                                                                                                                                                                                                                                                                                                                                                                                                                                                                                                                                                                                                                                                                                                                                                                                                                                                                                                                                                                                                                                                                                                                                                                                                                         1\n",
       "Fait parti des plus gros buzz français, tous les droit vous appartiendront ensuite.                                                                                                                                                                                                                                                                                                                                                                                                                                                                                                                                                                                                                                                                                                                                                                                                                                                                                                                                                                                                                                                                                                                                                                                                                                                                                                                                                                                                                                                                                                                                                                                                                                                                                                                                                                                                                                                                                                                                                                                                                                                                                                                                                                                                                                                                              1\n",
       "Name: description, Length: 11058, dtype: int64"
      ]
     },
     "metadata": {},
     "output_type": "display_data"
    },
    {
     "name": "stdout",
     "output_type": "stream",
     "text": [
      "\n",
      "\n",
      "\n",
      "*********** external_link ***********\n"
     ]
    },
    {
     "data": {
      "text/plain": [
       "https://niftygateway.com/#/                                                        122\n",
       "https://voxies.io                                                                  108\n",
       "https://ohmyarts.top                                                                98\n",
       "https://www.beeple-collect.com/                                                     83\n",
       "https://thedivinezodiac.com/                                                        66\n",
       "                                                                                  ... \n",
       "https://rarible.com/token/0xd07dc4262bcdbf85190c01c996b4c06a461d2430:355126          1\n",
       "https://www.larvalabs.com/cryptopunks/details/5823                                   1\n",
       "https://app.rarible.com/token/0xd07dc4262bcdbf85190c01c996b4c06a461d2430:139779      1\n",
       "https://app.rarible.com/token/0xd07dc4262bcdbf85190c01c996b4c06a461d2430:7125        1\n",
       "https://www.artblocks.io/token/95000225                                              1\n",
       "Name: external_link, Length: 5945, dtype: int64"
      ]
     },
     "metadata": {},
     "output_type": "display_data"
    },
    {
     "name": "stdout",
     "output_type": "stream",
     "text": [
      "\n",
      "\n",
      "\n",
      "*********** image_url ***********\n"
     ]
    },
    {
     "data": {
      "text/plain": [
       "https://lh3.googleusercontent.com/NWqaMOYWFuKEhjbNq9jRHyRCXngGk3hDRVFAJxAPDF9d5hhP93SkHt4t0X4Blz7eJcw_Eknxhq13mMCWzx-h9jUVgIx8UnyqsFDS       168\n",
       "https://lh3.googleusercontent.com/q7YPwkm8U15AJfhA_YU_4rRcW1VuY0YnR_rMPvx9Ll4nv0h5pkSRRUsTXRIbKaVZ4HoGYPNmjVt1AJj8OdpXjOqeyZdP1EdieeJsXeY    105\n",
       "https://lh3.googleusercontent.com/3czNreLvq_PYBoXAvzNd9i_PcubNVbB1LSz0lRIcUN2LS0AkjziSQ9Z3DAq4R8-J0cxkdjAbhulctAm3T2JOxugsAuS0_VcnHm_s        66\n",
       "https://lh3.googleusercontent.com/0Meg2Yl_0HuHVxIEWbVal6fiGDfz2rgc9xCorG_Hu-3PEA7RAvufB44mmTpY1IAxtc4AYMoNT4AOadqDK-iwljRd22o83QwjGK_xag      65\n",
       "https://lh3.googleusercontent.com/FhdjQpCB6pnNoXtFEoWi1aIj-0Qb2hp47oarB5o_z7fFRCIKBeI5twEF9i78q0sIHenhMaKjwa5T7f02vSxndb6rqJJA_k01UhFidpE     62\n",
       "                                                                                                                                            ... \n",
       "https://lh3.googleusercontent.com/wc4DVnjapLRDQMHQTD9rb6yvoIRl78niMwBk0JTfqkFZ95VH_47uRVrjb6Fs72WaR9XqAx-ltPYwtJepnMz5mKQa-MmiEhpksEpYtg       1\n",
       "https://storage.opensea.io/files/e49038ec98cf70df2644d9e319c01db3.svg                                                                          1\n",
       "https://lh3.googleusercontent.com/NMyDZ2Yx5X0A0b9OwaVBrhZ6OpjoKrkGvIUzn0MqZvD_-PsY3SWM367iP_Lg9ORm6gOWarxy5T1YDEY_obb-jkiwwTgT_n-Lurv7         1\n",
       "https://lh3.googleusercontent.com/LRwV_7x_3agVwfKgiWiYNHcIXLd8Zj6_ZgFioPwOUwjGg8lECPWE7PnSvYtyW0oNY3rEUx6VAgJwCDpsvXPziEC8qAwQLjsgvAiGnQI      1\n",
       "https://lh3.googleusercontent.com/0ZSXQ2O2jU3Aa03oeP-nqGpYgB9TTLBoz1y-dD9wLEQ617YPhXKg4E0Ss-4R27q-c4lColZVIMDC5jU63QVz23Fe_2y_xRPGNsdirQ       1\n",
       "Name: image_url, Length: 18189, dtype: int64"
      ]
     },
     "metadata": {},
     "output_type": "display_data"
    },
    {
     "name": "stdout",
     "output_type": "stream",
     "text": [
      "\n",
      "\n",
      "\n",
      "*********** name ***********\n"
     ]
    },
    {
     "data": {
      "text/plain": [
       "Dodgers World Series Champions Medal (Open Edition)    168\n",
       "Ethereum Blessing                                      149\n",
       "x art                                                  115\n",
       "Common Shrub                                            65\n",
       "Sour Diesel                                             62\n",
       "                                                      ... \n",
       "Voxie #4921                                              1\n",
       "LADY #1433                                               1\n",
       "Sheen                                                    1\n",
       "Soundless                                                1\n",
       "Bumblebee #4438                                          1\n",
       "Name: name, Length: 18149, dtype: int64"
      ]
     },
     "metadata": {},
     "output_type": "display_data"
    },
    {
     "name": "stdout",
     "output_type": "stream",
     "text": [
      "\n",
      "\n",
      "\n",
      "*********** owner.config ***********\n"
     ]
    },
    {
     "data": {
      "text/plain": [
       "affiliate            565\n",
       "verified             218\n",
       "moderator              8\n",
       "affiliate_partner      2\n",
       "Name: owner.config, dtype: int64"
      ]
     },
     "metadata": {},
     "output_type": "display_data"
    },
    {
     "name": "stdout",
     "output_type": "stream",
     "text": [
      "\n",
      "\n",
      "\n",
      "*********** owner.discord_id ***********\n"
     ]
    },
    {
     "data": {
      "text/plain": [
       "@kevinabosch          8\n",
       "edd#1977              5\n",
       "Nicholas | ⏚ #1355    1\n",
       "@mera_takeru          1\n",
       "387325865077243924    1\n",
       "@sabet                1\n",
       "391063760317448204    1\n",
       "499194181533564949    1\n",
       "Name: owner.discord_id, dtype: int64"
      ]
     },
     "metadata": {},
     "output_type": "display_data"
    },
    {
     "name": "stdout",
     "output_type": "stream",
     "text": [
      "\n",
      "\n",
      "\n",
      "*********** token_metadata ***********\n"
     ]
    },
    {
     "data": {
      "text/plain": [
       "https://ipfs.io/ipfs/WMasterChef                                                                                     23\n",
       "https://ipfsgateway.makersplace.com/ipfs/Qmby2iAEwfZdZiAq42bygURYvJ9NkX9mgnXm4z7nxisvZL                              11\n",
       "https://ipfsgateway.makersplace.com/ipfs/QmSwJkXtZSKGd45cgrZWjsL25PmsuYSu62AntUoTKFhcqt                               7\n",
       "https://ipfsgateway.makersplace.com/ipfs/QmQidMhagyXV3bwxPeLmQVBthXLTWRjx7CdP5BGEWsS4PF                               5\n",
       "https://ipfsgateway.makersplace.com/ipfs/QmdSq1E28wmPqQbDvEza34n53NGUf55ZUynDpu1o4nRMNz                               5\n",
       "                                                                                                                     ..\n",
       "https://flowerpatch.app/data/flower-23942.opensea.json                                                                1\n",
       "https://ipfs.io/ipfs/QmaHUCW9QbcKeVafhLTe2beXLULSx6qpYbDqLXW747qSdD                                                   1\n",
       "https://tokens.gala.games/sandbox-games/town-star/farm-stands/wheat-stand.json                                        1\n",
       "https://guttercatgang.s3.us-east-2.amazonaws.com/j/283                                                                1\n",
       "https://api.sorare.com/api/v1/cards/71813161349389094537622674283396178302968495967893392041249078920239662448433     1\n",
       "Name: token_metadata, Length: 10101, dtype: int64"
      ]
     },
     "metadata": {},
     "output_type": "display_data"
    },
    {
     "name": "stdout",
     "output_type": "stream",
     "text": [
      "\n",
      "\n",
      "\n"
     ]
    }
   ],
   "source": [
    "for col in obj_col_withnull:\n",
    "    print(f\"*********** {col} ***********\")\n",
    "    display(df[col].value_counts())\n",
    "    print(\"\\n\\n\")"
   ]
  },
  {
   "cell_type": "code",
   "execution_count": 28,
   "metadata": {
    "ExecuteTime": {
     "end_time": "2021-07-13T01:23:14.615979Z",
     "start_time": "2021-07-13T01:23:14.521355Z"
    }
   },
   "outputs": [],
   "source": [
    "for col in obj_col_withnull:\n",
    "    df_binary[col] = np.where(df[col].isna(), 0, 1)"
   ]
  },
  {
   "cell_type": "markdown",
   "metadata": {},
   "source": [
    "### Add Datetime Data"
   ]
  },
  {
   "cell_type": "code",
   "execution_count": 29,
   "metadata": {
    "ExecuteTime": {
     "end_time": "2021-07-13T01:23:14.635547Z",
     "start_time": "2021-07-13T01:23:14.626048Z"
    }
   },
   "outputs": [],
   "source": [
    "for col in time_col:\n",
    "    df_binary[col] = df[col]"
   ]
  },
  {
   "cell_type": "markdown",
   "metadata": {},
   "source": [
    "## Add Target"
   ]
  },
  {
   "cell_type": "code",
   "execution_count": 30,
   "metadata": {
    "ExecuteTime": {
     "end_time": "2021-07-13T01:23:14.651198Z",
     "start_time": "2021-07-13T01:23:14.641793Z"
    }
   },
   "outputs": [],
   "source": [
    "df_binary['target'] = df['target']"
   ]
  },
  {
   "cell_type": "code",
   "execution_count": 31,
   "metadata": {
    "ExecuteTime": {
     "end_time": "2021-07-13T01:23:14.695629Z",
     "start_time": "2021-07-13T01:23:14.657953Z"
    }
   },
   "outputs": [
    {
     "data": {
      "text/html": [
       "<div>\n",
       "<style scoped>\n",
       "    .dataframe tbody tr th:only-of-type {\n",
       "        vertical-align: middle;\n",
       "    }\n",
       "\n",
       "    .dataframe tbody tr th {\n",
       "        vertical-align: top;\n",
       "    }\n",
       "\n",
       "    .dataframe thead th {\n",
       "        text-align: right;\n",
       "    }\n",
       "</style>\n",
       "<table border=\"1\" class=\"dataframe\">\n",
       "  <thead>\n",
       "    <tr style=\"text-align: right;\">\n",
       "      <th></th>\n",
       "      <th>is_presale</th>\n",
       "      <th>collection.featured</th>\n",
       "      <th>asset_contract.dev_seller_fee_basis_points_0</th>\n",
       "      <th>collection.dev_seller_fee_basis_points_0</th>\n",
       "      <th>asset_contract.seller_fee_basis_points_250</th>\n",
       "      <th>asset_contract.opensea_seller_fee_basis_points_250</th>\n",
       "      <th>collection.opensea_seller_fee_basis_points_250</th>\n",
       "      <th>asset_contract.asset_contract_type</th>\n",
       "      <th>asset_contract.schema_name</th>\n",
       "      <th>asset_contract.name</th>\n",
       "      <th>...</th>\n",
       "      <th>description</th>\n",
       "      <th>external_link</th>\n",
       "      <th>image_url</th>\n",
       "      <th>name</th>\n",
       "      <th>owner.config</th>\n",
       "      <th>owner.discord_id</th>\n",
       "      <th>token_metadata</th>\n",
       "      <th>asset_contract.created_date</th>\n",
       "      <th>collection.created_date</th>\n",
       "      <th>target</th>\n",
       "    </tr>\n",
       "  </thead>\n",
       "  <tbody>\n",
       "    <tr>\n",
       "      <th>0</th>\n",
       "      <td>1</td>\n",
       "      <td>0</td>\n",
       "      <td>1</td>\n",
       "      <td>0</td>\n",
       "      <td>1</td>\n",
       "      <td>1</td>\n",
       "      <td>1</td>\n",
       "      <td>0</td>\n",
       "      <td>0</td>\n",
       "      <td>1</td>\n",
       "      <td>...</td>\n",
       "      <td>1</td>\n",
       "      <td>0</td>\n",
       "      <td>1</td>\n",
       "      <td>1</td>\n",
       "      <td>0</td>\n",
       "      <td>0</td>\n",
       "      <td>0</td>\n",
       "      <td>2020-12-02 17:40:53.232025</td>\n",
       "      <td>2021-07-06 08:28:42.215335</td>\n",
       "      <td>0</td>\n",
       "    </tr>\n",
       "    <tr>\n",
       "      <th>1</th>\n",
       "      <td>1</td>\n",
       "      <td>0</td>\n",
       "      <td>1</td>\n",
       "      <td>0</td>\n",
       "      <td>1</td>\n",
       "      <td>1</td>\n",
       "      <td>1</td>\n",
       "      <td>0</td>\n",
       "      <td>0</td>\n",
       "      <td>1</td>\n",
       "      <td>...</td>\n",
       "      <td>1</td>\n",
       "      <td>0</td>\n",
       "      <td>1</td>\n",
       "      <td>1</td>\n",
       "      <td>0</td>\n",
       "      <td>0</td>\n",
       "      <td>0</td>\n",
       "      <td>2020-12-02 17:40:53.232025</td>\n",
       "      <td>2021-07-01 22:52:11.315505</td>\n",
       "      <td>0</td>\n",
       "    </tr>\n",
       "    <tr>\n",
       "      <th>2</th>\n",
       "      <td>1</td>\n",
       "      <td>0</td>\n",
       "      <td>1</td>\n",
       "      <td>0</td>\n",
       "      <td>1</td>\n",
       "      <td>1</td>\n",
       "      <td>1</td>\n",
       "      <td>0</td>\n",
       "      <td>0</td>\n",
       "      <td>1</td>\n",
       "      <td>...</td>\n",
       "      <td>1</td>\n",
       "      <td>0</td>\n",
       "      <td>1</td>\n",
       "      <td>1</td>\n",
       "      <td>0</td>\n",
       "      <td>0</td>\n",
       "      <td>0</td>\n",
       "      <td>2020-12-02 17:40:53.232025</td>\n",
       "      <td>2021-07-11 19:59:59.924875</td>\n",
       "      <td>0</td>\n",
       "    </tr>\n",
       "    <tr>\n",
       "      <th>3</th>\n",
       "      <td>1</td>\n",
       "      <td>0</td>\n",
       "      <td>1</td>\n",
       "      <td>0</td>\n",
       "      <td>1</td>\n",
       "      <td>1</td>\n",
       "      <td>1</td>\n",
       "      <td>0</td>\n",
       "      <td>0</td>\n",
       "      <td>1</td>\n",
       "      <td>...</td>\n",
       "      <td>1</td>\n",
       "      <td>0</td>\n",
       "      <td>1</td>\n",
       "      <td>1</td>\n",
       "      <td>0</td>\n",
       "      <td>0</td>\n",
       "      <td>0</td>\n",
       "      <td>2020-12-02 17:40:53.232025</td>\n",
       "      <td>2021-05-03 18:55:32.762585</td>\n",
       "      <td>1</td>\n",
       "    </tr>\n",
       "    <tr>\n",
       "      <th>4</th>\n",
       "      <td>1</td>\n",
       "      <td>0</td>\n",
       "      <td>1</td>\n",
       "      <td>1</td>\n",
       "      <td>1</td>\n",
       "      <td>1</td>\n",
       "      <td>1</td>\n",
       "      <td>0</td>\n",
       "      <td>0</td>\n",
       "      <td>1</td>\n",
       "      <td>...</td>\n",
       "      <td>1</td>\n",
       "      <td>0</td>\n",
       "      <td>1</td>\n",
       "      <td>1</td>\n",
       "      <td>0</td>\n",
       "      <td>0</td>\n",
       "      <td>0</td>\n",
       "      <td>2020-12-02 17:40:53.232025</td>\n",
       "      <td>2021-05-19 07:24:46.125544</td>\n",
       "      <td>1</td>\n",
       "    </tr>\n",
       "  </tbody>\n",
       "</table>\n",
       "<p>5 rows × 49 columns</p>\n",
       "</div>"
      ],
      "text/plain": [
       "   is_presale  collection.featured  \\\n",
       "0           1                    0   \n",
       "1           1                    0   \n",
       "2           1                    0   \n",
       "3           1                    0   \n",
       "4           1                    0   \n",
       "\n",
       "   asset_contract.dev_seller_fee_basis_points_0  \\\n",
       "0                                             1   \n",
       "1                                             1   \n",
       "2                                             1   \n",
       "3                                             1   \n",
       "4                                             1   \n",
       "\n",
       "   collection.dev_seller_fee_basis_points_0  \\\n",
       "0                                         0   \n",
       "1                                         0   \n",
       "2                                         0   \n",
       "3                                         0   \n",
       "4                                         1   \n",
       "\n",
       "   asset_contract.seller_fee_basis_points_250  \\\n",
       "0                                           1   \n",
       "1                                           1   \n",
       "2                                           1   \n",
       "3                                           1   \n",
       "4                                           1   \n",
       "\n",
       "   asset_contract.opensea_seller_fee_basis_points_250  \\\n",
       "0                                                  1    \n",
       "1                                                  1    \n",
       "2                                                  1    \n",
       "3                                                  1    \n",
       "4                                                  1    \n",
       "\n",
       "   collection.opensea_seller_fee_basis_points_250  \\\n",
       "0                                               1   \n",
       "1                                               1   \n",
       "2                                               1   \n",
       "3                                               1   \n",
       "4                                               1   \n",
       "\n",
       "   asset_contract.asset_contract_type  asset_contract.schema_name  \\\n",
       "0                                   0                           0   \n",
       "1                                   0                           0   \n",
       "2                                   0                           0   \n",
       "3                                   0                           0   \n",
       "4                                   0                           0   \n",
       "\n",
       "   asset_contract.name  ...  description  external_link  image_url  name  \\\n",
       "0                    1  ...            1              0          1     1   \n",
       "1                    1  ...            1              0          1     1   \n",
       "2                    1  ...            1              0          1     1   \n",
       "3                    1  ...            1              0          1     1   \n",
       "4                    1  ...            1              0          1     1   \n",
       "\n",
       "   owner.config  owner.discord_id  token_metadata  \\\n",
       "0             0                 0               0   \n",
       "1             0                 0               0   \n",
       "2             0                 0               0   \n",
       "3             0                 0               0   \n",
       "4             0                 0               0   \n",
       "\n",
       "   asset_contract.created_date    collection.created_date  target  \n",
       "0   2020-12-02 17:40:53.232025 2021-07-06 08:28:42.215335       0  \n",
       "1   2020-12-02 17:40:53.232025 2021-07-01 22:52:11.315505       0  \n",
       "2   2020-12-02 17:40:53.232025 2021-07-11 19:59:59.924875       0  \n",
       "3   2020-12-02 17:40:53.232025 2021-05-03 18:55:32.762585       1  \n",
       "4   2020-12-02 17:40:53.232025 2021-05-19 07:24:46.125544       1  \n",
       "\n",
       "[5 rows x 49 columns]"
      ]
     },
     "execution_count": 31,
     "metadata": {},
     "output_type": "execute_result"
    }
   ],
   "source": [
    "df_binary.head()"
   ]
  },
  {
   "cell_type": "code",
   "execution_count": 33,
   "metadata": {
    "ExecuteTime": {
     "end_time": "2021-07-13T01:38:31.534781Z",
     "start_time": "2021-07-13T01:38:31.468883Z"
    }
   },
   "outputs": [
    {
     "data": {
      "text/plain": [
       "1    0.596243\n",
       "0    0.403757\n",
       "Name: target, dtype: float64"
      ]
     },
     "execution_count": 33,
     "metadata": {},
     "output_type": "execute_result"
    }
   ],
   "source": [
    "df['target'].value_counts(normalize=True)"
   ]
  },
  {
   "cell_type": "markdown",
   "metadata": {},
   "source": [
    "# Export Data"
   ]
  },
  {
   "cell_type": "code",
   "execution_count": 32,
   "metadata": {
    "ExecuteTime": {
     "end_time": "2021-07-13T01:23:16.461935Z",
     "start_time": "2021-07-13T01:23:14.699491Z"
    }
   },
   "outputs": [],
   "source": [
    "df_binary.to_csv('../data/nft_binary2_test_set.csv', index=False)"
   ]
  }
 ],
 "metadata": {
  "kernelspec": {
   "display_name": "learn-env",
   "language": "python",
   "name": "learn-env"
  },
  "language_info": {
   "codemirror_mode": {
    "name": "ipython",
    "version": 3
   },
   "file_extension": ".py",
   "mimetype": "text/x-python",
   "name": "python",
   "nbconvert_exporter": "python",
   "pygments_lexer": "ipython3",
   "version": "3.6.9"
  },
  "toc": {
   "base_numbering": 1,
   "nav_menu": {},
   "number_sections": true,
   "sideBar": true,
   "skip_h1_title": false,
   "title_cell": "Table of Contents",
   "title_sidebar": "Contents",
   "toc_cell": false,
   "toc_position": {
    "height": "calc(100% - 180px)",
    "left": "10px",
    "top": "150px",
    "width": "288px"
   },
   "toc_section_display": true,
   "toc_window_display": true
  }
 },
 "nbformat": 4,
 "nbformat_minor": 4
}
